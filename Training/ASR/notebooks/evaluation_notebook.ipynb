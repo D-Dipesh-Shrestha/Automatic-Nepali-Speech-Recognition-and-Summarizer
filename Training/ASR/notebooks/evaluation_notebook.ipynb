{
 "cells": [
  {
   "cell_type": "code",
   "execution_count": 1,
   "metadata": {},
   "outputs": [],
   "source": [
    "import torch\n",
    "import torchaudio\n",
    "from transformers import Wav2Vec2ForCTC, Wav2Vec2Processor\n",
    "from model.config import *\n",
    "# For adjusting volume \n",
    "import soundfile as sf \n",
    "import pyloudnorm as pyln \n",
    "import numpy as np\n",
    "import os \n",
    "from datasets import load_metric\n",
    "import librosa \n",
    "import edit_distance as ed\n",
    "from tqdm import tqdm"
   ]
  },
  {
   "cell_type": "code",
   "execution_count": 2,
   "metadata": {},
   "outputs": [],
   "source": [
    "# To ignore cuda warnings of no gpu\n",
    "os.environ['TF_CPP_MIN_LOG_LEVEL'] = '2'"
   ]
  },
  {
   "cell_type": "code",
   "execution_count": 3,
   "metadata": {},
   "outputs": [],
   "source": [
    "# To ignore pandas warnings\n",
    "import warnings\n",
    "warnings.simplefilter(action='ignore', category=UserWarning)\n",
    "import pandas as pd "
   ]
  },
  {
   "cell_type": "code",
   "execution_count": 4,
   "metadata": {},
   "outputs": [],
   "source": [
    "# To display a pandas df \n",
    "pd.set_option('display.max_columns', None)  # or 1000\n",
    "pd.set_option('display.max_rows', None)  # or 1000\n",
    "pd.set_option('display.max_colwidth', None)  # or 199"
   ]
  },
  {
   "cell_type": "code",
   "execution_count": 5,
   "metadata": {},
   "outputs": [],
   "source": [
    "def segmentLargeArray(inputTensor,chunksize=200000):\n",
    "    # print(inputTensor)\n",
    "    list_of_segments = []\n",
    "    tensor_length = inputTensor.shape[1]\n",
    "    for i in range(0,tensor_length+1,chunksize):\n",
    "        list_of_segments.append(inputTensor[:,i:i+chunksize])\n",
    "    return list_of_segments "
   ]
  },
  {
   "cell_type": "code",
   "execution_count": 6,
   "metadata": {},
   "outputs": [],
   "source": [
    "def adjust_volume(ip_tensor,sr):\n",
    "    data = ip_tensor.numpy()\n",
    "    # Peak normalization of all audio to -1dB\n",
    "    meter = pyln.Meter(sr) #create BS.1770 Meter\n",
    "    # print(data)\n",
    "    # print(np.transpose(data).shape)\n",
    "    loudness = meter.integrated_loudness(np.transpose(data)) \n",
    "    # print(f'Before: {loudness} dB')\n",
    "    # This is peak normalization which depends on the original volume of audio file\n",
    "    # peak_normalized_audio = pyln.normalize.peak(data,-1.0)\n",
    "    # Actually this is loudness normalization to a fixed level irrespective of volume in original file\n",
    "    peak_normalized_audio = pyln.normalize.loudness(data, loudness, 0)\n",
    "    loudness = meter.integrated_loudness(np.transpose(peak_normalized_audio)) \n",
    "    # print(f'After peak normalization: {loudness} dB')\n",
    "    op_tensor = torch.from_numpy(peak_normalized_audio)\n",
    "    return op_tensor"
   ]
  },
  {
   "cell_type": "code",
   "execution_count": 7,
   "metadata": {},
   "outputs": [],
   "source": [
    "def predict_from_speech(ip_file,model,processor):\n",
    "    # print(\"=> Loading the audio input to the model\")\n",
    "    speech_array, sampling_rate = torchaudio.load(ip_file)\n",
    "    # print(speech_array,sampling_rate)\n",
    "    # print('=> Adjusting volume of audio input')\n",
    "    speech_array = adjust_volume(speech_array,sampling_rate)\n",
    "    resampler = torchaudio.transforms.Resample(sampling_rate, 16000)\n",
    "    resampled_array = resampler(speech_array).squeeze()\n",
    "    if len(resampled_array.shape) == 1:\n",
    "        resampled_array = resampled_array.reshape([1,resampled_array.shape[0]])\n",
    "    # print(resampled_array.shape[1])\n",
    "    if resampled_array.shape[1] >= 200000:\n",
    "        # print('The input file is longer than 10 seconds')\n",
    "        # print('Now Predicting ...')\n",
    "        list_of_segments = segmentLargeArray(resampled_array,chunksize=100000)\n",
    "        # print(list_of_segments)\n",
    "        output = ''\n",
    "        for segment in list_of_segments:\n",
    "            # print(segment.size())\n",
    "            if segment.size()[1] > 0:\n",
    "                logits = model(segment.to(DEVICE)).logits\n",
    "                # print(logits)\n",
    "                pred_ids = torch.argmax(logits,dim=-1)[0]\n",
    "                output += processor.decode(pred_ids)\n",
    "            else:\n",
    "                output += ''\n",
    "        # print(f\"Prediction:\\n{output}\")\n",
    "    else:\n",
    "        # print('The input file is less than 10 seconds')\n",
    "        # print('Now Predicting ...')\n",
    "        logits = model(resampled_array.to(DEVICE)).logits\n",
    "        # print(logits)\n",
    "        pred_ids = torch.argmax(logits, dim = -1)[0]\n",
    "        output = processor.decode(pred_ids)\n",
    "        # print(f\"Prediction:\\n{output}\")\n",
    "    return output"
   ]
  },
  {
   "cell_type": "code",
   "execution_count": 93,
   "metadata": {},
   "outputs": [
    {
     "name": "stdout",
     "output_type": "stream",
     "text": [
      "200000\n",
      "The input file is longer than 10 seconds\n"
     ]
    },
    {
     "data": {
      "text/plain": [
       "'त्यसैले सिसुलुले अफ्रिका नेसनल काङ्ग्रेसमादबिएर वस्तुभन्दा बरावर व्यवहार हुने पार्ठीमा प्रवेश गरेको बताए।'"
      ]
     },
     "execution_count": 93,
     "metadata": {},
     "output_type": "execute_result"
    }
   ],
   "source": [
    "predict_from_speech(test_df.loc[32,'path'],model,processor) "
   ]
  },
  {
   "cell_type": "code",
   "execution_count": 8,
   "metadata": {},
   "outputs": [],
   "source": [
    "def load_evaluation_metrics():\n",
    "    wer_metric = load_metric(\"wer\")\n",
    "    cer_metric = load_metric(\"cer\",revision=\"master\")\n",
    "    return wer_metric,cer_metric"
   ]
  },
  {
   "cell_type": "code",
   "execution_count": 9,
   "metadata": {},
   "outputs": [],
   "source": [
    "def calculateWER(actual_label, predicted_label):\n",
    "    # convert string to list\n",
    "    actual_words = actual_label.split()\n",
    "    predicted_words = predicted_label.split()\n",
    "    # costs will hold the costs like in Levenshtein distance algorithm\n",
    "    costs = [[0 for inner in range(len(predicted_words)+1)] for outer in range(len(actual_words)+1)]\n",
    "    # backtrace will hold the operations we've done.\n",
    "    # so we could later backtrace, like the WER algorithm requires us to.\n",
    "    backtrace = [[0 for inner in range(len(predicted_words)+1)] for outer in range(len(actual_words)+1)]\n",
    "    # ok means no change, sub means substitution, ins means insertion and del means deletion\n",
    "    operations = {\n",
    "        'ok': 0,\n",
    "        'sub': 1,\n",
    "        'ins': 2,\n",
    "        'del': 3\n",
    "    }\n",
    "    # penalties for insertion, substitution and deletion\n",
    "    penalties = {\n",
    "        'ins': 1,\n",
    "        'sub': 1,\n",
    "        'del': 1\n",
    "    }\n",
    "    # First column represents the case where we achieve zero predicted labels i-e all the actual labels were deleted \n",
    "    for i in range(1,len(actual_words)+1):\n",
    "        costs[i][0] = penalties['del']*i \n",
    "        backtrace[i][0] = operations['del']\n",
    "    \n",
    "    # First row represents the case where we achieve the predicted label by inserting all the predicted labels into a zero length actual label i-e all unwanted insertions \n",
    "    for j in range(1,len(predicted_words)+1):\n",
    "        costs[0][j] = penalties['ins']*j \n",
    "        backtrace[0][j] = operations['ins']\n",
    "    \n",
    "    # computation\n",
    "    for i in  range(1,len(actual_words)+1):\n",
    "        for j in range(1,len(predicted_words)+1):\n",
    "            # no change in predictions and actual label\n",
    "            if actual_words[i-1] == predicted_words[j-1]:\n",
    "                costs[i][j] = costs[i-1][j-1]\n",
    "                backtrace[i][j] = operations['ok']\n",
    "            else:\n",
    "                # change has occured\n",
    "                sub_cost = costs[i-1][j-1] + penalties['sub']\n",
    "                ins_cost = costs[i][j-1] + penalties['ins']\n",
    "                del_cost = costs[i-1][j] + penalties['del']\n",
    "                costs[i][j] = min(sub_cost,ins_cost,del_cost)\n",
    "                if costs[i][j] == sub_cost:\n",
    "                    backtrace[i][j] = operations['sub']\n",
    "                elif costs[i][j] == ins_cost:\n",
    "                    backtrace[i][j] = operations['ins']\n",
    "                else: \n",
    "                    backtrace[i][j] = operations['del']\n",
    "    \n",
    "    # backtrace through the best route\n",
    "    i = len(actual_words)\n",
    "    j = len(predicted_words)\n",
    "    sub_count = 0 \n",
    "    del_count = 0 \n",
    "    ins_count = 0 \n",
    "    correct_count = 0 \n",
    "\n",
    "    while i > 0 or j > 0:\n",
    "        if backtrace[i][j] == operations['ok']:\n",
    "            correct_count += 1\n",
    "            i -= 1\n",
    "            j -= 1\n",
    "        elif backtrace[i][j] == operations['sub']:\n",
    "            sub_count += 1 \n",
    "            i -= 1\n",
    "            j -= 1\n",
    "        elif backtrace[i][j] == operations['ins']:\n",
    "            ins_count += 1\n",
    "            j -= 1\n",
    "        elif backtrace[i][j] == operations['del']:\n",
    "            del_count += 1\n",
    "            i -= 1\n",
    "    \n",
    "    \"\"\" \n",
    "    WER formula: \n",
    "    WER = S + D + I / N = S + D I / S + D + C\n",
    "    \"\"\"\n",
    "    wer = round((sub_count + del_count + ins_count)/(sub_count + del_count + correct_count),3)\n",
    "    # wer = round((sub_count + ins_count + del_count)/(float)(len(actual_words)),3)\n",
    "    return wer "
   ]
  },
  {
   "cell_type": "code",
   "execution_count": 10,
   "metadata": {},
   "outputs": [],
   "source": [
    "def evaluate_metrics_own(model,processor,test_df):\n",
    "    print(f\"=> Loading Metrics\")\n",
    "    wer_metric, cer_metric = load_evaluation_metrics()\n",
    "    test_files_count = test_df.shape[0]\n",
    "    print(f\"There are total {test_files_count} files\")\n",
    "    wers = []\n",
    "    cers = [] \n",
    "    cer_accuracies = []\n",
    "    wer_accuracies = []\n",
    "    # total_wer = 0 \n",
    "    # total_cer = 0\n",
    "    # total_cer_accuracy = 0\n",
    "    # total_wer_accuracy = 0\n",
    "    test_df['predicted_label'] = ''\n",
    "    test_df['wer'] = test_df['wer_accuracy'] = test_df['cer'] = test_df['cer_accuracy'] = 0\n",
    "    # looping in all the audio and labels \n",
    "    for i in tqdm(range(0,test_files_count)):\n",
    "        predicted_label = predict_from_speech(ip_file=test_df['path'][i],model=model,processor=processor)\n",
    "        test_df.loc[i,'predicted_label'] = predicted_label\n",
    "        actual_label = test_df['labels'][i]\n",
    "        # calculating the metrics manually \n",
    "        sm = ed.SequenceMatcher(predicted_label,actual_label)\n",
    "        ed_distance = sm.distance()\n",
    "        cer = ed_distance / len(actual_label)\n",
    "        wer = calculateWER(actual_label=actual_label, predicted_label= predicted_label)\n",
    "        cer_accuracy = 1 - cer \n",
    "        wer_accuracy = 1 - wer\n",
    "        wers.append(wer)\n",
    "        cers.append(cer)\n",
    "        cer_accuracies.append(cer_accuracy)\n",
    "        wer_accuracies.append(wer_accuracy)\n",
    "        # total_wer += wer \n",
    "        # total_cer += cer \n",
    "        # total_cer_accuracy += cer_accuracy \n",
    "        # total_wer_accuracy += wer_accuracy\n",
    "        test_df.loc[i,'wer'] = wer \n",
    "        test_df.loc[i,'cer'] = cer \n",
    "        test_df.loc[i,'wer_accuracy'] = wer_accuracy\n",
    "        test_df.loc[i,'cer_accuracy'] = cer_accuracy\n",
    "    \n",
    "    # just some verifications here\n",
    "    total_wer = sum(wers)\n",
    "    total_cer = sum(cers)\n",
    "    total_cer_accuracy = sum(cer_accuracies)\n",
    "    total_wer_accuracy = sum(wer_accuracies)\n",
    "\n",
    "    average_wer = total_wer / test_files_count\n",
    "    average_cer = total_cer / test_files_count \n",
    "    average_cer_accuracy = total_cer_accuracy / test_files_count\n",
    "    average_wer_accuracy = total_wer_accuracy / test_files_count\n",
    "\n",
    "    result = {\n",
    "        'Average WER': average_wer,\n",
    "        'Average WER Accuracy': average_wer_accuracy,\n",
    "        'Average CER': average_cer,\n",
    "        'Average CER Accuracy': average_cer_accuracy,\n",
    "    }\n",
    "    return result, test_df "
   ]
  },
  {
   "cell_type": "code",
   "execution_count": 11,
   "metadata": {},
   "outputs": [],
   "source": [
    "def evaluate_metrics(model,processor,test_df):\n",
    "    print(f\"=> Loading Metrics\")\n",
    "    wer_metric, cer_metric = load_evaluation_metrics()\n",
    "    test_files_count = test_df.shape[0]\n",
    "    print(f\"There are total {test_files_count} files\")\n",
    "    total_accuracy = 0\n",
    "    test_df['predicted_label'] = ''\n",
    "    test_df['wer'] = test_df['wer_accuracy'] = test_df['cer'] = test_df['cer_accuracy'] = 0\n",
    "    actual_labels = []\n",
    "    predicted_labels = []\n",
    "    # looping in all the audio and labels \n",
    "    for i in tqdm(range(0,test_files_count)):\n",
    "        predicted_label = predict_from_speech(ip_file=test_df['path'][i],model=model,processor=processor)\n",
    "        test_df.loc[i,'predicted_label'] = predicted_label\n",
    "        actual_label = test_df['labels'][i]\n",
    "        wer = wer_metric.compute(predictions=[predicted_label],references=[actual_label])\n",
    "        cer = cer_metric.compute(predictions=[predicted_label],references=[actual_label])\n",
    "        wer_accuracy = 1 - wer \n",
    "        cer_accuracy = 1 - cer\n",
    "        predicted_labels.append(predicted_label)\n",
    "        actual_labels.append(actual_label)\n",
    "        test_df.loc[i,'wer'] = wer \n",
    "        test_df.loc[i,'cer'] = cer \n",
    "        test_df.loc[i,'wer_accuracy'] = wer_accuracy\n",
    "        test_df.loc[i,'cer_accuracy'] = cer_accuracy\n",
    "    # calculating the metrics \n",
    "    average_wer = wer_metric.compute(predictions=predicted_labels, references=actual_labels)\n",
    "    average_cer = cer_metric.compute(predictions=predicted_labels,references=actual_labels)\n",
    "    average_cer_accuracy = 1 - average_cer\n",
    "    average_wer_accuracy = 1 - average_wer \n",
    "    \n",
    "    result = {\n",
    "        'Average WER': average_wer,\n",
    "        'Average WER Accuracy': average_wer_accuracy,\n",
    "        'Average CER': average_cer,\n",
    "        'Average CER Accuracy': average_cer_accuracy,\n",
    "    }\n",
    "    return result, test_df "
   ]
  },
  {
   "cell_type": "code",
   "execution_count": 66,
   "metadata": {},
   "outputs": [
    {
     "name": "stdout",
     "output_type": "stream",
     "text": [
      "=> Loading the trained model and processor\n"
     ]
    },
    {
     "name": "stderr",
     "output_type": "stream",
     "text": [
      "Special tokens have been added in the vocabulary, make sure the associated word embedding are fine-tuned or trained.\n"
     ]
    }
   ],
   "source": [
    " # can be changed to relative paths\n",
    "model_path = 'D:\\Programming\\Projects\\major_project\\Codes\\ASR\\wav2vec_trained_models\\\\nepali-wav2vec-v2\\models\\model-lt-4sec-first-5000' \n",
    "processor_path = 'D:\\Programming\\Projects\\major_project\\Codes\\ASR\\wav2vec_trained_models\\\\nepali-wav2vec-v2\\processors\\processor_0.1_dropout_lt_4sec_first_5000'\n",
    "print(\"=> Loading the trained model and processor\")\n",
    "model = Wav2Vec2ForCTC.from_pretrained(model_path).to(DEVICE)\n",
    "processor = Wav2Vec2Processor.from_pretrained(processor_path) \n",
    " # ** For testing in an entire test dataset\n",
    "test_dataset_path = 'D:\\Programming\\Projects\\major_project\\Codes\\ASR\\data\\\\transcript_durations\\dataset_duration_gt_10sec.csv'\n",
    "# Audio paths for audio directory\n",
    "audio_path = 'D:\\Programming\\Projects\\major_project\\Codes\\ASR\\data\\\\audio\\\\' \n",
    "test_df =  pd.read_csv(test_dataset_path,usecols=[\"path\",\"labels\"])\n",
    "test_df[\"path\"] = audio_path + test_df[\"path\"] + \".flac\""
   ]
  },
  {
   "cell_type": "code",
   "execution_count": 16,
   "metadata": {},
   "outputs": [
    {
     "data": {
      "text/plain": [
       "(100, 2)"
      ]
     },
     "execution_count": 16,
     "metadata": {},
     "output_type": "execute_result"
    }
   ],
   "source": [
    "# Looping over all the models to calculate the wer and cer for all model for 100 test data \n",
    "model_dir = \"D:\\Programming\\Projects\\major_project\\Codes\\ASR\\wav2vec_trained_models\\\\nepali-wav2vec-v2\\models\\\\\"\n",
    "processor_dir = \"D:\\Programming\\Projects\\major_project\\Codes\\ASR\\wav2vec_trained_models\\\\nepali-wav2vec-v2\\processors\\\\\"\n",
    "models = os.listdir(model_dir)\n",
    "processors = os.listdir(processor_dir)\n",
    "# audio and transcript path \n",
    " # ** For testing in an entire test dataset\n",
    "test_dataset_path = 'D:\\Programming\\Projects\\major_project\\Codes\\ASR\\data\\\\transcript_durations\\dataset_duration_gt_10sec.csv'\n",
    "# Audio paths for audio directory\n",
    "audio_path = 'D:\\Programming\\Projects\\major_project\\Codes\\ASR\\data\\\\audio\\\\' \n",
    "test_df =  pd.read_csv(test_dataset_path,usecols=[\"path\",\"labels\"])\n",
    "test_df[\"path\"] = audio_path + test_df[\"path\"] + \".flac\"\n",
    "test_df_100 = test_df[:100]\n",
    "print(f'Test Dataset size: {test_df_100.shape}') \n",
    "test_csv_path = \"D:\\Programming\\Projects\\major_project\\Codes\\ASR\\wav2vec_trained_models\\\\test_result_csvs\\\\\"\n",
    "# Looping over all the models and processors and getting their test scores as well as saving their csv files\n",
    "results = {}\n",
    "for i in range(len(models)):\n",
    "    print(f\"For model {i}\")\n",
    "    model = Wav2Vec2ForCTC.from_pretrained(models[i]).to(DEVICE)\n",
    "    processor = Wav2Vec2ForCTC.from_pretrained(processors[i])\n",
    "    print(\"Evaluating metrics ... \")\n",
    "    result, test_df = evaluate_metrics(model,processor,test_df.copy())\n",
    "    results[model] = result \n",
    "    print(\"Saving CSV file ... \")\n",
    "    test_df.to_csv(f'{test_csv_path}{model}.csv',index=False)\n"
   ]
  },
  {
   "cell_type": "code",
   "execution_count": 67,
   "metadata": {},
   "outputs": [
    {
     "data": {
      "text/plain": [
       "(213, 2)"
      ]
     },
     "execution_count": 67,
     "metadata": {},
     "output_type": "execute_result"
    }
   ],
   "source": [
    "test_df.shape"
   ]
  },
  {
   "cell_type": "code",
   "execution_count": 68,
   "metadata": {},
   "outputs": [
    {
     "data": {
      "text/html": [
       "<div>\n",
       "<style scoped>\n",
       "    .dataframe tbody tr th:only-of-type {\n",
       "        vertical-align: middle;\n",
       "    }\n",
       "\n",
       "    .dataframe tbody tr th {\n",
       "        vertical-align: top;\n",
       "    }\n",
       "\n",
       "    .dataframe thead th {\n",
       "        text-align: right;\n",
       "    }\n",
       "</style>\n",
       "<table border=\"1\" class=\"dataframe\">\n",
       "  <thead>\n",
       "    <tr style=\"text-align: right;\">\n",
       "      <th></th>\n",
       "      <th>path</th>\n",
       "      <th>labels</th>\n",
       "    </tr>\n",
       "  </thead>\n",
       "  <tbody>\n",
       "    <tr>\n",
       "      <th>0</th>\n",
       "      <td>D:\\Programming\\Projects\\major_project\\Codes\\ASR\\data\\audio\\nep_2099_0456476554.flac</td>\n",
       "      <td>विश्व विषयक मन्त्रीस्तरीय अन्तर्राष्ट्रिय सम्मेलनमा भाग लिन बङ्लादेशको राजधानी ढाका प्रस्थान गर्नुअघि त्रिभुवन अन्तराष्ट्रिय विमानस्थलमा सञ्चारकर्मी बिच उनले सो कुरा बताए</td>\n",
       "    </tr>\n",
       "    <tr>\n",
       "      <th>1</th>\n",
       "      <td>D:\\Programming\\Projects\\major_project\\Codes\\ASR\\data\\audio\\nep_0546_2868510042.flac</td>\n",
       "      <td>राजा ज्ञानेन्द्र शाहले दाइजो बकस दिएको घरजग्गा जबरजस्ती सरकारी ट्रस्टमा राखिएको भन्दै पूर्वअधिराजकुमारी प्रेरणाराज्यलक्ष्मी सिंह न्यायका लागि सर्वोच्च अदालत पुगिन्</td>\n",
       "    </tr>\n",
       "    <tr>\n",
       "      <th>2</th>\n",
       "      <td>D:\\Programming\\Projects\\major_project\\Codes\\ASR\\data\\audio\\nep_3997_2276753961.flac</td>\n",
       "      <td>आन्तरिक राजस्व कार्यालय भैरहवा अन्तर्गत रुपन्देहीको सिद्धार्थनगर नगरपालिका लुम्बिनी नगरपालिका तिलोत्तमा नगरपालिकामा मूल्य अभिवृद्धि करमा दर्ता छ</td>\n",
       "    </tr>\n",
       "    <tr>\n",
       "      <th>3</th>\n",
       "      <td>D:\\Programming\\Projects\\major_project\\Codes\\ASR\\data\\audio\\nep_2099_4853806205.flac</td>\n",
       "      <td>वेल्स उन्नाइस सय अन्ठानब्बेमा सान डिएगोमा बसाई सरे र एउटा आवासिय बजारले त्यहाँबाट हटाएपछि फ्लोरिडाको सेन्ट पिटर्सबर्गमा नै पुनर्स्थापित भए</td>\n",
       "    </tr>\n",
       "    <tr>\n",
       "      <th>4</th>\n",
       "      <td>D:\\Programming\\Projects\\major_project\\Codes\\ASR\\data\\audio\\nep_3960_8205149857.flac</td>\n",
       "      <td>प्रथम सगरमाथा आरोही एडमन्ड हिलारीको सहयोगमा बनेको कुन्दे अस्पतालले पर्यटक तथा खुम्बु क्षेत्रका स्थानीय बासीको उपचारमा ठुलो योगदान दिएको छ</td>\n",
       "    </tr>\n",
       "  </tbody>\n",
       "</table>\n",
       "</div>"
      ],
      "text/plain": [
       "                                                                                  path  \\\n",
       "0  D:\\Programming\\Projects\\major_project\\Codes\\ASR\\data\\audio\\nep_2099_0456476554.flac   \n",
       "1  D:\\Programming\\Projects\\major_project\\Codes\\ASR\\data\\audio\\nep_0546_2868510042.flac   \n",
       "2  D:\\Programming\\Projects\\major_project\\Codes\\ASR\\data\\audio\\nep_3997_2276753961.flac   \n",
       "3  D:\\Programming\\Projects\\major_project\\Codes\\ASR\\data\\audio\\nep_2099_4853806205.flac   \n",
       "4  D:\\Programming\\Projects\\major_project\\Codes\\ASR\\data\\audio\\nep_3960_8205149857.flac   \n",
       "\n",
       "                                                                                                                                                                       labels  \n",
       "0  विश्व विषयक मन्त्रीस्तरीय अन्तर्राष्ट्रिय सम्मेलनमा भाग लिन बङ्लादेशको राजधानी ढाका प्रस्थान गर्नुअघि त्रिभुवन अन्तराष्ट्रिय विमानस्थलमा सञ्चारकर्मी बिच उनले सो कुरा बताए  \n",
       "1         राजा ज्ञानेन्द्र शाहले दाइजो बकस दिएको घरजग्गा जबरजस्ती सरकारी ट्रस्टमा राखिएको भन्दै पूर्वअधिराजकुमारी प्रेरणाराज्यलक्ष्मी सिंह न्यायका लागि सर्वोच्च अदालत पुगिन्  \n",
       "2                            आन्तरिक राजस्व कार्यालय भैरहवा अन्तर्गत रुपन्देहीको सिद्धार्थनगर नगरपालिका लुम्बिनी नगरपालिका तिलोत्तमा नगरपालिकामा मूल्य अभिवृद्धि करमा दर्ता छ  \n",
       "3                                  वेल्स उन्नाइस सय अन्ठानब्बेमा सान डिएगोमा बसाई सरे र एउटा आवासिय बजारले त्यहाँबाट हटाएपछि फ्लोरिडाको सेन्ट पिटर्सबर्गमा नै पुनर्स्थापित भए  \n",
       "4                                   प्रथम सगरमाथा आरोही एडमन्ड हिलारीको सहयोगमा बनेको कुन्दे अस्पतालले पर्यटक तथा खुम्बु क्षेत्रका स्थानीय बासीको उपचारमा ठुलो योगदान दिएको छ  "
      ]
     },
     "execution_count": 68,
     "metadata": {},
     "output_type": "execute_result"
    }
   ],
   "source": [
    "test_df.head()"
   ]
  },
  {
   "cell_type": "markdown",
   "metadata": {},
   "source": [
    "These are just some tests done"
   ]
  },
  {
   "cell_type": "code",
   "execution_count": 16,
   "metadata": {},
   "outputs": [
    {
     "data": {
      "text/plain": [
       "0.6666666666666666"
      ]
     },
     "execution_count": 16,
     "metadata": {},
     "output_type": "execute_result"
    }
   ],
   "source": [
    "wer_metric = load_metric(\"wer\")\n",
    "wer = wer_metric.compute(predictions=[\"विश्व विषयक मन्त्रीस्तरीय अन्तर्राष्ट्रि\"], references=[\"विश्व विषयक मन्त्रीस्तरी\"])\n",
    "wer"
   ]
  },
  {
   "cell_type": "code",
   "execution_count": 24,
   "metadata": {},
   "outputs": [
    {
     "name": "stdout",
     "output_type": "stream",
     "text": [
      "0.5\n"
     ]
    }
   ],
   "source": [
    "print(calculateWER(actual_label=\"विश्व विषयक मन्त्रीस्तरीय अन्तर्राष्ट्रि\",predicted_label=\"विश्व विषयक मन्त्रीस्तरी\"))"
   ]
  },
  {
   "cell_type": "code",
   "execution_count": 96,
   "metadata": {},
   "outputs": [
    {
     "name": "stdout",
     "output_type": "stream",
     "text": [
      "=> Loading Metrics\n",
      "There are total 213 files\n"
     ]
    },
    {
     "name": "stderr",
     "output_type": "stream",
     "text": [
      "100%|██████████| 213/213 [20:25<00:00,  5.75s/it]"
     ]
    },
    {
     "name": "stdout",
     "output_type": "stream",
     "text": [
      "Result: {'Average WER': 0.44130434782608696, 'Average WER Accuracy': 0.558695652173913, 'Average CER': 0.10123588648153799, 'Average CER Accuracy': 0.898764113518462}\n"
     ]
    },
    {
     "name": "stderr",
     "output_type": "stream",
     "text": [
      "\n"
     ]
    },
    {
     "data": {
      "text/html": [
       "<div>\n",
       "<style scoped>\n",
       "    .dataframe tbody tr th:only-of-type {\n",
       "        vertical-align: middle;\n",
       "    }\n",
       "\n",
       "    .dataframe tbody tr th {\n",
       "        vertical-align: top;\n",
       "    }\n",
       "\n",
       "    .dataframe thead th {\n",
       "        text-align: right;\n",
       "    }\n",
       "</style>\n",
       "<table border=\"1\" class=\"dataframe\">\n",
       "  <thead>\n",
       "    <tr style=\"text-align: right;\">\n",
       "      <th></th>\n",
       "      <th>path</th>\n",
       "      <th>labels</th>\n",
       "      <th>predicted_label</th>\n",
       "      <th>wer</th>\n",
       "      <th>wer_accuracy</th>\n",
       "      <th>cer</th>\n",
       "      <th>cer_accuracy</th>\n",
       "    </tr>\n",
       "  </thead>\n",
       "  <tbody>\n",
       "    <tr>\n",
       "      <th>0</th>\n",
       "      <td>D:\\Programming\\Projects\\major_project\\Codes\\ASR\\data\\audio\\nep_2099_0456476554.flac</td>\n",
       "      <td>विश्व विषयक मन्त्रीस्तरीय अन्तर्राष्ट्रिय सम्मेलनमा भाग लिन बङ्लादेशको राजधानी ढाका प्रस्थान गर्नुअघि त्रिभुवन अन्तराष्ट्रिय विमानस्थलमा सञ्चारकर्मी बिच उनले सो कुरा बताए</td>\n",
       "      <td>विश्व विषयक मन्त्रिस्तरिय अन्तर्राष्ट्रिय सम्मेलनमा भाग लिन बङ्नादेशको राजधानी ढाका पनस्तान गर्नुअघि त्रिभुवन र अन्तर्राष्ट्रिय विभानस्थलमा सञचारकर्मीबिच उनले सो कुरा बताय</td>\n",
       "      <td>0.380952</td>\n",
       "      <td>0.619048</td>\n",
       "      <td>0.082353</td>\n",
       "      <td>0.917647</td>\n",
       "    </tr>\n",
       "    <tr>\n",
       "      <th>1</th>\n",
       "      <td>D:\\Programming\\Projects\\major_project\\Codes\\ASR\\data\\audio\\nep_0546_2868510042.flac</td>\n",
       "      <td>राजा ज्ञानेन्द्र शाहले दाइजो बकस दिएको घरजग्गा जबरजस्ती सरकारी ट्रस्टमा राखिएको भन्दै पूर्वअधिराजकुमारी प्रेरणाराज्यलक्ष्मी सिंह न्यायका लागि सर्वोच्च अदालत पुगिन्</td>\n",
       "      <td>राजा ज्ञानेन्द्र शाहले दाइजो बकस दिएको घरजग्गा जबजती सरकारी ड्रस्टमा राखिएको भन्दै पूर्व अधिराजकुमारी प्रेरणा राज्य लक्ष्मी सिंहन्यायका लागि सर्वच अतलात पुगिन्</td>\n",
       "      <td>0.500000</td>\n",
       "      <td>0.500000</td>\n",
       "      <td>0.085890</td>\n",
       "      <td>0.914110</td>\n",
       "    </tr>\n",
       "    <tr>\n",
       "      <th>2</th>\n",
       "      <td>D:\\Programming\\Projects\\major_project\\Codes\\ASR\\data\\audio\\nep_3997_2276753961.flac</td>\n",
       "      <td>आन्तरिक राजस्व कार्यालय भैरहवा अन्तर्गत रुपन्देहीको सिद्धार्थनगर नगरपालिका लुम्बिनी नगरपालिका तिलोत्तमा नगरपालिकामा मूल्य अभिवृद्धि करमा दर्ता छ</td>\n",
       "      <td>आन्तरिक राजस्व कार्यलय भैरवा अन्तर्गत रूपनदेहीको सिद्धार्थनगरनगरपालिका लुम्बिनी नगरपालिका तिलोत्तमा नगरपालिकामा मूल्य अभिवृद्धि कर्मादर्ता छ</td>\n",
       "      <td>0.411765</td>\n",
       "      <td>0.588235</td>\n",
       "      <td>0.048611</td>\n",
       "      <td>0.951389</td>\n",
       "    </tr>\n",
       "    <tr>\n",
       "      <th>3</th>\n",
       "      <td>D:\\Programming\\Projects\\major_project\\Codes\\ASR\\data\\audio\\nep_2099_4853806205.flac</td>\n",
       "      <td>वेल्स उन्नाइस सय अन्ठानब्बेमा सान डिएगोमा बसाई सरे र एउटा आवासिय बजारले त्यहाँबाट हटाएपछि फ्लोरिडाको सेन्ट पिटर्सबर्गमा नै पुनर्स्थापित भए</td>\n",
       "      <td>वेल्स उन्नाइस सय अन्छनब्बेमा सान डिएगोमा बसाई सरे र एउटा आवश्य बजारले त्यहाँ बाट हटाएपछि फ्लोरिडागो सेन पिटर्सबर्गमा नै पुनर्स्थापित भए</td>\n",
       "      <td>0.300000</td>\n",
       "      <td>0.700000</td>\n",
       "      <td>0.065217</td>\n",
       "      <td>0.934783</td>\n",
       "    </tr>\n",
       "    <tr>\n",
       "      <th>4</th>\n",
       "      <td>D:\\Programming\\Projects\\major_project\\Codes\\ASR\\data\\audio\\nep_3960_8205149857.flac</td>\n",
       "      <td>प्रथम सगरमाथा आरोही एडमन्ड हिलारीको सहयोगमा बनेको कुन्दे अस्पतालले पर्यटक तथा खुम्बु क्षेत्रका स्थानीय बासीको उपचारमा ठुलो योगदान दिएको छ</td>\n",
       "      <td>प्रथम सगर माथा आरोही एडमन हिलारीको सहयोगमा बनेको कुन्दै अस्पतालले पर्यटक तथा खुम्बु क्षेत्रका स्थानीय बासीको उपचारमा ठुलो योगदान दिएको छ</td>\n",
       "      <td>0.200000</td>\n",
       "      <td>0.800000</td>\n",
       "      <td>0.029197</td>\n",
       "      <td>0.970803</td>\n",
       "    </tr>\n",
       "  </tbody>\n",
       "</table>\n",
       "</div>"
      ],
      "text/plain": [
       "                                                                                  path  \\\n",
       "0  D:\\Programming\\Projects\\major_project\\Codes\\ASR\\data\\audio\\nep_2099_0456476554.flac   \n",
       "1  D:\\Programming\\Projects\\major_project\\Codes\\ASR\\data\\audio\\nep_0546_2868510042.flac   \n",
       "2  D:\\Programming\\Projects\\major_project\\Codes\\ASR\\data\\audio\\nep_3997_2276753961.flac   \n",
       "3  D:\\Programming\\Projects\\major_project\\Codes\\ASR\\data\\audio\\nep_2099_4853806205.flac   \n",
       "4  D:\\Programming\\Projects\\major_project\\Codes\\ASR\\data\\audio\\nep_3960_8205149857.flac   \n",
       "\n",
       "                                                                                                                                                                       labels  \\\n",
       "0  विश्व विषयक मन्त्रीस्तरीय अन्तर्राष्ट्रिय सम्मेलनमा भाग लिन बङ्लादेशको राजधानी ढाका प्रस्थान गर्नुअघि त्रिभुवन अन्तराष्ट्रिय विमानस्थलमा सञ्चारकर्मी बिच उनले सो कुरा बताए   \n",
       "1         राजा ज्ञानेन्द्र शाहले दाइजो बकस दिएको घरजग्गा जबरजस्ती सरकारी ट्रस्टमा राखिएको भन्दै पूर्वअधिराजकुमारी प्रेरणाराज्यलक्ष्मी सिंह न्यायका लागि सर्वोच्च अदालत पुगिन्   \n",
       "2                            आन्तरिक राजस्व कार्यालय भैरहवा अन्तर्गत रुपन्देहीको सिद्धार्थनगर नगरपालिका लुम्बिनी नगरपालिका तिलोत्तमा नगरपालिकामा मूल्य अभिवृद्धि करमा दर्ता छ   \n",
       "3                                  वेल्स उन्नाइस सय अन्ठानब्बेमा सान डिएगोमा बसाई सरे र एउटा आवासिय बजारले त्यहाँबाट हटाएपछि फ्लोरिडाको सेन्ट पिटर्सबर्गमा नै पुनर्स्थापित भए   \n",
       "4                                   प्रथम सगरमाथा आरोही एडमन्ड हिलारीको सहयोगमा बनेको कुन्दे अस्पतालले पर्यटक तथा खुम्बु क्षेत्रका स्थानीय बासीको उपचारमा ठुलो योगदान दिएको छ   \n",
       "\n",
       "                                                                                                                                                               predicted_label  \\\n",
       "0  विश्व विषयक मन्त्रिस्तरिय अन्तर्राष्ट्रिय सम्मेलनमा भाग लिन बङ्नादेशको राजधानी ढाका पनस्तान गर्नुअघि त्रिभुवन र अन्तर्राष्ट्रिय विभानस्थलमा सञचारकर्मीबिच उनले सो कुरा बताय   \n",
       "1              राजा ज्ञानेन्द्र शाहले दाइजो बकस दिएको घरजग्गा जबजती सरकारी ड्रस्टमा राखिएको भन्दै पूर्व अधिराजकुमारी प्रेरणा राज्य लक्ष्मी सिंहन्यायका लागि सर्वच अतलात पुगिन्   \n",
       "2                                 आन्तरिक राजस्व कार्यलय भैरवा अन्तर्गत रूपनदेहीको सिद्धार्थनगरनगरपालिका लुम्बिनी नगरपालिका तिलोत्तमा नगरपालिकामा मूल्य अभिवृद्धि कर्मादर्ता छ   \n",
       "3                                      वेल्स उन्नाइस सय अन्छनब्बेमा सान डिएगोमा बसाई सरे र एउटा आवश्य बजारले त्यहाँ बाट हटाएपछि फ्लोरिडागो सेन पिटर्सबर्गमा नै पुनर्स्थापित भए   \n",
       "4                                     प्रथम सगर माथा आरोही एडमन हिलारीको सहयोगमा बनेको कुन्दै अस्पतालले पर्यटक तथा खुम्बु क्षेत्रका स्थानीय बासीको उपचारमा ठुलो योगदान दिएको छ   \n",
       "\n",
       "        wer  wer_accuracy       cer  cer_accuracy  \n",
       "0  0.380952      0.619048  0.082353      0.917647  \n",
       "1  0.500000      0.500000  0.085890      0.914110  \n",
       "2  0.411765      0.588235  0.048611      0.951389  \n",
       "3  0.300000      0.700000  0.065217      0.934783  \n",
       "4  0.200000      0.800000  0.029197      0.970803  "
      ]
     },
     "execution_count": 96,
     "metadata": {},
     "output_type": "execute_result"
    }
   ],
   "source": [
    "result1, test_df1 = evaluate_metrics(model,processor,test_df.copy())\n",
    "print(f\"Result: {result1}\")\n",
    "test_df1.head()"
   ]
  },
  {
   "cell_type": "code",
   "execution_count": 97,
   "metadata": {},
   "outputs": [
    {
     "name": "stdout",
     "output_type": "stream",
     "text": [
      "=> Loading Metrics\n",
      "There are total 213 files\n"
     ]
    },
    {
     "name": "stderr",
     "output_type": "stream",
     "text": [
      "100%|██████████| 213/213 [20:40<00:00,  5.82s/it]"
     ]
    },
    {
     "name": "stdout",
     "output_type": "stream",
     "text": [
      "Result: {'Average WER': 0.4905023474178404, 'Average WER Accuracy': 0.5094976525821596, 'Average CER': 0.15350433114167802, 'Average CER Accuracy': 0.8464956688583223}\n"
     ]
    },
    {
     "name": "stderr",
     "output_type": "stream",
     "text": [
      "\n"
     ]
    },
    {
     "data": {
      "text/html": [
       "<div>\n",
       "<style scoped>\n",
       "    .dataframe tbody tr th:only-of-type {\n",
       "        vertical-align: middle;\n",
       "    }\n",
       "\n",
       "    .dataframe tbody tr th {\n",
       "        vertical-align: top;\n",
       "    }\n",
       "\n",
       "    .dataframe thead th {\n",
       "        text-align: right;\n",
       "    }\n",
       "</style>\n",
       "<table border=\"1\" class=\"dataframe\">\n",
       "  <thead>\n",
       "    <tr style=\"text-align: right;\">\n",
       "      <th></th>\n",
       "      <th>path</th>\n",
       "      <th>labels</th>\n",
       "      <th>predicted_label</th>\n",
       "      <th>wer</th>\n",
       "      <th>wer_accuracy</th>\n",
       "      <th>cer</th>\n",
       "      <th>cer_accuracy</th>\n",
       "    </tr>\n",
       "  </thead>\n",
       "  <tbody>\n",
       "    <tr>\n",
       "      <th>0</th>\n",
       "      <td>D:\\Programming\\Projects\\major_project\\Codes\\ASR\\data\\audio\\nep_2099_0456476554.flac</td>\n",
       "      <td>विश्व विषयक मन्त्रीस्तरीय अन्तर्राष्ट्रिय सम्मेलनमा भाग लिन बङ्लादेशको राजधानी ढाका प्रस्थान गर्नुअघि त्रिभुवन अन्तराष्ट्रिय विमानस्थलमा सञ्चारकर्मी बिच उनले सो कुरा बताए</td>\n",
       "      <td>विश्व विषयक मन्त्रिस्तरिय अन्तर्राष्ट्रिय सम्मेलनमा भाग लिन बङ्नादेशको राजधानी ढाका पनस्तान गर्नुअघि त्रिभुवन र अन्तर्राष्ट्रिय विभानस्थलमा सञचारकर्मीबिच उनले सो कुरा बताय</td>\n",
       "      <td>0.381</td>\n",
       "      <td>0.619</td>\n",
       "      <td>0.082353</td>\n",
       "      <td>0.917647</td>\n",
       "    </tr>\n",
       "    <tr>\n",
       "      <th>1</th>\n",
       "      <td>D:\\Programming\\Projects\\major_project\\Codes\\ASR\\data\\audio\\nep_0546_2868510042.flac</td>\n",
       "      <td>राजा ज्ञानेन्द्र शाहले दाइजो बकस दिएको घरजग्गा जबरजस्ती सरकारी ट्रस्टमा राखिएको भन्दै पूर्वअधिराजकुमारी प्रेरणाराज्यलक्ष्मी सिंह न्यायका लागि सर्वोच्च अदालत पुगिन्</td>\n",
       "      <td>राजा ज्ञानेन्द्र शाहले दाइजो बकस दिएको घरजग्गा जबजती सरकारी ड्रस्टमा राखिएको भन्दै पूर्व अधिराजकुमारी प्रेरणा राज्य लक्ष्मी सिंहन्यायका लागि सर्वच अतलात पुगिन्</td>\n",
       "      <td>0.500</td>\n",
       "      <td>0.500</td>\n",
       "      <td>0.085890</td>\n",
       "      <td>0.914110</td>\n",
       "    </tr>\n",
       "    <tr>\n",
       "      <th>2</th>\n",
       "      <td>D:\\Programming\\Projects\\major_project\\Codes\\ASR\\data\\audio\\nep_3997_2276753961.flac</td>\n",
       "      <td>आन्तरिक राजस्व कार्यालय भैरहवा अन्तर्गत रुपन्देहीको सिद्धार्थनगर नगरपालिका लुम्बिनी नगरपालिका तिलोत्तमा नगरपालिकामा मूल्य अभिवृद्धि करमा दर्ता छ</td>\n",
       "      <td>आन्तरिक राजस्व कार्यलय भैरवा अन्तर्गत रूपनदेहीको सिद्धार्थनगरनगरपालिका लुम्बिनी नगरपालिका तिलोत्तमा नगरपालिकामा मूल्य अभिवृद्धि कर्मादर्ता छ</td>\n",
       "      <td>0.412</td>\n",
       "      <td>0.588</td>\n",
       "      <td>0.048611</td>\n",
       "      <td>0.951389</td>\n",
       "    </tr>\n",
       "    <tr>\n",
       "      <th>3</th>\n",
       "      <td>D:\\Programming\\Projects\\major_project\\Codes\\ASR\\data\\audio\\nep_2099_4853806205.flac</td>\n",
       "      <td>वेल्स उन्नाइस सय अन्ठानब्बेमा सान डिएगोमा बसाई सरे र एउटा आवासिय बजारले त्यहाँबाट हटाएपछि फ्लोरिडाको सेन्ट पिटर्सबर्गमा नै पुनर्स्थापित भए</td>\n",
       "      <td>वेल्स उन्नाइस सय अन्छनब्बेमा सान डिएगोमा बसाई सरे र एउटा आवश्य बजारले त्यहाँ बाट हटाएपछि फ्लोरिडागो सेन पिटर्सबर्गमा नै पुनर्स्थापित भए</td>\n",
       "      <td>0.300</td>\n",
       "      <td>0.700</td>\n",
       "      <td>0.065217</td>\n",
       "      <td>0.934783</td>\n",
       "    </tr>\n",
       "    <tr>\n",
       "      <th>4</th>\n",
       "      <td>D:\\Programming\\Projects\\major_project\\Codes\\ASR\\data\\audio\\nep_3960_8205149857.flac</td>\n",
       "      <td>प्रथम सगरमाथा आरोही एडमन्ड हिलारीको सहयोगमा बनेको कुन्दे अस्पतालले पर्यटक तथा खुम्बु क्षेत्रका स्थानीय बासीको उपचारमा ठुलो योगदान दिएको छ</td>\n",
       "      <td>प्रथम सगर माथा आरोही एडमन हिलारीको सहयोगमा बनेको कुन्दै अस्पतालले पर्यटक तथा खुम्बु क्षेत्रका स्थानीय बासीको उपचारमा ठुलो योगदान दिएको छ</td>\n",
       "      <td>0.200</td>\n",
       "      <td>0.800</td>\n",
       "      <td>0.029197</td>\n",
       "      <td>0.970803</td>\n",
       "    </tr>\n",
       "  </tbody>\n",
       "</table>\n",
       "</div>"
      ],
      "text/plain": [
       "                                                                                  path  \\\n",
       "0  D:\\Programming\\Projects\\major_project\\Codes\\ASR\\data\\audio\\nep_2099_0456476554.flac   \n",
       "1  D:\\Programming\\Projects\\major_project\\Codes\\ASR\\data\\audio\\nep_0546_2868510042.flac   \n",
       "2  D:\\Programming\\Projects\\major_project\\Codes\\ASR\\data\\audio\\nep_3997_2276753961.flac   \n",
       "3  D:\\Programming\\Projects\\major_project\\Codes\\ASR\\data\\audio\\nep_2099_4853806205.flac   \n",
       "4  D:\\Programming\\Projects\\major_project\\Codes\\ASR\\data\\audio\\nep_3960_8205149857.flac   \n",
       "\n",
       "                                                                                                                                                                       labels  \\\n",
       "0  विश्व विषयक मन्त्रीस्तरीय अन्तर्राष्ट्रिय सम्मेलनमा भाग लिन बङ्लादेशको राजधानी ढाका प्रस्थान गर्नुअघि त्रिभुवन अन्तराष्ट्रिय विमानस्थलमा सञ्चारकर्मी बिच उनले सो कुरा बताए   \n",
       "1         राजा ज्ञानेन्द्र शाहले दाइजो बकस दिएको घरजग्गा जबरजस्ती सरकारी ट्रस्टमा राखिएको भन्दै पूर्वअधिराजकुमारी प्रेरणाराज्यलक्ष्मी सिंह न्यायका लागि सर्वोच्च अदालत पुगिन्   \n",
       "2                            आन्तरिक राजस्व कार्यालय भैरहवा अन्तर्गत रुपन्देहीको सिद्धार्थनगर नगरपालिका लुम्बिनी नगरपालिका तिलोत्तमा नगरपालिकामा मूल्य अभिवृद्धि करमा दर्ता छ   \n",
       "3                                  वेल्स उन्नाइस सय अन्ठानब्बेमा सान डिएगोमा बसाई सरे र एउटा आवासिय बजारले त्यहाँबाट हटाएपछि फ्लोरिडाको सेन्ट पिटर्सबर्गमा नै पुनर्स्थापित भए   \n",
       "4                                   प्रथम सगरमाथा आरोही एडमन्ड हिलारीको सहयोगमा बनेको कुन्दे अस्पतालले पर्यटक तथा खुम्बु क्षेत्रका स्थानीय बासीको उपचारमा ठुलो योगदान दिएको छ   \n",
       "\n",
       "                                                                                                                                                               predicted_label  \\\n",
       "0  विश्व विषयक मन्त्रिस्तरिय अन्तर्राष्ट्रिय सम्मेलनमा भाग लिन बङ्नादेशको राजधानी ढाका पनस्तान गर्नुअघि त्रिभुवन र अन्तर्राष्ट्रिय विभानस्थलमा सञचारकर्मीबिच उनले सो कुरा बताय   \n",
       "1              राजा ज्ञानेन्द्र शाहले दाइजो बकस दिएको घरजग्गा जबजती सरकारी ड्रस्टमा राखिएको भन्दै पूर्व अधिराजकुमारी प्रेरणा राज्य लक्ष्मी सिंहन्यायका लागि सर्वच अतलात पुगिन्   \n",
       "2                                 आन्तरिक राजस्व कार्यलय भैरवा अन्तर्गत रूपनदेहीको सिद्धार्थनगरनगरपालिका लुम्बिनी नगरपालिका तिलोत्तमा नगरपालिकामा मूल्य अभिवृद्धि कर्मादर्ता छ   \n",
       "3                                      वेल्स उन्नाइस सय अन्छनब्बेमा सान डिएगोमा बसाई सरे र एउटा आवश्य बजारले त्यहाँ बाट हटाएपछि फ्लोरिडागो सेन पिटर्सबर्गमा नै पुनर्स्थापित भए   \n",
       "4                                     प्रथम सगर माथा आरोही एडमन हिलारीको सहयोगमा बनेको कुन्दै अस्पतालले पर्यटक तथा खुम्बु क्षेत्रका स्थानीय बासीको उपचारमा ठुलो योगदान दिएको छ   \n",
       "\n",
       "     wer  wer_accuracy       cer  cer_accuracy  \n",
       "0  0.381         0.619  0.082353      0.917647  \n",
       "1  0.500         0.500  0.085890      0.914110  \n",
       "2  0.412         0.588  0.048611      0.951389  \n",
       "3  0.300         0.700  0.065217      0.934783  \n",
       "4  0.200         0.800  0.029197      0.970803  "
      ]
     },
     "execution_count": 97,
     "metadata": {},
     "output_type": "execute_result"
    }
   ],
   "source": [
    "result2, test_df2 = evaluate_metrics_own(model,processor,test_df.copy())\n",
    "print(f\"Result: {result2}\")\n",
    "test_df2.head()"
   ]
  },
  {
   "cell_type": "markdown",
   "metadata": {},
   "source": [
    "\n"
   ]
  },
  {
   "cell_type": "code",
   "execution_count": 98,
   "metadata": {},
   "outputs": [],
   "source": [
    "test_df1.to_csv('metrics_result1.csv',index=False)\n",
    "test_df2.to_csv('metrics_result2.csv',index=False)"
   ]
  },
  {
   "cell_type": "code",
   "execution_count": null,
   "metadata": {},
   "outputs": [],
   "source": []
  }
 ],
 "metadata": {
  "kernelspec": {
   "display_name": "Python 3.8.5 ('.aivenv': venv)",
   "language": "python",
   "name": "python3"
  },
  "language_info": {
   "codemirror_mode": {
    "name": "ipython",
    "version": 3
   },
   "file_extension": ".py",
   "mimetype": "text/x-python",
   "name": "python",
   "nbconvert_exporter": "python",
   "pygments_lexer": "ipython3",
   "version": "3.8.5"
  },
  "orig_nbformat": 4,
  "vscode": {
   "interpreter": {
    "hash": "a6aa66c812e617fe7a976665f04a60359ca2a7b0fa520cb928d0804dda4cd71e"
   }
  }
 },
 "nbformat": 4,
 "nbformat_minor": 2
}
