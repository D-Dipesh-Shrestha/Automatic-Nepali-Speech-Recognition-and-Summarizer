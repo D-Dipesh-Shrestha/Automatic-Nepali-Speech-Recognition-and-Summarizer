{
 "cells": [
  {
   "cell_type": "code",
   "execution_count": 1,
   "metadata": {},
   "outputs": [
    {
     "name": "stdout",
     "output_type": "stream",
     "text": [
      "Collecting pyloudnorm\n",
      "  Downloading pyloudnorm-0.1.0-py3-none-any.whl (9.3 kB)\n",
      "Requirement already satisfied: scipy>=1.0.1 in d:\\programming\\python\\.aivenv\\lib\\site-packages (from pyloudnorm) (1.9.0)\n",
      "Requirement already satisfied: numpy>=1.14.2 in d:\\programming\\python\\.aivenv\\lib\\site-packages (from pyloudnorm) (1.22.0)\n",
      "Requirement already satisfied: future>=0.16.0 in d:\\programming\\python\\.aivenv\\lib\\site-packages (from pyloudnorm) (0.18.2)\n",
      "Installing collected packages: pyloudnorm\n",
      "Successfully installed pyloudnorm-0.1.0\n"
     ]
    },
    {
     "name": "stderr",
     "output_type": "stream",
     "text": [
      "WARNING: Ignoring invalid distribution -ip (d:\\programming\\python\\.aivenv\\lib\\site-packages)\n",
      "WARNING: Ignoring invalid distribution -ip (d:\\programming\\python\\.aivenv\\lib\\site-packages)\n",
      "WARNING: Ignoring invalid distribution -ip (d:\\programming\\python\\.aivenv\\lib\\site-packages)\n",
      "WARNING: Ignoring invalid distribution -ip (d:\\programming\\python\\.aivenv\\lib\\site-packages)\n",
      "WARNING: Ignoring invalid distribution -ip (d:\\programming\\python\\.aivenv\\lib\\site-packages)\n",
      "WARNING: Ignoring invalid distribution -ip (d:\\programming\\python\\.aivenv\\lib\\site-packages)\n",
      "WARNING: Ignoring invalid distribution -ip (d:\\programming\\python\\.aivenv\\lib\\site-packages)\n",
      "\n",
      "[notice] A new release of pip available: 22.2.2 -> 22.3\n",
      "[notice] To update, run: python.exe -m pip install --upgrade pip\n"
     ]
    }
   ],
   "source": [
    "!pip install pyloudnorm"
   ]
  },
  {
   "cell_type": "code",
   "execution_count": 2,
   "metadata": {},
   "outputs": [],
   "source": [
    "import soundfile as sf \n",
    "import pyloudnorm as pyln "
   ]
  },
  {
   "cell_type": "code",
   "execution_count": 3,
   "metadata": {},
   "outputs": [],
   "source": [
    "def getLoudness(ip_file):\n",
    "    data,sr = sf.read(ip_file) #load audio with shape (samples, channels)\n",
    "    meter = pyln.Meter(sr) #create BS.1770 Meter\n",
    "    loudness = meter.integrated_loudness(data) #measure loudness\n",
    "    return loudness"
   ]
  },
  {
   "cell_type": "code",
   "execution_count": 5,
   "metadata": {},
   "outputs": [
    {
     "name": "stdout",
     "output_type": "stream",
     "text": [
      "-16.82795153175517\n",
      "-17.85775301399149\n",
      "-31.198669390975784\n"
     ]
    }
   ],
   "source": [
    "print(getLoudness('D:\\Programming\\Projects\\major_project\\Codes\\ASR\\\\test\\loud_sound.wav'))\n",
    "print(getLoudness('D:\\Programming\\Projects\\major_project\\Codes\\ASR\\\\test\\\\loud2.wav'))\n",
    "print(getLoudness('D:\\Programming\\Projects\\major_project\\Codes\\ASR\\\\test\\\\faint.wav'))\n",
    "# More attenuation means less volume so higher is the value in negative more the volume is more less"
   ]
  },
  {
   "cell_type": "code",
   "execution_count": 6,
   "metadata": {},
   "outputs": [],
   "source": [
    "import os"
   ]
  },
  {
   "cell_type": "code",
   "execution_count": 8,
   "metadata": {},
   "outputs": [
    {
     "data": {
      "text/plain": [
       "{'both.wav': -24.69923760783173,\n",
       " 'faint.wav': -31.198669390975784,\n",
       " 'f_op.wav': -21.806510666518008,\n",
       " 'loud2.wav': -17.85775301399149,\n",
       " 'loud_sound.wav': -16.82795153175517,\n",
       " 'rec1.wav': -24.330569010163387,\n",
       " 'rec13sec.wav': -26.92053090485147,\n",
       " 'rec2.wav': -22.54567198303455,\n",
       " 'rec20sec.wav': -28.726367776460155,\n",
       " 'rec3.wav': -24.051411960131784,\n",
       " 'rec4.wav': -24.617573070177404,\n",
       " 'rec5.wav': -23.570118624689204,\n",
       " 'soft.wav': -29.492751043740267,\n",
       " 'test1_anjan.wav': -30.38847630924968,\n",
       " 'test30sec.wav': -19.43786264623161,\n",
       " 'testy.flac': -19.437868893446616}"
      ]
     },
     "execution_count": 8,
     "metadata": {},
     "output_type": "execute_result"
    }
   ],
   "source": [
    "sound_dict = {}\n",
    "for wav in os.listdir('./test/'):\n",
    "    sound_dict[wav] = getLoudness(f'./test/{wav}')\n",
    "sound_dict"
   ]
  },
  {
   "cell_type": "code",
   "execution_count": 26,
   "metadata": {},
   "outputs": [
    {
     "name": "stdout",
     "output_type": "stream",
     "text": [
      "Before: -16.82795153175517 dB\n",
      "After peak normalization: -12.832757946262113 dB\n"
     ]
    }
   ],
   "source": [
    "# Peak normalization of all audio to -1dB\n",
    "data,sr = sf.read('./test/loud_sound.wav')\n",
    "meter = pyln.Meter(sr) #create BS.1770 Meter\n",
    "loudness = meter.integrated_loudness(data) \n",
    "print(f'Before: {loudness} dB')\n",
    "peak_normalized_audio = pyln.normalize.peak(data,-1.0)\n",
    "loudness = meter.integrated_loudness(peak_normalized_audio) \n",
    "print(f'After peak normalization: {loudness} dB')"
   ]
  },
  {
   "cell_type": "code",
   "execution_count": 25,
   "metadata": {},
   "outputs": [
    {
     "name": "stdout",
     "output_type": "stream",
     "text": [
      "Before: -16.82795153175517 dB\n",
      "After normalization: -11.999999999999998 dB\n"
     ]
    }
   ],
   "source": [
    "# loudness normalize audio to -12dB LUFS \n",
    "data,sr = sf.read('./test/loud_sound.wav')\n",
    "meter = pyln.Meter(sr) #create BS.1770 Meter\n",
    "loudness = meter.integrated_loudness(data) \n",
    "print(f'Before: {loudness} dB')\n",
    "loudness_normalized_audio = pyln.normalize.loudness(data, loudness, -12.0)\n",
    "loudness = meter.integrated_loudness(loudness_normalized_audio) \n",
    "print(f'After normalization: {loudness} dB')"
   ]
  },
  {
   "cell_type": "code",
   "execution_count": 23,
   "metadata": {},
   "outputs": [],
   "source": [
    "# import IPython.display as Audio\n",
    "from IPython.display import display, HTML, Audio\n",
    "import numpy as np"
   ]
  },
  {
   "cell_type": "code",
   "execution_count": null,
   "metadata": {},
   "outputs": [],
   "source": [
    "Audio(data = loudness_normalized_audio, \n",
    "    autoplay = True, \n",
    "    rate = sr\n",
    ")"
   ]
  },
  {
   "cell_type": "code",
   "execution_count": 33,
   "metadata": {},
   "outputs": [
    {
     "data": {
      "text/plain": [
       "array([[1, 2],\n",
       "       [3, 4]])"
      ]
     },
     "execution_count": 33,
     "metadata": {},
     "output_type": "execute_result"
    }
   ],
   "source": [
    "import tensorflow as tf\n",
    "\n",
    "a = tf.constant([[1, 2], [3, 4]])                 \n",
    "b = tf.add(a, 1)\n",
    "\n",
    "a.numpy()"
   ]
  },
  {
   "cell_type": "code",
   "execution_count": null,
   "metadata": {},
   "outputs": [],
   "source": []
  }
 ],
 "metadata": {
  "kernelspec": {
   "display_name": "Python 3.8.5 ('.aivenv')",
   "language": "python",
   "name": "python3"
  },
  "language_info": {
   "codemirror_mode": {
    "name": "ipython",
    "version": 3
   },
   "file_extension": ".py",
   "mimetype": "text/x-python",
   "name": "python",
   "nbconvert_exporter": "python",
   "pygments_lexer": "ipython3",
   "version": "3.8.5"
  },
  "orig_nbformat": 4,
  "vscode": {
   "interpreter": {
    "hash": "a6aa66c812e617fe7a976665f04a60359ca2a7b0fa520cb928d0804dda4cd71e"
   }
  }
 },
 "nbformat": 4,
 "nbformat_minor": 2
}
