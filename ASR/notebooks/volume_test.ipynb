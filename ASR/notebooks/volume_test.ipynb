{
 "cells": [
  {
   "cell_type": "code",
   "execution_count": 1,
   "metadata": {},
   "outputs": [
    {
     "name": "stdout",
     "output_type": "stream",
     "text": [
      "Collecting pyloudnorm\n",
      "  Downloading pyloudnorm-0.1.0-py3-none-any.whl (9.3 kB)\n",
      "Requirement already satisfied: scipy>=1.0.1 in d:\\programming\\python\\.aivenv\\lib\\site-packages (from pyloudnorm) (1.9.0)\n",
      "Requirement already satisfied: numpy>=1.14.2 in d:\\programming\\python\\.aivenv\\lib\\site-packages (from pyloudnorm) (1.22.0)\n",
      "Requirement already satisfied: future>=0.16.0 in d:\\programming\\python\\.aivenv\\lib\\site-packages (from pyloudnorm) (0.18.2)\n",
      "Installing collected packages: pyloudnorm\n",
      "Successfully installed pyloudnorm-0.1.0\n"
     ]
    },
    {
     "name": "stderr",
     "output_type": "stream",
     "text": [
      "WARNING: Ignoring invalid distribution -ip (d:\\programming\\python\\.aivenv\\lib\\site-packages)\n",
      "WARNING: Ignoring invalid distribution -ip (d:\\programming\\python\\.aivenv\\lib\\site-packages)\n",
      "WARNING: Ignoring invalid distribution -ip (d:\\programming\\python\\.aivenv\\lib\\site-packages)\n",
      "WARNING: Ignoring invalid distribution -ip (d:\\programming\\python\\.aivenv\\lib\\site-packages)\n",
      "WARNING: Ignoring invalid distribution -ip (d:\\programming\\python\\.aivenv\\lib\\site-packages)\n",
      "WARNING: Ignoring invalid distribution -ip (d:\\programming\\python\\.aivenv\\lib\\site-packages)\n",
      "WARNING: Ignoring invalid distribution -ip (d:\\programming\\python\\.aivenv\\lib\\site-packages)\n",
      "\n",
      "[notice] A new release of pip available: 22.2.2 -> 22.3\n",
      "[notice] To update, run: python.exe -m pip install --upgrade pip\n"
     ]
    }
   ],
   "source": [
    "!pip install pyloudnorm"
   ]
  },
  {
   "cell_type": "code",
   "execution_count": 2,
   "metadata": {},
   "outputs": [],
   "source": [
    "import soundfile as sf \n",
    "import pyloudnorm as pyln "
   ]
  },
  {
   "cell_type": "code",
   "execution_count": 3,
   "metadata": {},
   "outputs": [],
   "source": [
    "def getLoudness(ip_file):\n",
    "    data,sr = sf.read(ip_file) #load audio with shape (samples, channels)\n",
    "    meter = pyln.Meter(sr) #create BS.1770 Meter\n",
    "    loudness = meter.integrated_loudness(data) #measure loudness\n",
    "    return loudness"
   ]
  },
  {
   "cell_type": "code",
   "execution_count": 5,
   "metadata": {},
   "outputs": [
    {
     "name": "stdout",
     "output_type": "stream",
     "text": [
      "-16.82795153175517\n",
      "-17.85775301399149\n",
      "-31.198669390975784\n"
     ]
    }
   ],
   "source": [
    "print(getLoudness('D:\\Programming\\Projects\\major_project\\Codes\\ASR\\\\test\\loud_sound.wav'))\n",
    "print(getLoudness('D:\\Programming\\Projects\\major_project\\Codes\\ASR\\\\test\\\\loud2.wav'))\n",
    "print(getLoudness('D:\\Programming\\Projects\\major_project\\Codes\\ASR\\\\test\\\\faint.wav'))\n",
    "# More attenuation means less volume so higher is the value in negative more the volume is more less"
   ]
  },
  {
   "cell_type": "code",
   "execution_count": 6,
   "metadata": {},
   "outputs": [],
   "source": [
    "import os"
   ]
  },
  {
   "cell_type": "code",
   "execution_count": 8,
   "metadata": {},
   "outputs": [
    {
     "data": {
      "text/plain": [
       "{'both.wav': -24.69923760783173,\n",
       " 'faint.wav': -31.198669390975784,\n",
       " 'f_op.wav': -21.806510666518008,\n",
       " 'loud2.wav': -17.85775301399149,\n",
       " 'loud_sound.wav': -16.82795153175517,\n",
       " 'rec1.wav': -24.330569010163387,\n",
       " 'rec13sec.wav': -26.92053090485147,\n",
       " 'rec2.wav': -22.54567198303455,\n",
       " 'rec20sec.wav': -28.726367776460155,\n",
       " 'rec3.wav': -24.051411960131784,\n",
       " 'rec4.wav': -24.617573070177404,\n",
       " 'rec5.wav': -23.570118624689204,\n",
       " 'soft.wav': -29.492751043740267,\n",
       " 'test1_anjan.wav': -30.38847630924968,\n",
       " 'test30sec.wav': -19.43786264623161,\n",
       " 'testy.flac': -19.437868893446616}"
      ]
     },
     "execution_count": 8,
     "metadata": {},
     "output_type": "execute_result"
    }
   ],
   "source": [
    "sound_dict = {}\n",
    "for wav in os.listdir('./test/'):\n",
    "    sound_dict[wav] = getLoudness(f'./test/{wav}')\n",
    "sound_dict"
   ]
  },
  {
   "cell_type": "code",
   "execution_count": 26,
   "metadata": {},
   "outputs": [
    {
     "name": "stdout",
     "output_type": "stream",
     "text": [
      "Before: -16.82795153175517 dB\n",
      "After peak normalization: -12.832757946262113 dB\n"
     ]
    }
   ],
   "source": [
    "# Peak normalization of all audio to -1dB\n",
    "data,sr = sf.read('./test/loud_sound.wav')\n",
    "meter = pyln.Meter(sr) #create BS.1770 Meter\n",
    "loudness = meter.integrated_loudness(data) \n",
    "print(f'Before: {loudness} dB')\n",
    "peak_normalized_audio = pyln.normalize.peak(data,-1.0)\n",
    "loudness = meter.integrated_loudness(peak_normalized_audio) \n",
    "print(f'After peak normalization: {loudness} dB')"
   ]
  },
  {
   "cell_type": "code",
   "execution_count": 25,
   "metadata": {},
   "outputs": [
    {
     "name": "stdout",
     "output_type": "stream",
     "text": [
      "Before: -16.82795153175517 dB\n",
      "After normalization: -11.999999999999998 dB\n"
     ]
    }
   ],
   "source": [
    "# loudness normalize audio to -12dB LUFS \n",
    "data,sr = sf.read('./test/loud_sound.wav')\n",
    "meter = pyln.Meter(sr) #create BS.1770 Meter\n",
    "loudness = meter.integrated_loudness(data) \n",
    "print(f'Before: {loudness} dB')\n",
    "loudness_normalized_audio = pyln.normalize.loudness(data, loudness, -12.0)\n",
    "loudness = meter.integrated_loudness(loudness_normalized_audio) \n",
    "print(f'After normalization: {loudness} dB')"
   ]
  },
  {
   "cell_type": "code",
   "execution_count": 23,
   "metadata": {},
   "outputs": [],
   "source": [
    "# import IPython.display as Audio\n",
    "from IPython.display import display, HTML, Audio\n",
    "import numpy as np"
   ]
  },
  {
   "cell_type": "code",
   "execution_count": null,
   "metadata": {},
   "outputs": [],
   "source": [
    "Audio(data = loudness_normalized_audio, \n",
    "    autoplay = True, \n",
    "    rate = sr\n",
    ")"
   ]
  },
  {
   "cell_type": "code",
   "execution_count": 33,
   "metadata": {},
   "outputs": [
    {
     "data": {
      "text/plain": [
       "array([[1, 2],\n",
       "       [3, 4]])"
      ]
     },
     "execution_count": 33,
     "metadata": {},
     "output_type": "execute_result"
    }
   ],
   "source": [
    "import tensorflow as tf\n",
    "\n",
    "a = tf.constant([[1, 2], [3, 4]])                 \n",
    "b = tf.add(a, 1)\n",
    "\n",
    "a.numpy()"
   ]
  },
  {
   "cell_type": "code",
   "execution_count": 1,
   "metadata": {},
   "outputs": [],
   "source": [
    "import librosa "
   ]
  },
  {
   "cell_type": "code",
   "execution_count": 3,
   "metadata": {},
   "outputs": [],
   "source": [
    "import subprocess"
   ]
  },
  {
   "cell_type": "code",
   "execution_count": 8,
   "metadata": {},
   "outputs": [],
   "source": [
    "def convertAudio(ip_format=\"flac\",op_format=\"wav\"):\n",
    "    # ip_dir_path = input('Input Directory Path: ')\n",
    "    # op_dir_path = input('Output Directory Path: ')\n",
    "    # files = os.listdir(ip_dir_path)\n",
    "    print('=>Conversion Started')\n",
    "    # for idx,f in enumerate(files):\n",
    "    f = input('Filepath: ')\n",
    "    filename,ext = os.path.splitext(f)\n",
    "    # if ext != f'.{ip_format}': continue\n",
    "    command = f'ffmpeg -i {filename}.{ip_format} {filename}.{op_format}'\n",
    "    subprocess.call(command,shell=True)\n",
    "        # if idx != 0 and idx%5000==0:\n",
    "        #     print(f'=>Completed {idx} files')\n",
    "    print('=>Conversion Complete')"
   ]
  },
  {
   "cell_type": "code",
   "execution_count": 9,
   "metadata": {},
   "outputs": [
    {
     "name": "stdout",
     "output_type": "stream",
     "text": [
      "=>Conversion Started\n",
      "=>Conversion Complete\n"
     ]
    }
   ],
   "source": [
    "convertAudio(\"mp3\",\"wav\")"
   ]
  },
  {
   "cell_type": "code",
   "execution_count": 12,
   "metadata": {},
   "outputs": [],
   "source": [
    "import pandas as pd "
   ]
  },
  {
   "cell_type": "code",
   "execution_count": null,
   "metadata": {},
   "outputs": [],
   "source": [
    "pd.set_option('display.max_columns', None)  # or 1000\n",
    "pd.set_option('display.max_rows', None)  # or 1000\n",
    "pd.set_option('display.max_colwidth', None)  # or 199"
   ]
  },
  {
   "cell_type": "code",
   "execution_count": 20,
   "metadata": {},
   "outputs": [
    {
     "name": "stdout",
     "output_type": "stream",
     "text": [
      "4936704\n",
      "22050\n"
     ]
    }
   ],
   "source": [
    "wav, sr = librosa.load(\"D:\\Programming\\Projects\\major_project\\Codes\\ASR\\\\nepali_news1.wav\")\n",
    "print(len(wav))\n",
    "print(sr)"
   ]
  },
  {
   "cell_type": "markdown",
   "metadata": {},
   "source": [
    "Slow"
   ]
  },
  {
   "cell_type": "code",
   "execution_count": 14,
   "metadata": {},
   "outputs": [
    {
     "ename": "AttributeError",
     "evalue": "module 'librosa' has no attribute 'output'",
     "output_type": "error",
     "traceback": [
      "\u001b[1;31m---------------------------------------------------------------------------\u001b[0m",
      "\u001b[1;31mAttributeError\u001b[0m                            Traceback (most recent call last)",
      "\u001b[1;32md:\\Programming\\Projects\\major_project\\Codes\\ASR\\notebooks\\volume_test.ipynb Cell 20\u001b[0m in \u001b[0;36m<cell line: 2>\u001b[1;34m()\u001b[0m\n\u001b[0;32m      <a href='vscode-notebook-cell:/d%3A/Programming/Projects/major_project/Codes/ASR/notebooks/volume_test.ipynb#X16sZmlsZQ%3D%3D?line=0'>1</a>\u001b[0m sr \u001b[39m=\u001b[39m \u001b[39mint\u001b[39m(sr\u001b[39m/\u001b[39m\u001b[39m2\u001b[39m)\n\u001b[1;32m----> <a href='vscode-notebook-cell:/d%3A/Programming/Projects/major_project/Codes/ASR/notebooks/volume_test.ipynb#X16sZmlsZQ%3D%3D?line=1'>2</a>\u001b[0m librosa\u001b[39m.\u001b[39;49moutput\u001b[39m.\u001b[39mwrite_wav(\u001b[39m'\u001b[39m\u001b[39mslow_sound.wav\u001b[39m\u001b[39m'\u001b[39m, wav, sr)\n",
      "\u001b[1;31mAttributeError\u001b[0m: module 'librosa' has no attribute 'output'"
     ]
    }
   ],
   "source": [
    "sr = int(sr/2)\n",
    "librosa.output.write_wav('slow_sound.wav', wav, sr)"
   ]
  },
  {
   "cell_type": "code",
   "execution_count": 16,
   "metadata": {},
   "outputs": [],
   "source": [
    "import soundfile as sf "
   ]
  },
  {
   "cell_type": "code",
   "execution_count": 21,
   "metadata": {},
   "outputs": [
    {
     "data": {
      "text/plain": [
       "11025"
      ]
     },
     "execution_count": 21,
     "metadata": {},
     "output_type": "execute_result"
    }
   ],
   "source": [
    "sr = int(sr/2) \n",
    "sr"
   ]
  },
  {
   "cell_type": "code",
   "execution_count": 22,
   "metadata": {},
   "outputs": [],
   "source": [
    "# sr = int(sr/2)\n",
    "sf.write('slow_sound.wav', wav, 16000,'PCM_24')\n"
   ]
  },
  {
   "cell_type": "code",
   "execution_count": null,
   "metadata": {},
   "outputs": [],
   "source": []
  }
 ],
 "metadata": {
  "kernelspec": {
   "display_name": "Python 3.8.5 ('.aivenv')",
   "language": "python",
   "name": "python3"
  },
  "language_info": {
   "codemirror_mode": {
    "name": "ipython",
    "version": 3
   },
   "file_extension": ".py",
   "mimetype": "text/x-python",
   "name": "python",
   "nbconvert_exporter": "python",
   "pygments_lexer": "ipython3",
   "version": "3.8.5"
  },
  "orig_nbformat": 4,
  "vscode": {
   "interpreter": {
    "hash": "a6aa66c812e617fe7a976665f04a60359ca2a7b0fa520cb928d0804dda4cd71e"
   }
  }
 },
 "nbformat": 4,
 "nbformat_minor": 2
}
