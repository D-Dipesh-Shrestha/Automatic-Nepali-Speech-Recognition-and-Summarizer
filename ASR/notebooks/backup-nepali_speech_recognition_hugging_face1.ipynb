{
  "cells": [
    {
      "cell_type": "code",
      "source": [
        "from google.colab import drive \n",
        "drive.mount('/content/gdrive')"
      ],
      "metadata": {
        "colab": {
          "base_uri": "https://localhost:8080/"
        },
        "id": "162a2Nu96kuu",
        "outputId": "6efca3d6-3e77-45c9-a678-430b451f7b9d"
      },
      "id": "162a2Nu96kuu",
      "execution_count": null,
      "outputs": [
        {
          "output_type": "stream",
          "name": "stdout",
          "text": [
            "Mounted at /content/gdrive\n"
          ]
        }
      ]
    },
    {
      "cell_type": "code",
      "source": [
        "%cd /content/gdrive/MyDrive/ASR/ASR"
      ],
      "metadata": {
        "colab": {
          "base_uri": "https://localhost:8080/"
        },
        "id": "hQebUJ_-6_iD",
        "outputId": "e5a04e5a-8511-4385-b12b-c7c0d8d7fa34"
      },
      "id": "hQebUJ_-6_iD",
      "execution_count": null,
      "outputs": [
        {
          "output_type": "stream",
          "name": "stdout",
          "text": [
            "/content/gdrive/MyDrive/ASR/ASR\n"
          ]
        }
      ]
    },
    {
      "cell_type": "code",
      "execution_count": null,
      "id": "9bd99a3a",
      "metadata": {
        "execution": {
          "iopub.execute_input": "2022-08-29T03:47:31.799336Z",
          "iopub.status.busy": "2022-08-29T03:47:31.798756Z",
          "iopub.status.idle": "2022-08-29T03:48:33.995210Z",
          "shell.execute_reply": "2022-08-29T03:48:33.994007Z"
        },
        "papermill": {
          "duration": 62.211964,
          "end_time": "2022-08-29T03:48:33.997946",
          "exception": false,
          "start_time": "2022-08-29T03:47:31.785982",
          "status": "completed"
        },
        "tags": [],
        "colab": {
          "base_uri": "https://localhost:8080/"
        },
        "id": "9bd99a3a",
        "outputId": "9613199f-20bf-4a3a-9b5a-31515468c258"
      },
      "outputs": [
        {
          "output_type": "stream",
          "name": "stdout",
          "text": [
            "Looking in indexes: https://pypi.org/simple, https://us-python.pkg.dev/colab-wheels/public/simple/\n",
            "Collecting datasets\n",
            "  Downloading datasets-2.6.1-py3-none-any.whl (441 kB)\n",
            "\u001b[K     |████████████████████████████████| 441 kB 5.0 MB/s \n",
            "\u001b[?25hRequirement already satisfied: aiohttp in /usr/local/lib/python3.7/dist-packages (from datasets) (3.8.3)\n",
            "Requirement already satisfied: fsspec[http]>=2021.11.1 in /usr/local/lib/python3.7/dist-packages (from datasets) (2022.8.2)\n",
            "Collecting responses<0.19\n",
            "  Downloading responses-0.18.0-py3-none-any.whl (38 kB)\n",
            "Requirement already satisfied: pyyaml>=5.1 in /usr/local/lib/python3.7/dist-packages (from datasets) (6.0)\n",
            "Requirement already satisfied: tqdm>=4.62.1 in /usr/local/lib/python3.7/dist-packages (from datasets) (4.64.1)\n",
            "Collecting huggingface-hub<1.0.0,>=0.2.0\n",
            "  Downloading huggingface_hub-0.10.1-py3-none-any.whl (163 kB)\n",
            "\u001b[K     |████████████████████████████████| 163 kB 72.1 MB/s \n",
            "\u001b[?25hRequirement already satisfied: importlib-metadata in /usr/local/lib/python3.7/dist-packages (from datasets) (5.0.0)\n",
            "Requirement already satisfied: requests>=2.19.0 in /usr/local/lib/python3.7/dist-packages (from datasets) (2.23.0)\n",
            "Requirement already satisfied: pandas in /usr/local/lib/python3.7/dist-packages (from datasets) (1.3.5)\n",
            "Requirement already satisfied: numpy>=1.17 in /usr/local/lib/python3.7/dist-packages (from datasets) (1.21.6)\n",
            "Collecting multiprocess\n",
            "  Downloading multiprocess-0.70.13-py37-none-any.whl (115 kB)\n",
            "\u001b[K     |████████████████████████████████| 115 kB 46.3 MB/s \n",
            "\u001b[?25hRequirement already satisfied: packaging in /usr/local/lib/python3.7/dist-packages (from datasets) (21.3)\n",
            "Requirement already satisfied: dill<0.3.6 in /usr/local/lib/python3.7/dist-packages (from datasets) (0.3.5.1)\n",
            "Requirement already satisfied: pyarrow>=6.0.0 in /usr/local/lib/python3.7/dist-packages (from datasets) (6.0.1)\n",
            "Collecting xxhash\n",
            "  Downloading xxhash-3.0.0-cp37-cp37m-manylinux_2_17_x86_64.manylinux2014_x86_64.whl (212 kB)\n",
            "\u001b[K     |████████████████████████████████| 212 kB 54.5 MB/s \n",
            "\u001b[?25hRequirement already satisfied: multidict<7.0,>=4.5 in /usr/local/lib/python3.7/dist-packages (from aiohttp->datasets) (6.0.2)\n",
            "Requirement already satisfied: frozenlist>=1.1.1 in /usr/local/lib/python3.7/dist-packages (from aiohttp->datasets) (1.3.1)\n",
            "Requirement already satisfied: aiosignal>=1.1.2 in /usr/local/lib/python3.7/dist-packages (from aiohttp->datasets) (1.2.0)\n",
            "Requirement already satisfied: yarl<2.0,>=1.0 in /usr/local/lib/python3.7/dist-packages (from aiohttp->datasets) (1.8.1)\n",
            "Requirement already satisfied: typing-extensions>=3.7.4 in /usr/local/lib/python3.7/dist-packages (from aiohttp->datasets) (4.1.1)\n",
            "Requirement already satisfied: charset-normalizer<3.0,>=2.0 in /usr/local/lib/python3.7/dist-packages (from aiohttp->datasets) (2.1.1)\n",
            "Requirement already satisfied: attrs>=17.3.0 in /usr/local/lib/python3.7/dist-packages (from aiohttp->datasets) (22.1.0)\n",
            "Requirement already satisfied: asynctest==0.13.0 in /usr/local/lib/python3.7/dist-packages (from aiohttp->datasets) (0.13.0)\n",
            "Requirement already satisfied: async-timeout<5.0,>=4.0.0a3 in /usr/local/lib/python3.7/dist-packages (from aiohttp->datasets) (4.0.2)\n",
            "Requirement already satisfied: filelock in /usr/local/lib/python3.7/dist-packages (from huggingface-hub<1.0.0,>=0.2.0->datasets) (3.8.0)\n",
            "Requirement already satisfied: pyparsing!=3.0.5,>=2.0.2 in /usr/local/lib/python3.7/dist-packages (from packaging->datasets) (3.0.9)\n",
            "Requirement already satisfied: chardet<4,>=3.0.2 in /usr/local/lib/python3.7/dist-packages (from requests>=2.19.0->datasets) (3.0.4)\n",
            "Requirement already satisfied: certifi>=2017.4.17 in /usr/local/lib/python3.7/dist-packages (from requests>=2.19.0->datasets) (2022.9.24)\n",
            "Requirement already satisfied: idna<3,>=2.5 in /usr/local/lib/python3.7/dist-packages (from requests>=2.19.0->datasets) (2.10)\n",
            "Requirement already satisfied: urllib3!=1.25.0,!=1.25.1,<1.26,>=1.21.1 in /usr/local/lib/python3.7/dist-packages (from requests>=2.19.0->datasets) (1.24.3)\n",
            "Collecting urllib3!=1.25.0,!=1.25.1,<1.26,>=1.21.1\n",
            "  Downloading urllib3-1.25.11-py2.py3-none-any.whl (127 kB)\n",
            "\u001b[K     |████████████████████████████████| 127 kB 53.7 MB/s \n",
            "\u001b[?25hRequirement already satisfied: zipp>=0.5 in /usr/local/lib/python3.7/dist-packages (from importlib-metadata->datasets) (3.9.0)\n",
            "Requirement already satisfied: pytz>=2017.3 in /usr/local/lib/python3.7/dist-packages (from pandas->datasets) (2022.4)\n",
            "Requirement already satisfied: python-dateutil>=2.7.3 in /usr/local/lib/python3.7/dist-packages (from pandas->datasets) (2.8.2)\n",
            "Requirement already satisfied: six>=1.5 in /usr/local/lib/python3.7/dist-packages (from python-dateutil>=2.7.3->pandas->datasets) (1.15.0)\n",
            "Installing collected packages: urllib3, xxhash, responses, multiprocess, huggingface-hub, datasets\n",
            "  Attempting uninstall: urllib3\n",
            "    Found existing installation: urllib3 1.24.3\n",
            "    Uninstalling urllib3-1.24.3:\n",
            "      Successfully uninstalled urllib3-1.24.3\n",
            "Successfully installed datasets-2.6.1 huggingface-hub-0.10.1 multiprocess-0.70.13 responses-0.18.0 urllib3-1.25.11 xxhash-3.0.0\n",
            "Looking in indexes: https://pypi.org/simple, https://us-python.pkg.dev/colab-wheels/public/simple/\n",
            "Collecting transformers\n",
            "  Downloading transformers-4.23.1-py3-none-any.whl (5.3 MB)\n",
            "\u001b[K     |████████████████████████████████| 5.3 MB 5.2 MB/s \n",
            "\u001b[?25hRequirement already satisfied: regex!=2019.12.17 in /usr/local/lib/python3.7/dist-packages (from transformers) (2022.6.2)\n",
            "Requirement already satisfied: huggingface-hub<1.0,>=0.10.0 in /usr/local/lib/python3.7/dist-packages (from transformers) (0.10.1)\n",
            "Requirement already satisfied: filelock in /usr/local/lib/python3.7/dist-packages (from transformers) (3.8.0)\n",
            "Requirement already satisfied: pyyaml>=5.1 in /usr/local/lib/python3.7/dist-packages (from transformers) (6.0)\n",
            "Requirement already satisfied: requests in /usr/local/lib/python3.7/dist-packages (from transformers) (2.23.0)\n",
            "Requirement already satisfied: tqdm>=4.27 in /usr/local/lib/python3.7/dist-packages (from transformers) (4.64.1)\n",
            "Requirement already satisfied: numpy>=1.17 in /usr/local/lib/python3.7/dist-packages (from transformers) (1.21.6)\n",
            "Collecting tokenizers!=0.11.3,<0.14,>=0.11.1\n",
            "  Downloading tokenizers-0.13.1-cp37-cp37m-manylinux_2_17_x86_64.manylinux2014_x86_64.whl (7.6 MB)\n",
            "\u001b[K     |████████████████████████████████| 7.6 MB 42.7 MB/s \n",
            "\u001b[?25hRequirement already satisfied: packaging>=20.0 in /usr/local/lib/python3.7/dist-packages (from transformers) (21.3)\n",
            "Requirement already satisfied: importlib-metadata in /usr/local/lib/python3.7/dist-packages (from transformers) (5.0.0)\n",
            "Requirement already satisfied: typing-extensions>=3.7.4.3 in /usr/local/lib/python3.7/dist-packages (from huggingface-hub<1.0,>=0.10.0->transformers) (4.1.1)\n",
            "Requirement already satisfied: pyparsing!=3.0.5,>=2.0.2 in /usr/local/lib/python3.7/dist-packages (from packaging>=20.0->transformers) (3.0.9)\n",
            "Requirement already satisfied: zipp>=0.5 in /usr/local/lib/python3.7/dist-packages (from importlib-metadata->transformers) (3.9.0)\n",
            "Requirement already satisfied: chardet<4,>=3.0.2 in /usr/local/lib/python3.7/dist-packages (from requests->transformers) (3.0.4)\n",
            "Requirement already satisfied: urllib3!=1.25.0,!=1.25.1,<1.26,>=1.21.1 in /usr/local/lib/python3.7/dist-packages (from requests->transformers) (1.25.11)\n",
            "Requirement already satisfied: idna<3,>=2.5 in /usr/local/lib/python3.7/dist-packages (from requests->transformers) (2.10)\n",
            "Requirement already satisfied: certifi>=2017.4.17 in /usr/local/lib/python3.7/dist-packages (from requests->transformers) (2022.9.24)\n",
            "Installing collected packages: tokenizers, transformers\n",
            "Successfully installed tokenizers-0.13.1 transformers-4.23.1\n",
            "Looking in indexes: https://pypi.org/simple, https://us-python.pkg.dev/colab-wheels/public/simple/\n",
            "Requirement already satisfied: torchaudio in /usr/local/lib/python3.7/dist-packages (0.12.1+cu113)\n",
            "Requirement already satisfied: torch==1.12.1 in /usr/local/lib/python3.7/dist-packages (from torchaudio) (1.12.1+cu113)\n",
            "Requirement already satisfied: typing-extensions in /usr/local/lib/python3.7/dist-packages (from torch==1.12.1->torchaudio) (4.1.1)\n",
            "Looking in indexes: https://pypi.org/simple, https://us-python.pkg.dev/colab-wheels/public/simple/\n",
            "Requirement already satisfied: librosa in /usr/local/lib/python3.7/dist-packages (0.8.1)\n",
            "Requirement already satisfied: decorator>=3.0.0 in /usr/local/lib/python3.7/dist-packages (from librosa) (4.4.2)\n",
            "Requirement already satisfied: soundfile>=0.10.2 in /usr/local/lib/python3.7/dist-packages (from librosa) (0.11.0)\n",
            "Requirement already satisfied: scipy>=1.0.0 in /usr/local/lib/python3.7/dist-packages (from librosa) (1.7.3)\n",
            "Requirement already satisfied: numpy>=1.15.0 in /usr/local/lib/python3.7/dist-packages (from librosa) (1.21.6)\n",
            "Requirement already satisfied: resampy>=0.2.2 in /usr/local/lib/python3.7/dist-packages (from librosa) (0.4.2)\n",
            "Requirement already satisfied: packaging>=20.0 in /usr/local/lib/python3.7/dist-packages (from librosa) (21.3)\n",
            "Requirement already satisfied: scikit-learn!=0.19.0,>=0.14.0 in /usr/local/lib/python3.7/dist-packages (from librosa) (1.0.2)\n",
            "Requirement already satisfied: joblib>=0.14 in /usr/local/lib/python3.7/dist-packages (from librosa) (1.2.0)\n",
            "Requirement already satisfied: numba>=0.43.0 in /usr/local/lib/python3.7/dist-packages (from librosa) (0.56.2)\n",
            "Requirement already satisfied: audioread>=2.0.0 in /usr/local/lib/python3.7/dist-packages (from librosa) (3.0.0)\n",
            "Requirement already satisfied: pooch>=1.0 in /usr/local/lib/python3.7/dist-packages (from librosa) (1.6.0)\n",
            "Requirement already satisfied: setuptools<60 in /usr/local/lib/python3.7/dist-packages (from numba>=0.43.0->librosa) (57.4.0)\n",
            "Requirement already satisfied: llvmlite<0.40,>=0.39.0dev0 in /usr/local/lib/python3.7/dist-packages (from numba>=0.43.0->librosa) (0.39.1)\n",
            "Requirement already satisfied: importlib-metadata in /usr/local/lib/python3.7/dist-packages (from numba>=0.43.0->librosa) (5.0.0)\n",
            "Requirement already satisfied: pyparsing!=3.0.5,>=2.0.2 in /usr/local/lib/python3.7/dist-packages (from packaging>=20.0->librosa) (3.0.9)\n",
            "Requirement already satisfied: requests>=2.19.0 in /usr/local/lib/python3.7/dist-packages (from pooch>=1.0->librosa) (2.23.0)\n",
            "Requirement already satisfied: appdirs>=1.3.0 in /usr/local/lib/python3.7/dist-packages (from pooch>=1.0->librosa) (1.4.4)\n",
            "Requirement already satisfied: urllib3!=1.25.0,!=1.25.1,<1.26,>=1.21.1 in /usr/local/lib/python3.7/dist-packages (from requests>=2.19.0->pooch>=1.0->librosa) (1.25.11)\n",
            "Requirement already satisfied: chardet<4,>=3.0.2 in /usr/local/lib/python3.7/dist-packages (from requests>=2.19.0->pooch>=1.0->librosa) (3.0.4)\n",
            "Requirement already satisfied: certifi>=2017.4.17 in /usr/local/lib/python3.7/dist-packages (from requests>=2.19.0->pooch>=1.0->librosa) (2022.9.24)\n",
            "Requirement already satisfied: idna<3,>=2.5 in /usr/local/lib/python3.7/dist-packages (from requests>=2.19.0->pooch>=1.0->librosa) (2.10)\n",
            "Requirement already satisfied: threadpoolctl>=2.0.0 in /usr/local/lib/python3.7/dist-packages (from scikit-learn!=0.19.0,>=0.14.0->librosa) (3.1.0)\n",
            "Requirement already satisfied: cffi>=1.0 in /usr/local/lib/python3.7/dist-packages (from soundfile>=0.10.2->librosa) (1.15.1)\n",
            "Requirement already satisfied: pycparser in /usr/local/lib/python3.7/dist-packages (from cffi>=1.0->soundfile>=0.10.2->librosa) (2.21)\n",
            "Requirement already satisfied: typing-extensions>=3.6.4 in /usr/local/lib/python3.7/dist-packages (from importlib-metadata->numba>=0.43.0->librosa) (4.1.1)\n",
            "Requirement already satisfied: zipp>=0.5 in /usr/local/lib/python3.7/dist-packages (from importlib-metadata->numba>=0.43.0->librosa) (3.9.0)\n",
            "Looking in indexes: https://pypi.org/simple, https://us-python.pkg.dev/colab-wheels/public/simple/\n",
            "Collecting jiwer\n",
            "  Downloading jiwer-2.5.1-py3-none-any.whl (15 kB)\n",
            "Collecting levenshtein==0.20.2\n",
            "  Downloading Levenshtein-0.20.2-cp37-cp37m-manylinux_2_17_x86_64.manylinux2014_x86_64.whl (1.4 MB)\n",
            "\u001b[K     |████████████████████████████████| 1.4 MB 5.2 MB/s \n",
            "\u001b[?25hCollecting rapidfuzz<3.0.0,>=2.3.0\n",
            "  Downloading rapidfuzz-2.11.1-cp37-cp37m-manylinux_2_17_x86_64.manylinux2014_x86_64.whl (2.2 MB)\n",
            "\u001b[K     |████████████████████████████████| 2.2 MB 50.8 MB/s \n",
            "\u001b[?25hInstalling collected packages: rapidfuzz, levenshtein, jiwer\n",
            "Successfully installed jiwer-2.5.1 levenshtein-0.20.2 rapidfuzz-2.11.1\n",
            "Looking in indexes: https://pypi.org/simple, https://us-python.pkg.dev/colab-wheels/public/simple/\n",
            "Collecting wandb\n",
            "  Downloading wandb-0.13.4-py2.py3-none-any.whl (1.9 MB)\n",
            "\u001b[K     |████████████████████████████████| 1.9 MB 5.2 MB/s \n",
            "\u001b[?25hRequirement already satisfied: PyYAML in /usr/local/lib/python3.7/dist-packages (from wandb) (6.0)\n",
            "Requirement already satisfied: protobuf!=4.0.*,!=4.21.0,<5,>=3.12.0 in /usr/local/lib/python3.7/dist-packages (from wandb) (3.17.3)\n",
            "Requirement already satisfied: psutil>=5.0.0 in /usr/local/lib/python3.7/dist-packages (from wandb) (5.4.8)\n",
            "Requirement already satisfied: requests<3,>=2.0.0 in /usr/local/lib/python3.7/dist-packages (from wandb) (2.23.0)\n",
            "Collecting GitPython>=1.0.0\n",
            "  Downloading GitPython-3.1.29-py3-none-any.whl (182 kB)\n",
            "\u001b[K     |████████████████████████████████| 182 kB 60.4 MB/s \n",
            "\u001b[?25hCollecting sentry-sdk>=1.0.0\n",
            "  Downloading sentry_sdk-1.9.10-py2.py3-none-any.whl (162 kB)\n",
            "\u001b[K     |████████████████████████████████| 162 kB 40.9 MB/s \n",
            "\u001b[?25hRequirement already satisfied: six>=1.13.0 in /usr/local/lib/python3.7/dist-packages (from wandb) (1.15.0)\n",
            "Collecting setproctitle\n",
            "  Downloading setproctitle-1.3.2-cp37-cp37m-manylinux_2_5_x86_64.manylinux1_x86_64.manylinux_2_17_x86_64.manylinux2014_x86_64.whl (30 kB)\n",
            "Collecting shortuuid>=0.5.0\n",
            "  Downloading shortuuid-1.0.9-py3-none-any.whl (9.4 kB)\n",
            "Collecting docker-pycreds>=0.4.0\n",
            "  Downloading docker_pycreds-0.4.0-py2.py3-none-any.whl (9.0 kB)\n",
            "Requirement already satisfied: promise<3,>=2.0 in /usr/local/lib/python3.7/dist-packages (from wandb) (2.3)\n",
            "Collecting pathtools\n",
            "  Downloading pathtools-0.1.2.tar.gz (11 kB)\n",
            "Requirement already satisfied: Click!=8.0.0,>=7.0 in /usr/local/lib/python3.7/dist-packages (from wandb) (7.1.2)\n",
            "Requirement already satisfied: setuptools in /usr/local/lib/python3.7/dist-packages (from wandb) (57.4.0)\n",
            "Requirement already satisfied: typing-extensions>=3.7.4.3 in /usr/local/lib/python3.7/dist-packages (from GitPython>=1.0.0->wandb) (4.1.1)\n",
            "Collecting gitdb<5,>=4.0.1\n",
            "  Downloading gitdb-4.0.9-py3-none-any.whl (63 kB)\n",
            "\u001b[K     |████████████████████████████████| 63 kB 1.7 MB/s \n",
            "\u001b[?25hCollecting smmap<6,>=3.0.1\n",
            "  Downloading smmap-5.0.0-py3-none-any.whl (24 kB)\n",
            "Requirement already satisfied: certifi>=2017.4.17 in /usr/local/lib/python3.7/dist-packages (from requests<3,>=2.0.0->wandb) (2022.9.24)\n",
            "Requirement already satisfied: chardet<4,>=3.0.2 in /usr/local/lib/python3.7/dist-packages (from requests<3,>=2.0.0->wandb) (3.0.4)\n",
            "Requirement already satisfied: urllib3!=1.25.0,!=1.25.1,<1.26,>=1.21.1 in /usr/local/lib/python3.7/dist-packages (from requests<3,>=2.0.0->wandb) (1.25.11)\n",
            "Requirement already satisfied: idna<3,>=2.5 in /usr/local/lib/python3.7/dist-packages (from requests<3,>=2.0.0->wandb) (2.10)\n",
            "Collecting sentry-sdk>=1.0.0\n",
            "  Downloading sentry_sdk-1.9.9-py2.py3-none-any.whl (162 kB)\n",
            "\u001b[K     |████████████████████████████████| 162 kB 61.7 MB/s \n",
            "\u001b[?25h  Downloading sentry_sdk-1.9.8-py2.py3-none-any.whl (158 kB)\n",
            "\u001b[K     |████████████████████████████████| 158 kB 54.3 MB/s \n",
            "\u001b[?25h  Downloading sentry_sdk-1.9.7-py2.py3-none-any.whl (157 kB)\n",
            "\u001b[K     |████████████████████████████████| 157 kB 56.7 MB/s \n",
            "\u001b[?25h  Downloading sentry_sdk-1.9.6-py2.py3-none-any.whl (157 kB)\n",
            "\u001b[K     |████████████████████████████████| 157 kB 54.1 MB/s \n",
            "\u001b[?25h  Downloading sentry_sdk-1.9.5-py2.py3-none-any.whl (157 kB)\n",
            "\u001b[K     |████████████████████████████████| 157 kB 42.0 MB/s \n",
            "\u001b[?25h  Downloading sentry_sdk-1.9.4-py2.py3-none-any.whl (157 kB)\n",
            "\u001b[K     |████████████████████████████████| 157 kB 58.9 MB/s \n",
            "\u001b[?25h  Downloading sentry_sdk-1.9.3-py2.py3-none-any.whl (157 kB)\n",
            "\u001b[K     |████████████████████████████████| 157 kB 57.0 MB/s \n",
            "\u001b[?25h  Downloading sentry_sdk-1.9.2-py2.py3-none-any.whl (157 kB)\n",
            "\u001b[K     |████████████████████████████████| 157 kB 54.2 MB/s \n",
            "\u001b[?25h  Downloading sentry_sdk-1.9.1-py2.py3-none-any.whl (157 kB)\n",
            "\u001b[K     |████████████████████████████████| 157 kB 57.3 MB/s \n",
            "\u001b[?25h  Downloading sentry_sdk-1.9.0-py2.py3-none-any.whl (156 kB)\n",
            "\u001b[K     |████████████████████████████████| 156 kB 54.9 MB/s \n",
            "\u001b[?25hBuilding wheels for collected packages: pathtools\n",
            "  Building wheel for pathtools (setup.py) ... \u001b[?25l\u001b[?25hdone\n",
            "  Created wheel for pathtools: filename=pathtools-0.1.2-py3-none-any.whl size=8806 sha256=cb12acc230e3ba3f21521388819c00d77700eed8ae4ea5626dac3532a956e2be\n",
            "  Stored in directory: /root/.cache/pip/wheels/3e/31/09/fa59cef12cdcfecc627b3d24273699f390e71828921b2cbba2\n",
            "Successfully built pathtools\n",
            "Installing collected packages: smmap, gitdb, shortuuid, setproctitle, sentry-sdk, pathtools, GitPython, docker-pycreds, wandb\n",
            "Successfully installed GitPython-3.1.29 docker-pycreds-0.4.0 gitdb-4.0.9 pathtools-0.1.2 sentry-sdk-1.9.0 setproctitle-1.3.2 shortuuid-1.0.9 smmap-5.0.0 wandb-0.13.4\n"
          ]
        }
      ],
      "source": [
        "!pip install datasets\n",
        "!pip install transformers\n",
        "!pip install torchaudio\n",
        "!pip install librosa\n",
        "!pip install jiwer\n",
        "!pip install wandb"
      ]
    },
    {
      "cell_type": "code",
      "source": [
        "from datasets import Audio, ClassLabel, load_dataset, load_metric\n",
        "from IPython.display import display, HTML\n",
        "from sklearn.model_selection import train_test_split\n",
        "from torch._C import device\n",
        "from transformers import (\n",
        "    EarlyStoppingCallback,\n",
        "    Trainer,\n",
        "    TrainingArguments,\n",
        "    Wav2Vec2CTCTokenizer,\n",
        "    Wav2Vec2FeatureExtractor,\n",
        "    Wav2Vec2ForCTC,\n",
        "    Wav2Vec2Processor,\n",
        "    trainer_utils\n",
        ")"
      ],
      "metadata": {
        "id": "eoRi3YneXpdU"
      },
      "id": "eoRi3YneXpdU",
      "execution_count": null,
      "outputs": []
    },
    {
      "cell_type": "code",
      "execution_count": null,
      "id": "d8abc46d",
      "metadata": {
        "execution": {
          "iopub.execute_input": "2022-08-29T03:48:34.024244Z",
          "iopub.status.busy": "2022-08-29T03:48:34.023119Z",
          "iopub.status.idle": "2022-08-29T03:48:54.534629Z",
          "shell.execute_reply": "2022-08-29T03:48:54.533387Z"
        },
        "papermill": {
          "duration": 20.527985,
          "end_time": "2022-08-29T03:48:54.537208",
          "exception": false,
          "start_time": "2022-08-29T03:48:34.009223",
          "status": "completed"
        },
        "tags": [],
        "id": "d8abc46d"
      },
      "outputs": [],
      "source": [
        "import json\n",
        "import os\n",
        "from dataclasses import dataclass, field\n",
        "from typing import Any, Dict, List, Optional, Union\n",
        "\n",
        "import IPython.display as ipd\n",
        "import jiwer\n",
        "import librosa\n",
        "import numpy as np\n",
        "import pandas as pd\n",
        "import random\n",
        "import re\n",
        "import torch\n",
        "import torch.functional as F\n",
        "import torch.nn as nn\n",
        "import torch.optim as optim\n",
        "import torchaudio\n",
        "import wandb\n",
        "# from datasets import Audio, ClassLabel, load_dataset, load_metric\n",
        "# from IPython.display import display, HTML\n",
        "# from sklearn.model_selection import train_test_split\n",
        "# from torch._C import device\n",
        "# from torch.utils.data import Dataset\n",
        "# from transformers import (\n",
        "#     EarlyStoppingCallback,\n",
        "#     Trainer,\n",
        "#     TrainingArguments,\n",
        "#     Wav2Vec2CTCTokenizer,\n",
        "#     Wav2Vec2FeatureExtractor,\n",
        "#     Wav2Vec2ForCTC,\n",
        "#     Wav2Vec2Processor,\n",
        "#     trainer_utils\n",
        "# )"
      ]
    },
    {
      "cell_type": "code",
      "execution_count": null,
      "id": "3e01a502",
      "metadata": {
        "execution": {
          "iopub.execute_input": "2022-08-29T03:48:54.562278Z",
          "iopub.status.busy": "2022-08-29T03:48:54.560448Z",
          "iopub.status.idle": "2022-08-29T03:48:58.622280Z",
          "shell.execute_reply": "2022-08-29T03:48:58.621193Z"
        },
        "papermill": {
          "duration": 4.076129,
          "end_time": "2022-08-29T03:48:58.624590",
          "exception": false,
          "start_time": "2022-08-29T03:48:54.548461",
          "status": "completed"
        },
        "tags": [],
        "id": "3e01a502",
        "colab": {
          "base_uri": "https://localhost:8080/",
          "height": 194
        },
        "outputId": "486df1ed-a683-4032-e326-7598b1afd9b9"
      },
      "outputs": [
        {
          "output_type": "stream",
          "name": "stderr",
          "text": [
            "ERROR:wandb.jupyter:Failed to detect the name of this notebook, you can set it manually with the WANDB_NOTEBOOK_NAME environment variable to enable code saving.\n",
            "\u001b[34m\u001b[1mwandb\u001b[0m: W&B API key is configured. Use \u001b[1m`wandb login --relogin`\u001b[0m to force relogin\n",
            "\u001b[34m\u001b[1mwandb\u001b[0m: \u001b[33mWARNING\u001b[0m If you're specifying your api key in code, ensure this code is not shared publicly.\n",
            "\u001b[34m\u001b[1mwandb\u001b[0m: \u001b[33mWARNING\u001b[0m Consider setting the WANDB_API_KEY environment variable, or running `wandb login` from the command line.\n",
            "\u001b[34m\u001b[1mwandb\u001b[0m: Appending key for api.wandb.ai to your netrc file: /root/.netrc\n",
            "\u001b[34m\u001b[1mwandb\u001b[0m: Currently logged in as: \u001b[33manish_shilpakar\u001b[0m. Use \u001b[1m`wandb login --relogin`\u001b[0m to force relogin\n"
          ]
        },
        {
          "output_type": "display_data",
          "data": {
            "text/plain": [
              "<IPython.core.display.HTML object>"
            ],
            "text/html": [
              "Tracking run with wandb version 0.13.4"
            ]
          },
          "metadata": {}
        },
        {
          "output_type": "display_data",
          "data": {
            "text/plain": [
              "<IPython.core.display.HTML object>"
            ],
            "text/html": [
              "Run data is saved locally in <code>/content/wandb/run-20221015_064017-yy5ca2b7</code>"
            ]
          },
          "metadata": {}
        },
        {
          "output_type": "display_data",
          "data": {
            "text/plain": [
              "<IPython.core.display.HTML object>"
            ],
            "text/html": [
              "Syncing run <strong><a href=\"https://wandb.ai/anish_shilpakar/speech/runs/yy5ca2b7\" target=\"_blank\">earthy-microwave-2</a></strong> to <a href=\"https://wandb.ai/anish_shilpakar/speech\" target=\"_blank\">Weights & Biases</a> (<a href=\"https://wandb.me/run\" target=\"_blank\">docs</a>)<br/>"
            ]
          },
          "metadata": {}
        },
        {
          "output_type": "execute_result",
          "data": {
            "text/html": [
              "<button onClick=\"this.nextSibling.style.display='block';this.style.display='none';\">Display W&B run</button><iframe src=\"https://wandb.ai/anish_shilpakar/speech/runs/yy5ca2b7?jupyter=true\" style=\"border:none;width:100%;height:420px;display:none;\"></iframe>"
            ],
            "text/plain": [
              "<wandb.sdk.wandb_run.Run at 0x7fd80a3866d0>"
            ]
          },
          "metadata": {},
          "execution_count": 3
        }
      ],
      "source": [
        "wandb.login(key=\"f8309bfa7d3b1d6d877d79040b6d30b6dc26afcb\") # add wandb API key\n",
        "wandb.init(project=\"speech\")"
      ]
    },
    {
      "cell_type": "code",
      "execution_count": null,
      "id": "96e4ca70",
      "metadata": {
        "execution": {
          "iopub.execute_input": "2022-08-29T03:48:58.651288Z",
          "iopub.status.busy": "2022-08-29T03:48:58.650942Z",
          "iopub.status.idle": "2022-08-29T03:48:58.656577Z",
          "shell.execute_reply": "2022-08-29T03:48:58.655404Z"
        },
        "papermill": {
          "duration": 0.021809,
          "end_time": "2022-08-29T03:48:58.659193",
          "exception": false,
          "start_time": "2022-08-29T03:48:58.637384",
          "status": "completed"
        },
        "tags": [],
        "id": "96e4ca70"
      },
      "outputs": [],
      "source": [
        "import os\n",
        "\n",
        "# os.mkdir(\"/kaggle/working/ne_np_female/\")"
      ]
    },
    {
      "cell_type": "code",
      "source": [
        "# colnames = [\"path\", \"labels\"] \n",
        "# df_tsv = pd.read_csv('/content/gdrive/MyDrive/ASR/ASR/ne_np_female/transcript/line_index.tsv', sep = \"\\t\", header = None, names = colnames)\n",
        "# df_tsv.to_csv('/content/gdrive/MyDrive/ASR/ASR/ne_np_female/transcript/ne_np_female.csv', index=False)\n",
        "\n",
        "# df_openslr = pd.read_csv('/content/gdrive/MyDrive/ASR/ASR/data/transcript/dataset_v2.csv')\n",
        "# df_openslr = df_openslr[[\"filename\",\"text\"]]\n",
        "# df_openslr.head()\n",
        "# df_openslr.to_csv('/content/gdrive/MyDrive/ASR/ASR/data/transcript/dataset_v3.csv', index=False)"
      ],
      "metadata": {
        "id": "rNxsxtb59PKr"
      },
      "id": "rNxsxtb59PKr",
      "execution_count": null,
      "outputs": []
    },
    {
      "cell_type": "code",
      "execution_count": null,
      "id": "9ddef40e",
      "metadata": {
        "execution": {
          "iopub.execute_input": "2022-08-29T03:48:58.708996Z",
          "iopub.status.busy": "2022-08-29T03:48:58.708515Z",
          "iopub.status.idle": "2022-08-29T03:48:58.764306Z",
          "shell.execute_reply": "2022-08-29T03:48:58.763283Z"
        },
        "papermill": {
          "duration": 0.095872,
          "end_time": "2022-08-29T03:48:58.767048",
          "exception": false,
          "start_time": "2022-08-29T03:48:58.671176",
          "status": "completed"
        },
        "tags": [],
        "id": "9ddef40e",
        "colab": {
          "base_uri": "https://localhost:8080/",
          "height": 206
        },
        "outputId": "15d942d6-ad55-4ab2-8345-d509d9d087d9"
      },
      "outputs": [
        {
          "output_type": "execute_result",
          "data": {
            "text/plain": [
              "                                                path  \\\n",
              "0  /content/gdrive/MyDrive/ASR/ASR/data/audio/000...   \n",
              "1  /content/gdrive/MyDrive/ASR/ASR/data/audio/001...   \n",
              "2  /content/gdrive/MyDrive/ASR/ASR/data/audio/001...   \n",
              "3  /content/gdrive/MyDrive/ASR/ASR/data/audio/001...   \n",
              "4  /content/gdrive/MyDrive/ASR/ASR/data/audio/001...   \n",
              "\n",
              "                           labels  \n",
              "0          विकास क्षेत्र लुम्बिनी  \n",
              "1          मुताविक चित्रहरूको बैध  \n",
              "2           त्यसैले शाब्दिक रूपमा  \n",
              "3     दृष्टिकोणले किराँती विशेषता  \n",
              "4  नेपालको साहित्यिक कार्यक्रमबाट  "
            ],
            "text/html": [
              "\n",
              "  <div id=\"df-43c83820-b002-4a45-9587-4c34c1d27a7f\">\n",
              "    <div class=\"colab-df-container\">\n",
              "      <div>\n",
              "<style scoped>\n",
              "    .dataframe tbody tr th:only-of-type {\n",
              "        vertical-align: middle;\n",
              "    }\n",
              "\n",
              "    .dataframe tbody tr th {\n",
              "        vertical-align: top;\n",
              "    }\n",
              "\n",
              "    .dataframe thead th {\n",
              "        text-align: right;\n",
              "    }\n",
              "</style>\n",
              "<table border=\"1\" class=\"dataframe\">\n",
              "  <thead>\n",
              "    <tr style=\"text-align: right;\">\n",
              "      <th></th>\n",
              "      <th>path</th>\n",
              "      <th>labels</th>\n",
              "    </tr>\n",
              "  </thead>\n",
              "  <tbody>\n",
              "    <tr>\n",
              "      <th>0</th>\n",
              "      <td>/content/gdrive/MyDrive/ASR/ASR/data/audio/000...</td>\n",
              "      <td>विकास क्षेत्र लुम्बिनी</td>\n",
              "    </tr>\n",
              "    <tr>\n",
              "      <th>1</th>\n",
              "      <td>/content/gdrive/MyDrive/ASR/ASR/data/audio/001...</td>\n",
              "      <td>मुताविक चित्रहरूको बैध</td>\n",
              "    </tr>\n",
              "    <tr>\n",
              "      <th>2</th>\n",
              "      <td>/content/gdrive/MyDrive/ASR/ASR/data/audio/001...</td>\n",
              "      <td>त्यसैले शाब्दिक रूपमा</td>\n",
              "    </tr>\n",
              "    <tr>\n",
              "      <th>3</th>\n",
              "      <td>/content/gdrive/MyDrive/ASR/ASR/data/audio/001...</td>\n",
              "      <td>दृष्टिकोणले किराँती विशेषता</td>\n",
              "    </tr>\n",
              "    <tr>\n",
              "      <th>4</th>\n",
              "      <td>/content/gdrive/MyDrive/ASR/ASR/data/audio/001...</td>\n",
              "      <td>नेपालको साहित्यिक कार्यक्रमबाट</td>\n",
              "    </tr>\n",
              "  </tbody>\n",
              "</table>\n",
              "</div>\n",
              "      <button class=\"colab-df-convert\" onclick=\"convertToInteractive('df-43c83820-b002-4a45-9587-4c34c1d27a7f')\"\n",
              "              title=\"Convert this dataframe to an interactive table.\"\n",
              "              style=\"display:none;\">\n",
              "        \n",
              "  <svg xmlns=\"http://www.w3.org/2000/svg\" height=\"24px\"viewBox=\"0 0 24 24\"\n",
              "       width=\"24px\">\n",
              "    <path d=\"M0 0h24v24H0V0z\" fill=\"none\"/>\n",
              "    <path d=\"M18.56 5.44l.94 2.06.94-2.06 2.06-.94-2.06-.94-.94-2.06-.94 2.06-2.06.94zm-11 1L8.5 8.5l.94-2.06 2.06-.94-2.06-.94L8.5 2.5l-.94 2.06-2.06.94zm10 10l.94 2.06.94-2.06 2.06-.94-2.06-.94-.94-2.06-.94 2.06-2.06.94z\"/><path d=\"M17.41 7.96l-1.37-1.37c-.4-.4-.92-.59-1.43-.59-.52 0-1.04.2-1.43.59L10.3 9.45l-7.72 7.72c-.78.78-.78 2.05 0 2.83L4 21.41c.39.39.9.59 1.41.59.51 0 1.02-.2 1.41-.59l7.78-7.78 2.81-2.81c.8-.78.8-2.07 0-2.86zM5.41 20L4 18.59l7.72-7.72 1.47 1.35L5.41 20z\"/>\n",
              "  </svg>\n",
              "      </button>\n",
              "      \n",
              "  <style>\n",
              "    .colab-df-container {\n",
              "      display:flex;\n",
              "      flex-wrap:wrap;\n",
              "      gap: 12px;\n",
              "    }\n",
              "\n",
              "    .colab-df-convert {\n",
              "      background-color: #E8F0FE;\n",
              "      border: none;\n",
              "      border-radius: 50%;\n",
              "      cursor: pointer;\n",
              "      display: none;\n",
              "      fill: #1967D2;\n",
              "      height: 32px;\n",
              "      padding: 0 0 0 0;\n",
              "      width: 32px;\n",
              "    }\n",
              "\n",
              "    .colab-df-convert:hover {\n",
              "      background-color: #E2EBFA;\n",
              "      box-shadow: 0px 1px 2px rgba(60, 64, 67, 0.3), 0px 1px 3px 1px rgba(60, 64, 67, 0.15);\n",
              "      fill: #174EA6;\n",
              "    }\n",
              "\n",
              "    [theme=dark] .colab-df-convert {\n",
              "      background-color: #3B4455;\n",
              "      fill: #D2E3FC;\n",
              "    }\n",
              "\n",
              "    [theme=dark] .colab-df-convert:hover {\n",
              "      background-color: #434B5C;\n",
              "      box-shadow: 0px 1px 3px 1px rgba(0, 0, 0, 0.15);\n",
              "      filter: drop-shadow(0px 1px 2px rgba(0, 0, 0, 0.3));\n",
              "      fill: #FFFFFF;\n",
              "    }\n",
              "  </style>\n",
              "\n",
              "      <script>\n",
              "        const buttonEl =\n",
              "          document.querySelector('#df-43c83820-b002-4a45-9587-4c34c1d27a7f button.colab-df-convert');\n",
              "        buttonEl.style.display =\n",
              "          google.colab.kernel.accessAllowed ? 'block' : 'none';\n",
              "\n",
              "        async function convertToInteractive(key) {\n",
              "          const element = document.querySelector('#df-43c83820-b002-4a45-9587-4c34c1d27a7f');\n",
              "          const dataTable =\n",
              "            await google.colab.kernel.invokeFunction('convertToInteractive',\n",
              "                                                     [key], {});\n",
              "          if (!dataTable) return;\n",
              "\n",
              "          const docLinkHtml = 'Like what you see? Visit the ' +\n",
              "            '<a target=\"_blank\" href=https://colab.research.google.com/notebooks/data_table.ipynb>data table notebook</a>'\n",
              "            + ' to learn more about interactive tables.';\n",
              "          element.innerHTML = '';\n",
              "          dataTable['output_type'] = 'display_data';\n",
              "          await google.colab.output.renderOutput(dataTable, element);\n",
              "          const docLink = document.createElement('div');\n",
              "          docLink.innerHTML = docLinkHtml;\n",
              "          element.appendChild(docLink);\n",
              "        }\n",
              "      </script>\n",
              "    </div>\n",
              "  </div>\n",
              "  "
            ]
          },
          "metadata": {},
          "execution_count": 7
        }
      ],
      "source": [
        "colnames = [\"path\", \"labels\"] \n",
        "transcript_path_ne_np = '/content/gdrive/MyDrive/ASR/ASR/ne_np_female/transcript/ne_np_female.csv'\n",
        "audio_path_ne_np = '/content/gdrive/MyDrive/ASR/ASR/ne_np_female/audio/'\n",
        "transcript_path_openslr = '/content/gdrive/MyDrive/ASR/ASR/data/transcript/dataset_v4_15k.csv'\n",
        "audio_path_openslr = '/content/gdrive/MyDrive/ASR/ASR/data/audio/'\n",
        "# df = pd.read_csv(transcript_path_ne_np)\n",
        "df = pd.read_csv(transcript_path_openslr, usecols=[\"filename\",\"text\"])\n",
        "df.rename(columns={\"filename\": \"path\",\"text\":'labels'}, inplace=True)\n",
        "df[\"path\"] = audio_path_openslr + df[\"path\"] + \".flac\"\n",
        "# df[\"path\"] = audio_path_ne_np + df[\"path\"] + \".wav\"\n",
        "df.head()"
      ]
    },
    {
      "cell_type": "code",
      "source": [
        "TEST_RATIO = 0.90 \n",
        "VAL_RATIO = 0.70"
      ],
      "metadata": {
        "id": "N5h3eBYdyfXs"
      },
      "id": "N5h3eBYdyfXs",
      "execution_count": null,
      "outputs": []
    },
    {
      "cell_type": "code",
      "execution_count": null,
      "id": "cc55e95a",
      "metadata": {
        "execution": {
          "iopub.execute_input": "2022-08-29T03:48:58.793342Z",
          "iopub.status.busy": "2022-08-29T03:48:58.792270Z",
          "iopub.status.idle": "2022-08-29T03:48:58.802704Z",
          "shell.execute_reply": "2022-08-29T03:48:58.801811Z"
        },
        "papermill": {
          "duration": 0.025091,
          "end_time": "2022-08-29T03:48:58.804677",
          "exception": false,
          "start_time": "2022-08-29T03:48:58.779586",
          "status": "completed"
        },
        "tags": [],
        "id": "cc55e95a"
      },
      "outputs": [],
      "source": [
        "train_df, test_df = train_test_split(df, random_state = 0, train_size = TEST_RATIO)\n",
        "train_df, val_df = train_test_split(df, random_state = 0, train_size = VAL_RATIO)"
      ]
    },
    {
      "cell_type": "code",
      "source": [
        "%cd /content/gdrive/MyDrive/ASR/ASR"
      ],
      "metadata": {
        "id": "DtkxMBaTA_kW",
        "colab": {
          "base_uri": "https://localhost:8080/"
        },
        "outputId": "4ee88eec-348c-4dfe-f683-8efe871207b9"
      },
      "id": "DtkxMBaTA_kW",
      "execution_count": null,
      "outputs": [
        {
          "output_type": "stream",
          "name": "stdout",
          "text": [
            "/content/gdrive/MyDrive/ASR/ASR\n"
          ]
        }
      ]
    },
    {
      "cell_type": "code",
      "execution_count": null,
      "id": "e89f0013",
      "metadata": {
        "execution": {
          "iopub.execute_input": "2022-08-29T03:48:58.881679Z",
          "iopub.status.busy": "2022-08-29T03:48:58.881343Z",
          "iopub.status.idle": "2022-08-29T03:48:58.904080Z",
          "shell.execute_reply": "2022-08-29T03:48:58.903131Z"
        },
        "papermill": {
          "duration": 0.037982,
          "end_time": "2022-08-29T03:48:58.906432",
          "exception": false,
          "start_time": "2022-08-29T03:48:58.868450",
          "status": "completed"
        },
        "tags": [],
        "id": "e89f0013"
      },
      "outputs": [],
      "source": [
        "train_df.to_csv(\"/content/gdrive/MyDrive/ASR/ASR/data/wav2vec_transcript/train_15k.csv\", index = False)\n",
        "val_df.to_csv(\"/content/gdrive/MyDrive/ASR/ASR/data/wav2vec_transcript/val_15k.csv\", index = False)\n",
        "test_df.to_csv(\"/content/gdrive/MyDrive/ASR/ASR/data/wav2vec_transcript/test_15k.csv\", index = False)"
      ]
    },
    {
      "cell_type": "code",
      "execution_count": null,
      "id": "4cfdfd43",
      "metadata": {
        "execution": {
          "iopub.execute_input": "2022-08-29T03:48:58.931442Z",
          "iopub.status.busy": "2022-08-29T03:48:58.931120Z",
          "iopub.status.idle": "2022-08-29T03:48:58.936860Z",
          "shell.execute_reply": "2022-08-29T03:48:58.935741Z"
        },
        "papermill": {
          "duration": 0.020665,
          "end_time": "2022-08-29T03:48:58.938997",
          "exception": false,
          "start_time": "2022-08-29T03:48:58.918332",
          "status": "completed"
        },
        "tags": [],
        "id": "4cfdfd43"
      },
      "outputs": [],
      "source": [
        "data_files = {\n",
        "    \"train\": \"train_15k.csv\",\n",
        "    \"validation\": \"val_15k.csv\",\n",
        "    \"test\": \"test_15k.csv\"\n",
        "}"
      ]
    },
    {
      "cell_type": "code",
      "execution_count": null,
      "id": "ad5539a4",
      "metadata": {
        "execution": {
          "iopub.execute_input": "2022-08-29T03:48:58.964633Z",
          "iopub.status.busy": "2022-08-29T03:48:58.963715Z",
          "iopub.status.idle": "2022-08-29T03:48:59.296006Z",
          "shell.execute_reply": "2022-08-29T03:48:59.294882Z"
        },
        "papermill": {
          "duration": 0.347487,
          "end_time": "2022-08-29T03:48:59.298696",
          "exception": false,
          "start_time": "2022-08-29T03:48:58.951209",
          "status": "completed"
        },
        "tags": [],
        "id": "ad5539a4",
        "colab": {
          "base_uri": "https://localhost:8080/",
          "height": 188,
          "referenced_widgets": [
            "1804941f19ad4b6ba6e7f632ab0901dd",
            "2e9c7e6f38e04f9fbbe73b4befc2db4c",
            "397dbd6b24404d30bb78cdc06e347e76",
            "003581e4051648548879936c9939f460",
            "c002a8b63aba4f5dbb406cbdce060660",
            "dafd13a19a1643e5b9c38bd80a5c079d",
            "6c0afb3e2e90410f99f23e426ee5257c",
            "33fd79e6239e40a38b664f8497027628",
            "8a4d2c71f00a4490bb03a3c93baaab58",
            "da5daa8611c749e4ac40141a9de59a80",
            "e7031294971b47bf8d1aef29848ca9f1",
            "546e90df51cb424c8c2383d2de7c1a19",
            "41ff250ae2b249f4b8f102ebaa6b1978",
            "62180120ee88408d8f2ac7e09d12ffd8",
            "239b3f73c9b140bf92e3c5d460abd739",
            "89fc8543887b4bbc90a9eac37c381d7c",
            "e1b588fecc0c46f386391fd8923b88d6",
            "fe18d847ca734c1c85c69e4a242186a4",
            "8a24027158a94031b687fbd5877a734f",
            "ba4c185bb4a84b049831e640054c32e3",
            "668f062a5ca44479a6c7489ba7c80f6f",
            "4a2d52adb3114b22b0c0800b2eb98e1c",
            "2f844a942eb04b758a22660366055fee",
            "121387ceb66b48b2822b0108e7c5f3e9",
            "9d3cd1f6f1a14b98a6407dbf3731ea0b",
            "d8a416d7a5554c229651580011a32645",
            "1c3240b8d8474c5887249928196e0adb",
            "e91ce2239c9c4b41b73cfc7934ff6173",
            "1fd4ff86f2e241b1b6e54d75727a9a65",
            "504e377a354a4db29566dc30b88792c7",
            "3769ca085d8449c7981964a068ca4843",
            "d38b4a49c7bb408eb7f88a1cbf0bd604",
            "308c4feaecf246148d75b65711f0f48e",
            "50041fd7b9234acdbbc1cca468e14269",
            "b78604c04ecf498ea0de430615271c2d",
            "ebea07039ed9401e8df58c70d23a3b42",
            "e28d30b5ce444e09973a58ebd90aa8cc",
            "ed79ec80d82d469fb2c5befbe731ede3",
            "c424ede7090e4be1889387c3bec1b4c5",
            "8ddf729d7e214e3390889a1ee17954af",
            "694449ecdbfc4ad99fa80b820eaeafbc",
            "2f184ce26bf04352a115b0e7fdb1f1ba",
            "6537579feda8487194f1466ff738117f",
            "cd8bee704caa45698e6ac848e7f9efdb",
            "e56a3a58b0784e8daf2ee1c18fe3c88d",
            "cd8284ebef3a47818c96613f4d531495",
            "21abccf6322d48719dde852506e3fa78",
            "2ec9b21de0404edfb6cfde8f10dc8fe5",
            "6b2c462133dd41d8a35f26b52e8f5842",
            "66aa762b034f4d70833341cfcda15129",
            "cbcd60e73bc14acdaa3ccbaeec080828",
            "d63e3a1780c842938278194a5bfd3a73",
            "7db39cf9b448498d885eaf173dba7796",
            "d12c10319cba46b3bf5b40bcfdae6fca",
            "a4c18ea673024d9d8c0d9bf361e1850e"
          ]
        },
        "outputId": "2903f1e9-71ea-4e78-c94a-7e1ac8f2cf4e"
      },
      "outputs": [
        {
          "output_type": "stream",
          "name": "stderr",
          "text": [
            "WARNING:datasets.builder:Using custom data configuration wav2vec_transcript-7828dd98864db319\n"
          ]
        },
        {
          "output_type": "stream",
          "name": "stdout",
          "text": [
            "Downloading and preparing dataset csv/wav2vec_transcript to /root/.cache/huggingface/datasets/csv/wav2vec_transcript-7828dd98864db319/0.0.0/6b34fb8fcf56f7c8ba51dc895bfa2bfbe43546f190a60fcf74bb5e8afdcc2317...\n"
          ]
        },
        {
          "output_type": "display_data",
          "data": {
            "text/plain": [
              "Downloading data files:   0%|          | 0/3 [00:00<?, ?it/s]"
            ],
            "application/vnd.jupyter.widget-view+json": {
              "version_major": 2,
              "version_minor": 0,
              "model_id": "1804941f19ad4b6ba6e7f632ab0901dd"
            }
          },
          "metadata": {}
        },
        {
          "output_type": "display_data",
          "data": {
            "text/plain": [
              "Extracting data files:   0%|          | 0/3 [00:00<?, ?it/s]"
            ],
            "application/vnd.jupyter.widget-view+json": {
              "version_major": 2,
              "version_minor": 0,
              "model_id": "546e90df51cb424c8c2383d2de7c1a19"
            }
          },
          "metadata": {}
        },
        {
          "output_type": "display_data",
          "data": {
            "text/plain": [
              "0 tables [00:00, ? tables/s]"
            ],
            "application/vnd.jupyter.widget-view+json": {
              "version_major": 2,
              "version_minor": 0,
              "model_id": "2f844a942eb04b758a22660366055fee"
            }
          },
          "metadata": {}
        },
        {
          "output_type": "display_data",
          "data": {
            "text/plain": [
              "0 tables [00:00, ? tables/s]"
            ],
            "application/vnd.jupyter.widget-view+json": {
              "version_major": 2,
              "version_minor": 0,
              "model_id": "50041fd7b9234acdbbc1cca468e14269"
            }
          },
          "metadata": {}
        },
        {
          "output_type": "display_data",
          "data": {
            "text/plain": [
              "0 tables [00:00, ? tables/s]"
            ],
            "application/vnd.jupyter.widget-view+json": {
              "version_major": 2,
              "version_minor": 0,
              "model_id": "e56a3a58b0784e8daf2ee1c18fe3c88d"
            }
          },
          "metadata": {}
        },
        {
          "output_type": "stream",
          "name": "stderr",
          "text": [
            "WARNING:datasets.builder:Using custom data configuration wav2vec_transcript-7828dd98864db319\n",
            "WARNING:datasets.builder:Found cached dataset csv (/root/.cache/huggingface/datasets/csv/wav2vec_transcript-7828dd98864db319/0.0.0/6b34fb8fcf56f7c8ba51dc895bfa2bfbe43546f190a60fcf74bb5e8afdcc2317)\n"
          ]
        },
        {
          "output_type": "stream",
          "name": "stdout",
          "text": [
            "Dataset csv downloaded and prepared to /root/.cache/huggingface/datasets/csv/wav2vec_transcript-7828dd98864db319/0.0.0/6b34fb8fcf56f7c8ba51dc895bfa2bfbe43546f190a60fcf74bb5e8afdcc2317. Subsequent calls will reuse this data.\n"
          ]
        }
      ],
      "source": [
        "train_data = load_dataset(\"/content/gdrive/MyDrive/ASR/ASR/data/wav2vec_transcript\", data_files = data_files, split = \"train\")\n",
        "val_data = load_dataset(\"/content/gdrive/MyDrive/ASR/ASR/data/wav2vec_transcript\", data_files = data_files, split = \"validation\")"
      ]
    },
    {
      "cell_type": "code",
      "execution_count": null,
      "id": "f35fdf6c",
      "metadata": {
        "execution": {
          "iopub.execute_input": "2022-08-29T03:48:59.328272Z",
          "iopub.status.busy": "2022-08-29T03:48:59.327936Z",
          "iopub.status.idle": "2022-08-29T03:48:59.336829Z",
          "shell.execute_reply": "2022-08-29T03:48:59.335861Z"
        },
        "papermill": {
          "duration": 0.028542,
          "end_time": "2022-08-29T03:48:59.340074",
          "exception": false,
          "start_time": "2022-08-29T03:48:59.311532",
          "status": "completed"
        },
        "tags": [],
        "id": "f35fdf6c"
      },
      "outputs": [],
      "source": [
        "def show_random_elements(dataset, num_examples = 10):\n",
        "    assert num_examples <=  len(dataset), \"Can't pick more elements than there are in the dataset.\"\n",
        "    picks = []\n",
        "    for _ in range(num_examples):\n",
        "        pick = random.randint(0, len(dataset)-1)\n",
        "        while pick in picks:\n",
        "            pick = random.randint(0, len(dataset)-1)\n",
        "        picks.append(pick)\n",
        "    \n",
        "    df = pd.DataFrame(dataset[picks])\n",
        "    display(HTML(df.to_html()))"
      ]
    },
    {
      "cell_type": "code",
      "execution_count": null,
      "id": "acfe9ab7",
      "metadata": {
        "execution": {
          "iopub.execute_input": "2022-08-29T03:48:59.369722Z",
          "iopub.status.busy": "2022-08-29T03:48:59.368780Z",
          "iopub.status.idle": "2022-08-29T03:48:59.385322Z",
          "shell.execute_reply": "2022-08-29T03:48:59.384226Z"
        },
        "papermill": {
          "duration": 0.032443,
          "end_time": "2022-08-29T03:48:59.387629",
          "exception": false,
          "start_time": "2022-08-29T03:48:59.355186",
          "status": "completed"
        },
        "tags": [],
        "id": "acfe9ab7",
        "colab": {
          "base_uri": "https://localhost:8080/",
          "height": 676
        },
        "outputId": "f37d5e35-ce55-432e-b087-6dd64feff0ad"
      },
      "outputs": [
        {
          "output_type": "display_data",
          "data": {
            "text/plain": [
              "<IPython.core.display.HTML object>"
            ],
            "text/html": [
              "<table border=\"1\" class=\"dataframe\">\n",
              "  <thead>\n",
              "    <tr style=\"text-align: right;\">\n",
              "      <th></th>\n",
              "      <th>labels</th>\n",
              "    </tr>\n",
              "  </thead>\n",
              "  <tbody>\n",
              "    <tr>\n",
              "      <th>0</th>\n",
              "      <td>त्यसबेला मोहनविक्रमतिर लागे</td>\n",
              "    </tr>\n",
              "    <tr>\n",
              "      <th>1</th>\n",
              "      <td>काठमाडौँसम्म आउने गरेको</td>\n",
              "    </tr>\n",
              "    <tr>\n",
              "      <th>2</th>\n",
              "      <td>आधारमा शेर्पाको मौलिक भाषा</td>\n",
              "    </tr>\n",
              "    <tr>\n",
              "      <th>3</th>\n",
              "      <td>अमरसिंहको राजनीतिक पार्टी</td>\n",
              "    </tr>\n",
              "    <tr>\n",
              "      <th>4</th>\n",
              "      <td>ठेकुवा र चामलबाट निर्मित</td>\n",
              "    </tr>\n",
              "    <tr>\n",
              "      <th>5</th>\n",
              "      <td>अधिकाशं खाम्पाहरूले</td>\n",
              "    </tr>\n",
              "    <tr>\n",
              "      <th>6</th>\n",
              "      <td>दुर्गापुर नेपालको सगरमाथा अञ्चलको सिरहा जिल्लाको एउटा गाउँ विकास समिति हो।</td>\n",
              "    </tr>\n",
              "    <tr>\n",
              "      <th>7</th>\n",
              "      <td>मानिस बहुसांस्कृतिक अस्ट्रेलियाको</td>\n",
              "    </tr>\n",
              "    <tr>\n",
              "      <th>8</th>\n",
              "      <td>सिद्धान्तअनुसार पैठारीमा</td>\n",
              "    </tr>\n",
              "    <tr>\n",
              "      <th>9</th>\n",
              "      <td>उपत्यकाबाट पूर्वतिर लागे</td>\n",
              "    </tr>\n",
              "    <tr>\n",
              "      <th>10</th>\n",
              "      <td>यसलाई कविताराम श्रेष्ठले</td>\n",
              "    </tr>\n",
              "    <tr>\n",
              "      <th>11</th>\n",
              "      <td>हामीले विद्युतीय सन्देशको</td>\n",
              "    </tr>\n",
              "    <tr>\n",
              "      <th>12</th>\n",
              "      <td>जबसम्म प्रमाण ल्याउँदैनौ</td>\n",
              "    </tr>\n",
              "    <tr>\n",
              "      <th>13</th>\n",
              "      <td>गणेशजी नमस्कार विशेष</td>\n",
              "    </tr>\n",
              "    <tr>\n",
              "      <th>14</th>\n",
              "      <td>अन्तरिक्ष औपनिवेशीकरण निर्माणमा</td>\n",
              "    </tr>\n",
              "    <tr>\n",
              "      <th>15</th>\n",
              "      <td>हवर्ड नै प्रधानमन्त्री थिए</td>\n",
              "    </tr>\n",
              "    <tr>\n",
              "      <th>16</th>\n",
              "      <td>आफ्नो निजी पुस्तकालय</td>\n",
              "    </tr>\n",
              "    <tr>\n",
              "      <th>17</th>\n",
              "      <td>बिन्ती चढाउँदा ब्रह्माजीको</td>\n",
              "    </tr>\n",
              "    <tr>\n",
              "      <th>18</th>\n",
              "      <td>मलाई यहींँ बस्न दिनोस्</td>\n",
              "    </tr>\n",
              "    <tr>\n",
              "      <th>19</th>\n",
              "      <td>तर्फबाट यहाँलाई नेपाली</td>\n",
              "    </tr>\n",
              "  </tbody>\n",
              "</table>"
            ]
          },
          "metadata": {}
        }
      ],
      "source": [
        "show_random_elements(train_data.remove_columns([\"path\"]), num_examples = 20)"
      ]
    },
    {
      "cell_type": "code",
      "execution_count": null,
      "id": "e8e40760",
      "metadata": {
        "execution": {
          "iopub.execute_input": "2022-08-29T03:48:59.415197Z",
          "iopub.status.busy": "2022-08-29T03:48:59.414266Z",
          "iopub.status.idle": "2022-08-29T03:48:59.421366Z",
          "shell.execute_reply": "2022-08-29T03:48:59.420413Z"
        },
        "papermill": {
          "duration": 0.022869,
          "end_time": "2022-08-29T03:48:59.423460",
          "exception": false,
          "start_time": "2022-08-29T03:48:59.400591",
          "status": "completed"
        },
        "tags": [],
        "id": "e8e40760"
      },
      "outputs": [],
      "source": [
        "chars_to_ignore = '[\\,\\?\\.\\!\\-\\;\\:\\\"\\“\\%\\‘\\”\\�]'\n",
        "\n",
        "def remove_special_characters(batch):\n",
        "    batch[\"labels\"] = re.sub(chars_to_ignore, '', batch[\"labels\"]).lower() + \" \"\n",
        "    return batch"
      ]
    },
    {
      "cell_type": "code",
      "execution_count": null,
      "id": "82288691",
      "metadata": {
        "execution": {
          "iopub.execute_input": "2022-08-29T03:48:59.451306Z",
          "iopub.status.busy": "2022-08-29T03:48:59.450332Z",
          "iopub.status.idle": "2022-08-29T03:48:59.710257Z",
          "shell.execute_reply": "2022-08-29T03:48:59.709299Z"
        },
        "papermill": {
          "duration": 0.275849,
          "end_time": "2022-08-29T03:48:59.712405",
          "exception": false,
          "start_time": "2022-08-29T03:48:59.436556",
          "status": "completed"
        },
        "tags": [],
        "id": "82288691",
        "colab": {
          "base_uri": "https://localhost:8080/",
          "height": 81,
          "referenced_widgets": [
            "b5828554283149b5bfa3fa2cd21c2936",
            "c1681d40f13c4fae8fbf0b34f884fa02",
            "45a7d987c5cc433884a5d2019034f503",
            "08f5e3f1fbb54af3bba0a4a441748aa2",
            "5230e0f0dc0649f5a7fc69ed3ea415c2",
            "51e26c29d97d4a8baea174dddd9f4a63",
            "0ed7264bf6df4dcab93e851ff549aa38",
            "eb5012d4aa7242e5b43e755fc6d1486d",
            "67d73fa7c5ee4c05895ea7eeb767a548",
            "a041de2d51b444128858915c5991eec9",
            "b31673855e154d49b7eb535b0cf65413",
            "090437d8cdde493086001685c2eb0b7e",
            "02c7f03fd0e3492dbbfb8a9382df5a8e",
            "24e5867ce63641cbb191cece714b1b6b",
            "7979805931964e7fa215b5f1153c4675",
            "e49a6687952d4d3e8eae0441195135de",
            "2af42d9d595c4c7dab4ef9b322174b90",
            "aee6fe8bcb3645fdb739b254d8861438",
            "91ee1ef2138c4d529bde2e19363eba8f",
            "7437cc501a564c85b279e99d85f4dec8",
            "77e7baebbfd8440fbd016cf01e549bbc",
            "563882cd90d54973841f55ae8f136065"
          ]
        },
        "outputId": "df5d9480-978e-4b29-b4ac-5a0afd95e2f0"
      },
      "outputs": [
        {
          "output_type": "display_data",
          "data": {
            "text/plain": [
              "  0%|          | 0/10655 [00:00<?, ?ex/s]"
            ],
            "application/vnd.jupyter.widget-view+json": {
              "version_major": 2,
              "version_minor": 0,
              "model_id": "b5828554283149b5bfa3fa2cd21c2936"
            }
          },
          "metadata": {}
        },
        {
          "output_type": "display_data",
          "data": {
            "text/plain": [
              "  0%|          | 0/4567 [00:00<?, ?ex/s]"
            ],
            "application/vnd.jupyter.widget-view+json": {
              "version_major": 2,
              "version_minor": 0,
              "model_id": "090437d8cdde493086001685c2eb0b7e"
            }
          },
          "metadata": {}
        }
      ],
      "source": [
        "train_data = train_data.map(remove_special_characters)\n",
        "val_data = val_data.map(remove_special_characters)"
      ]
    },
    {
      "cell_type": "code",
      "execution_count": null,
      "id": "2e32fdcf",
      "metadata": {
        "execution": {
          "iopub.execute_input": "2022-08-29T03:48:59.744510Z",
          "iopub.status.busy": "2022-08-29T03:48:59.744151Z",
          "iopub.status.idle": "2022-08-29T03:48:59.759860Z",
          "shell.execute_reply": "2022-08-29T03:48:59.758961Z"
        },
        "papermill": {
          "duration": 0.032014,
          "end_time": "2022-08-29T03:48:59.762028",
          "exception": false,
          "start_time": "2022-08-29T03:48:59.730014",
          "status": "completed"
        },
        "tags": [],
        "id": "2e32fdcf",
        "colab": {
          "base_uri": "https://localhost:8080/",
          "height": 363
        },
        "outputId": "b7f7e986-c502-47be-b852-f406132a0224"
      },
      "outputs": [
        {
          "output_type": "display_data",
          "data": {
            "text/plain": [
              "<IPython.core.display.HTML object>"
            ],
            "text/html": [
              "<table border=\"1\" class=\"dataframe\">\n",
              "  <thead>\n",
              "    <tr style=\"text-align: right;\">\n",
              "      <th></th>\n",
              "      <th>labels</th>\n",
              "    </tr>\n",
              "  </thead>\n",
              "  <tbody>\n",
              "    <tr>\n",
              "      <th>0</th>\n",
              "      <td>भएकाले चिकित्सकहरूले तिनै</td>\n",
              "    </tr>\n",
              "    <tr>\n",
              "      <th>1</th>\n",
              "      <td>क्षेत्रका स्थानीयवासीको उपचारमा</td>\n",
              "    </tr>\n",
              "    <tr>\n",
              "      <th>2</th>\n",
              "      <td>अङ्ग्रेजहरूले दार्जीलिङलाई नेपालबाट</td>\n",
              "    </tr>\n",
              "    <tr>\n",
              "      <th>3</th>\n",
              "      <td>जिष्णुगुप्तको थानकोट स्थित</td>\n",
              "    </tr>\n",
              "    <tr>\n",
              "      <th>4</th>\n",
              "      <td>गणेशजीको प्रतिमा टाँस्नुपर्छ</td>\n",
              "    </tr>\n",
              "    <tr>\n",
              "      <th>5</th>\n",
              "      <td>अहिले मानिसहरूको आयु</td>\n",
              "    </tr>\n",
              "    <tr>\n",
              "      <th>6</th>\n",
              "      <td>सम्म कैदीहरूलाई भेट्न</td>\n",
              "    </tr>\n",
              "    <tr>\n",
              "      <th>7</th>\n",
              "      <td>कृष्ण धरावासीद्वारा किच्चकबधको</td>\n",
              "    </tr>\n",
              "    <tr>\n",
              "      <th>8</th>\n",
              "      <td>केन्द्रीय तथा उत्तरपूर्वको</td>\n",
              "    </tr>\n",
              "    <tr>\n",
              "      <th>9</th>\n",
              "      <td>स्नातकोत्तर यिनले इलाहाबादको</td>\n",
              "    </tr>\n",
              "  </tbody>\n",
              "</table>"
            ]
          },
          "metadata": {}
        }
      ],
      "source": [
        "show_random_elements(train_data.remove_columns([\"path\"]))"
      ]
    },
    {
      "cell_type": "code",
      "execution_count": null,
      "id": "1aa3ebe9",
      "metadata": {
        "execution": {
          "iopub.execute_input": "2022-08-29T03:48:59.790047Z",
          "iopub.status.busy": "2022-08-29T03:48:59.789509Z",
          "iopub.status.idle": "2022-08-29T03:48:59.802959Z",
          "shell.execute_reply": "2022-08-29T03:48:59.802073Z"
        },
        "papermill": {
          "duration": 0.029847,
          "end_time": "2022-08-29T03:48:59.805101",
          "exception": false,
          "start_time": "2022-08-29T03:48:59.775254",
          "status": "completed"
        },
        "tags": [],
        "id": "1aa3ebe9"
      },
      "outputs": [],
      "source": [
        "vocab_path = '/content/gdrive/MyDrive/ASR/ASR/data/vocab.json'\n",
        "tokenizer = Wav2Vec2CTCTokenizer(\n",
        "    vocab_path, \n",
        "    unk_token = \"[UNK]\", \n",
        "    pad_token = \"[PAD]\", \n",
        "    word_delimiter_token = \"|\"\n",
        ")"
      ]
    },
    {
      "cell_type": "code",
      "execution_count": null,
      "id": "345dc945",
      "metadata": {
        "execution": {
          "iopub.execute_input": "2022-08-29T03:48:59.832791Z",
          "iopub.status.busy": "2022-08-29T03:48:59.832003Z",
          "iopub.status.idle": "2022-08-29T03:48:59.837958Z",
          "shell.execute_reply": "2022-08-29T03:48:59.836971Z"
        },
        "papermill": {
          "duration": 0.02184,
          "end_time": "2022-08-29T03:48:59.839906",
          "exception": false,
          "start_time": "2022-08-29T03:48:59.818066",
          "status": "completed"
        },
        "tags": [],
        "id": "345dc945"
      },
      "outputs": [],
      "source": [
        "feature_extractor = Wav2Vec2FeatureExtractor(\n",
        "    feature_size = 1, \n",
        "    sampling_rate = 16000, \n",
        "    padding_value = 0.0, \n",
        "    do_normalize = True, \n",
        "    return_attention_mask = True\n",
        ")"
      ]
    },
    {
      "cell_type": "code",
      "execution_count": null,
      "id": "ef8d4794",
      "metadata": {
        "execution": {
          "iopub.execute_input": "2022-08-29T03:48:59.876987Z",
          "iopub.status.busy": "2022-08-29T03:48:59.876399Z",
          "iopub.status.idle": "2022-08-29T03:48:59.882531Z",
          "shell.execute_reply": "2022-08-29T03:48:59.881485Z"
        },
        "papermill": {
          "duration": 0.034202,
          "end_time": "2022-08-29T03:48:59.887081",
          "exception": false,
          "start_time": "2022-08-29T03:48:59.852879",
          "status": "completed"
        },
        "tags": [],
        "id": "ef8d4794"
      },
      "outputs": [],
      "source": [
        "processor = Wav2Vec2Processor(\n",
        "    feature_extractor = feature_extractor, \n",
        "    tokenizer = tokenizer\n",
        ")"
      ]
    },
    {
      "cell_type": "code",
      "execution_count": null,
      "id": "85dde5ca",
      "metadata": {
        "execution": {
          "iopub.execute_input": "2022-08-29T03:48:59.915924Z",
          "iopub.status.busy": "2022-08-29T03:48:59.915509Z",
          "iopub.status.idle": "2022-08-29T03:48:59.923379Z",
          "shell.execute_reply": "2022-08-29T03:48:59.922406Z"
        },
        "papermill": {
          "duration": 0.025349,
          "end_time": "2022-08-29T03:48:59.927092",
          "exception": false,
          "start_time": "2022-08-29T03:48:59.901743",
          "status": "completed"
        },
        "tags": [],
        "id": "85dde5ca"
      },
      "outputs": [],
      "source": [
        "processor.save_pretrained(\"/content/gdrive/MyDrive/ASR/ASR/processor_15k\")"
      ]
    },
    {
      "cell_type": "code",
      "execution_count": null,
      "id": "f6212ea2",
      "metadata": {
        "execution": {
          "iopub.execute_input": "2022-08-29T03:48:59.958232Z",
          "iopub.status.busy": "2022-08-29T03:48:59.957863Z",
          "iopub.status.idle": "2022-08-29T03:48:59.965874Z",
          "shell.execute_reply": "2022-08-29T03:48:59.964870Z"
        },
        "papermill": {
          "duration": 0.028522,
          "end_time": "2022-08-29T03:48:59.971811",
          "exception": false,
          "start_time": "2022-08-29T03:48:59.943289",
          "status": "completed"
        },
        "tags": [],
        "id": "f6212ea2",
        "colab": {
          "base_uri": "https://localhost:8080/"
        },
        "outputId": "53e26e02-0780-48e1-85f8-c3169eeceb8c"
      },
      "outputs": [
        {
          "output_type": "execute_result",
          "data": {
            "text/plain": [
              "{'path': '/content/gdrive/MyDrive/ASR/ASR/data/audio/b0bd10f880.flac',\n",
              " 'labels': 'चितामा श्रीखण्ड चन्दनजस्तो '}"
            ]
          },
          "metadata": {},
          "execution_count": 23
        }
      ],
      "source": [
        "train_data[0]"
      ]
    },
    {
      "cell_type": "code",
      "execution_count": null,
      "id": "0de25b40",
      "metadata": {
        "execution": {
          "iopub.execute_input": "2022-08-29T03:49:00.001231Z",
          "iopub.status.busy": "2022-08-29T03:49:00.000665Z",
          "iopub.status.idle": "2022-08-29T03:49:00.008549Z",
          "shell.execute_reply": "2022-08-29T03:49:00.007652Z"
        },
        "papermill": {
          "duration": 0.024972,
          "end_time": "2022-08-29T03:49:00.011497",
          "exception": false,
          "start_time": "2022-08-29T03:48:59.986525",
          "status": "completed"
        },
        "tags": [],
        "id": "0de25b40",
        "colab": {
          "base_uri": "https://localhost:8080/"
        },
        "outputId": "786da87c-94c9-41b9-9964-ffbdb15e6e73"
      },
      "outputs": [
        {
          "output_type": "execute_result",
          "data": {
            "text/plain": [
              "Dataset({\n",
              "    features: ['path', 'labels'],\n",
              "    num_rows: 4567\n",
              "})"
            ]
          },
          "metadata": {},
          "execution_count": 24
        }
      ],
      "source": [
        "val_data"
      ]
    },
    {
      "cell_type": "code",
      "execution_count": null,
      "id": "de16fea1",
      "metadata": {
        "execution": {
          "iopub.execute_input": "2022-08-29T03:49:00.041937Z",
          "iopub.status.busy": "2022-08-29T03:49:00.041566Z",
          "iopub.status.idle": "2022-08-29T03:49:00.052080Z",
          "shell.execute_reply": "2022-08-29T03:49:00.049885Z"
        },
        "papermill": {
          "duration": 0.027859,
          "end_time": "2022-08-29T03:49:00.055336",
          "exception": false,
          "start_time": "2022-08-29T03:49:00.027477",
          "status": "completed"
        },
        "tags": [],
        "id": "de16fea1"
      },
      "outputs": [],
      "source": [
        "def speech_file_to_array_fn(batch):\n",
        "    speech_array, sampling_rate = torchaudio.load(batch[\"path\"])\n",
        "    batch[\"speech\"] = speech_array[0].numpy()\n",
        "    batch[\"sampling_rate\"] = sampling_rate\n",
        "    batch[\"target_text\"] = batch[\"labels\"]\n",
        "    \n",
        "    resampler = torchaudio.transforms.Resample(sampling_rate, 16000)\n",
        "    batch[\"speech\"] = resampler(speech_array).squeeze().numpy()\n",
        "    batch[\"sampling_rate\"] = 16000\n",
        "    \n",
        "    return batch"
      ]
    },
    {
      "cell_type": "code",
      "execution_count": null,
      "id": "0fb8415e",
      "metadata": {
        "execution": {
          "iopub.execute_input": "2022-08-29T03:49:00.085205Z",
          "iopub.status.busy": "2022-08-29T03:49:00.084756Z",
          "iopub.status.idle": "2022-08-29T03:50:23.510685Z",
          "shell.execute_reply": "2022-08-29T03:50:23.509726Z"
        },
        "papermill": {
          "duration": 83.443038,
          "end_time": "2022-08-29T03:50:23.513322",
          "exception": false,
          "start_time": "2022-08-29T03:49:00.070284",
          "status": "completed"
        },
        "tags": [],
        "id": "0fb8415e"
      },
      "outputs": [],
      "source": [
        "train_data = train_data.map(speech_file_to_array_fn, remove_columns=train_data.column_names)\n",
        "val_data = val_data.map(speech_file_to_array_fn, remove_columns=val_data.column_names)"
      ]
    },
    {
      "cell_type": "code",
      "execution_count": null,
      "id": "dcb2ccc4",
      "metadata": {
        "execution": {
          "iopub.execute_input": "2022-08-29T03:50:23.540988Z",
          "iopub.status.busy": "2022-08-29T03:50:23.540153Z",
          "iopub.status.idle": "2022-08-29T03:50:23.545350Z",
          "shell.execute_reply": "2022-08-29T03:50:23.544492Z"
        },
        "papermill": {
          "duration": 0.020806,
          "end_time": "2022-08-29T03:50:23.547310",
          "exception": false,
          "start_time": "2022-08-29T03:50:23.526504",
          "status": "completed"
        },
        "tags": [],
        "id": "dcb2ccc4"
      },
      "outputs": [],
      "source": [
        "# def resample(batch):\n",
        "#     batch[\"speech\"] = librosa.resample(np.asarray(batch[\"speech\"]), batch[\"sampling_rate\"], 16000)\n",
        "#     batch[\"sampling_rate\"] = 16000\n",
        "#     return batch"
      ]
    },
    {
      "cell_type": "code",
      "execution_count": null,
      "id": "d37683d5",
      "metadata": {
        "execution": {
          "iopub.execute_input": "2022-08-29T03:50:23.574478Z",
          "iopub.status.busy": "2022-08-29T03:50:23.574159Z",
          "iopub.status.idle": "2022-08-29T03:50:23.578589Z",
          "shell.execute_reply": "2022-08-29T03:50:23.577656Z"
        },
        "papermill": {
          "duration": 0.020172,
          "end_time": "2022-08-29T03:50:23.580557",
          "exception": false,
          "start_time": "2022-08-29T03:50:23.560385",
          "status": "completed"
        },
        "tags": [],
        "id": "d37683d5"
      },
      "outputs": [],
      "source": [
        "# train_data = train_data.map(resample, num_proc=4)\n",
        "# val_data = val_data.map(resample, num_proc=4)"
      ]
    },
    {
      "cell_type": "code",
      "execution_count": null,
      "id": "9f6cfc3d",
      "metadata": {
        "execution": {
          "iopub.execute_input": "2022-08-29T03:50:23.620584Z",
          "iopub.status.busy": "2022-08-29T03:50:23.620278Z",
          "iopub.status.idle": "2022-08-29T03:50:23.661304Z",
          "shell.execute_reply": "2022-08-29T03:50:23.660440Z"
        },
        "papermill": {
          "duration": 0.060694,
          "end_time": "2022-08-29T03:50:23.664086",
          "exception": false,
          "start_time": "2022-08-29T03:50:23.603392",
          "status": "completed"
        },
        "tags": [],
        "id": "9f6cfc3d",
        "outputId": "025855bd-4b35-495c-f18a-f998f9ab6cb1",
        "colab": {
          "base_uri": "https://localhost:8080/",
          "height": 75
        }
      },
      "outputs": [
        {
          "output_type": "execute_result",
          "data": {
            "text/plain": [
              "<IPython.lib.display.Audio object>"
            ],
            "text/html": [
              "\n",
              "                <audio  controls=\"controls\" autoplay=\"autoplay\">\n",
              "                    <source src=\"data:audio/wav;base64,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\" type=\"audio/wav\" />\n",
              "                    Your browser does not support the audio element.\n",
              "                </audio>\n",
              "              "
            ]
          },
          "metadata": {},
          "execution_count": 24
        }
      ],
      "source": [
        "rand_int = random.randint(0, len(train_data) - 1)\n",
        "ipd.Audio(data = np.asarray(\n",
        "    train_data[rand_int][\"speech\"]), \n",
        "    autoplay = True, \n",
        "    rate = 16000\n",
        ")"
      ]
    },
    {
      "cell_type": "code",
      "execution_count": null,
      "id": "e3f5319f",
      "metadata": {
        "execution": {
          "iopub.execute_input": "2022-08-29T03:50:23.695137Z",
          "iopub.status.busy": "2022-08-29T03:50:23.694572Z",
          "iopub.status.idle": "2022-08-29T03:50:23.735152Z",
          "shell.execute_reply": "2022-08-29T03:50:23.733885Z"
        },
        "papermill": {
          "duration": 0.058769,
          "end_time": "2022-08-29T03:50:23.737714",
          "exception": false,
          "start_time": "2022-08-29T03:50:23.678945",
          "status": "completed"
        },
        "tags": [],
        "id": "e3f5319f",
        "outputId": "25c301b5-d8c5-4e21-f25f-abc2441ccc19",
        "colab": {
          "base_uri": "https://localhost:8080/"
        }
      },
      "outputs": [
        {
          "output_type": "stream",
          "name": "stdout",
          "text": [
            "Target text: जापानी कलाकार युकियोए चित्रकार र प्रिन्टमेकर \n",
            "Input array shape: (68512,)\n",
            "Sampling rate: 16000\n"
          ]
        }
      ],
      "source": [
        "rand_int = random.randint(0, len(train_data) - 1)\n",
        "\n",
        "print(\"Target text:\", train_data[rand_int][\"target_text\"])\n",
        "print(\"Input array shape:\", np.asarray(train_data[rand_int][\"speech\"]).shape)\n",
        "print(\"Sampling rate:\", train_data[rand_int][\"sampling_rate\"])"
      ]
    },
    {
      "cell_type": "code",
      "execution_count": null,
      "id": "f0d534cc",
      "metadata": {
        "execution": {
          "iopub.execute_input": "2022-08-29T03:50:23.776199Z",
          "iopub.status.busy": "2022-08-29T03:50:23.775945Z",
          "iopub.status.idle": "2022-08-29T03:50:23.782341Z",
          "shell.execute_reply": "2022-08-29T03:50:23.781291Z"
        },
        "papermill": {
          "duration": 0.027516,
          "end_time": "2022-08-29T03:50:23.785191",
          "exception": false,
          "start_time": "2022-08-29T03:50:23.757675",
          "status": "completed"
        },
        "tags": [],
        "id": "f0d534cc"
      },
      "outputs": [],
      "source": [
        "def prepare_dataset(batch, processor):\n",
        "        \n",
        "    # check that all files have the correct sampling rate\n",
        "    assert (\n",
        "        len(set(batch[\"sampling_rate\"])) == 1\n",
        "    ), f\"Make sure all inputs have the same sampling rate of {processor.feature_extractor.sampling_rate}.\"\n",
        "\n",
        "    batch[\"input_values\"] = processor(batch[\"speech\"], sampling_rate = batch[\"sampling_rate\"][0]).input_values\n",
        "\n",
        "    with processor.as_target_processor():\n",
        "        batch[\"labels\"] = processor(batch[\"target_text\"]).input_ids\n",
        "    return batch"
      ]
    },
    {
      "cell_type": "code",
      "execution_count": null,
      "id": "a060498a",
      "metadata": {
        "execution": {
          "iopub.execute_input": "2022-08-29T03:50:23.818453Z",
          "iopub.status.busy": "2022-08-29T03:50:23.818174Z",
          "iopub.status.idle": "2022-08-29T03:51:37.703906Z",
          "shell.execute_reply": "2022-08-29T03:51:37.702563Z"
        },
        "papermill": {
          "duration": 73.903972,
          "end_time": "2022-08-29T03:51:37.706588",
          "exception": false,
          "start_time": "2022-08-29T03:50:23.802616",
          "status": "completed"
        },
        "tags": [],
        "id": "a060498a",
        "colab": {
          "base_uri": "https://localhost:8080/",
          "height": 935,
          "referenced_widgets": [
            "ebe7d9bfc4674785929569355be94399",
            "d42aba46f0724ede885f98320385c3e1",
            "c541041ed3e34dc8af31e3ef9b8fec25",
            "a6500ea265244ea48a22a13a9bdadeba",
            "4894959c67b24fb08e5227ee2448fbc3",
            "bcecedc85c8a4058b0513d3185fd4908",
            "d69b4d7c4ddf444c81780728492f031c",
            "ec0e3fb8d7e14cba8caed9b5ae75bc09",
            "7d238e1a65dc48d49e9b375c6a2e0b27",
            "d655ad27532c4d14a640d86a1b78fb99",
            "2c1e2985a0e34c4c8adc1479ee872313",
            "ed7368f3b417449a95f59f953041455a",
            "3ae3c1ee50d543fb88e0f3914304b728",
            "0746c84f2f9e4c86811baee4e18f2395",
            "dce9ea400e6549338c87e3f3600a4c37",
            "9eb358e121ab414ab919ff801e2cc059",
            "427b55f3f630446991891e2dd591302b",
            "f3121adf2b4044c0b8eab2d1c19744d8",
            "3977534326604d0c8ca9845ffa0ad827",
            "920a219b5d514386ab54138eb8e27f18",
            "5884e1685f664e0eb8166071f987da3d",
            "9dce080f70b84642abb2d478597e7aee",
            "e4ac9108eeb54be883e278196959c15c",
            "84f46168d1354ca6bc950915e6778742",
            "6d75769100b64508b9c8d0256c3aa003",
            "4d1870f936c54fb6bc2734ff29cad734",
            "6987436393d2440fa3b95eca543845f3",
            "4cce7ab11758497b94b4dd8c03fea3fc",
            "1e2089a5045c47a59680dcd99e98dde5",
            "d6aca6ea656c426a8216f00f0a670f15",
            "72a30e8cdb6944409010e21d8abf042c",
            "5bfaa7839adc4fcdaf043385a79461cd",
            "bda802a3fa7445b6be2a9d5b739c07e1",
            "6383a88a056f4487a6d67d492aeb0216",
            "862305d15c8c458892176da70ab6e4e5",
            "8be8098d192948bfb606fb0c68fceb9e",
            "d0a04db115f945e89f27df74ebe64654",
            "04ebc3797e684bac9108b12bf47c2217",
            "d717600cb91847aa9cb2bfa35f6fd0f2",
            "92afd52425cc4c27ab9fd361093a5688",
            "f180c5c424cf47a1a5ee204bfee62133",
            "213f13da18ab4df0814287d3b8ef1146",
            "ce1e21952f6f42db91c976babde0eea0",
            "94942b5cfb034b84b0f569590a633055",
            "93ba25485fcb4c88a14cc5eec87220b9",
            "760b9f53c70944c4b47a7a6fe99bd212",
            "a3bb87ebff3e4de1a01a7048fee3b94e",
            "673cf7fb92e54e63aa0496beccbaf2e5",
            "87486a9cbf08413e931b099b8b12cbcd",
            "8ba38985f90d415192aaf55d411b8c69",
            "8454041a61f24475bc5ae5210adabded",
            "a8beca699aa8435ea2bf1b49c65354ef",
            "59e92ffec72340c985843407d0a8924d",
            "b121a58c0b074f8f912c80f7ec455a95",
            "c0642ed07b5e432dbd11364607ba1d5a",
            "041085d60d8b4ac1931faa174fae4266",
            "8257834424d34c9ebfc4fb10e7fbed48",
            "cc1bb28217154840a5e34670bd97b95c",
            "4151987aaf5748a1bbda7bf120ca79bd",
            "5d6bebffdd454f6ebf465b4502423033",
            "5b31e142586b4a64a562697f22300330",
            "fe1ed47705e2476188d44774ac4adaba",
            "c241379d02674678a7e5c4a4c184b808",
            "24fc8147c7204c10944998d7d9f6e647",
            "08f24baa64574f1184055ff9806c0a51",
            "b892b11e6060425b9957603a463d37db",
            "b4f9799cdf224671a6cf99a2f8b6ea6f",
            "0dd386ff161342f295e541d641d773cc",
            "a4053738a9f24576954963f95043088c",
            "84ce9516d27a4c22b56b992e36d8a9b2",
            "cc336b3a8de84633b1c1fd833504a623",
            "62d39d9945ae41c49ecfb0f5fdc79d57",
            "9f974c8777ca4a068388d7c23bc3a2b2",
            "4855c436d2a0483995bcea951b2e638f",
            "1f899ecc8ea44a3ebe2dd394342116c4",
            "da491dca8abe4671b5b66321db1d9ca3",
            "5d2e944285c54a3d908fd7aff6c6801b",
            "6b3eb6cfbf3c4a67b1896db68bebd831",
            "7142aff72c0b405689dfeeabfc931406",
            "fbd4bf549ed94a91a0abe864001a723b",
            "b9d7b573521e49f0903f1640202605f5",
            "7adff1283b7649e7beb04cf97f88e2a5",
            "ddcdb52401a54a3c8b4556945bf281c6",
            "d9b351c5381e43e8b5c7699cdfb22a43",
            "4261e823be194307a773cce4472644d7",
            "91a6392b785047459181e23e10c84c46",
            "e911f16ad51d4159ab672bfd30d4f572",
            "7a6246da189d47e29311e3e32240e29d"
          ]
        },
        "outputId": "fe7e117a-c858-430a-e7ff-946ae74f3dcf"
      },
      "outputs": [
        {
          "output_type": "stream",
          "name": "stdout",
          "text": [
            "      "
          ]
        },
        {
          "output_type": "display_data",
          "data": {
            "text/plain": [
              "#0:   0%|          | 0/49 [00:00<?, ?ba/s]"
            ],
            "application/vnd.jupyter.widget-view+json": {
              "version_major": 2,
              "version_minor": 0,
              "model_id": "ebe7d9bfc4674785929569355be94399"
            }
          },
          "metadata": {}
        },
        {
          "output_type": "stream",
          "name": "stdout",
          "text": [
            " "
          ]
        },
        {
          "output_type": "display_data",
          "data": {
            "text/plain": [
              "#1:   0%|          | 0/49 [00:00<?, ?ba/s]"
            ],
            "application/vnd.jupyter.widget-view+json": {
              "version_major": 2,
              "version_minor": 0,
              "model_id": "ed7368f3b417449a95f59f953041455a"
            }
          },
          "metadata": {}
        },
        {
          "output_type": "stream",
          "name": "stdout",
          "text": [
            " "
          ]
        },
        {
          "output_type": "display_data",
          "data": {
            "text/plain": [
              "#3:   0%|          | 0/49 [00:00<?, ?ba/s]"
            ],
            "application/vnd.jupyter.widget-view+json": {
              "version_major": 2,
              "version_minor": 0,
              "model_id": "e4ac9108eeb54be883e278196959c15c"
            }
          },
          "metadata": {}
        },
        {
          "output_type": "display_data",
          "data": {
            "text/plain": [
              "#2:   0%|          | 0/49 [00:00<?, ?ba/s]"
            ],
            "application/vnd.jupyter.widget-view+json": {
              "version_major": 2,
              "version_minor": 0,
              "model_id": "6383a88a056f4487a6d67d492aeb0216"
            }
          },
          "metadata": {}
        },
        {
          "output_type": "stream",
          "name": "stderr",
          "text": [
            "/usr/local/lib/python3.7/dist-packages/transformers/feature_extraction_utils.py:162: VisibleDeprecationWarning: Creating an ndarray from ragged nested sequences (which is a list-or-tuple of lists-or-tuples-or ndarrays with different lengths or shapes) is deprecated. If you meant to do this, you must specify 'dtype=object' when creating the ndarray.\n",
            "  tensor = as_tensor(value)\n",
            "/usr/local/lib/python3.7/dist-packages/transformers/models/wav2vec2/processing_wav2vec2.py:155: UserWarning: `as_target_processor` is deprecated and will be removed in v5 of Transformers. You can process your labels by using the argument `text` of the regular `__call__` method (either in the same call as your audio inputs, or in a separate call.\n",
            "  \"`as_target_processor` is deprecated and will be removed in v5 of Transformers. You can process your \"\n",
            "/usr/local/lib/python3.7/dist-packages/transformers/feature_extraction_utils.py:162: VisibleDeprecationWarning: Creating an ndarray from ragged nested sequences (which is a list-or-tuple of lists-or-tuples-or ndarrays with different lengths or shapes) is deprecated. If you meant to do this, you must specify 'dtype=object' when creating the ndarray.\n",
            "  tensor = as_tensor(value)\n",
            "/usr/local/lib/python3.7/dist-packages/transformers/models/wav2vec2/processing_wav2vec2.py:155: UserWarning: `as_target_processor` is deprecated and will be removed in v5 of Transformers. You can process your labels by using the argument `text` of the regular `__call__` method (either in the same call as your audio inputs, or in a separate call.\n",
            "  \"`as_target_processor` is deprecated and will be removed in v5 of Transformers. You can process your \"\n",
            "/usr/local/lib/python3.7/dist-packages/transformers/feature_extraction_utils.py:162: VisibleDeprecationWarning: Creating an ndarray from ragged nested sequences (which is a list-or-tuple of lists-or-tuples-or ndarrays with different lengths or shapes) is deprecated. If you meant to do this, you must specify 'dtype=object' when creating the ndarray.\n",
            "  tensor = as_tensor(value)\n",
            "/usr/local/lib/python3.7/dist-packages/transformers/models/wav2vec2/processing_wav2vec2.py:155: UserWarning: `as_target_processor` is deprecated and will be removed in v5 of Transformers. You can process your labels by using the argument `text` of the regular `__call__` method (either in the same call as your audio inputs, or in a separate call.\n",
            "  \"`as_target_processor` is deprecated and will be removed in v5 of Transformers. You can process your \"\n",
            "/usr/local/lib/python3.7/dist-packages/transformers/feature_extraction_utils.py:162: VisibleDeprecationWarning: Creating an ndarray from ragged nested sequences (which is a list-or-tuple of lists-or-tuples-or ndarrays with different lengths or shapes) is deprecated. If you meant to do this, you must specify 'dtype=object' when creating the ndarray.\n",
            "  tensor = as_tensor(value)\n",
            "/usr/local/lib/python3.7/dist-packages/transformers/models/wav2vec2/processing_wav2vec2.py:155: UserWarning: `as_target_processor` is deprecated and will be removed in v5 of Transformers. You can process your labels by using the argument `text` of the regular `__call__` method (either in the same call as your audio inputs, or in a separate call.\n",
            "  \"`as_target_processor` is deprecated and will be removed in v5 of Transformers. You can process your \"\n"
          ]
        },
        {
          "output_type": "stream",
          "name": "stdout",
          "text": [
            "       "
          ]
        },
        {
          "output_type": "display_data",
          "data": {
            "text/plain": [
              "#0:   0%|          | 0/17 [00:00<?, ?ba/s]"
            ],
            "application/vnd.jupyter.widget-view+json": {
              "version_major": 2,
              "version_minor": 0,
              "model_id": "93ba25485fcb4c88a14cc5eec87220b9"
            }
          },
          "metadata": {}
        },
        {
          "output_type": "stream",
          "name": "stdout",
          "text": [
            " "
          ]
        },
        {
          "output_type": "display_data",
          "data": {
            "text/plain": [
              "#2:   0%|          | 0/17 [00:00<?, ?ba/s]"
            ],
            "application/vnd.jupyter.widget-view+json": {
              "version_major": 2,
              "version_minor": 0,
              "model_id": "041085d60d8b4ac1931faa174fae4266"
            }
          },
          "metadata": {}
        },
        {
          "output_type": "display_data",
          "data": {
            "text/plain": [
              "#1:   0%|          | 0/17 [00:00<?, ?ba/s]"
            ],
            "application/vnd.jupyter.widget-view+json": {
              "version_major": 2,
              "version_minor": 0,
              "model_id": "b4f9799cdf224671a6cf99a2f8b6ea6f"
            }
          },
          "metadata": {}
        },
        {
          "output_type": "display_data",
          "data": {
            "text/plain": [
              "#3:   0%|          | 0/17 [00:00<?, ?ba/s]"
            ],
            "application/vnd.jupyter.widget-view+json": {
              "version_major": 2,
              "version_minor": 0,
              "model_id": "6b3eb6cfbf3c4a67b1896db68bebd831"
            }
          },
          "metadata": {}
        },
        {
          "output_type": "stream",
          "name": "stderr",
          "text": [
            "/usr/local/lib/python3.7/dist-packages/transformers/feature_extraction_utils.py:162: VisibleDeprecationWarning: Creating an ndarray from ragged nested sequences (which is a list-or-tuple of lists-or-tuples-or ndarrays with different lengths or shapes) is deprecated. If you meant to do this, you must specify 'dtype=object' when creating the ndarray.\n",
            "  tensor = as_tensor(value)\n",
            "/usr/local/lib/python3.7/dist-packages/transformers/models/wav2vec2/processing_wav2vec2.py:155: UserWarning: `as_target_processor` is deprecated and will be removed in v5 of Transformers. You can process your labels by using the argument `text` of the regular `__call__` method (either in the same call as your audio inputs, or in a separate call.\n",
            "  \"`as_target_processor` is deprecated and will be removed in v5 of Transformers. You can process your \"\n",
            "/usr/local/lib/python3.7/dist-packages/transformers/feature_extraction_utils.py:162: VisibleDeprecationWarning: Creating an ndarray from ragged nested sequences (which is a list-or-tuple of lists-or-tuples-or ndarrays with different lengths or shapes) is deprecated. If you meant to do this, you must specify 'dtype=object' when creating the ndarray.\n",
            "  tensor = as_tensor(value)\n",
            "/usr/local/lib/python3.7/dist-packages/transformers/models/wav2vec2/processing_wav2vec2.py:155: UserWarning: `as_target_processor` is deprecated and will be removed in v5 of Transformers. You can process your labels by using the argument `text` of the regular `__call__` method (either in the same call as your audio inputs, or in a separate call.\n",
            "  \"`as_target_processor` is deprecated and will be removed in v5 of Transformers. You can process your \"\n",
            "/usr/local/lib/python3.7/dist-packages/transformers/feature_extraction_utils.py:162: VisibleDeprecationWarning: Creating an ndarray from ragged nested sequences (which is a list-or-tuple of lists-or-tuples-or ndarrays with different lengths or shapes) is deprecated. If you meant to do this, you must specify 'dtype=object' when creating the ndarray.\n",
            "  tensor = as_tensor(value)\n",
            "/usr/local/lib/python3.7/dist-packages/transformers/models/wav2vec2/processing_wav2vec2.py:155: UserWarning: `as_target_processor` is deprecated and will be removed in v5 of Transformers. You can process your labels by using the argument `text` of the regular `__call__` method (either in the same call as your audio inputs, or in a separate call.\n",
            "  \"`as_target_processor` is deprecated and will be removed in v5 of Transformers. You can process your \"\n",
            "/usr/local/lib/python3.7/dist-packages/transformers/feature_extraction_utils.py:162: VisibleDeprecationWarning: Creating an ndarray from ragged nested sequences (which is a list-or-tuple of lists-or-tuples-or ndarrays with different lengths or shapes) is deprecated. If you meant to do this, you must specify 'dtype=object' when creating the ndarray.\n",
            "  tensor = as_tensor(value)\n",
            "/usr/local/lib/python3.7/dist-packages/transformers/models/wav2vec2/processing_wav2vec2.py:155: UserWarning: `as_target_processor` is deprecated and will be removed in v5 of Transformers. You can process your labels by using the argument `text` of the regular `__call__` method (either in the same call as your audio inputs, or in a separate call.\n",
            "  \"`as_target_processor` is deprecated and will be removed in v5 of Transformers. You can process your \"\n"
          ]
        }
      ],
      "source": [
        "train_data = train_data.map(prepare_dataset, fn_kwargs = {\"processor\": processor}, remove_columns = train_data.column_names, batch_size = 8, num_proc = 4, batched = True)\n",
        "val_data = val_data.map(prepare_dataset, fn_kwargs = {\"processor\": processor}, remove_columns = val_data.column_names, batch_size = 8, num_proc = 4, batched = True)"
      ]
    },
    {
      "cell_type": "code",
      "execution_count": null,
      "id": "5f8e35bb",
      "metadata": {
        "execution": {
          "iopub.execute_input": "2022-08-29T03:51:37.747146Z",
          "iopub.status.busy": "2022-08-29T03:51:37.746832Z",
          "iopub.status.idle": "2022-08-29T03:51:37.759770Z",
          "shell.execute_reply": "2022-08-29T03:51:37.758596Z"
        },
        "papermill": {
          "duration": 0.034204,
          "end_time": "2022-08-29T03:51:37.762426",
          "exception": false,
          "start_time": "2022-08-29T03:51:37.728222",
          "status": "completed"
        },
        "tags": [],
        "id": "5f8e35bb"
      },
      "outputs": [],
      "source": [
        "@dataclass\n",
        "class DataCollatorCTCWithPadding:\n",
        "    \"\"\"\n",
        "    Data collator that will dynamically pad the inputs received.\n",
        "    Args:\n",
        "        processor (:class:`~transformers.Wav2Vec2Processor`)\n",
        "            The processor used for proccessing the data.\n",
        "        padding (:obj:`bool`, :obj:`str` or :class:`~transformers.tokenization_utils_base.PaddingStrategy`, `optional`, defaults to :obj:`True`):\n",
        "            Select a strategy to pad the returned sequences (according to the model's padding side and padding index)\n",
        "            among:\n",
        "            * :obj:`True` or :obj:`'longest'`: Pad to the longest sequence in the batch (or no padding if only a single\n",
        "              sequence if provided).\n",
        "            * :obj:`'max_length'`: Pad to a maximum length specified with the argument :obj:`max_length` or to the\n",
        "              maximum acceptable input length for the model if that argument is not provided.\n",
        "            * :obj:`False` or :obj:`'do_not_pad'` (default): No padding (i.e., can output a batch with sequences of\n",
        "              different lengths).\n",
        "        max_length (:obj:`int`, `optional`):\n",
        "            Maximum length of the ``input_values`` of the returned list and optionally padding length (see above).\n",
        "        max_length_labels (:obj:`int`, `optional`):\n",
        "            Maximum length of the ``labels`` returned list and optionally padding length (see above).\n",
        "        pad_to_multiple_of (:obj:`int`, `optional`):\n",
        "            If set will pad the sequence to a multiple of the provided value.\n",
        "            This is especially useful to enable the use of Tensor Cores on NVIDIA hardware with compute capability >=\n",
        "            7.5 (Volta).\n",
        "    \"\"\"\n",
        "\n",
        "    processor: Wav2Vec2Processor\n",
        "    padding: Union[bool, str] = True\n",
        "    max_length: Optional[int] = None\n",
        "    max_length_labels: Optional[int] = None\n",
        "    pad_to_multiple_of: Optional[int] = None\n",
        "    pad_to_multiple_of_labels: Optional[int] = None\n",
        "\n",
        "    def __call__(self, features: List[Dict[str, Union[List[int], torch.Tensor]]]) -> Dict[str, torch.Tensor]:\n",
        "        # split inputs and labels since they have to be of different lenghts and need\n",
        "        # different padding methods\n",
        "        input_features = [{\"input_values\": feature[\"input_values\"]} for feature in features]\n",
        "        label_features = [{\"input_ids\": feature[\"labels\"]} for feature in features]\n",
        "\n",
        "        batch = self.processor.pad(\n",
        "            input_features,\n",
        "            padding=self.padding,\n",
        "            max_length=self.max_length,\n",
        "            pad_to_multiple_of=self.pad_to_multiple_of,\n",
        "            return_tensors=\"pt\",\n",
        "        )\n",
        "        with self.processor.as_target_processor():\n",
        "            labels_batch = self.processor.pad(\n",
        "                label_features,\n",
        "                padding=self.padding,\n",
        "                max_length=self.max_length_labels,\n",
        "                pad_to_multiple_of=self.pad_to_multiple_of_labels,\n",
        "                return_tensors=\"pt\",\n",
        "            )\n",
        "\n",
        "        # replace padding with -100 to ignore loss correctly\n",
        "        labels = labels_batch[\"input_ids\"].masked_fill(labels_batch.attention_mask.ne(1), -100)\n",
        "\n",
        "        batch[\"labels\"] = labels\n",
        "\n",
        "        return batch"
      ]
    },
    {
      "cell_type": "code",
      "execution_count": null,
      "id": "a9ddb9cb",
      "metadata": {
        "execution": {
          "iopub.execute_input": "2022-08-29T03:51:37.802712Z",
          "iopub.status.busy": "2022-08-29T03:51:37.802444Z",
          "iopub.status.idle": "2022-08-29T03:51:37.808189Z",
          "shell.execute_reply": "2022-08-29T03:51:37.806918Z"
        },
        "papermill": {
          "duration": 0.027564,
          "end_time": "2022-08-29T03:51:37.811975",
          "exception": false,
          "start_time": "2022-08-29T03:51:37.784411",
          "status": "completed"
        },
        "tags": [],
        "id": "a9ddb9cb"
      },
      "outputs": [],
      "source": [
        "data_collator = DataCollatorCTCWithPadding(processor = processor, padding = True)"
      ]
    },
    {
      "cell_type": "code",
      "execution_count": null,
      "id": "0786b907",
      "metadata": {
        "execution": {
          "iopub.execute_input": "2022-08-29T03:51:37.849450Z",
          "iopub.status.busy": "2022-08-29T03:51:37.849189Z",
          "iopub.status.idle": "2022-08-29T03:51:39.423259Z",
          "shell.execute_reply": "2022-08-29T03:51:39.422237Z"
        },
        "papermill": {
          "duration": 1.593958,
          "end_time": "2022-08-29T03:51:39.425479",
          "exception": false,
          "start_time": "2022-08-29T03:51:37.831521",
          "status": "completed"
        },
        "tags": [],
        "id": "0786b907",
        "outputId": "e5453c72-4bb8-4f2d-eccf-e61c4d23c76f",
        "colab": {
          "base_uri": "https://localhost:8080/",
          "height": 136,
          "referenced_widgets": [
            "3288010de77c4f0ea25bc613194eceda",
            "25b1db0e37864ed4a3c444d5f214aa65",
            "948c9ddc3c3e4fd0a47a6cf384f428de",
            "466c15bd7e7f4396abec63d03a0a3294",
            "5a47a7ec1c5740ba925f328dd3af89c8",
            "c49a1345ab6f4922904f01186adf5131",
            "0ccb032381ad451dba9f5ea1386635f3",
            "147f5c374a9749d7b2d7331461b27cea",
            "29421e6368964cec886d942b54924c38",
            "01f6eb9d171044c7b1c4f1b0fd3e8897",
            "c564801f360c4a3183434be67adb6930",
            "926f7dac2e8f4fa7898b15e1f5cf35cb",
            "d3f8b04d49e74a0ba08b4395f0905a94",
            "fec14861293a443ba61cc9e72308394a",
            "b5706ea83597448997c0dc279e6b366b",
            "0023ebab429e4213b9f974de47caa94f",
            "0f1c3b41114743809f7fd366e92beecc",
            "4de6130a2ebc48da91d6a99524249866",
            "2f0c0d20faa74ad8889ab6a5af65057f",
            "7612437890a44ca495bb4af5517fb65d",
            "32ae97072c014971abdfd488ffadb069",
            "e197b0a1242340c9860c1290e6a03e63"
          ]
        }
      },
      "outputs": [
        {
          "output_type": "stream",
          "name": "stderr",
          "text": [
            "/usr/local/lib/python3.7/dist-packages/ipykernel_launcher.py:1: FutureWarning: load_metric is deprecated and will be removed in the next major version of datasets. Use 'evaluate.load' instead, from the new library 🤗 Evaluate: https://huggingface.co/docs/evaluate\n",
            "  \"\"\"Entry point for launching an IPython kernel.\n"
          ]
        },
        {
          "output_type": "display_data",
          "data": {
            "text/plain": [
              "Downloading builder script:   0%|          | 0.00/1.90k [00:00<?, ?B/s]"
            ],
            "application/vnd.jupyter.widget-view+json": {
              "version_major": 2,
              "version_minor": 0,
              "model_id": "3288010de77c4f0ea25bc613194eceda"
            }
          },
          "metadata": {}
        },
        {
          "output_type": "display_data",
          "data": {
            "text/plain": [
              "Downloading builder script:   0%|          | 0.00/2.16k [00:00<?, ?B/s]"
            ],
            "application/vnd.jupyter.widget-view+json": {
              "version_major": 2,
              "version_minor": 0,
              "model_id": "926f7dac2e8f4fa7898b15e1f5cf35cb"
            }
          },
          "metadata": {}
        }
      ],
      "source": [
        "wer_metric = load_metric(\"wer\")\n",
        "cer_metric = load_metric(\"cer\", revision = \"master\")"
      ]
    },
    {
      "cell_type": "code",
      "execution_count": null,
      "id": "fc5f5129",
      "metadata": {
        "execution": {
          "iopub.execute_input": "2022-08-29T03:51:39.462331Z",
          "iopub.status.busy": "2022-08-29T03:51:39.461641Z",
          "iopub.status.idle": "2022-08-29T03:51:39.472480Z",
          "shell.execute_reply": "2022-08-29T03:51:39.471478Z"
        },
        "papermill": {
          "duration": 0.032452,
          "end_time": "2022-08-29T03:51:39.475910",
          "exception": false,
          "start_time": "2022-08-29T03:51:39.443458",
          "status": "completed"
        },
        "tags": [],
        "id": "fc5f5129"
      },
      "outputs": [],
      "source": [
        "def compute_metrics(pred):\n",
        "    pred_logits = pred.predictions\n",
        "    pred_ids = np.argmax(pred_logits, axis=-1)\n",
        "\n",
        "    pred.label_ids[pred.label_ids == -100] = processor.tokenizer.pad_token_id\n",
        "\n",
        "    pred_str = processor.batch_decode(pred_ids)\n",
        "    # we do not want to group tokens when computing the metrics\n",
        "    label_str = processor.batch_decode(pred.label_ids, group_tokens=False)\n",
        "\n",
        "    wer = wer_metric.compute(predictions=pred_str, references=label_str)\n",
        "    cer = cer_metric.compute(predictions=pred_str, references=label_str)\n",
        "    \n",
        "    # cer_best = 1 - cer because load best model is considering greater value of cer for better results\n",
        "    cer_best = 1 - cer\n",
        "    # wandb.log({'wer':wer, 'cer':cer})\n",
        "    # experiment.log_metric('wer', wer)\n",
        "    # experiment.log_metric('cer', cer)\n",
        "    \n",
        "    return {\"wer\": wer, \"cer\": cer, \"cer_best\": cer_best}"
      ]
    },
    {
      "cell_type": "code",
      "execution_count": null,
      "id": "ba032496",
      "metadata": {
        "execution": {
          "iopub.execute_input": "2022-08-29T03:51:39.513689Z",
          "iopub.status.busy": "2022-08-29T03:51:39.513413Z",
          "iopub.status.idle": "2022-08-29T03:52:38.744130Z",
          "shell.execute_reply": "2022-08-29T03:52:38.743112Z"
        },
        "papermill": {
          "duration": 59.251903,
          "end_time": "2022-08-29T03:52:38.746581",
          "exception": false,
          "start_time": "2022-08-29T03:51:39.494678",
          "status": "completed"
        },
        "tags": [],
        "id": "ba032496",
        "outputId": "43d45424-0b53-419c-d370-1d7e83c0b4a9",
        "colab": {
          "base_uri": "https://localhost:8080/",
          "height": 188,
          "referenced_widgets": [
            "1e3ab0ec49474606b2f8e6dfb2cda128",
            "aea55afd74f940589a413d6fa0482e10",
            "f93eeb37f3534363899864f10bd0dd2f",
            "dd4acff408044667aae3ac08e2decf5c",
            "da96a1d3a0574b33b8146e00e6442cba",
            "d2d774fbcea640db81aef507af089942",
            "3e88d5af70b346ec9d09a24520ca9607",
            "30f1c49e67d042f09fd726d8aadf42db",
            "3ae6b46b240e479999fad328df472772",
            "2a683b4e4e554a609c63d59a08d09f5a",
            "a9c7c165653145a3a1b1b78b87e9d485",
            "6605f25244594320b6e1eadce0a8933d",
            "c6e3ee1b1aa743a3b874cb5f0565f60e",
            "97d18b7c9aa04045a8334fc6fc5f68c2",
            "3be62f9be5e74231b4f5b23d2fbbfaa6",
            "1f3d728969ee419999386020d1015fb6",
            "93b5328486cc46e7ad7c600ac27b3cac",
            "b33c386766e5450abfed2bdf18c1c97d",
            "a5cb60c227b6440ebb1fe99553f2e4ef",
            "06d98593f2db41f083f2589d81158198",
            "a86ff13ea60e4035b2603a5f9e8e4868",
            "406ed2f5b5f7452693952d5eaba381e8"
          ]
        }
      },
      "outputs": [
        {
          "output_type": "display_data",
          "data": {
            "text/plain": [
              "Downloading:   0%|          | 0.00/1.77k [00:00<?, ?B/s]"
            ],
            "application/vnd.jupyter.widget-view+json": {
              "version_major": 2,
              "version_minor": 0,
              "model_id": "1e3ab0ec49474606b2f8e6dfb2cda128"
            }
          },
          "metadata": {}
        },
        {
          "output_type": "display_data",
          "data": {
            "text/plain": [
              "Downloading:   0%|          | 0.00/1.27G [00:00<?, ?B/s]"
            ],
            "application/vnd.jupyter.widget-view+json": {
              "version_major": 2,
              "version_minor": 0,
              "model_id": "6605f25244594320b6e1eadce0a8933d"
            }
          },
          "metadata": {}
        },
        {
          "output_type": "stream",
          "name": "stderr",
          "text": [
            "Some weights of the model checkpoint at facebook/wav2vec2-large-xlsr-53 were not used when initializing Wav2Vec2ForCTC: ['quantizer.codevectors', 'project_hid.weight', 'quantizer.weight_proj.bias', 'project_q.weight', 'project_q.bias', 'quantizer.weight_proj.weight', 'project_hid.bias']\n",
            "- This IS expected if you are initializing Wav2Vec2ForCTC from the checkpoint of a model trained on another task or with another architecture (e.g. initializing a BertForSequenceClassification model from a BertForPreTraining model).\n",
            "- This IS NOT expected if you are initializing Wav2Vec2ForCTC from the checkpoint of a model that you expect to be exactly identical (initializing a BertForSequenceClassification model from a BertForSequenceClassification model).\n",
            "Some weights of Wav2Vec2ForCTC were not initialized from the model checkpoint at facebook/wav2vec2-large-xlsr-53 and are newly initialized: ['lm_head.weight', 'lm_head.bias']\n",
            "You should probably TRAIN this model on a down-stream task to be able to use it for predictions and inference.\n"
          ]
        }
      ],
      "source": [
        "model = Wav2Vec2ForCTC.from_pretrained(\n",
        "    \"/content/gdrive/MyDrive/ASR/ASR/wav2vec_trained_models/model_ne_np_femalev1\", \n",
        "    attention_dropout = 0.1,\n",
        "    hidden_dropout = 0.1,\n",
        "    feat_proj_dropout = 0.0,\n",
        "    mask_time_prob = 0.05,\n",
        "    layerdrop = 0.1,\n",
        "    gradient_checkpointing = False, \n",
        "    ctc_loss_reduction = \"mean\", \n",
        "    pad_token_id = processor.tokenizer.pad_token_id,\n",
        "    vocab_size = len(processor.tokenizer)\n",
        ")"
      ]
    },
    {
      "cell_type": "code",
      "execution_count": null,
      "id": "740a2989",
      "metadata": {
        "execution": {
          "iopub.execute_input": "2022-08-29T03:52:38.787408Z",
          "iopub.status.busy": "2022-08-29T03:52:38.787093Z",
          "iopub.status.idle": "2022-08-29T03:52:38.796581Z",
          "shell.execute_reply": "2022-08-29T03:52:38.795514Z"
        },
        "papermill": {
          "duration": 0.035225,
          "end_time": "2022-08-29T03:52:38.800875",
          "exception": false,
          "start_time": "2022-08-29T03:52:38.765650",
          "status": "completed"
        },
        "tags": [],
        "id": "740a2989",
        "outputId": "686422a3-36e4-411f-dab2-ad76ea002f0b",
        "colab": {
          "base_uri": "https://localhost:8080/"
        }
      },
      "outputs": [
        {
          "output_type": "stream",
          "name": "stderr",
          "text": [
            "/usr/local/lib/python3.7/dist-packages/transformers/models/wav2vec2/modeling_wav2vec2.py:1638: FutureWarning: The method `freeze_feature_extractor` is deprecated and will be removed in Transformers v5.Please use the equivalent `freeze_feature_encoder` method instead.\n",
            "  FutureWarning,\n"
          ]
        }
      ],
      "source": [
        "model.freeze_feature_extractor()"
      ]
    },
    {
      "cell_type": "code",
      "execution_count": null,
      "id": "8f9040f6",
      "metadata": {
        "execution": {
          "iopub.execute_input": "2022-08-29T03:52:38.837290Z",
          "iopub.status.busy": "2022-08-29T03:52:38.836989Z",
          "iopub.status.idle": "2022-08-29T03:52:38.980094Z",
          "shell.execute_reply": "2022-08-29T03:52:38.979126Z"
        },
        "papermill": {
          "duration": 0.163923,
          "end_time": "2022-08-29T03:52:38.982537",
          "exception": false,
          "start_time": "2022-08-29T03:52:38.818614",
          "status": "completed"
        },
        "tags": [],
        "id": "8f9040f6",
        "colab": {
          "base_uri": "https://localhost:8080/",
          "height": 415
        },
        "outputId": "d3dc3351-7741-465f-dd6a-f20b0437a32f"
      },
      "outputs": [
        {
          "output_type": "error",
          "ename": "ValueError",
          "evalue": "ignored",
          "traceback": [
            "\u001b[0;31m---------------------------------------------------------------------------\u001b[0m",
            "\u001b[0;31mValueError\u001b[0m                                Traceback (most recent call last)",
            "\u001b[0;32m<ipython-input-27-bb8afabe4481>\u001b[0m in \u001b[0;36m<module>\u001b[0;34m\u001b[0m\n\u001b[1;32m     17\u001b[0m   \u001b[0mreport_to\u001b[0m \u001b[0;34m=\u001b[0m \u001b[0;34m\"wandb\"\u001b[0m\u001b[0;34m,\u001b[0m\u001b[0;34m\u001b[0m\u001b[0;34m\u001b[0m\u001b[0m\n\u001b[1;32m     18\u001b[0m   \u001b[0mmetric_for_best_model\u001b[0m \u001b[0;34m=\u001b[0m \u001b[0;34m'cer_best'\u001b[0m\u001b[0;34m,\u001b[0m\u001b[0;34m\u001b[0m\u001b[0;34m\u001b[0m\u001b[0m\n\u001b[0;32m---> 19\u001b[0;31m   \u001b[0mload_best_model_at_end\u001b[0m\u001b[0;34m=\u001b[0m\u001b[0;32mTrue\u001b[0m\u001b[0;34m\u001b[0m\u001b[0;34m\u001b[0m\u001b[0m\n\u001b[0m\u001b[1;32m     20\u001b[0m )\n",
            "\u001b[0;32m/usr/local/lib/python3.7/dist-packages/transformers/training_args.py\u001b[0m in \u001b[0;36m__init__\u001b[0;34m(self, output_dir, overwrite_output_dir, do_train, do_eval, do_predict, evaluation_strategy, prediction_loss_only, per_device_train_batch_size, per_device_eval_batch_size, per_gpu_train_batch_size, per_gpu_eval_batch_size, gradient_accumulation_steps, eval_accumulation_steps, eval_delay, learning_rate, weight_decay, adam_beta1, adam_beta2, adam_epsilon, max_grad_norm, num_train_epochs, max_steps, lr_scheduler_type, warmup_ratio, warmup_steps, log_level, log_level_replica, log_on_each_node, logging_dir, logging_strategy, logging_first_step, logging_steps, logging_nan_inf_filter, save_strategy, save_steps, save_total_limit, save_on_each_node, no_cuda, use_mps_device, seed, data_seed, jit_mode_eval, use_ipex, bf16, fp16, fp16_opt_level, half_precision_backend, bf16_full_eval, fp16_full_eval, tf32, local_rank, xpu_backend, tpu_num_cores, tpu_metrics_debug, debug, dataloader_drop_last, eval_steps, dataloader_num_workers, past_index, run_name, disable_tqdm, remove_unused_columns, label_names, load_best_model_at_end, metric_for_best_model, greater_is_better, ignore_data_skip, sharded_ddp, fsdp, fsdp_min_num_params, fsdp_transformer_layer_cls_to_wrap, deepspeed, label_smoothing_factor, optim, adafactor, group_by_length, length_column_name, report_to, ddp_find_unused_parameters, ddp_bucket_cap_mb, dataloader_pin_memory, skip_memory_metrics, use_legacy_prediction_loop, push_to_hu...\n",
            "\u001b[0;32m/usr/local/lib/python3.7/dist-packages/transformers/training_args.py\u001b[0m in \u001b[0;36m__post_init__\u001b[0;34m(self)\u001b[0m\n\u001b[1;32m   1118\u001b[0m         ):\n\u001b[1;32m   1119\u001b[0m             raise ValueError(\n\u001b[0;32m-> 1120\u001b[0;31m                 \u001b[0;34m\"FP16 Mixed precision training with AMP or APEX (`--fp16`) and FP16 half precision evaluation\"\u001b[0m\u001b[0;34m\u001b[0m\u001b[0;34m\u001b[0m\u001b[0m\n\u001b[0m\u001b[1;32m   1121\u001b[0m                 \u001b[0;34m\" (`--fp16_full_eval`) can only be used on CUDA devices.\"\u001b[0m\u001b[0;34m\u001b[0m\u001b[0;34m\u001b[0m\u001b[0m\n\u001b[1;32m   1122\u001b[0m             )\n",
            "\u001b[0;31mValueError\u001b[0m: FP16 Mixed precision training with AMP or APEX (`--fp16`) and FP16 half precision evaluation (`--fp16_full_eval`) can only be used on CUDA devices."
          ]
        }
      ],
      "source": [
        "training_args = TrainingArguments(\n",
        "  output_dir = \"/content/gdrive/MyDrive/ASR/ASR/wav2vec_trained_models\",\n",
        "  group_by_length=True,\n",
        "  per_device_train_batch_size=16,\n",
        "  gradient_accumulation_steps=2,\n",
        "  evaluation_strategy=\"steps\",\n",
        "  num_train_epochs=30,\n",
        "  fp16 = True,\n",
        "  save_steps = 144,\n",
        "  eval_steps=144,\n",
        "  logging_steps=144,\n",
        "  learning_rate=3e-4,\n",
        "  warmup_steps=180,\n",
        "  save_total_limit = 2,\n",
        "  overwrite_output_dir=True,\n",
        "  gradient_checkpointing = False,\n",
        "  report_to = \"wandb\",\n",
        "  metric_for_best_model = 'cer_best',\n",
        "  load_best_model_at_end=True\n",
        ")"
      ]
    },
    {
      "cell_type": "code",
      "execution_count": null,
      "id": "efc72953",
      "metadata": {
        "id": "efc72953"
      },
      "outputs": [],
      "source": []
    },
    {
      "cell_type": "code",
      "execution_count": null,
      "id": "8f3b3641",
      "metadata": {
        "id": "8f3b3641",
        "outputId": "35c6e784-531a-43a7-d1ea-0aaa0dd64c65",
        "colab": {
          "base_uri": "https://localhost:8080/"
        }
      },
      "outputs": [
        {
          "output_type": "execute_result",
          "data": {
            "text/plain": [
              "True"
            ]
          },
          "metadata": {},
          "execution_count": 36
        }
      ],
      "source": [
        "import tensorflow as tf\n",
        "tf.test.is_built_with_cuda()"
      ]
    },
    {
      "cell_type": "code",
      "execution_count": null,
      "id": "bb1d2994",
      "metadata": {
        "id": "bb1d2994",
        "outputId": "09842381-c562-4a80-c5be-76bf8948e22a",
        "colab": {
          "base_uri": "https://localhost:8080/"
        }
      },
      "outputs": [
        {
          "output_type": "stream",
          "name": "stdout",
          "text": [
            "nvcc: NVIDIA (R) Cuda compiler driver\n",
            "Copyright (c) 2005-2021 NVIDIA Corporation\n",
            "Built on Sun_Feb_14_21:12:58_PST_2021\n",
            "Cuda compilation tools, release 11.2, V11.2.152\n",
            "Build cuda_11.2.r11.2/compiler.29618528_0\n"
          ]
        }
      ],
      "source": [
        "!nvcc --version"
      ]
    },
    {
      "cell_type": "code",
      "execution_count": null,
      "id": "0baeecd4",
      "metadata": {
        "id": "0baeecd4",
        "outputId": "873cdcbe-e6e3-4cbd-94b6-d42da7fad375",
        "colab": {
          "base_uri": "https://localhost:8080/"
        }
      },
      "outputs": [
        {
          "output_type": "stream",
          "name": "stdout",
          "text": [
            "Sat Oct 15 07:07:04 2022       \n",
            "+-----------------------------------------------------------------------------+\n",
            "| NVIDIA-SMI 460.32.03    Driver Version: 460.32.03    CUDA Version: 11.2     |\n",
            "|-------------------------------+----------------------+----------------------+\n",
            "| GPU  Name        Persistence-M| Bus-Id        Disp.A | Volatile Uncorr. ECC |\n",
            "| Fan  Temp  Perf  Pwr:Usage/Cap|         Memory-Usage | GPU-Util  Compute M. |\n",
            "|                               |                      |               MIG M. |\n",
            "|===============================+======================+======================|\n",
            "|   0  Tesla T4            Off  | 00000000:00:04.0 Off |                    0 |\n",
            "| N/A   42C    P8    10W /  70W |      3MiB / 15109MiB |      0%      Default |\n",
            "|                               |                      |                  N/A |\n",
            "+-------------------------------+----------------------+----------------------+\n",
            "                                                                               \n",
            "+-----------------------------------------------------------------------------+\n",
            "| Processes:                                                                  |\n",
            "|  GPU   GI   CI        PID   Type   Process name                  GPU Memory |\n",
            "|        ID   ID                                                   Usage      |\n",
            "|=============================================================================|\n",
            "|  No running processes found                                                 |\n",
            "+-----------------------------------------------------------------------------+\n"
          ]
        }
      ],
      "source": [
        "!nvidia-smi"
      ]
    },
    {
      "cell_type": "code",
      "execution_count": null,
      "id": "0929085b",
      "metadata": {
        "execution": {
          "iopub.execute_input": "2022-08-29T03:52:39.019195Z",
          "iopub.status.busy": "2022-08-29T03:52:39.018392Z",
          "iopub.status.idle": "2022-08-29T03:52:44.451261Z",
          "shell.execute_reply": "2022-08-29T03:52:44.450236Z"
        },
        "papermill": {
          "duration": 5.453402,
          "end_time": "2022-08-29T03:52:44.453579",
          "exception": false,
          "start_time": "2022-08-29T03:52:39.000177",
          "status": "completed"
        },
        "tags": [],
        "id": "0929085b",
        "colab": {
          "base_uri": "https://localhost:8080/"
        },
        "outputId": "92ef88de-4c2a-474f-c1a7-38d9587a6ebb"
      },
      "outputs": [
        {
          "output_type": "stream",
          "name": "stderr",
          "text": [
            "Using cuda_amp half precision backend\n"
          ]
        }
      ],
      "source": [
        "trainer = Trainer(\n",
        "    model = model,\n",
        "    data_collator = data_collator,\n",
        "    args = training_args,\n",
        "    compute_metrics = compute_metrics,\n",
        "    train_dataset = train_data,\n",
        "    eval_dataset = val_data,\n",
        "    tokenizer = processor.feature_extractor,\n",
        ")"
      ]
    },
    {
      "cell_type": "code",
      "execution_count": null,
      "id": "37cfa5a4",
      "metadata": {
        "execution": {
          "iopub.execute_input": "2022-08-29T03:52:44.492448Z",
          "iopub.status.busy": "2022-08-29T03:52:44.492136Z",
          "iopub.status.idle": "2022-08-29T03:52:44.500649Z",
          "shell.execute_reply": "2022-08-29T03:52:44.499602Z"
        },
        "papermill": {
          "duration": 0.030205,
          "end_time": "2022-08-29T03:52:44.502787",
          "exception": false,
          "start_time": "2022-08-29T03:52:44.472582",
          "status": "completed"
        },
        "tags": [],
        "id": "37cfa5a4",
        "outputId": "aca2bb28-e939-4d13-a0e4-0a5ad63cc433",
        "colab": {
          "base_uri": "https://localhost:8080/"
        }
      },
      "outputs": [
        {
          "output_type": "execute_result",
          "data": {
            "text/plain": [
              "Dataset({\n",
              "    features: ['input_values', 'labels'],\n",
              "    num_rows: 1548\n",
              "})"
            ]
          },
          "metadata": {},
          "execution_count": 40
        }
      ],
      "source": [
        "train_data"
      ]
    },
    {
      "cell_type": "code",
      "execution_count": null,
      "id": "51c3e63d",
      "metadata": {
        "execution": {
          "iopub.execute_input": "2022-08-29T03:52:44.549329Z",
          "iopub.status.busy": "2022-08-29T03:52:44.549002Z",
          "iopub.status.idle": "2022-08-29T05:58:42.180025Z",
          "shell.execute_reply": "2022-08-29T05:58:42.178957Z"
        },
        "papermill": {
          "duration": 7557.653263,
          "end_time": "2022-08-29T05:58:42.182863",
          "exception": false,
          "start_time": "2022-08-29T03:52:44.529600",
          "status": "completed"
        },
        "tags": [],
        "id": "51c3e63d",
        "outputId": "4dac646d-a56b-48df-e95f-ed422baac374",
        "colab": {
          "base_uri": "https://localhost:8080/",
          "height": 1000
        }
      },
      "outputs": [
        {
          "output_type": "stream",
          "name": "stderr",
          "text": [
            "/usr/local/lib/python3.7/dist-packages/transformers/optimization.py:310: FutureWarning: This implementation of AdamW is deprecated and will be removed in a future version. Use the PyTorch implementation torch.optim.AdamW instead, or set `no_deprecation_warning=True` to disable this warning\n",
            "  FutureWarning,\n",
            "***** Running training *****\n",
            "  Num examples = 1548\n",
            "  Num Epochs = 30\n",
            "  Instantaneous batch size per device = 16\n",
            "  Total train batch size (w. parallel, distributed & accumulation) = 32\n",
            "  Gradient Accumulation steps = 2\n",
            "  Total optimization steps = 1440\n",
            "Automatic Weights & Biases logging enabled, to disable set os.environ[\"WANDB_DISABLED\"] = \"true\"\n",
            "/usr/local/lib/python3.7/dist-packages/transformers/models/wav2vec2/processing_wav2vec2.py:155: UserWarning: `as_target_processor` is deprecated and will be removed in v5 of Transformers. You can process your labels by using the argument `text` of the regular `__call__` method (either in the same call as your audio inputs, or in a separate call.\n",
            "  \"`as_target_processor` is deprecated and will be removed in v5 of Transformers. You can process your \"\n"
          ]
        },
        {
          "output_type": "display_data",
          "data": {
            "text/plain": [
              "<IPython.core.display.HTML object>"
            ],
            "text/html": [
              "\n",
              "    <div>\n",
              "      \n",
              "      <progress value='1440' max='1440' style='width:300px; height:20px; vertical-align: middle;'></progress>\n",
              "      [1440/1440 1:40:30, Epoch 29/30]\n",
              "    </div>\n",
              "    <table border=\"1\" class=\"dataframe\">\n",
              "  <thead>\n",
              " <tr style=\"text-align: left;\">\n",
              "      <th>Step</th>\n",
              "      <th>Training Loss</th>\n",
              "      <th>Validation Loss</th>\n",
              "      <th>Wer</th>\n",
              "      <th>Cer</th>\n",
              "      <th>Cer Best</th>\n",
              "    </tr>\n",
              "  </thead>\n",
              "  <tbody>\n",
              "    <tr>\n",
              "      <td>144</td>\n",
              "      <td>6.911300</td>\n",
              "      <td>3.403597</td>\n",
              "      <td>1.000000</td>\n",
              "      <td>1.000000</td>\n",
              "      <td>0.000000</td>\n",
              "    </tr>\n",
              "    <tr>\n",
              "      <td>288</td>\n",
              "      <td>3.397300</td>\n",
              "      <td>3.130925</td>\n",
              "      <td>1.000000</td>\n",
              "      <td>1.000000</td>\n",
              "      <td>0.000000</td>\n",
              "    </tr>\n",
              "    <tr>\n",
              "      <td>432</td>\n",
              "      <td>1.678800</td>\n",
              "      <td>0.624511</td>\n",
              "      <td>0.694419</td>\n",
              "      <td>0.177321</td>\n",
              "      <td>0.822679</td>\n",
              "    </tr>\n",
              "    <tr>\n",
              "      <td>576</td>\n",
              "      <td>0.619400</td>\n",
              "      <td>0.407999</td>\n",
              "      <td>0.498425</td>\n",
              "      <td>0.111445</td>\n",
              "      <td>0.888555</td>\n",
              "    </tr>\n",
              "    <tr>\n",
              "      <td>720</td>\n",
              "      <td>0.422300</td>\n",
              "      <td>0.354512</td>\n",
              "      <td>0.458371</td>\n",
              "      <td>0.109131</td>\n",
              "      <td>0.890869</td>\n",
              "    </tr>\n",
              "    <tr>\n",
              "      <td>864</td>\n",
              "      <td>0.309800</td>\n",
              "      <td>0.340006</td>\n",
              "      <td>0.408866</td>\n",
              "      <td>0.093158</td>\n",
              "      <td>0.906842</td>\n",
              "    </tr>\n",
              "    <tr>\n",
              "      <td>1008</td>\n",
              "      <td>0.239200</td>\n",
              "      <td>0.333810</td>\n",
              "      <td>0.367012</td>\n",
              "      <td>0.079302</td>\n",
              "      <td>0.920698</td>\n",
              "    </tr>\n",
              "    <tr>\n",
              "      <td>1152</td>\n",
              "      <td>0.209000</td>\n",
              "      <td>0.326797</td>\n",
              "      <td>0.366112</td>\n",
              "      <td>0.080426</td>\n",
              "      <td>0.919574</td>\n",
              "    </tr>\n",
              "    <tr>\n",
              "      <td>1296</td>\n",
              "      <td>0.186600</td>\n",
              "      <td>0.328846</td>\n",
              "      <td>0.358911</td>\n",
              "      <td>0.080360</td>\n",
              "      <td>0.919640</td>\n",
              "    </tr>\n",
              "    <tr>\n",
              "      <td>1440</td>\n",
              "      <td>0.168300</td>\n",
              "      <td>0.330840</td>\n",
              "      <td>0.353960</td>\n",
              "      <td>0.078409</td>\n",
              "      <td>0.921591</td>\n",
              "    </tr>\n",
              "  </tbody>\n",
              "</table><p>"
            ]
          },
          "metadata": {}
        },
        {
          "output_type": "stream",
          "name": "stderr",
          "text": [
            "***** Running Evaluation *****\n",
            "  Num examples = 516\n",
            "  Batch size = 8\n",
            "Saving model checkpoint to /content/gdrive/MyDrive/ASR/ASR/wav2vec_trained_models/checkpoint-144\n",
            "Configuration saved in /content/gdrive/MyDrive/ASR/ASR/wav2vec_trained_models/checkpoint-144/config.json\n",
            "Model weights saved in /content/gdrive/MyDrive/ASR/ASR/wav2vec_trained_models/checkpoint-144/pytorch_model.bin\n",
            "Feature extractor saved in /content/gdrive/MyDrive/ASR/ASR/wav2vec_trained_models/checkpoint-144/preprocessor_config.json\n",
            "/usr/local/lib/python3.7/dist-packages/transformers/models/wav2vec2/processing_wav2vec2.py:155: UserWarning: `as_target_processor` is deprecated and will be removed in v5 of Transformers. You can process your labels by using the argument `text` of the regular `__call__` method (either in the same call as your audio inputs, or in a separate call.\n",
            "  \"`as_target_processor` is deprecated and will be removed in v5 of Transformers. You can process your \"\n",
            "***** Running Evaluation *****\n",
            "  Num examples = 516\n",
            "  Batch size = 8\n",
            "Saving model checkpoint to /content/gdrive/MyDrive/ASR/ASR/wav2vec_trained_models/checkpoint-288\n",
            "Configuration saved in /content/gdrive/MyDrive/ASR/ASR/wav2vec_trained_models/checkpoint-288/config.json\n",
            "Model weights saved in /content/gdrive/MyDrive/ASR/ASR/wav2vec_trained_models/checkpoint-288/pytorch_model.bin\n",
            "Feature extractor saved in /content/gdrive/MyDrive/ASR/ASR/wav2vec_trained_models/checkpoint-288/preprocessor_config.json\n",
            "/usr/local/lib/python3.7/dist-packages/transformers/models/wav2vec2/processing_wav2vec2.py:155: UserWarning: `as_target_processor` is deprecated and will be removed in v5 of Transformers. You can process your labels by using the argument `text` of the regular `__call__` method (either in the same call as your audio inputs, or in a separate call.\n",
            "  \"`as_target_processor` is deprecated and will be removed in v5 of Transformers. You can process your \"\n",
            "***** Running Evaluation *****\n",
            "  Num examples = 516\n",
            "  Batch size = 8\n",
            "Saving model checkpoint to /content/gdrive/MyDrive/ASR/ASR/wav2vec_trained_models/checkpoint-432\n",
            "Configuration saved in /content/gdrive/MyDrive/ASR/ASR/wav2vec_trained_models/checkpoint-432/config.json\n",
            "Model weights saved in /content/gdrive/MyDrive/ASR/ASR/wav2vec_trained_models/checkpoint-432/pytorch_model.bin\n",
            "Feature extractor saved in /content/gdrive/MyDrive/ASR/ASR/wav2vec_trained_models/checkpoint-432/preprocessor_config.json\n",
            "Deleting older checkpoint [/content/gdrive/MyDrive/ASR/ASR/wav2vec_trained_models/checkpoint-144] due to args.save_total_limit\n",
            "/usr/local/lib/python3.7/dist-packages/transformers/models/wav2vec2/processing_wav2vec2.py:155: UserWarning: `as_target_processor` is deprecated and will be removed in v5 of Transformers. You can process your labels by using the argument `text` of the regular `__call__` method (either in the same call as your audio inputs, or in a separate call.\n",
            "  \"`as_target_processor` is deprecated and will be removed in v5 of Transformers. You can process your \"\n",
            "***** Running Evaluation *****\n",
            "  Num examples = 516\n",
            "  Batch size = 8\n",
            "Saving model checkpoint to /content/gdrive/MyDrive/ASR/ASR/wav2vec_trained_models/checkpoint-576\n",
            "Configuration saved in /content/gdrive/MyDrive/ASR/ASR/wav2vec_trained_models/checkpoint-576/config.json\n",
            "Model weights saved in /content/gdrive/MyDrive/ASR/ASR/wav2vec_trained_models/checkpoint-576/pytorch_model.bin\n",
            "Feature extractor saved in /content/gdrive/MyDrive/ASR/ASR/wav2vec_trained_models/checkpoint-576/preprocessor_config.json\n",
            "Deleting older checkpoint [/content/gdrive/MyDrive/ASR/ASR/wav2vec_trained_models/checkpoint-288] due to args.save_total_limit\n",
            "/usr/local/lib/python3.7/dist-packages/transformers/models/wav2vec2/processing_wav2vec2.py:155: UserWarning: `as_target_processor` is deprecated and will be removed in v5 of Transformers. You can process your labels by using the argument `text` of the regular `__call__` method (either in the same call as your audio inputs, or in a separate call.\n",
            "  \"`as_target_processor` is deprecated and will be removed in v5 of Transformers. You can process your \"\n",
            "***** Running Evaluation *****\n",
            "  Num examples = 516\n",
            "  Batch size = 8\n",
            "Saving model checkpoint to /content/gdrive/MyDrive/ASR/ASR/wav2vec_trained_models/checkpoint-720\n",
            "Configuration saved in /content/gdrive/MyDrive/ASR/ASR/wav2vec_trained_models/checkpoint-720/config.json\n",
            "Model weights saved in /content/gdrive/MyDrive/ASR/ASR/wav2vec_trained_models/checkpoint-720/pytorch_model.bin\n",
            "Feature extractor saved in /content/gdrive/MyDrive/ASR/ASR/wav2vec_trained_models/checkpoint-720/preprocessor_config.json\n",
            "Deleting older checkpoint [/content/gdrive/MyDrive/ASR/ASR/wav2vec_trained_models/checkpoint-432] due to args.save_total_limit\n",
            "/usr/local/lib/python3.7/dist-packages/transformers/models/wav2vec2/processing_wav2vec2.py:155: UserWarning: `as_target_processor` is deprecated and will be removed in v5 of Transformers. You can process your labels by using the argument `text` of the regular `__call__` method (either in the same call as your audio inputs, or in a separate call.\n",
            "  \"`as_target_processor` is deprecated and will be removed in v5 of Transformers. You can process your \"\n",
            "***** Running Evaluation *****\n",
            "  Num examples = 516\n",
            "  Batch size = 8\n",
            "Saving model checkpoint to /content/gdrive/MyDrive/ASR/ASR/wav2vec_trained_models/checkpoint-864\n",
            "Configuration saved in /content/gdrive/MyDrive/ASR/ASR/wav2vec_trained_models/checkpoint-864/config.json\n",
            "Model weights saved in /content/gdrive/MyDrive/ASR/ASR/wav2vec_trained_models/checkpoint-864/pytorch_model.bin\n",
            "Feature extractor saved in /content/gdrive/MyDrive/ASR/ASR/wav2vec_trained_models/checkpoint-864/preprocessor_config.json\n",
            "Deleting older checkpoint [/content/gdrive/MyDrive/ASR/ASR/wav2vec_trained_models/checkpoint-576] due to args.save_total_limit\n",
            "/usr/local/lib/python3.7/dist-packages/transformers/models/wav2vec2/processing_wav2vec2.py:155: UserWarning: `as_target_processor` is deprecated and will be removed in v5 of Transformers. You can process your labels by using the argument `text` of the regular `__call__` method (either in the same call as your audio inputs, or in a separate call.\n",
            "  \"`as_target_processor` is deprecated and will be removed in v5 of Transformers. You can process your \"\n",
            "***** Running Evaluation *****\n",
            "  Num examples = 516\n",
            "  Batch size = 8\n",
            "Saving model checkpoint to /content/gdrive/MyDrive/ASR/ASR/wav2vec_trained_models/checkpoint-1008\n",
            "Configuration saved in /content/gdrive/MyDrive/ASR/ASR/wav2vec_trained_models/checkpoint-1008/config.json\n",
            "Model weights saved in /content/gdrive/MyDrive/ASR/ASR/wav2vec_trained_models/checkpoint-1008/pytorch_model.bin\n",
            "Feature extractor saved in /content/gdrive/MyDrive/ASR/ASR/wav2vec_trained_models/checkpoint-1008/preprocessor_config.json\n",
            "Deleting older checkpoint [/content/gdrive/MyDrive/ASR/ASR/wav2vec_trained_models/checkpoint-720] due to args.save_total_limit\n",
            "/usr/local/lib/python3.7/dist-packages/transformers/models/wav2vec2/processing_wav2vec2.py:155: UserWarning: `as_target_processor` is deprecated and will be removed in v5 of Transformers. You can process your labels by using the argument `text` of the regular `__call__` method (either in the same call as your audio inputs, or in a separate call.\n",
            "  \"`as_target_processor` is deprecated and will be removed in v5 of Transformers. You can process your \"\n",
            "***** Running Evaluation *****\n",
            "  Num examples = 516\n",
            "  Batch size = 8\n",
            "Saving model checkpoint to /content/gdrive/MyDrive/ASR/ASR/wav2vec_trained_models/checkpoint-1152\n",
            "Configuration saved in /content/gdrive/MyDrive/ASR/ASR/wav2vec_trained_models/checkpoint-1152/config.json\n",
            "Model weights saved in /content/gdrive/MyDrive/ASR/ASR/wav2vec_trained_models/checkpoint-1152/pytorch_model.bin\n",
            "Feature extractor saved in /content/gdrive/MyDrive/ASR/ASR/wav2vec_trained_models/checkpoint-1152/preprocessor_config.json\n",
            "Deleting older checkpoint [/content/gdrive/MyDrive/ASR/ASR/wav2vec_trained_models/checkpoint-864] due to args.save_total_limit\n",
            "/usr/local/lib/python3.7/dist-packages/transformers/models/wav2vec2/processing_wav2vec2.py:155: UserWarning: `as_target_processor` is deprecated and will be removed in v5 of Transformers. You can process your labels by using the argument `text` of the regular `__call__` method (either in the same call as your audio inputs, or in a separate call.\n",
            "  \"`as_target_processor` is deprecated and will be removed in v5 of Transformers. You can process your \"\n",
            "***** Running Evaluation *****\n",
            "  Num examples = 516\n",
            "  Batch size = 8\n",
            "Saving model checkpoint to /content/gdrive/MyDrive/ASR/ASR/wav2vec_trained_models/checkpoint-1296\n",
            "Configuration saved in /content/gdrive/MyDrive/ASR/ASR/wav2vec_trained_models/checkpoint-1296/config.json\n",
            "Model weights saved in /content/gdrive/MyDrive/ASR/ASR/wav2vec_trained_models/checkpoint-1296/pytorch_model.bin\n",
            "Feature extractor saved in /content/gdrive/MyDrive/ASR/ASR/wav2vec_trained_models/checkpoint-1296/preprocessor_config.json\n",
            "Deleting older checkpoint [/content/gdrive/MyDrive/ASR/ASR/wav2vec_trained_models/checkpoint-1152] due to args.save_total_limit\n",
            "/usr/local/lib/python3.7/dist-packages/transformers/models/wav2vec2/processing_wav2vec2.py:155: UserWarning: `as_target_processor` is deprecated and will be removed in v5 of Transformers. You can process your labels by using the argument `text` of the regular `__call__` method (either in the same call as your audio inputs, or in a separate call.\n",
            "  \"`as_target_processor` is deprecated and will be removed in v5 of Transformers. You can process your \"\n",
            "***** Running Evaluation *****\n",
            "  Num examples = 516\n",
            "  Batch size = 8\n",
            "Saving model checkpoint to /content/gdrive/MyDrive/ASR/ASR/wav2vec_trained_models/checkpoint-1440\n",
            "Configuration saved in /content/gdrive/MyDrive/ASR/ASR/wav2vec_trained_models/checkpoint-1440/config.json\n",
            "Model weights saved in /content/gdrive/MyDrive/ASR/ASR/wav2vec_trained_models/checkpoint-1440/pytorch_model.bin\n",
            "Feature extractor saved in /content/gdrive/MyDrive/ASR/ASR/wav2vec_trained_models/checkpoint-1440/preprocessor_config.json\n",
            "Deleting older checkpoint [/content/gdrive/MyDrive/ASR/ASR/wav2vec_trained_models/checkpoint-1008] due to args.save_total_limit\n",
            "\n",
            "\n",
            "Training completed. Do not forget to share your model on huggingface.co/models =)\n",
            "\n",
            "\n",
            "Loading best model from /content/gdrive/MyDrive/ASR/ASR/wav2vec_trained_models/checkpoint-1440 (score: 0.9215913224643673).\n"
          ]
        },
        {
          "output_type": "execute_result",
          "data": {
            "text/plain": [
              "TrainOutput(global_step=1440, training_loss=1.4141920222176445, metrics={'train_runtime': 6045.921, 'train_samples_per_second': 7.681, 'train_steps_per_second': 0.238, 'total_flos': 7.200087718487112e+18, 'train_loss': 1.4141920222176445, 'epoch': 29.99})"
            ]
          },
          "metadata": {},
          "execution_count": 41
        }
      ],
      "source": [
        "trainer.train()"
      ]
    },
    {
      "cell_type": "code",
      "execution_count": null,
      "id": "59a729a2",
      "metadata": {
        "execution": {
          "iopub.execute_input": "2022-08-29T05:58:42.327137Z",
          "iopub.status.busy": "2022-08-29T05:58:42.325101Z",
          "iopub.status.idle": "2022-08-29T05:58:46.076698Z",
          "shell.execute_reply": "2022-08-29T05:58:46.074115Z"
        },
        "papermill": {
          "duration": 3.844966,
          "end_time": "2022-08-29T05:58:46.078786",
          "exception": false,
          "start_time": "2022-08-29T05:58:42.233820",
          "status": "completed"
        },
        "tags": [],
        "id": "59a729a2",
        "outputId": "97c0466a-67d5-4748-c888-f759068e29d6",
        "colab": {
          "base_uri": "https://localhost:8080/"
        }
      },
      "outputs": [
        {
          "output_type": "stream",
          "name": "stderr",
          "text": [
            "Saving model checkpoint to /content/gdrive/MyDrive/ASR/ASR/wav2vec_trained_models\n",
            "Configuration saved in /content/gdrive/MyDrive/ASR/ASR/wav2vec_trained_models/config.json\n",
            "Model weights saved in /content/gdrive/MyDrive/ASR/ASR/wav2vec_trained_models/pytorch_model.bin\n",
            "Feature extractor saved in /content/gdrive/MyDrive/ASR/ASR/wav2vec_trained_models/preprocessor_config.json\n"
          ]
        }
      ],
      "source": [
        "trainer.save_model(\"/content/gdrive/MyDrive/ASR/ASR/wav2vec_trained_models\")"
      ]
    },
    {
      "cell_type": "markdown",
      "source": [
        "test"
      ],
      "metadata": {
        "id": "hPGU5jXjO92g"
      },
      "id": "hPGU5jXjO92g"
    },
    {
      "cell_type": "code",
      "execution_count": null,
      "id": "c578a310",
      "metadata": {
        "execution": {
          "iopub.execute_input": "2022-08-29T05:58:46.671294Z",
          "iopub.status.busy": "2022-08-29T05:58:46.670702Z",
          "iopub.status.idle": "2022-08-29T05:58:53.718790Z",
          "shell.execute_reply": "2022-08-29T05:58:53.717838Z"
        },
        "papermill": {
          "duration": 7.114858,
          "end_time": "2022-08-29T05:58:53.721248",
          "exception": false,
          "start_time": "2022-08-29T05:58:46.606390",
          "status": "completed"
        },
        "tags": [],
        "id": "c578a310",
        "outputId": "8b716276-8b96-4034-c238-6efb83c3cde9",
        "colab": {
          "base_uri": "https://localhost:8080/"
        }
      },
      "outputs": [
        {
          "output_type": "stream",
          "name": "stderr",
          "text": [
            "Special tokens have been added in the vocabulary, make sure the associated word embeddings are fine-tuned or trained.\n"
          ]
        }
      ],
      "source": [
        "model = Wav2Vec2ForCTC.from_pretrained(\"/content/gdrive/MyDrive/ASR/ASR/wav2vec_trained_models/model_ne_np_femalev1\").to(\"cuda\")\n",
        "processor = Wav2Vec2Processor.from_pretrained(\"/content/gdrive/MyDrive/ASR/ASR/processor\")"
      ]
    },
    {
      "cell_type": "code",
      "execution_count": null,
      "id": "7ba2edcb",
      "metadata": {
        "execution": {
          "iopub.execute_input": "2022-08-29T05:58:53.774186Z",
          "iopub.status.busy": "2022-08-29T05:58:53.773905Z",
          "iopub.status.idle": "2022-08-29T05:59:10.202652Z",
          "shell.execute_reply": "2022-08-29T05:59:10.201650Z"
        },
        "papermill": {
          "duration": 16.456319,
          "end_time": "2022-08-29T05:59:10.205443",
          "exception": false,
          "start_time": "2022-08-29T05:58:53.749124",
          "status": "completed"
        },
        "tags": [],
        "id": "7ba2edcb",
        "outputId": "4095fa7b-a419-43d2-f964-70179f8ca8d1",
        "colab": {
          "base_uri": "https://localhost:8080/"
        }
      },
      "outputs": [
        {
          "output_type": "stream",
          "name": "stderr",
          "text": [
            "It is strongly recommended to pass the ``sampling_rate`` argument to this function. Failing to do so can result in silent errors that might be hard to debug.\n"
          ]
        }
      ],
      "source": [
        "input_dict = processor(val_data[\"input_values\"][0], return_tensors = \"pt\", padding = True)\n",
        "\n",
        "logits = model(input_dict.input_values.to(\"cuda\")).logits"
      ]
    },
    {
      "cell_type": "code",
      "execution_count": null,
      "id": "baea4e8e",
      "metadata": {
        "execution": {
          "iopub.execute_input": "2022-08-29T05:59:10.261451Z",
          "iopub.status.busy": "2022-08-29T05:59:10.261144Z",
          "iopub.status.idle": "2022-08-29T05:59:10.269113Z",
          "shell.execute_reply": "2022-08-29T05:59:10.268130Z"
        },
        "papermill": {
          "duration": 0.037038,
          "end_time": "2022-08-29T05:59:10.272119",
          "exception": false,
          "start_time": "2022-08-29T05:59:10.235081",
          "status": "completed"
        },
        "tags": [],
        "id": "baea4e8e"
      },
      "outputs": [],
      "source": [
        "pred_ids = torch.argmax(logits, dim = -1)[0]"
      ]
    },
    {
      "cell_type": "code",
      "execution_count": null,
      "id": "7ea55455",
      "metadata": {
        "execution": {
          "iopub.execute_input": "2022-08-29T05:59:10.325661Z",
          "iopub.status.busy": "2022-08-29T05:59:10.325384Z",
          "iopub.status.idle": "2022-08-29T05:59:10.378899Z",
          "shell.execute_reply": "2022-08-29T05:59:10.378045Z"
        },
        "papermill": {
          "duration": 0.083805,
          "end_time": "2022-08-29T05:59:10.381201",
          "exception": false,
          "start_time": "2022-08-29T05:59:10.297396",
          "status": "completed"
        },
        "tags": [],
        "id": "7ea55455",
        "colab": {
          "base_uri": "https://localhost:8080/"
        },
        "outputId": "84d55cf7-ef5a-4bb6-b79f-09e77c1b0702"
      },
      "outputs": [
        {
          "output_type": "stream",
          "name": "stderr",
          "text": [
            "WARNING:datasets.builder:Using custom data configuration transcript-a77a3cc2759a1c11\n",
            "WARNING:datasets.builder:Found cached dataset csv (/root/.cache/huggingface/datasets/csv/transcript-a77a3cc2759a1c11/0.0.0/6b34fb8fcf56f7c8ba51dc895bfa2bfbe43546f190a60fcf74bb5e8afdcc2317)\n"
          ]
        }
      ],
      "source": [
        "test_transcription_data = load_dataset(\"/content/gdrive/MyDrive/ASR/ASR/ne_np_female/transcript\", data_files = data_files, split = \"test\")"
      ]
    },
    {
      "cell_type": "code",
      "execution_count": null,
      "id": "00d6ccff",
      "metadata": {
        "execution": {
          "iopub.execute_input": "2022-08-29T05:59:10.430199Z",
          "iopub.status.busy": "2022-08-29T05:59:10.429936Z",
          "iopub.status.idle": "2022-08-29T05:59:10.440458Z",
          "shell.execute_reply": "2022-08-29T05:59:10.439492Z"
        },
        "papermill": {
          "duration": 0.040882,
          "end_time": "2022-08-29T05:59:10.445921",
          "exception": false,
          "start_time": "2022-08-29T05:59:10.405039",
          "status": "completed"
        },
        "tags": [],
        "id": "00d6ccff",
        "outputId": "0251c028-7238-4d0d-9261-507fcdb4232a",
        "colab": {
          "base_uri": "https://localhost:8080/"
        }
      },
      "outputs": [
        {
          "output_type": "stream",
          "name": "stdout",
          "text": [
            "Prediction:\n",
            "कालोटाउके गङगा चील नेपालमा पाइने एक प्रकारको चराको नाम हो\n",
            "\n",
            "Reference:\n",
            "कालोटाउके गंगाचील नेपालमा पाइने एक प्रकारको चराको नाम हो\n"
          ]
        }
      ],
      "source": [
        "print(\"Prediction:\")\n",
        "print(processor.decode(pred_ids))\n",
        "\n",
        "print(\"\\nReference:\")\n",
        "print(test_transcription_data[\"labels\"][0].lower())"
      ]
    },
    {
      "cell_type": "code",
      "execution_count": null,
      "id": "f52a509c",
      "metadata": {
        "execution": {
          "iopub.execute_input": "2022-08-29T05:59:10.498482Z",
          "iopub.status.busy": "2022-08-29T05:59:10.498201Z",
          "iopub.status.idle": "2022-08-29T05:59:25.838474Z",
          "shell.execute_reply": "2022-08-29T05:59:25.837231Z"
        },
        "papermill": {
          "duration": 15.367213,
          "end_time": "2022-08-29T05:59:25.840720",
          "exception": false,
          "start_time": "2022-08-29T05:59:10.473507",
          "status": "completed"
        },
        "tags": [],
        "id": "f52a509c",
        "outputId": "67d187c7-3e0d-40e5-cfb8-a4ce637b9318",
        "colab": {
          "base_uri": "https://localhost:8080/"
        }
      },
      "outputs": [
        {
          "output_type": "stream",
          "name": "stderr",
          "text": [
            "It is strongly recommended to pass the ``sampling_rate`` argument to this function. Failing to do so can result in silent errors that might be hard to debug.\n"
          ]
        },
        {
          "output_type": "stream",
          "name": "stdout",
          "text": [
            "{'input_values': tensor([[0.0008, 0.0008, 0.0008,  ..., 0.0008, 0.0008, 0.0008]]), 'attention_mask': tensor([[1, 1, 1,  ..., 1, 1, 1]], dtype=torch.int32)}\n",
            "tensor([[[-0.4658, -0.3296, -2.9032,  ..., -0.7714, -6.8592, 12.2530],\n",
            "         [-0.4680, -0.3152, -2.9366,  ..., -0.8317, -6.8732, 12.3143],\n",
            "         [-0.4648, -0.2898, -2.9039,  ..., -0.8486, -6.8883, 12.3328],\n",
            "         ...,\n",
            "         [ 0.3744, -0.3150, -2.8307,  ..., -1.0509, -6.9534, 12.4945],\n",
            "         [ 1.5442, -0.6042, -2.9129,  ..., -1.1653, -6.9635, 12.4679],\n",
            "         [11.0722, -0.3818, -1.5613,  ..., -1.8593, -3.2529,  4.2605]]],\n",
            "       device='cuda:0', grad_fn=<ViewBackward0>)\n"
          ]
        }
      ],
      "source": [
        "input_dict = processor(val_data[\"input_values\"][3], return_tensors = \"pt\", padding = True)\n",
        "print(input_dict)\n",
        "\n",
        "logits = model(input_dict.input_values.to(\"cuda\")).logits\n",
        "print(logits)"
      ]
    },
    {
      "cell_type": "code",
      "execution_count": null,
      "id": "4e43dc73",
      "metadata": {
        "execution": {
          "iopub.execute_input": "2022-08-29T05:59:25.902233Z",
          "iopub.status.busy": "2022-08-29T05:59:25.901869Z",
          "iopub.status.idle": "2022-08-29T05:59:25.909822Z",
          "shell.execute_reply": "2022-08-29T05:59:25.908772Z"
        },
        "papermill": {
          "duration": 0.036921,
          "end_time": "2022-08-29T05:59:25.912529",
          "exception": false,
          "start_time": "2022-08-29T05:59:25.875608",
          "status": "completed"
        },
        "tags": [],
        "id": "4e43dc73"
      },
      "outputs": [],
      "source": [
        "pred_ids = torch.argmax(logits, dim = -1)[0]"
      ]
    },
    {
      "cell_type": "code",
      "execution_count": null,
      "id": "d6237bd2",
      "metadata": {
        "execution": {
          "iopub.execute_input": "2022-08-29T05:59:25.964965Z",
          "iopub.status.busy": "2022-08-29T05:59:25.964659Z",
          "iopub.status.idle": "2022-08-29T05:59:25.976945Z",
          "shell.execute_reply": "2022-08-29T05:59:25.975541Z"
        },
        "papermill": {
          "duration": 0.041214,
          "end_time": "2022-08-29T05:59:25.981254",
          "exception": false,
          "start_time": "2022-08-29T05:59:25.940040",
          "status": "completed"
        },
        "tags": [],
        "id": "d6237bd2",
        "outputId": "f6019284-7c69-494c-8c63-fa04f3023249",
        "colab": {
          "base_uri": "https://localhost:8080/"
        }
      },
      "outputs": [
        {
          "output_type": "stream",
          "name": "stdout",
          "text": [
            "Prediction:\n",
            "फेसन पारखी उनिफेसनकोक्षेत्रमा एक आइकन थिए\n",
            "\n",
            "Reference:\n",
            "फेसन पारखी उनी फेसनको क्षेत्रमा एक आइकन थिए\n"
          ]
        }
      ],
      "source": [
        "print(\"Prediction:\")\n",
        "print(processor.decode(pred_ids))\n",
        "\n",
        "print(\"\\nReference:\")\n",
        "print(test_transcription_data[\"labels\"][3].lower())"
      ]
    },
    {
      "cell_type": "markdown",
      "source": [
        "Load Model for testing"
      ],
      "metadata": {
        "id": "h-3Ep2Ne_Wqo"
      },
      "id": "h-3Ep2Ne_Wqo"
    },
    {
      "cell_type": "code",
      "source": [
        "import librosa "
      ],
      "metadata": {
        "id": "FXDBjYEdDpJ1"
      },
      "id": "FXDBjYEdDpJ1",
      "execution_count": null,
      "outputs": []
    },
    {
      "cell_type": "code",
      "source": [
        "def segmentLargeArray(inputTensor,chunksize=200000):\n",
        "    # print(inputTensor)\n",
        "    list_of_segments = []\n",
        "    tensor_length = inputTensor.shape[1]\n",
        "    for i in range(0,tensor_length+1,chunksize):\n",
        "        list_of_segments.append(inputTensor[:,i:i+chunksize])\n",
        "    return list_of_segments "
      ],
      "metadata": {
        "id": "vEIVwk8SlxN7"
      },
      "id": "vEIVwk8SlxN7",
      "execution_count": null,
      "outputs": []
    },
    {
      "cell_type": "code",
      "source": [
        "model = Wav2Vec2ForCTC.from_pretrained(\"/content/gdrive/MyDrive/ASR/ASR/wav2vec_trained_models/model_ne_np_femalev1\").to(\"cuda\")\n",
        "processor = Wav2Vec2Processor.from_pretrained(\"/content/gdrive/MyDrive/ASR/ASR/processor\")"
      ],
      "metadata": {
        "colab": {
          "base_uri": "https://localhost:8080/"
        },
        "id": "A1-CmIja_WLd",
        "outputId": "632641be-28d6-4fe5-bead-09b4b17435cf"
      },
      "id": "A1-CmIja_WLd",
      "execution_count": null,
      "outputs": [
        {
          "output_type": "stream",
          "name": "stderr",
          "text": [
            "Special tokens have been added in the vocabulary, make sure the associated word embeddings are fine-tuned or trained.\n"
          ]
        }
      ]
    },
    {
      "cell_type": "code",
      "source": [
        "test_audio_ip1 = '/content/gdrive/MyDrive/ASR/ASR/ne_np_female/rec2.wav'\n",
        "test_audio_ip2 = '/content/gdrive/MyDrive/ASR/ASR/ne_np_female/audio/nep_0258_0119737288.wav'\n",
        "path = \"/content/gdrive/MyDrive/ASR/ASR/ne_np_female/testy.flac\"\n",
        "test1 = '/content/gdrive/MyDrive/ASR/ASR/ne_np_female/test1_anjan.wav'\n",
        "test2 = '/content/gdrive/MyDrive/ASR/ASR/ne_np_female/rec20sec.wav'\n",
        "test3 = '/content/gdrive/MyDrive/ASR/ASR/ne_np_female/rec13sec.wav'"
      ],
      "metadata": {
        "id": "cXDb-E1LArqC"
      },
      "id": "cXDb-E1LArqC",
      "execution_count": null,
      "outputs": []
    },
    {
      "cell_type": "code",
      "source": [
        "def predict_from_speech(file):\n",
        "    speech_array, sampling_rate = torchaudio.load(file)\n",
        "    # print(speech_array,sampling_rate)\n",
        "    resampler = torchaudio.transforms.Resample(sampling_rate, 16000)\n",
        "    resampled_array = resampler(speech_array).squeeze()\n",
        "    if len(resampled_array.shape) == 1:\n",
        "        resampled_array = resampled_array.reshape([1,resampled_array.shape[0]])\n",
        "    # print(resampled_array.shape[1])\n",
        "    if resampled_array.shape[1] >= 200000:\n",
        "        print('The input file is longer than 10 seconds')\n",
        "        list_of_segments = segmentLargeArray(resampled_array)\n",
        "        # print(list_of_segments)\n",
        "        output = ''\n",
        "        for segment in list_of_segments:\n",
        "            logits = model(segment.to(\"cuda\")).logits\n",
        "            pred_ids = torch.argmax(logits,dim=-1)[0]\n",
        "            output += processor.decode(pred_ids)\n",
        "        print(f\"Prediction:\\n{output}\")\n",
        "    else:\n",
        "        print('The input file is less than 10 seconds')\n",
        "        logits = model(resampled_array.to(\"cuda\")).logits\n",
        "        # print(logits)\n",
        "        pred_ids = torch.argmax(logits, dim = -1)[0]\n",
        "        print(\"Prediction:\")\n",
        "        print(processor.decode(pred_ids))"
      ],
      "metadata": {
        "id": "6XiR5FMgGPy0"
      },
      "id": "6XiR5FMgGPy0",
      "execution_count": null,
      "outputs": []
    },
    {
      "cell_type": "code",
      "source": [
        "# predict_from_speech(test_audio_ip1)\n",
        "predict_from_speech(test2)\n",
        "predict_from_speech(test3)"
      ],
      "metadata": {
        "colab": {
          "base_uri": "https://localhost:8080/"
        },
        "id": "h6ski3XKGWHo",
        "outputId": "62fe77c7-4544-4958-c3d6-f74c31b8e8e1"
      },
      "id": "h6ski3XKGWHo",
      "execution_count": null,
      "outputs": [
        {
          "output_type": "stream",
          "name": "stdout",
          "text": [
            "The input file is longer than 10 seconds\n",
            "Prediction:\n",
            "गणोदोईलोमा मठ्तेर कानेर नारचगनक्नयकुतनुजुरीको  चानआयोकभन्चक ए्तलाई उके धोेत्रीय चोत्दैनोनिर्वाचन आयोकमलेए प्रचार प्रसार का  करममाचथाववि नियाकोलार नवर्नभूुमेडवारर लाई तन सचत गराएको छ\n",
            "The input file is longer than 10 seconds\n",
            "Prediction:\n",
            "ुघुमुघु मामग साता गयविसनबाडी पहिरो गटगारण आत सवय दीष परिवार मुनारू पविस्था पिपएगो जिल्ला पपटटटटार ट्योस्तापन समितिय जनाएको छ\n"
          ]
        }
      ]
    },
    {
      "cell_type": "code",
      "source": [
        "torch.cuda.empty_cache()"
      ],
      "metadata": {
        "id": "d43t-IoI_6QV"
      },
      "id": "d43t-IoI_6QV",
      "execution_count": null,
      "outputs": []
    },
    {
      "cell_type": "code",
      "source": [
        "torch.cuda.memory_summary(device=None, abbreviated=False)"
      ],
      "metadata": {
        "colab": {
          "base_uri": "https://localhost:8080/",
          "height": 581
        },
        "id": "P1yZbcFYADBf",
        "outputId": "db53c252-3f54-492f-b040-81c758d1523a"
      },
      "id": "P1yZbcFYADBf",
      "execution_count": null,
      "outputs": [
        {
          "output_type": "execute_result",
          "data": {
            "text/plain": [
              "'|===========================================================================|\\n|                  PyTorch CUDA memory summary, device ID 0                 |\\n|---------------------------------------------------------------------------|\\n|            CUDA OOMs: 3            |        cudaMalloc retries: 3         |\\n|===========================================================================|\\n|        Metric         | Cur Usage  | Peak Usage | Tot Alloc  | Tot Freed  |\\n|---------------------------------------------------------------------------|\\n| Allocated memory      |   13292 MB |   13381 MB |   22374 MB |    9082 MB |\\n|       from large pool |   13286 MB |   13376 MB |   22367 MB |    9081 MB |\\n|       from small pool |       5 MB |       5 MB |       6 MB |       0 MB |\\n|---------------------------------------------------------------------------|\\n| Active memory         |   13292 MB |   13381 MB |   22374 MB |    9082 MB |\\n|       from large pool |   13286 MB |   13376 MB |   22367 MB |    9081 MB |\\n|       from small pool |       5 MB |       5 MB |       6 MB |       0 MB |\\n|---------------------------------------------------------------------------|\\n| GPU reserved memory   |   13562 MB |   13562 MB |   13562 MB |       0 B  |\\n|       from large pool |   13556 MB |   13556 MB |   13556 MB |       0 B  |\\n|       from small pool |       6 MB |       6 MB |       6 MB |       0 B  |\\n|---------------------------------------------------------------------------|\\n| Non-releasable memory |  276455 KB |  369435 KB |    6574 MB |    6304 MB |\\n|       from large pool |  276071 KB |  368951 KB |    6568 MB |    6298 MB |\\n|       from small pool |     383 KB |    2028 KB |       6 MB |       6 MB |\\n|---------------------------------------------------------------------------|\\n| Allocations           |     777    |     777    |     963    |     186    |\\n|       from large pool |     406    |     406    |     590    |     184    |\\n|       from small pool |     371    |     371    |     373    |       2    |\\n|---------------------------------------------------------------------------|\\n| Active allocs         |     777    |     777    |     963    |     186    |\\n|       from large pool |     406    |     406    |     590    |     184    |\\n|       from small pool |     371    |     371    |     373    |       2    |\\n|---------------------------------------------------------------------------|\\n| GPU reserved segments |     130    |     130    |     130    |       0    |\\n|       from large pool |     127    |     127    |     127    |       0    |\\n|       from small pool |       3    |       3    |       3    |       0    |\\n|---------------------------------------------------------------------------|\\n| Non-releasable allocs |      42    |      43    |     225    |     183    |\\n|       from large pool |      39    |      40    |     221    |     182    |\\n|       from small pool |       3    |       3    |       4    |       1    |\\n|---------------------------------------------------------------------------|\\n| Oversize allocations  |       0    |       0    |       0    |       0    |\\n|---------------------------------------------------------------------------|\\n| Oversize GPU segments |       0    |       0    |       0    |       0    |\\n|===========================================================================|\\n'"
            ],
            "application/vnd.google.colaboratory.intrinsic+json": {
              "type": "string"
            }
          },
          "metadata": {},
          "execution_count": 14
        }
      ]
    },
    {
      "cell_type": "code",
      "source": [
        "import gc\n",
        "del model\n",
        "gc.collect()\n",
        "gpu_usage()"
      ],
      "metadata": {
        "colab": {
          "base_uri": "https://localhost:8080/"
        },
        "id": "IhGWgC74AvGk",
        "outputId": "f81561a9-971a-4468-eb08-4c62e7c07d06"
      },
      "id": "IhGWgC74AvGk",
      "execution_count": null,
      "outputs": [
        {
          "output_type": "stream",
          "name": "stdout",
          "text": [
            "| ID | GPU | MEM |\n",
            "------------------\n",
            "|  0 |  0% | 99% |\n"
          ]
        }
      ]
    },
    {
      "cell_type": "code",
      "source": [
        "!pip install GPUtil"
      ],
      "metadata": {
        "colab": {
          "base_uri": "https://localhost:8080/"
        },
        "id": "02xkBBJeC6QG",
        "outputId": "30f9f3aa-b2ba-418f-fc0e-23a02ec2c718"
      },
      "id": "02xkBBJeC6QG",
      "execution_count": null,
      "outputs": [
        {
          "output_type": "stream",
          "name": "stdout",
          "text": [
            "Looking in indexes: https://pypi.org/simple, https://us-python.pkg.dev/colab-wheels/public/simple/\n",
            "Collecting GPUtil\n",
            "  Downloading GPUtil-1.4.0.tar.gz (5.5 kB)\n",
            "Building wheels for collected packages: GPUtil\n",
            "  Building wheel for GPUtil (setup.py) ... \u001b[?25l\u001b[?25hdone\n",
            "  Created wheel for GPUtil: filename=GPUtil-1.4.0-py3-none-any.whl size=7411 sha256=cbdf0ab63187378e9e532b1fa2501d06b40b16b8f6c2fe9ae10c0ebc4b9ec43e\n",
            "  Stored in directory: /root/.cache/pip/wheels/6e/f8/83/534c52482d6da64622ddbf72cd93c35d2ef2881b78fd08ff0c\n",
            "Successfully built GPUtil\n",
            "Installing collected packages: GPUtil\n",
            "Successfully installed GPUtil-1.4.0\n"
          ]
        }
      ]
    },
    {
      "cell_type": "code",
      "source": [
        "from GPUtil import showUtilization as gpu_usage\n",
        "print(\"Initial GPU Usage\")\n",
        "gpu_usage()  \n",
        "print(\"GPU Usage after emptying the cache\")\n",
        "torch.cuda.empty_cache()\n",
        "gpu_usage()"
      ],
      "metadata": {
        "colab": {
          "base_uri": "https://localhost:8080/"
        },
        "id": "1Q93CC82C4TQ",
        "outputId": "acb5832b-660d-4603-87ff-61a059019abb"
      },
      "id": "1Q93CC82C4TQ",
      "execution_count": null,
      "outputs": [
        {
          "output_type": "stream",
          "name": "stdout",
          "text": [
            "Initial GPU Usage\n",
            "| ID | GPU | MEM |\n",
            "------------------\n",
            "|  0 |  0% |  9% |\n",
            "GPU Usage after emptying the cache\n",
            "| ID | GPU | MEM |\n",
            "------------------\n",
            "|  0 |  0% |  9% |\n"
          ]
        }
      ]
    },
    {
      "cell_type": "code",
      "source": [
        "!nvidia-smi"
      ],
      "metadata": {
        "colab": {
          "base_uri": "https://localhost:8080/"
        },
        "id": "jCuNlhVzCRr3",
        "outputId": "4afbc1ea-1ef5-4aeb-a4e9-83ceadca7c56"
      },
      "id": "jCuNlhVzCRr3",
      "execution_count": null,
      "outputs": [
        {
          "output_type": "stream",
          "name": "stdout",
          "text": [
            "Mon Oct 17 08:22:51 2022       \n",
            "+-----------------------------------------------------------------------------+\n",
            "| NVIDIA-SMI 460.32.03    Driver Version: 460.32.03    CUDA Version: 11.2     |\n",
            "|-------------------------------+----------------------+----------------------+\n",
            "| GPU  Name        Persistence-M| Bus-Id        Disp.A | Volatile Uncorr. ECC |\n",
            "| Fan  Temp  Perf  Pwr:Usage/Cap|         Memory-Usage | GPU-Util  Compute M. |\n",
            "|                               |                      |               MIG M. |\n",
            "|===============================+======================+======================|\n",
            "|   0  Tesla T4            Off  | 00000000:00:04.0 Off |                    0 |\n",
            "| N/A   46C    P0    27W /  70W |  14964MiB / 15109MiB |      0%      Default |\n",
            "|                               |                      |                  N/A |\n",
            "+-------------------------------+----------------------+----------------------+\n",
            "                                                                               \n",
            "+-----------------------------------------------------------------------------+\n",
            "| Processes:                                                                  |\n",
            "|  GPU   GI   CI        PID   Type   Process name                  GPU Memory |\n",
            "|        ID   ID                                                   Usage      |\n",
            "|=============================================================================|\n",
            "+-----------------------------------------------------------------------------+\n"
          ]
        }
      ]
    },
    {
      "cell_type": "code",
      "source": [
        "path = \"/content/gdrive/MyDrive/ASR/ASR/ne_np_female/testy.flac\"\n",
        "predict_from_speech(path)"
      ],
      "metadata": {
        "id": "K4piSOpzEpqj",
        "colab": {
          "base_uri": "https://localhost:8080/",
          "height": 413
        },
        "outputId": "878d24ad-9500-476b-fb60-639a24fac84c"
      },
      "id": "K4piSOpzEpqj",
      "execution_count": null,
      "outputs": [
        {
          "output_type": "stream",
          "name": "stdout",
          "text": [
            "a\n"
          ]
        },
        {
          "output_type": "error",
          "ename": "RuntimeError",
          "evalue": "ignored",
          "traceback": [
            "\u001b[0;31m---------------------------------------------------------------------------\u001b[0m",
            "\u001b[0;31mRuntimeError\u001b[0m                              Traceback (most recent call last)",
            "\u001b[0;32m<ipython-input-67-087586070f8b>\u001b[0m in \u001b[0;36m<module>\u001b[0;34m\u001b[0m\n\u001b[1;32m      1\u001b[0m \u001b[0mpath\u001b[0m \u001b[0;34m=\u001b[0m \u001b[0;34m\"/content/gdrive/MyDrive/ASR/ASR/ne_np_female/testy.flac\"\u001b[0m\u001b[0;34m\u001b[0m\u001b[0;34m\u001b[0m\u001b[0m\n\u001b[0;32m----> 2\u001b[0;31m \u001b[0mpredict_from_speech\u001b[0m\u001b[0;34m(\u001b[0m\u001b[0mpath\u001b[0m\u001b[0;34m)\u001b[0m\u001b[0;34m\u001b[0m\u001b[0;34m\u001b[0m\u001b[0m\n\u001b[0m",
            "\u001b[0;32m<ipython-input-66-4e28ce7bc8f4>\u001b[0m in \u001b[0;36mpredict_from_speech\u001b[0;34m(file)\u001b[0m\n\u001b[1;32m     12\u001b[0m     \u001b[0;31m# print(resampled_array.shape)\u001b[0m\u001b[0;34m\u001b[0m\u001b[0;34m\u001b[0m\u001b[0;34m\u001b[0m\u001b[0m\n\u001b[1;32m     13\u001b[0m     \u001b[0mprint\u001b[0m\u001b[0;34m(\u001b[0m\u001b[0;34m'a'\u001b[0m\u001b[0;34m)\u001b[0m\u001b[0;34m\u001b[0m\u001b[0;34m\u001b[0m\u001b[0m\n\u001b[0;32m---> 14\u001b[0;31m     \u001b[0mlogits\u001b[0m \u001b[0;34m=\u001b[0m \u001b[0mmodel\u001b[0m\u001b[0;34m(\u001b[0m\u001b[0mresampled_array\u001b[0m\u001b[0;34m.\u001b[0m\u001b[0mto\u001b[0m\u001b[0;34m(\u001b[0m\u001b[0;34m\"cuda\"\u001b[0m\u001b[0;34m)\u001b[0m\u001b[0;34m)\u001b[0m\u001b[0;34m.\u001b[0m\u001b[0mlogits\u001b[0m\u001b[0;34m\u001b[0m\u001b[0;34m\u001b[0m\u001b[0m\n\u001b[0m\u001b[1;32m     15\u001b[0m     \u001b[0;31m# print(logits)\u001b[0m\u001b[0;34m\u001b[0m\u001b[0;34m\u001b[0m\u001b[0;34m\u001b[0m\u001b[0m\n\u001b[1;32m     16\u001b[0m     \u001b[0mpred_ids\u001b[0m \u001b[0;34m=\u001b[0m \u001b[0mtorch\u001b[0m\u001b[0;34m.\u001b[0m\u001b[0margmax\u001b[0m\u001b[0;34m(\u001b[0m\u001b[0mlogits\u001b[0m\u001b[0;34m,\u001b[0m \u001b[0mdim\u001b[0m \u001b[0;34m=\u001b[0m \u001b[0;34m-\u001b[0m\u001b[0;36m1\u001b[0m\u001b[0;34m)\u001b[0m\u001b[0;34m[\u001b[0m\u001b[0;36m0\u001b[0m\u001b[0;34m]\u001b[0m\u001b[0;34m\u001b[0m\u001b[0;34m\u001b[0m\u001b[0m\n",
            "\u001b[0;32m/usr/local/lib/python3.7/dist-packages/torch/nn/modules/module.py\u001b[0m in \u001b[0;36m_call_impl\u001b[0;34m(self, *input, **kwargs)\u001b[0m\n\u001b[1;32m   1128\u001b[0m         if not (self._backward_hooks or self._forward_hooks or self._forward_pre_hooks or _global_backward_hooks\n\u001b[1;32m   1129\u001b[0m                 or _global_forward_hooks or _global_forward_pre_hooks):\n\u001b[0;32m-> 1130\u001b[0;31m             \u001b[0;32mreturn\u001b[0m \u001b[0mforward_call\u001b[0m\u001b[0;34m(\u001b[0m\u001b[0;34m*\u001b[0m\u001b[0minput\u001b[0m\u001b[0;34m,\u001b[0m \u001b[0;34m**\u001b[0m\u001b[0mkwargs\u001b[0m\u001b[0;34m)\u001b[0m\u001b[0;34m\u001b[0m\u001b[0;34m\u001b[0m\u001b[0m\n\u001b[0m\u001b[1;32m   1131\u001b[0m         \u001b[0;31m# Do not call functions when jit is used\u001b[0m\u001b[0;34m\u001b[0m\u001b[0;34m\u001b[0m\u001b[0;34m\u001b[0m\u001b[0m\n\u001b[1;32m   1132\u001b[0m         \u001b[0mfull_backward_hooks\u001b[0m\u001b[0;34m,\u001b[0m \u001b[0mnon_full_backward_hooks\u001b[0m \u001b[0;34m=\u001b[0m \u001b[0;34m[\u001b[0m\u001b[0;34m]\u001b[0m\u001b[0;34m,\u001b[0m \u001b[0;34m[\u001b[0m\u001b[0;34m]\u001b[0m\u001b[0;34m\u001b[0m\u001b[0;34m\u001b[0m\u001b[0m\n",
            "\u001b[0;32m/usr/local/lib/python3.7/dist-packages/transformers/models/wav2vec2/modeling_wav2vec2.py\u001b[0m in \u001b[0;36mforward\u001b[0;34m(self, input_values, attention_mask, output_attentions, output_hidden_states, return_dict, labels)\u001b[0m\n\u001b[1;32m   1680\u001b[0m             \u001b[0moutput_attentions\u001b[0m\u001b[0;34m=\u001b[0m\u001b[0moutput_attentions\u001b[0m\u001b[0;34m,\u001b[0m\u001b[0;34m\u001b[0m\u001b[0;34m\u001b[0m\u001b[0m\n\u001b[1;32m   1681\u001b[0m             \u001b[0moutput_hidden_states\u001b[0m\u001b[0;34m=\u001b[0m\u001b[0moutput_hidden_states\u001b[0m\u001b[0;34m,\u001b[0m\u001b[0;34m\u001b[0m\u001b[0;34m\u001b[0m\u001b[0m\n\u001b[0;32m-> 1682\u001b[0;31m             \u001b[0mreturn_dict\u001b[0m\u001b[0;34m=\u001b[0m\u001b[0mreturn_dict\u001b[0m\u001b[0;34m,\u001b[0m\u001b[0;34m\u001b[0m\u001b[0;34m\u001b[0m\u001b[0m\n\u001b[0m\u001b[1;32m   1683\u001b[0m         )\n\u001b[1;32m   1684\u001b[0m \u001b[0;34m\u001b[0m\u001b[0m\n",
            "\u001b[0;32m/usr/local/lib/python3.7/dist-packages/torch/nn/modules/module.py\u001b[0m in \u001b[0;36m_call_impl\u001b[0;34m(self, *input, **kwargs)\u001b[0m\n\u001b[1;32m   1128\u001b[0m         if not (self._backward_hooks or self._forward_hooks or self._forward_pre_hooks or _global_backward_hooks\n\u001b[1;32m   1129\u001b[0m                 or _global_forward_hooks or _global_forward_pre_hooks):\n\u001b[0;32m-> 1130\u001b[0;31m             \u001b[0;32mreturn\u001b[0m \u001b[0mforward_call\u001b[0m\u001b[0;34m(\u001b[0m\u001b[0;34m*\u001b[0m\u001b[0minput\u001b[0m\u001b[0;34m,\u001b[0m \u001b[0;34m**\u001b[0m\u001b[0mkwargs\u001b[0m\u001b[0;34m)\u001b[0m\u001b[0;34m\u001b[0m\u001b[0;34m\u001b[0m\u001b[0m\n\u001b[0m\u001b[1;32m   1131\u001b[0m         \u001b[0;31m# Do not call functions when jit is used\u001b[0m\u001b[0;34m\u001b[0m\u001b[0;34m\u001b[0m\u001b[0;34m\u001b[0m\u001b[0m\n\u001b[1;32m   1132\u001b[0m         \u001b[0mfull_backward_hooks\u001b[0m\u001b[0;34m,\u001b[0m \u001b[0mnon_full_backward_hooks\u001b[0m \u001b[0;34m=\u001b[0m \u001b[0;34m[\u001b[0m\u001b[0;34m]\u001b[0m\u001b[0;34m,\u001b[0m \u001b[0;34m[\u001b[0m\u001b[0;34m]\u001b[0m\u001b[0;34m\u001b[0m\u001b[0;34m\u001b[0m\u001b[0m\n",
            "\u001b[0;32m/usr/local/lib/python3.7/dist-packages/transformers/models/wav2vec2/modeling_wav2vec2.py\u001b[0m in \u001b[0;36mforward\u001b[0;34m(self, input_values, attention_mask, mask_time_indices, output_attentions, output_hidden_states, return_dict)\u001b[0m\n\u001b[1;32m   1314\u001b[0m             \u001b[0moutput_attentions\u001b[0m\u001b[0;34m=\u001b[0m\u001b[0moutput_attentions\u001b[0m\u001b[0;34m,\u001b[0m\u001b[0;34m\u001b[0m\u001b[0;34m\u001b[0m\u001b[0m\n\u001b[1;32m   1315\u001b[0m             \u001b[0moutput_hidden_states\u001b[0m\u001b[0;34m=\u001b[0m\u001b[0moutput_hidden_states\u001b[0m\u001b[0;34m,\u001b[0m\u001b[0;34m\u001b[0m\u001b[0;34m\u001b[0m\u001b[0m\n\u001b[0;32m-> 1316\u001b[0;31m             \u001b[0mreturn_dict\u001b[0m\u001b[0;34m=\u001b[0m\u001b[0mreturn_dict\u001b[0m\u001b[0;34m,\u001b[0m\u001b[0;34m\u001b[0m\u001b[0;34m\u001b[0m\u001b[0m\n\u001b[0m\u001b[1;32m   1317\u001b[0m         )\n\u001b[1;32m   1318\u001b[0m \u001b[0;34m\u001b[0m\u001b[0m\n",
            "\u001b[0;32m/usr/local/lib/python3.7/dist-packages/torch/nn/modules/module.py\u001b[0m in \u001b[0;36m_call_impl\u001b[0;34m(self, *input, **kwargs)\u001b[0m\n\u001b[1;32m   1128\u001b[0m         if not (self._backward_hooks or self._forward_hooks or self._forward_pre_hooks or _global_backward_hooks\n\u001b[1;32m   1129\u001b[0m                 or _global_forward_hooks or _global_forward_pre_hooks):\n\u001b[0;32m-> 1130\u001b[0;31m             \u001b[0;32mreturn\u001b[0m \u001b[0mforward_call\u001b[0m\u001b[0;34m(\u001b[0m\u001b[0;34m*\u001b[0m\u001b[0minput\u001b[0m\u001b[0;34m,\u001b[0m \u001b[0;34m**\u001b[0m\u001b[0mkwargs\u001b[0m\u001b[0;34m)\u001b[0m\u001b[0;34m\u001b[0m\u001b[0;34m\u001b[0m\u001b[0m\n\u001b[0m\u001b[1;32m   1131\u001b[0m         \u001b[0;31m# Do not call functions when jit is used\u001b[0m\u001b[0;34m\u001b[0m\u001b[0;34m\u001b[0m\u001b[0;34m\u001b[0m\u001b[0m\n\u001b[1;32m   1132\u001b[0m         \u001b[0mfull_backward_hooks\u001b[0m\u001b[0;34m,\u001b[0m \u001b[0mnon_full_backward_hooks\u001b[0m \u001b[0;34m=\u001b[0m \u001b[0;34m[\u001b[0m\u001b[0;34m]\u001b[0m\u001b[0;34m,\u001b[0m \u001b[0;34m[\u001b[0m\u001b[0;34m]\u001b[0m\u001b[0;34m\u001b[0m\u001b[0;34m\u001b[0m\u001b[0m\n",
            "\u001b[0;32m/usr/local/lib/python3.7/dist-packages/transformers/models/wav2vec2/modeling_wav2vec2.py\u001b[0m in \u001b[0;36mforward\u001b[0;34m(self, hidden_states, attention_mask, output_attentions, output_hidden_states, return_dict)\u001b[0m\n\u001b[1;32m    882\u001b[0m                 \u001b[0;32melse\u001b[0m\u001b[0;34m:\u001b[0m\u001b[0;34m\u001b[0m\u001b[0;34m\u001b[0m\u001b[0m\n\u001b[1;32m    883\u001b[0m                     layer_outputs = layer(\n\u001b[0;32m--> 884\u001b[0;31m                         \u001b[0mhidden_states\u001b[0m\u001b[0;34m,\u001b[0m \u001b[0mattention_mask\u001b[0m\u001b[0;34m=\u001b[0m\u001b[0mattention_mask\u001b[0m\u001b[0;34m,\u001b[0m \u001b[0moutput_attentions\u001b[0m\u001b[0;34m=\u001b[0m\u001b[0moutput_attentions\u001b[0m\u001b[0;34m\u001b[0m\u001b[0;34m\u001b[0m\u001b[0m\n\u001b[0m\u001b[1;32m    885\u001b[0m                     )\n\u001b[1;32m    886\u001b[0m                 \u001b[0mhidden_states\u001b[0m \u001b[0;34m=\u001b[0m \u001b[0mlayer_outputs\u001b[0m\u001b[0;34m[\u001b[0m\u001b[0;36m0\u001b[0m\u001b[0;34m]\u001b[0m\u001b[0;34m\u001b[0m\u001b[0;34m\u001b[0m\u001b[0m\n",
            "\u001b[0;32m/usr/local/lib/python3.7/dist-packages/torch/nn/modules/module.py\u001b[0m in \u001b[0;36m_call_impl\u001b[0;34m(self, *input, **kwargs)\u001b[0m\n\u001b[1;32m   1128\u001b[0m         if not (self._backward_hooks or self._forward_hooks or self._forward_pre_hooks or _global_backward_hooks\n\u001b[1;32m   1129\u001b[0m                 or _global_forward_hooks or _global_forward_pre_hooks):\n\u001b[0;32m-> 1130\u001b[0;31m             \u001b[0;32mreturn\u001b[0m \u001b[0mforward_call\u001b[0m\u001b[0;34m(\u001b[0m\u001b[0;34m*\u001b[0m\u001b[0minput\u001b[0m\u001b[0;34m,\u001b[0m \u001b[0;34m**\u001b[0m\u001b[0mkwargs\u001b[0m\u001b[0;34m)\u001b[0m\u001b[0;34m\u001b[0m\u001b[0;34m\u001b[0m\u001b[0m\n\u001b[0m\u001b[1;32m   1131\u001b[0m         \u001b[0;31m# Do not call functions when jit is used\u001b[0m\u001b[0;34m\u001b[0m\u001b[0;34m\u001b[0m\u001b[0;34m\u001b[0m\u001b[0m\n\u001b[1;32m   1132\u001b[0m         \u001b[0mfull_backward_hooks\u001b[0m\u001b[0;34m,\u001b[0m \u001b[0mnon_full_backward_hooks\u001b[0m \u001b[0;34m=\u001b[0m \u001b[0;34m[\u001b[0m\u001b[0;34m]\u001b[0m\u001b[0;34m,\u001b[0m \u001b[0;34m[\u001b[0m\u001b[0;34m]\u001b[0m\u001b[0;34m\u001b[0m\u001b[0;34m\u001b[0m\u001b[0m\n",
            "\u001b[0;32m/usr/local/lib/python3.7/dist-packages/transformers/models/wav2vec2/modeling_wav2vec2.py\u001b[0m in \u001b[0;36mforward\u001b[0;34m(self, hidden_states, attention_mask, output_attentions)\u001b[0m\n\u001b[1;32m    714\u001b[0m         \u001b[0mhidden_states\u001b[0m \u001b[0;34m=\u001b[0m \u001b[0mself\u001b[0m\u001b[0;34m.\u001b[0m\u001b[0mlayer_norm\u001b[0m\u001b[0;34m(\u001b[0m\u001b[0mhidden_states\u001b[0m\u001b[0;34m)\u001b[0m\u001b[0;34m\u001b[0m\u001b[0;34m\u001b[0m\u001b[0m\n\u001b[1;32m    715\u001b[0m         hidden_states, attn_weights, _ = self.attention(\n\u001b[0;32m--> 716\u001b[0;31m             \u001b[0mhidden_states\u001b[0m\u001b[0;34m,\u001b[0m \u001b[0mattention_mask\u001b[0m\u001b[0;34m=\u001b[0m\u001b[0mattention_mask\u001b[0m\u001b[0;34m,\u001b[0m \u001b[0moutput_attentions\u001b[0m\u001b[0;34m=\u001b[0m\u001b[0moutput_attentions\u001b[0m\u001b[0;34m\u001b[0m\u001b[0;34m\u001b[0m\u001b[0m\n\u001b[0m\u001b[1;32m    717\u001b[0m         )\n\u001b[1;32m    718\u001b[0m         \u001b[0mhidden_states\u001b[0m \u001b[0;34m=\u001b[0m \u001b[0mself\u001b[0m\u001b[0;34m.\u001b[0m\u001b[0mdropout\u001b[0m\u001b[0;34m(\u001b[0m\u001b[0mhidden_states\u001b[0m\u001b[0;34m)\u001b[0m\u001b[0;34m\u001b[0m\u001b[0;34m\u001b[0m\u001b[0m\n",
            "\u001b[0;32m/usr/local/lib/python3.7/dist-packages/torch/nn/modules/module.py\u001b[0m in \u001b[0;36m_call_impl\u001b[0;34m(self, *input, **kwargs)\u001b[0m\n\u001b[1;32m   1128\u001b[0m         if not (self._backward_hooks or self._forward_hooks or self._forward_pre_hooks or _global_backward_hooks\n\u001b[1;32m   1129\u001b[0m                 or _global_forward_hooks or _global_forward_pre_hooks):\n\u001b[0;32m-> 1130\u001b[0;31m             \u001b[0;32mreturn\u001b[0m \u001b[0mforward_call\u001b[0m\u001b[0;34m(\u001b[0m\u001b[0;34m*\u001b[0m\u001b[0minput\u001b[0m\u001b[0;34m,\u001b[0m \u001b[0;34m**\u001b[0m\u001b[0mkwargs\u001b[0m\u001b[0;34m)\u001b[0m\u001b[0;34m\u001b[0m\u001b[0;34m\u001b[0m\u001b[0m\n\u001b[0m\u001b[1;32m   1131\u001b[0m         \u001b[0;31m# Do not call functions when jit is used\u001b[0m\u001b[0;34m\u001b[0m\u001b[0;34m\u001b[0m\u001b[0;34m\u001b[0m\u001b[0m\n\u001b[1;32m   1132\u001b[0m         \u001b[0mfull_backward_hooks\u001b[0m\u001b[0;34m,\u001b[0m \u001b[0mnon_full_backward_hooks\u001b[0m \u001b[0;34m=\u001b[0m \u001b[0;34m[\u001b[0m\u001b[0;34m]\u001b[0m\u001b[0;34m,\u001b[0m \u001b[0;34m[\u001b[0m\u001b[0;34m]\u001b[0m\u001b[0;34m\u001b[0m\u001b[0;34m\u001b[0m\u001b[0m\n",
            "\u001b[0;32m/usr/local/lib/python3.7/dist-packages/transformers/models/wav2vec2/modeling_wav2vec2.py\u001b[0m in \u001b[0;36mforward\u001b[0;34m(self, hidden_states, key_value_states, past_key_value, attention_mask, layer_head_mask, output_attentions)\u001b[0m\n\u001b[1;32m    590\u001b[0m             \u001b[0mattn_weights\u001b[0m \u001b[0;34m=\u001b[0m \u001b[0mattn_weights\u001b[0m\u001b[0;34m.\u001b[0m\u001b[0mview\u001b[0m\u001b[0;34m(\u001b[0m\u001b[0mbsz\u001b[0m \u001b[0;34m*\u001b[0m \u001b[0mself\u001b[0m\u001b[0;34m.\u001b[0m\u001b[0mnum_heads\u001b[0m\u001b[0;34m,\u001b[0m \u001b[0mtgt_len\u001b[0m\u001b[0;34m,\u001b[0m \u001b[0msrc_len\u001b[0m\u001b[0;34m)\u001b[0m\u001b[0;34m\u001b[0m\u001b[0;34m\u001b[0m\u001b[0m\n\u001b[1;32m    591\u001b[0m \u001b[0;34m\u001b[0m\u001b[0m\n\u001b[0;32m--> 592\u001b[0;31m         \u001b[0mattn_weights\u001b[0m \u001b[0;34m=\u001b[0m \u001b[0mnn\u001b[0m\u001b[0;34m.\u001b[0m\u001b[0mfunctional\u001b[0m\u001b[0;34m.\u001b[0m\u001b[0msoftmax\u001b[0m\u001b[0;34m(\u001b[0m\u001b[0mattn_weights\u001b[0m\u001b[0;34m,\u001b[0m \u001b[0mdim\u001b[0m\u001b[0;34m=\u001b[0m\u001b[0;34m-\u001b[0m\u001b[0;36m1\u001b[0m\u001b[0;34m)\u001b[0m\u001b[0;34m\u001b[0m\u001b[0;34m\u001b[0m\u001b[0m\n\u001b[0m\u001b[1;32m    593\u001b[0m \u001b[0;34m\u001b[0m\u001b[0m\n\u001b[1;32m    594\u001b[0m         \u001b[0;32mif\u001b[0m \u001b[0mlayer_head_mask\u001b[0m \u001b[0;32mis\u001b[0m \u001b[0;32mnot\u001b[0m \u001b[0;32mNone\u001b[0m\u001b[0;34m:\u001b[0m\u001b[0;34m\u001b[0m\u001b[0;34m\u001b[0m\u001b[0m\n",
            "\u001b[0;32m/usr/local/lib/python3.7/dist-packages/torch/nn/functional.py\u001b[0m in \u001b[0;36msoftmax\u001b[0;34m(input, dim, _stacklevel, dtype)\u001b[0m\n\u001b[1;32m   1832\u001b[0m         \u001b[0mdim\u001b[0m \u001b[0;34m=\u001b[0m \u001b[0m_get_softmax_dim\u001b[0m\u001b[0;34m(\u001b[0m\u001b[0;34m\"softmax\"\u001b[0m\u001b[0;34m,\u001b[0m \u001b[0minput\u001b[0m\u001b[0;34m.\u001b[0m\u001b[0mdim\u001b[0m\u001b[0;34m(\u001b[0m\u001b[0;34m)\u001b[0m\u001b[0;34m,\u001b[0m \u001b[0m_stacklevel\u001b[0m\u001b[0;34m)\u001b[0m\u001b[0;34m\u001b[0m\u001b[0;34m\u001b[0m\u001b[0m\n\u001b[1;32m   1833\u001b[0m     \u001b[0;32mif\u001b[0m \u001b[0mdtype\u001b[0m \u001b[0;32mis\u001b[0m \u001b[0;32mNone\u001b[0m\u001b[0;34m:\u001b[0m\u001b[0;34m\u001b[0m\u001b[0;34m\u001b[0m\u001b[0m\n\u001b[0;32m-> 1834\u001b[0;31m         \u001b[0mret\u001b[0m \u001b[0;34m=\u001b[0m \u001b[0minput\u001b[0m\u001b[0;34m.\u001b[0m\u001b[0msoftmax\u001b[0m\u001b[0;34m(\u001b[0m\u001b[0mdim\u001b[0m\u001b[0;34m)\u001b[0m\u001b[0;34m\u001b[0m\u001b[0;34m\u001b[0m\u001b[0m\n\u001b[0m\u001b[1;32m   1835\u001b[0m     \u001b[0;32melse\u001b[0m\u001b[0;34m:\u001b[0m\u001b[0;34m\u001b[0m\u001b[0;34m\u001b[0m\u001b[0m\n\u001b[1;32m   1836\u001b[0m         \u001b[0mret\u001b[0m \u001b[0;34m=\u001b[0m \u001b[0minput\u001b[0m\u001b[0;34m.\u001b[0m\u001b[0msoftmax\u001b[0m\u001b[0;34m(\u001b[0m\u001b[0mdim\u001b[0m\u001b[0;34m,\u001b[0m \u001b[0mdtype\u001b[0m\u001b[0;34m=\u001b[0m\u001b[0mdtype\u001b[0m\u001b[0;34m)\u001b[0m\u001b[0;34m\u001b[0m\u001b[0;34m\u001b[0m\u001b[0m\n",
            "\u001b[0;31mRuntimeError\u001b[0m: CUDA out of memory. Tried to allocate 290.00 MiB (GPU 0; 14.76 GiB total capacity; 12.79 GiB already allocated; 133.75 MiB free; 13.36 GiB reserved in total by PyTorch) If reserved memory is >> allocated memory try setting max_split_size_mb to avoid fragmentation.  See documentation for Memory Management and PYTORCH_CUDA_ALLOC_CONF"
          ]
        }
      ]
    },
    {
      "cell_type": "code",
      "source": [],
      "metadata": {
        "id": "pPX6xBNv7bkZ"
      },
      "id": "pPX6xBNv7bkZ",
      "execution_count": null,
      "outputs": []
    }
  ],
  "metadata": {
    "kernelspec": {
      "display_name": "Python 3.9.13 ('kaggle')",
      "language": "python",
      "name": "python3"
    },
    "language_info": {
      "codemirror_mode": {
        "name": "ipython",
        "version": 3
      },
      "file_extension": ".py",
      "mimetype": "text/x-python",
      "name": "python",
      "nbconvert_exporter": "python",
      "pygments_lexer": "ipython3",
      "version": "3.9.13"
    },
    "papermill": {
      "default_parameters": {},
      "duration": 7925.85518,
      "end_time": "2022-08-29T05:59:29.111779",
      "environment_variables": {},
      "exception": null,
      "input_path": "__notebook__.ipynb",
      "output_path": "__notebook__.ipynb",
      "parameters": {},
      "start_time": "2022-08-29T03:47:23.256599",
      "version": "2.3.4"
    },
    "vscode": {
      "interpreter": {
        "hash": "c4fea0eb92f3fef83297d10c0b617ff9937b617fe17ff0277fec4db8d579571f"
      }
    },
    "widgets": {
      "application/vnd.jupyter.widget-state+json": {
        "ebe7d9bfc4674785929569355be94399": {
          "model_module": "@jupyter-widgets/controls",
          "model_name": "HBoxModel",
          "model_module_version": "1.5.0",
          "state": {
            "_dom_classes": [],
            "_model_module": "@jupyter-widgets/controls",
            "_model_module_version": "1.5.0",
            "_model_name": "HBoxModel",
            "_view_count": null,
            "_view_module": "@jupyter-widgets/controls",
            "_view_module_version": "1.5.0",
            "_view_name": "HBoxView",
            "box_style": "",
            "children": [
              "IPY_MODEL_d42aba46f0724ede885f98320385c3e1",
              "IPY_MODEL_c541041ed3e34dc8af31e3ef9b8fec25",
              "IPY_MODEL_a6500ea265244ea48a22a13a9bdadeba"
            ],
            "layout": "IPY_MODEL_4894959c67b24fb08e5227ee2448fbc3"
          }
        },
        "d42aba46f0724ede885f98320385c3e1": {
          "model_module": "@jupyter-widgets/controls",
          "model_name": "HTMLModel",
          "model_module_version": "1.5.0",
          "state": {
            "_dom_classes": [],
            "_model_module": "@jupyter-widgets/controls",
            "_model_module_version": "1.5.0",
            "_model_name": "HTMLModel",
            "_view_count": null,
            "_view_module": "@jupyter-widgets/controls",
            "_view_module_version": "1.5.0",
            "_view_name": "HTMLView",
            "description": "",
            "description_tooltip": null,
            "layout": "IPY_MODEL_bcecedc85c8a4058b0513d3185fd4908",
            "placeholder": "​",
            "style": "IPY_MODEL_d69b4d7c4ddf444c81780728492f031c",
            "value": "#0:  98%"
          }
        },
        "c541041ed3e34dc8af31e3ef9b8fec25": {
          "model_module": "@jupyter-widgets/controls",
          "model_name": "FloatProgressModel",
          "model_module_version": "1.5.0",
          "state": {
            "_dom_classes": [],
            "_model_module": "@jupyter-widgets/controls",
            "_model_module_version": "1.5.0",
            "_model_name": "FloatProgressModel",
            "_view_count": null,
            "_view_module": "@jupyter-widgets/controls",
            "_view_module_version": "1.5.0",
            "_view_name": "ProgressView",
            "bar_style": "danger",
            "description": "",
            "description_tooltip": null,
            "layout": "IPY_MODEL_ec0e3fb8d7e14cba8caed9b5ae75bc09",
            "max": 49,
            "min": 0,
            "orientation": "horizontal",
            "style": "IPY_MODEL_7d238e1a65dc48d49e9b375c6a2e0b27",
            "value": 48
          }
        },
        "a6500ea265244ea48a22a13a9bdadeba": {
          "model_module": "@jupyter-widgets/controls",
          "model_name": "HTMLModel",
          "model_module_version": "1.5.0",
          "state": {
            "_dom_classes": [],
            "_model_module": "@jupyter-widgets/controls",
            "_model_module_version": "1.5.0",
            "_model_name": "HTMLModel",
            "_view_count": null,
            "_view_module": "@jupyter-widgets/controls",
            "_view_module_version": "1.5.0",
            "_view_name": "HTMLView",
            "description": "",
            "description_tooltip": null,
            "layout": "IPY_MODEL_d655ad27532c4d14a640d86a1b78fb99",
            "placeholder": "​",
            "style": "IPY_MODEL_2c1e2985a0e34c4c8adc1479ee872313",
            "value": " 48/49 [00:51&lt;00:00,  1.05ba/s]"
          }
        },
        "4894959c67b24fb08e5227ee2448fbc3": {
          "model_module": "@jupyter-widgets/base",
          "model_name": "LayoutModel",
          "model_module_version": "1.2.0",
          "state": {
            "_model_module": "@jupyter-widgets/base",
            "_model_module_version": "1.2.0",
            "_model_name": "LayoutModel",
            "_view_count": null,
            "_view_module": "@jupyter-widgets/base",
            "_view_module_version": "1.2.0",
            "_view_name": "LayoutView",
            "align_content": null,
            "align_items": null,
            "align_self": null,
            "border": null,
            "bottom": null,
            "display": null,
            "flex": null,
            "flex_flow": null,
            "grid_area": null,
            "grid_auto_columns": null,
            "grid_auto_flow": null,
            "grid_auto_rows": null,
            "grid_column": null,
            "grid_gap": null,
            "grid_row": null,
            "grid_template_areas": null,
            "grid_template_columns": null,
            "grid_template_rows": null,
            "height": null,
            "justify_content": null,
            "justify_items": null,
            "left": null,
            "margin": null,
            "max_height": null,
            "max_width": null,
            "min_height": null,
            "min_width": null,
            "object_fit": null,
            "object_position": null,
            "order": null,
            "overflow": null,
            "overflow_x": null,
            "overflow_y": null,
            "padding": null,
            "right": null,
            "top": null,
            "visibility": null,
            "width": null
          }
        },
        "bcecedc85c8a4058b0513d3185fd4908": {
          "model_module": "@jupyter-widgets/base",
          "model_name": "LayoutModel",
          "model_module_version": "1.2.0",
          "state": {
            "_model_module": "@jupyter-widgets/base",
            "_model_module_version": "1.2.0",
            "_model_name": "LayoutModel",
            "_view_count": null,
            "_view_module": "@jupyter-widgets/base",
            "_view_module_version": "1.2.0",
            "_view_name": "LayoutView",
            "align_content": null,
            "align_items": null,
            "align_self": null,
            "border": null,
            "bottom": null,
            "display": null,
            "flex": null,
            "flex_flow": null,
            "grid_area": null,
            "grid_auto_columns": null,
            "grid_auto_flow": null,
            "grid_auto_rows": null,
            "grid_column": null,
            "grid_gap": null,
            "grid_row": null,
            "grid_template_areas": null,
            "grid_template_columns": null,
            "grid_template_rows": null,
            "height": null,
            "justify_content": null,
            "justify_items": null,
            "left": null,
            "margin": null,
            "max_height": null,
            "max_width": null,
            "min_height": null,
            "min_width": null,
            "object_fit": null,
            "object_position": null,
            "order": null,
            "overflow": null,
            "overflow_x": null,
            "overflow_y": null,
            "padding": null,
            "right": null,
            "top": null,
            "visibility": null,
            "width": null
          }
        },
        "d69b4d7c4ddf444c81780728492f031c": {
          "model_module": "@jupyter-widgets/controls",
          "model_name": "DescriptionStyleModel",
          "model_module_version": "1.5.0",
          "state": {
            "_model_module": "@jupyter-widgets/controls",
            "_model_module_version": "1.5.0",
            "_model_name": "DescriptionStyleModel",
            "_view_count": null,
            "_view_module": "@jupyter-widgets/base",
            "_view_module_version": "1.2.0",
            "_view_name": "StyleView",
            "description_width": ""
          }
        },
        "ec0e3fb8d7e14cba8caed9b5ae75bc09": {
          "model_module": "@jupyter-widgets/base",
          "model_name": "LayoutModel",
          "model_module_version": "1.2.0",
          "state": {
            "_model_module": "@jupyter-widgets/base",
            "_model_module_version": "1.2.0",
            "_model_name": "LayoutModel",
            "_view_count": null,
            "_view_module": "@jupyter-widgets/base",
            "_view_module_version": "1.2.0",
            "_view_name": "LayoutView",
            "align_content": null,
            "align_items": null,
            "align_self": null,
            "border": null,
            "bottom": null,
            "display": null,
            "flex": null,
            "flex_flow": null,
            "grid_area": null,
            "grid_auto_columns": null,
            "grid_auto_flow": null,
            "grid_auto_rows": null,
            "grid_column": null,
            "grid_gap": null,
            "grid_row": null,
            "grid_template_areas": null,
            "grid_template_columns": null,
            "grid_template_rows": null,
            "height": null,
            "justify_content": null,
            "justify_items": null,
            "left": null,
            "margin": null,
            "max_height": null,
            "max_width": null,
            "min_height": null,
            "min_width": null,
            "object_fit": null,
            "object_position": null,
            "order": null,
            "overflow": null,
            "overflow_x": null,
            "overflow_y": null,
            "padding": null,
            "right": null,
            "top": null,
            "visibility": null,
            "width": null
          }
        },
        "7d238e1a65dc48d49e9b375c6a2e0b27": {
          "model_module": "@jupyter-widgets/controls",
          "model_name": "ProgressStyleModel",
          "model_module_version": "1.5.0",
          "state": {
            "_model_module": "@jupyter-widgets/controls",
            "_model_module_version": "1.5.0",
            "_model_name": "ProgressStyleModel",
            "_view_count": null,
            "_view_module": "@jupyter-widgets/base",
            "_view_module_version": "1.2.0",
            "_view_name": "StyleView",
            "bar_color": null,
            "description_width": ""
          }
        },
        "d655ad27532c4d14a640d86a1b78fb99": {
          "model_module": "@jupyter-widgets/base",
          "model_name": "LayoutModel",
          "model_module_version": "1.2.0",
          "state": {
            "_model_module": "@jupyter-widgets/base",
            "_model_module_version": "1.2.0",
            "_model_name": "LayoutModel",
            "_view_count": null,
            "_view_module": "@jupyter-widgets/base",
            "_view_module_version": "1.2.0",
            "_view_name": "LayoutView",
            "align_content": null,
            "align_items": null,
            "align_self": null,
            "border": null,
            "bottom": null,
            "display": null,
            "flex": null,
            "flex_flow": null,
            "grid_area": null,
            "grid_auto_columns": null,
            "grid_auto_flow": null,
            "grid_auto_rows": null,
            "grid_column": null,
            "grid_gap": null,
            "grid_row": null,
            "grid_template_areas": null,
            "grid_template_columns": null,
            "grid_template_rows": null,
            "height": null,
            "justify_content": null,
            "justify_items": null,
            "left": null,
            "margin": null,
            "max_height": null,
            "max_width": null,
            "min_height": null,
            "min_width": null,
            "object_fit": null,
            "object_position": null,
            "order": null,
            "overflow": null,
            "overflow_x": null,
            "overflow_y": null,
            "padding": null,
            "right": null,
            "top": null,
            "visibility": null,
            "width": null
          }
        },
        "2c1e2985a0e34c4c8adc1479ee872313": {
          "model_module": "@jupyter-widgets/controls",
          "model_name": "DescriptionStyleModel",
          "model_module_version": "1.5.0",
          "state": {
            "_model_module": "@jupyter-widgets/controls",
            "_model_module_version": "1.5.0",
            "_model_name": "DescriptionStyleModel",
            "_view_count": null,
            "_view_module": "@jupyter-widgets/base",
            "_view_module_version": "1.2.0",
            "_view_name": "StyleView",
            "description_width": ""
          }
        },
        "ed7368f3b417449a95f59f953041455a": {
          "model_module": "@jupyter-widgets/controls",
          "model_name": "HBoxModel",
          "model_module_version": "1.5.0",
          "state": {
            "_dom_classes": [],
            "_model_module": "@jupyter-widgets/controls",
            "_model_module_version": "1.5.0",
            "_model_name": "HBoxModel",
            "_view_count": null,
            "_view_module": "@jupyter-widgets/controls",
            "_view_module_version": "1.5.0",
            "_view_name": "HBoxView",
            "box_style": "",
            "children": [
              "IPY_MODEL_3ae3c1ee50d543fb88e0f3914304b728",
              "IPY_MODEL_0746c84f2f9e4c86811baee4e18f2395",
              "IPY_MODEL_dce9ea400e6549338c87e3f3600a4c37"
            ],
            "layout": "IPY_MODEL_9eb358e121ab414ab919ff801e2cc059"
          }
        },
        "3ae3c1ee50d543fb88e0f3914304b728": {
          "model_module": "@jupyter-widgets/controls",
          "model_name": "HTMLModel",
          "model_module_version": "1.5.0",
          "state": {
            "_dom_classes": [],
            "_model_module": "@jupyter-widgets/controls",
            "_model_module_version": "1.5.0",
            "_model_name": "HTMLModel",
            "_view_count": null,
            "_view_module": "@jupyter-widgets/controls",
            "_view_module_version": "1.5.0",
            "_view_name": "HTMLView",
            "description": "",
            "description_tooltip": null,
            "layout": "IPY_MODEL_427b55f3f630446991891e2dd591302b",
            "placeholder": "​",
            "style": "IPY_MODEL_f3121adf2b4044c0b8eab2d1c19744d8",
            "value": "#1:  98%"
          }
        },
        "0746c84f2f9e4c86811baee4e18f2395": {
          "model_module": "@jupyter-widgets/controls",
          "model_name": "FloatProgressModel",
          "model_module_version": "1.5.0",
          "state": {
            "_dom_classes": [],
            "_model_module": "@jupyter-widgets/controls",
            "_model_module_version": "1.5.0",
            "_model_name": "FloatProgressModel",
            "_view_count": null,
            "_view_module": "@jupyter-widgets/controls",
            "_view_module_version": "1.5.0",
            "_view_name": "ProgressView",
            "bar_style": "danger",
            "description": "",
            "description_tooltip": null,
            "layout": "IPY_MODEL_3977534326604d0c8ca9845ffa0ad827",
            "max": 49,
            "min": 0,
            "orientation": "horizontal",
            "style": "IPY_MODEL_920a219b5d514386ab54138eb8e27f18",
            "value": 48
          }
        },
        "dce9ea400e6549338c87e3f3600a4c37": {
          "model_module": "@jupyter-widgets/controls",
          "model_name": "HTMLModel",
          "model_module_version": "1.5.0",
          "state": {
            "_dom_classes": [],
            "_model_module": "@jupyter-widgets/controls",
            "_model_module_version": "1.5.0",
            "_model_name": "HTMLModel",
            "_view_count": null,
            "_view_module": "@jupyter-widgets/controls",
            "_view_module_version": "1.5.0",
            "_view_name": "HTMLView",
            "description": "",
            "description_tooltip": null,
            "layout": "IPY_MODEL_5884e1685f664e0eb8166071f987da3d",
            "placeholder": "​",
            "style": "IPY_MODEL_9dce080f70b84642abb2d478597e7aee",
            "value": " 48/49 [00:51&lt;00:00,  1.00ba/s]"
          }
        },
        "9eb358e121ab414ab919ff801e2cc059": {
          "model_module": "@jupyter-widgets/base",
          "model_name": "LayoutModel",
          "model_module_version": "1.2.0",
          "state": {
            "_model_module": "@jupyter-widgets/base",
            "_model_module_version": "1.2.0",
            "_model_name": "LayoutModel",
            "_view_count": null,
            "_view_module": "@jupyter-widgets/base",
            "_view_module_version": "1.2.0",
            "_view_name": "LayoutView",
            "align_content": null,
            "align_items": null,
            "align_self": null,
            "border": null,
            "bottom": null,
            "display": null,
            "flex": null,
            "flex_flow": null,
            "grid_area": null,
            "grid_auto_columns": null,
            "grid_auto_flow": null,
            "grid_auto_rows": null,
            "grid_column": null,
            "grid_gap": null,
            "grid_row": null,
            "grid_template_areas": null,
            "grid_template_columns": null,
            "grid_template_rows": null,
            "height": null,
            "justify_content": null,
            "justify_items": null,
            "left": null,
            "margin": null,
            "max_height": null,
            "max_width": null,
            "min_height": null,
            "min_width": null,
            "object_fit": null,
            "object_position": null,
            "order": null,
            "overflow": null,
            "overflow_x": null,
            "overflow_y": null,
            "padding": null,
            "right": null,
            "top": null,
            "visibility": null,
            "width": null
          }
        },
        "427b55f3f630446991891e2dd591302b": {
          "model_module": "@jupyter-widgets/base",
          "model_name": "LayoutModel",
          "model_module_version": "1.2.0",
          "state": {
            "_model_module": "@jupyter-widgets/base",
            "_model_module_version": "1.2.0",
            "_model_name": "LayoutModel",
            "_view_count": null,
            "_view_module": "@jupyter-widgets/base",
            "_view_module_version": "1.2.0",
            "_view_name": "LayoutView",
            "align_content": null,
            "align_items": null,
            "align_self": null,
            "border": null,
            "bottom": null,
            "display": null,
            "flex": null,
            "flex_flow": null,
            "grid_area": null,
            "grid_auto_columns": null,
            "grid_auto_flow": null,
            "grid_auto_rows": null,
            "grid_column": null,
            "grid_gap": null,
            "grid_row": null,
            "grid_template_areas": null,
            "grid_template_columns": null,
            "grid_template_rows": null,
            "height": null,
            "justify_content": null,
            "justify_items": null,
            "left": null,
            "margin": null,
            "max_height": null,
            "max_width": null,
            "min_height": null,
            "min_width": null,
            "object_fit": null,
            "object_position": null,
            "order": null,
            "overflow": null,
            "overflow_x": null,
            "overflow_y": null,
            "padding": null,
            "right": null,
            "top": null,
            "visibility": null,
            "width": null
          }
        },
        "f3121adf2b4044c0b8eab2d1c19744d8": {
          "model_module": "@jupyter-widgets/controls",
          "model_name": "DescriptionStyleModel",
          "model_module_version": "1.5.0",
          "state": {
            "_model_module": "@jupyter-widgets/controls",
            "_model_module_version": "1.5.0",
            "_model_name": "DescriptionStyleModel",
            "_view_count": null,
            "_view_module": "@jupyter-widgets/base",
            "_view_module_version": "1.2.0",
            "_view_name": "StyleView",
            "description_width": ""
          }
        },
        "3977534326604d0c8ca9845ffa0ad827": {
          "model_module": "@jupyter-widgets/base",
          "model_name": "LayoutModel",
          "model_module_version": "1.2.0",
          "state": {
            "_model_module": "@jupyter-widgets/base",
            "_model_module_version": "1.2.0",
            "_model_name": "LayoutModel",
            "_view_count": null,
            "_view_module": "@jupyter-widgets/base",
            "_view_module_version": "1.2.0",
            "_view_name": "LayoutView",
            "align_content": null,
            "align_items": null,
            "align_self": null,
            "border": null,
            "bottom": null,
            "display": null,
            "flex": null,
            "flex_flow": null,
            "grid_area": null,
            "grid_auto_columns": null,
            "grid_auto_flow": null,
            "grid_auto_rows": null,
            "grid_column": null,
            "grid_gap": null,
            "grid_row": null,
            "grid_template_areas": null,
            "grid_template_columns": null,
            "grid_template_rows": null,
            "height": null,
            "justify_content": null,
            "justify_items": null,
            "left": null,
            "margin": null,
            "max_height": null,
            "max_width": null,
            "min_height": null,
            "min_width": null,
            "object_fit": null,
            "object_position": null,
            "order": null,
            "overflow": null,
            "overflow_x": null,
            "overflow_y": null,
            "padding": null,
            "right": null,
            "top": null,
            "visibility": null,
            "width": null
          }
        },
        "920a219b5d514386ab54138eb8e27f18": {
          "model_module": "@jupyter-widgets/controls",
          "model_name": "ProgressStyleModel",
          "model_module_version": "1.5.0",
          "state": {
            "_model_module": "@jupyter-widgets/controls",
            "_model_module_version": "1.5.0",
            "_model_name": "ProgressStyleModel",
            "_view_count": null,
            "_view_module": "@jupyter-widgets/base",
            "_view_module_version": "1.2.0",
            "_view_name": "StyleView",
            "bar_color": null,
            "description_width": ""
          }
        },
        "5884e1685f664e0eb8166071f987da3d": {
          "model_module": "@jupyter-widgets/base",
          "model_name": "LayoutModel",
          "model_module_version": "1.2.0",
          "state": {
            "_model_module": "@jupyter-widgets/base",
            "_model_module_version": "1.2.0",
            "_model_name": "LayoutModel",
            "_view_count": null,
            "_view_module": "@jupyter-widgets/base",
            "_view_module_version": "1.2.0",
            "_view_name": "LayoutView",
            "align_content": null,
            "align_items": null,
            "align_self": null,
            "border": null,
            "bottom": null,
            "display": null,
            "flex": null,
            "flex_flow": null,
            "grid_area": null,
            "grid_auto_columns": null,
            "grid_auto_flow": null,
            "grid_auto_rows": null,
            "grid_column": null,
            "grid_gap": null,
            "grid_row": null,
            "grid_template_areas": null,
            "grid_template_columns": null,
            "grid_template_rows": null,
            "height": null,
            "justify_content": null,
            "justify_items": null,
            "left": null,
            "margin": null,
            "max_height": null,
            "max_width": null,
            "min_height": null,
            "min_width": null,
            "object_fit": null,
            "object_position": null,
            "order": null,
            "overflow": null,
            "overflow_x": null,
            "overflow_y": null,
            "padding": null,
            "right": null,
            "top": null,
            "visibility": null,
            "width": null
          }
        },
        "9dce080f70b84642abb2d478597e7aee": {
          "model_module": "@jupyter-widgets/controls",
          "model_name": "DescriptionStyleModel",
          "model_module_version": "1.5.0",
          "state": {
            "_model_module": "@jupyter-widgets/controls",
            "_model_module_version": "1.5.0",
            "_model_name": "DescriptionStyleModel",
            "_view_count": null,
            "_view_module": "@jupyter-widgets/base",
            "_view_module_version": "1.2.0",
            "_view_name": "StyleView",
            "description_width": ""
          }
        },
        "e4ac9108eeb54be883e278196959c15c": {
          "model_module": "@jupyter-widgets/controls",
          "model_name": "HBoxModel",
          "model_module_version": "1.5.0",
          "state": {
            "_dom_classes": [],
            "_model_module": "@jupyter-widgets/controls",
            "_model_module_version": "1.5.0",
            "_model_name": "HBoxModel",
            "_view_count": null,
            "_view_module": "@jupyter-widgets/controls",
            "_view_module_version": "1.5.0",
            "_view_name": "HBoxView",
            "box_style": "",
            "children": [
              "IPY_MODEL_84f46168d1354ca6bc950915e6778742",
              "IPY_MODEL_6d75769100b64508b9c8d0256c3aa003",
              "IPY_MODEL_4d1870f936c54fb6bc2734ff29cad734"
            ],
            "layout": "IPY_MODEL_6987436393d2440fa3b95eca543845f3"
          }
        },
        "84f46168d1354ca6bc950915e6778742": {
          "model_module": "@jupyter-widgets/controls",
          "model_name": "HTMLModel",
          "model_module_version": "1.5.0",
          "state": {
            "_dom_classes": [],
            "_model_module": "@jupyter-widgets/controls",
            "_model_module_version": "1.5.0",
            "_model_name": "HTMLModel",
            "_view_count": null,
            "_view_module": "@jupyter-widgets/controls",
            "_view_module_version": "1.5.0",
            "_view_name": "HTMLView",
            "description": "",
            "description_tooltip": null,
            "layout": "IPY_MODEL_4cce7ab11758497b94b4dd8c03fea3fc",
            "placeholder": "​",
            "style": "IPY_MODEL_1e2089a5045c47a59680dcd99e98dde5",
            "value": "#3:  98%"
          }
        },
        "6d75769100b64508b9c8d0256c3aa003": {
          "model_module": "@jupyter-widgets/controls",
          "model_name": "FloatProgressModel",
          "model_module_version": "1.5.0",
          "state": {
            "_dom_classes": [],
            "_model_module": "@jupyter-widgets/controls",
            "_model_module_version": "1.5.0",
            "_model_name": "FloatProgressModel",
            "_view_count": null,
            "_view_module": "@jupyter-widgets/controls",
            "_view_module_version": "1.5.0",
            "_view_name": "ProgressView",
            "bar_style": "danger",
            "description": "",
            "description_tooltip": null,
            "layout": "IPY_MODEL_d6aca6ea656c426a8216f00f0a670f15",
            "max": 49,
            "min": 0,
            "orientation": "horizontal",
            "style": "IPY_MODEL_72a30e8cdb6944409010e21d8abf042c",
            "value": 48
          }
        },
        "4d1870f936c54fb6bc2734ff29cad734": {
          "model_module": "@jupyter-widgets/controls",
          "model_name": "HTMLModel",
          "model_module_version": "1.5.0",
          "state": {
            "_dom_classes": [],
            "_model_module": "@jupyter-widgets/controls",
            "_model_module_version": "1.5.0",
            "_model_name": "HTMLModel",
            "_view_count": null,
            "_view_module": "@jupyter-widgets/controls",
            "_view_module_version": "1.5.0",
            "_view_name": "HTMLView",
            "description": "",
            "description_tooltip": null,
            "layout": "IPY_MODEL_5bfaa7839adc4fcdaf043385a79461cd",
            "placeholder": "​",
            "style": "IPY_MODEL_bda802a3fa7445b6be2a9d5b739c07e1",
            "value": " 48/49 [00:51&lt;00:00,  1.06ba/s]"
          }
        },
        "6987436393d2440fa3b95eca543845f3": {
          "model_module": "@jupyter-widgets/base",
          "model_name": "LayoutModel",
          "model_module_version": "1.2.0",
          "state": {
            "_model_module": "@jupyter-widgets/base",
            "_model_module_version": "1.2.0",
            "_model_name": "LayoutModel",
            "_view_count": null,
            "_view_module": "@jupyter-widgets/base",
            "_view_module_version": "1.2.0",
            "_view_name": "LayoutView",
            "align_content": null,
            "align_items": null,
            "align_self": null,
            "border": null,
            "bottom": null,
            "display": null,
            "flex": null,
            "flex_flow": null,
            "grid_area": null,
            "grid_auto_columns": null,
            "grid_auto_flow": null,
            "grid_auto_rows": null,
            "grid_column": null,
            "grid_gap": null,
            "grid_row": null,
            "grid_template_areas": null,
            "grid_template_columns": null,
            "grid_template_rows": null,
            "height": null,
            "justify_content": null,
            "justify_items": null,
            "left": null,
            "margin": null,
            "max_height": null,
            "max_width": null,
            "min_height": null,
            "min_width": null,
            "object_fit": null,
            "object_position": null,
            "order": null,
            "overflow": null,
            "overflow_x": null,
            "overflow_y": null,
            "padding": null,
            "right": null,
            "top": null,
            "visibility": null,
            "width": null
          }
        },
        "4cce7ab11758497b94b4dd8c03fea3fc": {
          "model_module": "@jupyter-widgets/base",
          "model_name": "LayoutModel",
          "model_module_version": "1.2.0",
          "state": {
            "_model_module": "@jupyter-widgets/base",
            "_model_module_version": "1.2.0",
            "_model_name": "LayoutModel",
            "_view_count": null,
            "_view_module": "@jupyter-widgets/base",
            "_view_module_version": "1.2.0",
            "_view_name": "LayoutView",
            "align_content": null,
            "align_items": null,
            "align_self": null,
            "border": null,
            "bottom": null,
            "display": null,
            "flex": null,
            "flex_flow": null,
            "grid_area": null,
            "grid_auto_columns": null,
            "grid_auto_flow": null,
            "grid_auto_rows": null,
            "grid_column": null,
            "grid_gap": null,
            "grid_row": null,
            "grid_template_areas": null,
            "grid_template_columns": null,
            "grid_template_rows": null,
            "height": null,
            "justify_content": null,
            "justify_items": null,
            "left": null,
            "margin": null,
            "max_height": null,
            "max_width": null,
            "min_height": null,
            "min_width": null,
            "object_fit": null,
            "object_position": null,
            "order": null,
            "overflow": null,
            "overflow_x": null,
            "overflow_y": null,
            "padding": null,
            "right": null,
            "top": null,
            "visibility": null,
            "width": null
          }
        },
        "1e2089a5045c47a59680dcd99e98dde5": {
          "model_module": "@jupyter-widgets/controls",
          "model_name": "DescriptionStyleModel",
          "model_module_version": "1.5.0",
          "state": {
            "_model_module": "@jupyter-widgets/controls",
            "_model_module_version": "1.5.0",
            "_model_name": "DescriptionStyleModel",
            "_view_count": null,
            "_view_module": "@jupyter-widgets/base",
            "_view_module_version": "1.2.0",
            "_view_name": "StyleView",
            "description_width": ""
          }
        },
        "d6aca6ea656c426a8216f00f0a670f15": {
          "model_module": "@jupyter-widgets/base",
          "model_name": "LayoutModel",
          "model_module_version": "1.2.0",
          "state": {
            "_model_module": "@jupyter-widgets/base",
            "_model_module_version": "1.2.0",
            "_model_name": "LayoutModel",
            "_view_count": null,
            "_view_module": "@jupyter-widgets/base",
            "_view_module_version": "1.2.0",
            "_view_name": "LayoutView",
            "align_content": null,
            "align_items": null,
            "align_self": null,
            "border": null,
            "bottom": null,
            "display": null,
            "flex": null,
            "flex_flow": null,
            "grid_area": null,
            "grid_auto_columns": null,
            "grid_auto_flow": null,
            "grid_auto_rows": null,
            "grid_column": null,
            "grid_gap": null,
            "grid_row": null,
            "grid_template_areas": null,
            "grid_template_columns": null,
            "grid_template_rows": null,
            "height": null,
            "justify_content": null,
            "justify_items": null,
            "left": null,
            "margin": null,
            "max_height": null,
            "max_width": null,
            "min_height": null,
            "min_width": null,
            "object_fit": null,
            "object_position": null,
            "order": null,
            "overflow": null,
            "overflow_x": null,
            "overflow_y": null,
            "padding": null,
            "right": null,
            "top": null,
            "visibility": null,
            "width": null
          }
        },
        "72a30e8cdb6944409010e21d8abf042c": {
          "model_module": "@jupyter-widgets/controls",
          "model_name": "ProgressStyleModel",
          "model_module_version": "1.5.0",
          "state": {
            "_model_module": "@jupyter-widgets/controls",
            "_model_module_version": "1.5.0",
            "_model_name": "ProgressStyleModel",
            "_view_count": null,
            "_view_module": "@jupyter-widgets/base",
            "_view_module_version": "1.2.0",
            "_view_name": "StyleView",
            "bar_color": null,
            "description_width": ""
          }
        },
        "5bfaa7839adc4fcdaf043385a79461cd": {
          "model_module": "@jupyter-widgets/base",
          "model_name": "LayoutModel",
          "model_module_version": "1.2.0",
          "state": {
            "_model_module": "@jupyter-widgets/base",
            "_model_module_version": "1.2.0",
            "_model_name": "LayoutModel",
            "_view_count": null,
            "_view_module": "@jupyter-widgets/base",
            "_view_module_version": "1.2.0",
            "_view_name": "LayoutView",
            "align_content": null,
            "align_items": null,
            "align_self": null,
            "border": null,
            "bottom": null,
            "display": null,
            "flex": null,
            "flex_flow": null,
            "grid_area": null,
            "grid_auto_columns": null,
            "grid_auto_flow": null,
            "grid_auto_rows": null,
            "grid_column": null,
            "grid_gap": null,
            "grid_row": null,
            "grid_template_areas": null,
            "grid_template_columns": null,
            "grid_template_rows": null,
            "height": null,
            "justify_content": null,
            "justify_items": null,
            "left": null,
            "margin": null,
            "max_height": null,
            "max_width": null,
            "min_height": null,
            "min_width": null,
            "object_fit": null,
            "object_position": null,
            "order": null,
            "overflow": null,
            "overflow_x": null,
            "overflow_y": null,
            "padding": null,
            "right": null,
            "top": null,
            "visibility": null,
            "width": null
          }
        },
        "bda802a3fa7445b6be2a9d5b739c07e1": {
          "model_module": "@jupyter-widgets/controls",
          "model_name": "DescriptionStyleModel",
          "model_module_version": "1.5.0",
          "state": {
            "_model_module": "@jupyter-widgets/controls",
            "_model_module_version": "1.5.0",
            "_model_name": "DescriptionStyleModel",
            "_view_count": null,
            "_view_module": "@jupyter-widgets/base",
            "_view_module_version": "1.2.0",
            "_view_name": "StyleView",
            "description_width": ""
          }
        },
        "6383a88a056f4487a6d67d492aeb0216": {
          "model_module": "@jupyter-widgets/controls",
          "model_name": "HBoxModel",
          "model_module_version": "1.5.0",
          "state": {
            "_dom_classes": [],
            "_model_module": "@jupyter-widgets/controls",
            "_model_module_version": "1.5.0",
            "_model_name": "HBoxModel",
            "_view_count": null,
            "_view_module": "@jupyter-widgets/controls",
            "_view_module_version": "1.5.0",
            "_view_name": "HBoxView",
            "box_style": "",
            "children": [
              "IPY_MODEL_862305d15c8c458892176da70ab6e4e5",
              "IPY_MODEL_8be8098d192948bfb606fb0c68fceb9e",
              "IPY_MODEL_d0a04db115f945e89f27df74ebe64654"
            ],
            "layout": "IPY_MODEL_04ebc3797e684bac9108b12bf47c2217"
          }
        },
        "862305d15c8c458892176da70ab6e4e5": {
          "model_module": "@jupyter-widgets/controls",
          "model_name": "HTMLModel",
          "model_module_version": "1.5.0",
          "state": {
            "_dom_classes": [],
            "_model_module": "@jupyter-widgets/controls",
            "_model_module_version": "1.5.0",
            "_model_name": "HTMLModel",
            "_view_count": null,
            "_view_module": "@jupyter-widgets/controls",
            "_view_module_version": "1.5.0",
            "_view_name": "HTMLView",
            "description": "",
            "description_tooltip": null,
            "layout": "IPY_MODEL_d717600cb91847aa9cb2bfa35f6fd0f2",
            "placeholder": "​",
            "style": "IPY_MODEL_92afd52425cc4c27ab9fd361093a5688",
            "value": "#2:  98%"
          }
        },
        "8be8098d192948bfb606fb0c68fceb9e": {
          "model_module": "@jupyter-widgets/controls",
          "model_name": "FloatProgressModel",
          "model_module_version": "1.5.0",
          "state": {
            "_dom_classes": [],
            "_model_module": "@jupyter-widgets/controls",
            "_model_module_version": "1.5.0",
            "_model_name": "FloatProgressModel",
            "_view_count": null,
            "_view_module": "@jupyter-widgets/controls",
            "_view_module_version": "1.5.0",
            "_view_name": "ProgressView",
            "bar_style": "danger",
            "description": "",
            "description_tooltip": null,
            "layout": "IPY_MODEL_f180c5c424cf47a1a5ee204bfee62133",
            "max": 49,
            "min": 0,
            "orientation": "horizontal",
            "style": "IPY_MODEL_213f13da18ab4df0814287d3b8ef1146",
            "value": 48
          }
        },
        "d0a04db115f945e89f27df74ebe64654": {
          "model_module": "@jupyter-widgets/controls",
          "model_name": "HTMLModel",
          "model_module_version": "1.5.0",
          "state": {
            "_dom_classes": [],
            "_model_module": "@jupyter-widgets/controls",
            "_model_module_version": "1.5.0",
            "_model_name": "HTMLModel",
            "_view_count": null,
            "_view_module": "@jupyter-widgets/controls",
            "_view_module_version": "1.5.0",
            "_view_name": "HTMLView",
            "description": "",
            "description_tooltip": null,
            "layout": "IPY_MODEL_ce1e21952f6f42db91c976babde0eea0",
            "placeholder": "​",
            "style": "IPY_MODEL_94942b5cfb034b84b0f569590a633055",
            "value": " 48/49 [00:50&lt;00:01,  1.06s/ba]"
          }
        },
        "04ebc3797e684bac9108b12bf47c2217": {
          "model_module": "@jupyter-widgets/base",
          "model_name": "LayoutModel",
          "model_module_version": "1.2.0",
          "state": {
            "_model_module": "@jupyter-widgets/base",
            "_model_module_version": "1.2.0",
            "_model_name": "LayoutModel",
            "_view_count": null,
            "_view_module": "@jupyter-widgets/base",
            "_view_module_version": "1.2.0",
            "_view_name": "LayoutView",
            "align_content": null,
            "align_items": null,
            "align_self": null,
            "border": null,
            "bottom": null,
            "display": null,
            "flex": null,
            "flex_flow": null,
            "grid_area": null,
            "grid_auto_columns": null,
            "grid_auto_flow": null,
            "grid_auto_rows": null,
            "grid_column": null,
            "grid_gap": null,
            "grid_row": null,
            "grid_template_areas": null,
            "grid_template_columns": null,
            "grid_template_rows": null,
            "height": null,
            "justify_content": null,
            "justify_items": null,
            "left": null,
            "margin": null,
            "max_height": null,
            "max_width": null,
            "min_height": null,
            "min_width": null,
            "object_fit": null,
            "object_position": null,
            "order": null,
            "overflow": null,
            "overflow_x": null,
            "overflow_y": null,
            "padding": null,
            "right": null,
            "top": null,
            "visibility": null,
            "width": null
          }
        },
        "d717600cb91847aa9cb2bfa35f6fd0f2": {
          "model_module": "@jupyter-widgets/base",
          "model_name": "LayoutModel",
          "model_module_version": "1.2.0",
          "state": {
            "_model_module": "@jupyter-widgets/base",
            "_model_module_version": "1.2.0",
            "_model_name": "LayoutModel",
            "_view_count": null,
            "_view_module": "@jupyter-widgets/base",
            "_view_module_version": "1.2.0",
            "_view_name": "LayoutView",
            "align_content": null,
            "align_items": null,
            "align_self": null,
            "border": null,
            "bottom": null,
            "display": null,
            "flex": null,
            "flex_flow": null,
            "grid_area": null,
            "grid_auto_columns": null,
            "grid_auto_flow": null,
            "grid_auto_rows": null,
            "grid_column": null,
            "grid_gap": null,
            "grid_row": null,
            "grid_template_areas": null,
            "grid_template_columns": null,
            "grid_template_rows": null,
            "height": null,
            "justify_content": null,
            "justify_items": null,
            "left": null,
            "margin": null,
            "max_height": null,
            "max_width": null,
            "min_height": null,
            "min_width": null,
            "object_fit": null,
            "object_position": null,
            "order": null,
            "overflow": null,
            "overflow_x": null,
            "overflow_y": null,
            "padding": null,
            "right": null,
            "top": null,
            "visibility": null,
            "width": null
          }
        },
        "92afd52425cc4c27ab9fd361093a5688": {
          "model_module": "@jupyter-widgets/controls",
          "model_name": "DescriptionStyleModel",
          "model_module_version": "1.5.0",
          "state": {
            "_model_module": "@jupyter-widgets/controls",
            "_model_module_version": "1.5.0",
            "_model_name": "DescriptionStyleModel",
            "_view_count": null,
            "_view_module": "@jupyter-widgets/base",
            "_view_module_version": "1.2.0",
            "_view_name": "StyleView",
            "description_width": ""
          }
        },
        "f180c5c424cf47a1a5ee204bfee62133": {
          "model_module": "@jupyter-widgets/base",
          "model_name": "LayoutModel",
          "model_module_version": "1.2.0",
          "state": {
            "_model_module": "@jupyter-widgets/base",
            "_model_module_version": "1.2.0",
            "_model_name": "LayoutModel",
            "_view_count": null,
            "_view_module": "@jupyter-widgets/base",
            "_view_module_version": "1.2.0",
            "_view_name": "LayoutView",
            "align_content": null,
            "align_items": null,
            "align_self": null,
            "border": null,
            "bottom": null,
            "display": null,
            "flex": null,
            "flex_flow": null,
            "grid_area": null,
            "grid_auto_columns": null,
            "grid_auto_flow": null,
            "grid_auto_rows": null,
            "grid_column": null,
            "grid_gap": null,
            "grid_row": null,
            "grid_template_areas": null,
            "grid_template_columns": null,
            "grid_template_rows": null,
            "height": null,
            "justify_content": null,
            "justify_items": null,
            "left": null,
            "margin": null,
            "max_height": null,
            "max_width": null,
            "min_height": null,
            "min_width": null,
            "object_fit": null,
            "object_position": null,
            "order": null,
            "overflow": null,
            "overflow_x": null,
            "overflow_y": null,
            "padding": null,
            "right": null,
            "top": null,
            "visibility": null,
            "width": null
          }
        },
        "213f13da18ab4df0814287d3b8ef1146": {
          "model_module": "@jupyter-widgets/controls",
          "model_name": "ProgressStyleModel",
          "model_module_version": "1.5.0",
          "state": {
            "_model_module": "@jupyter-widgets/controls",
            "_model_module_version": "1.5.0",
            "_model_name": "ProgressStyleModel",
            "_view_count": null,
            "_view_module": "@jupyter-widgets/base",
            "_view_module_version": "1.2.0",
            "_view_name": "StyleView",
            "bar_color": null,
            "description_width": ""
          }
        },
        "ce1e21952f6f42db91c976babde0eea0": {
          "model_module": "@jupyter-widgets/base",
          "model_name": "LayoutModel",
          "model_module_version": "1.2.0",
          "state": {
            "_model_module": "@jupyter-widgets/base",
            "_model_module_version": "1.2.0",
            "_model_name": "LayoutModel",
            "_view_count": null,
            "_view_module": "@jupyter-widgets/base",
            "_view_module_version": "1.2.0",
            "_view_name": "LayoutView",
            "align_content": null,
            "align_items": null,
            "align_self": null,
            "border": null,
            "bottom": null,
            "display": null,
            "flex": null,
            "flex_flow": null,
            "grid_area": null,
            "grid_auto_columns": null,
            "grid_auto_flow": null,
            "grid_auto_rows": null,
            "grid_column": null,
            "grid_gap": null,
            "grid_row": null,
            "grid_template_areas": null,
            "grid_template_columns": null,
            "grid_template_rows": null,
            "height": null,
            "justify_content": null,
            "justify_items": null,
            "left": null,
            "margin": null,
            "max_height": null,
            "max_width": null,
            "min_height": null,
            "min_width": null,
            "object_fit": null,
            "object_position": null,
            "order": null,
            "overflow": null,
            "overflow_x": null,
            "overflow_y": null,
            "padding": null,
            "right": null,
            "top": null,
            "visibility": null,
            "width": null
          }
        },
        "94942b5cfb034b84b0f569590a633055": {
          "model_module": "@jupyter-widgets/controls",
          "model_name": "DescriptionStyleModel",
          "model_module_version": "1.5.0",
          "state": {
            "_model_module": "@jupyter-widgets/controls",
            "_model_module_version": "1.5.0",
            "_model_name": "DescriptionStyleModel",
            "_view_count": null,
            "_view_module": "@jupyter-widgets/base",
            "_view_module_version": "1.2.0",
            "_view_name": "StyleView",
            "description_width": ""
          }
        },
        "93ba25485fcb4c88a14cc5eec87220b9": {
          "model_module": "@jupyter-widgets/controls",
          "model_name": "HBoxModel",
          "model_module_version": "1.5.0",
          "state": {
            "_dom_classes": [],
            "_model_module": "@jupyter-widgets/controls",
            "_model_module_version": "1.5.0",
            "_model_name": "HBoxModel",
            "_view_count": null,
            "_view_module": "@jupyter-widgets/controls",
            "_view_module_version": "1.5.0",
            "_view_name": "HBoxView",
            "box_style": "",
            "children": [
              "IPY_MODEL_760b9f53c70944c4b47a7a6fe99bd212",
              "IPY_MODEL_a3bb87ebff3e4de1a01a7048fee3b94e",
              "IPY_MODEL_673cf7fb92e54e63aa0496beccbaf2e5"
            ],
            "layout": "IPY_MODEL_87486a9cbf08413e931b099b8b12cbcd"
          }
        },
        "760b9f53c70944c4b47a7a6fe99bd212": {
          "model_module": "@jupyter-widgets/controls",
          "model_name": "HTMLModel",
          "model_module_version": "1.5.0",
          "state": {
            "_dom_classes": [],
            "_model_module": "@jupyter-widgets/controls",
            "_model_module_version": "1.5.0",
            "_model_name": "HTMLModel",
            "_view_count": null,
            "_view_module": "@jupyter-widgets/controls",
            "_view_module_version": "1.5.0",
            "_view_name": "HTMLView",
            "description": "",
            "description_tooltip": null,
            "layout": "IPY_MODEL_8ba38985f90d415192aaf55d411b8c69",
            "placeholder": "​",
            "style": "IPY_MODEL_8454041a61f24475bc5ae5210adabded",
            "value": "#0:  94%"
          }
        },
        "a3bb87ebff3e4de1a01a7048fee3b94e": {
          "model_module": "@jupyter-widgets/controls",
          "model_name": "FloatProgressModel",
          "model_module_version": "1.5.0",
          "state": {
            "_dom_classes": [],
            "_model_module": "@jupyter-widgets/controls",
            "_model_module_version": "1.5.0",
            "_model_name": "FloatProgressModel",
            "_view_count": null,
            "_view_module": "@jupyter-widgets/controls",
            "_view_module_version": "1.5.0",
            "_view_name": "ProgressView",
            "bar_style": "danger",
            "description": "",
            "description_tooltip": null,
            "layout": "IPY_MODEL_a8beca699aa8435ea2bf1b49c65354ef",
            "max": 17,
            "min": 0,
            "orientation": "horizontal",
            "style": "IPY_MODEL_59e92ffec72340c985843407d0a8924d",
            "value": 16
          }
        },
        "673cf7fb92e54e63aa0496beccbaf2e5": {
          "model_module": "@jupyter-widgets/controls",
          "model_name": "HTMLModel",
          "model_module_version": "1.5.0",
          "state": {
            "_dom_classes": [],
            "_model_module": "@jupyter-widgets/controls",
            "_model_module_version": "1.5.0",
            "_model_name": "HTMLModel",
            "_view_count": null,
            "_view_module": "@jupyter-widgets/controls",
            "_view_module_version": "1.5.0",
            "_view_name": "HTMLView",
            "description": "",
            "description_tooltip": null,
            "layout": "IPY_MODEL_b121a58c0b074f8f912c80f7ec455a95",
            "placeholder": "​",
            "style": "IPY_MODEL_c0642ed07b5e432dbd11364607ba1d5a",
            "value": " 16/17 [00:18&lt;00:01,  1.03s/ba]"
          }
        },
        "87486a9cbf08413e931b099b8b12cbcd": {
          "model_module": "@jupyter-widgets/base",
          "model_name": "LayoutModel",
          "model_module_version": "1.2.0",
          "state": {
            "_model_module": "@jupyter-widgets/base",
            "_model_module_version": "1.2.0",
            "_model_name": "LayoutModel",
            "_view_count": null,
            "_view_module": "@jupyter-widgets/base",
            "_view_module_version": "1.2.0",
            "_view_name": "LayoutView",
            "align_content": null,
            "align_items": null,
            "align_self": null,
            "border": null,
            "bottom": null,
            "display": null,
            "flex": null,
            "flex_flow": null,
            "grid_area": null,
            "grid_auto_columns": null,
            "grid_auto_flow": null,
            "grid_auto_rows": null,
            "grid_column": null,
            "grid_gap": null,
            "grid_row": null,
            "grid_template_areas": null,
            "grid_template_columns": null,
            "grid_template_rows": null,
            "height": null,
            "justify_content": null,
            "justify_items": null,
            "left": null,
            "margin": null,
            "max_height": null,
            "max_width": null,
            "min_height": null,
            "min_width": null,
            "object_fit": null,
            "object_position": null,
            "order": null,
            "overflow": null,
            "overflow_x": null,
            "overflow_y": null,
            "padding": null,
            "right": null,
            "top": null,
            "visibility": null,
            "width": null
          }
        },
        "8ba38985f90d415192aaf55d411b8c69": {
          "model_module": "@jupyter-widgets/base",
          "model_name": "LayoutModel",
          "model_module_version": "1.2.0",
          "state": {
            "_model_module": "@jupyter-widgets/base",
            "_model_module_version": "1.2.0",
            "_model_name": "LayoutModel",
            "_view_count": null,
            "_view_module": "@jupyter-widgets/base",
            "_view_module_version": "1.2.0",
            "_view_name": "LayoutView",
            "align_content": null,
            "align_items": null,
            "align_self": null,
            "border": null,
            "bottom": null,
            "display": null,
            "flex": null,
            "flex_flow": null,
            "grid_area": null,
            "grid_auto_columns": null,
            "grid_auto_flow": null,
            "grid_auto_rows": null,
            "grid_column": null,
            "grid_gap": null,
            "grid_row": null,
            "grid_template_areas": null,
            "grid_template_columns": null,
            "grid_template_rows": null,
            "height": null,
            "justify_content": null,
            "justify_items": null,
            "left": null,
            "margin": null,
            "max_height": null,
            "max_width": null,
            "min_height": null,
            "min_width": null,
            "object_fit": null,
            "object_position": null,
            "order": null,
            "overflow": null,
            "overflow_x": null,
            "overflow_y": null,
            "padding": null,
            "right": null,
            "top": null,
            "visibility": null,
            "width": null
          }
        },
        "8454041a61f24475bc5ae5210adabded": {
          "model_module": "@jupyter-widgets/controls",
          "model_name": "DescriptionStyleModel",
          "model_module_version": "1.5.0",
          "state": {
            "_model_module": "@jupyter-widgets/controls",
            "_model_module_version": "1.5.0",
            "_model_name": "DescriptionStyleModel",
            "_view_count": null,
            "_view_module": "@jupyter-widgets/base",
            "_view_module_version": "1.2.0",
            "_view_name": "StyleView",
            "description_width": ""
          }
        },
        "a8beca699aa8435ea2bf1b49c65354ef": {
          "model_module": "@jupyter-widgets/base",
          "model_name": "LayoutModel",
          "model_module_version": "1.2.0",
          "state": {
            "_model_module": "@jupyter-widgets/base",
            "_model_module_version": "1.2.0",
            "_model_name": "LayoutModel",
            "_view_count": null,
            "_view_module": "@jupyter-widgets/base",
            "_view_module_version": "1.2.0",
            "_view_name": "LayoutView",
            "align_content": null,
            "align_items": null,
            "align_self": null,
            "border": null,
            "bottom": null,
            "display": null,
            "flex": null,
            "flex_flow": null,
            "grid_area": null,
            "grid_auto_columns": null,
            "grid_auto_flow": null,
            "grid_auto_rows": null,
            "grid_column": null,
            "grid_gap": null,
            "grid_row": null,
            "grid_template_areas": null,
            "grid_template_columns": null,
            "grid_template_rows": null,
            "height": null,
            "justify_content": null,
            "justify_items": null,
            "left": null,
            "margin": null,
            "max_height": null,
            "max_width": null,
            "min_height": null,
            "min_width": null,
            "object_fit": null,
            "object_position": null,
            "order": null,
            "overflow": null,
            "overflow_x": null,
            "overflow_y": null,
            "padding": null,
            "right": null,
            "top": null,
            "visibility": null,
            "width": null
          }
        },
        "59e92ffec72340c985843407d0a8924d": {
          "model_module": "@jupyter-widgets/controls",
          "model_name": "ProgressStyleModel",
          "model_module_version": "1.5.0",
          "state": {
            "_model_module": "@jupyter-widgets/controls",
            "_model_module_version": "1.5.0",
            "_model_name": "ProgressStyleModel",
            "_view_count": null,
            "_view_module": "@jupyter-widgets/base",
            "_view_module_version": "1.2.0",
            "_view_name": "StyleView",
            "bar_color": null,
            "description_width": ""
          }
        },
        "b121a58c0b074f8f912c80f7ec455a95": {
          "model_module": "@jupyter-widgets/base",
          "model_name": "LayoutModel",
          "model_module_version": "1.2.0",
          "state": {
            "_model_module": "@jupyter-widgets/base",
            "_model_module_version": "1.2.0",
            "_model_name": "LayoutModel",
            "_view_count": null,
            "_view_module": "@jupyter-widgets/base",
            "_view_module_version": "1.2.0",
            "_view_name": "LayoutView",
            "align_content": null,
            "align_items": null,
            "align_self": null,
            "border": null,
            "bottom": null,
            "display": null,
            "flex": null,
            "flex_flow": null,
            "grid_area": null,
            "grid_auto_columns": null,
            "grid_auto_flow": null,
            "grid_auto_rows": null,
            "grid_column": null,
            "grid_gap": null,
            "grid_row": null,
            "grid_template_areas": null,
            "grid_template_columns": null,
            "grid_template_rows": null,
            "height": null,
            "justify_content": null,
            "justify_items": null,
            "left": null,
            "margin": null,
            "max_height": null,
            "max_width": null,
            "min_height": null,
            "min_width": null,
            "object_fit": null,
            "object_position": null,
            "order": null,
            "overflow": null,
            "overflow_x": null,
            "overflow_y": null,
            "padding": null,
            "right": null,
            "top": null,
            "visibility": null,
            "width": null
          }
        },
        "c0642ed07b5e432dbd11364607ba1d5a": {
          "model_module": "@jupyter-widgets/controls",
          "model_name": "DescriptionStyleModel",
          "model_module_version": "1.5.0",
          "state": {
            "_model_module": "@jupyter-widgets/controls",
            "_model_module_version": "1.5.0",
            "_model_name": "DescriptionStyleModel",
            "_view_count": null,
            "_view_module": "@jupyter-widgets/base",
            "_view_module_version": "1.2.0",
            "_view_name": "StyleView",
            "description_width": ""
          }
        },
        "041085d60d8b4ac1931faa174fae4266": {
          "model_module": "@jupyter-widgets/controls",
          "model_name": "HBoxModel",
          "model_module_version": "1.5.0",
          "state": {
            "_dom_classes": [],
            "_model_module": "@jupyter-widgets/controls",
            "_model_module_version": "1.5.0",
            "_model_name": "HBoxModel",
            "_view_count": null,
            "_view_module": "@jupyter-widgets/controls",
            "_view_module_version": "1.5.0",
            "_view_name": "HBoxView",
            "box_style": "",
            "children": [
              "IPY_MODEL_8257834424d34c9ebfc4fb10e7fbed48",
              "IPY_MODEL_cc1bb28217154840a5e34670bd97b95c",
              "IPY_MODEL_4151987aaf5748a1bbda7bf120ca79bd"
            ],
            "layout": "IPY_MODEL_5d6bebffdd454f6ebf465b4502423033"
          }
        },
        "8257834424d34c9ebfc4fb10e7fbed48": {
          "model_module": "@jupyter-widgets/controls",
          "model_name": "HTMLModel",
          "model_module_version": "1.5.0",
          "state": {
            "_dom_classes": [],
            "_model_module": "@jupyter-widgets/controls",
            "_model_module_version": "1.5.0",
            "_model_name": "HTMLModel",
            "_view_count": null,
            "_view_module": "@jupyter-widgets/controls",
            "_view_module_version": "1.5.0",
            "_view_name": "HTMLView",
            "description": "",
            "description_tooltip": null,
            "layout": "IPY_MODEL_5b31e142586b4a64a562697f22300330",
            "placeholder": "​",
            "style": "IPY_MODEL_fe1ed47705e2476188d44774ac4adaba",
            "value": "#2:  94%"
          }
        },
        "cc1bb28217154840a5e34670bd97b95c": {
          "model_module": "@jupyter-widgets/controls",
          "model_name": "FloatProgressModel",
          "model_module_version": "1.5.0",
          "state": {
            "_dom_classes": [],
            "_model_module": "@jupyter-widgets/controls",
            "_model_module_version": "1.5.0",
            "_model_name": "FloatProgressModel",
            "_view_count": null,
            "_view_module": "@jupyter-widgets/controls",
            "_view_module_version": "1.5.0",
            "_view_name": "ProgressView",
            "bar_style": "danger",
            "description": "",
            "description_tooltip": null,
            "layout": "IPY_MODEL_c241379d02674678a7e5c4a4c184b808",
            "max": 17,
            "min": 0,
            "orientation": "horizontal",
            "style": "IPY_MODEL_24fc8147c7204c10944998d7d9f6e647",
            "value": 16
          }
        },
        "4151987aaf5748a1bbda7bf120ca79bd": {
          "model_module": "@jupyter-widgets/controls",
          "model_name": "HTMLModel",
          "model_module_version": "1.5.0",
          "state": {
            "_dom_classes": [],
            "_model_module": "@jupyter-widgets/controls",
            "_model_module_version": "1.5.0",
            "_model_name": "HTMLModel",
            "_view_count": null,
            "_view_module": "@jupyter-widgets/controls",
            "_view_module_version": "1.5.0",
            "_view_name": "HTMLView",
            "description": "",
            "description_tooltip": null,
            "layout": "IPY_MODEL_08f24baa64574f1184055ff9806c0a51",
            "placeholder": "​",
            "style": "IPY_MODEL_b892b11e6060425b9957603a463d37db",
            "value": " 16/17 [00:17&lt;00:01,  1.04s/ba]"
          }
        },
        "5d6bebffdd454f6ebf465b4502423033": {
          "model_module": "@jupyter-widgets/base",
          "model_name": "LayoutModel",
          "model_module_version": "1.2.0",
          "state": {
            "_model_module": "@jupyter-widgets/base",
            "_model_module_version": "1.2.0",
            "_model_name": "LayoutModel",
            "_view_count": null,
            "_view_module": "@jupyter-widgets/base",
            "_view_module_version": "1.2.0",
            "_view_name": "LayoutView",
            "align_content": null,
            "align_items": null,
            "align_self": null,
            "border": null,
            "bottom": null,
            "display": null,
            "flex": null,
            "flex_flow": null,
            "grid_area": null,
            "grid_auto_columns": null,
            "grid_auto_flow": null,
            "grid_auto_rows": null,
            "grid_column": null,
            "grid_gap": null,
            "grid_row": null,
            "grid_template_areas": null,
            "grid_template_columns": null,
            "grid_template_rows": null,
            "height": null,
            "justify_content": null,
            "justify_items": null,
            "left": null,
            "margin": null,
            "max_height": null,
            "max_width": null,
            "min_height": null,
            "min_width": null,
            "object_fit": null,
            "object_position": null,
            "order": null,
            "overflow": null,
            "overflow_x": null,
            "overflow_y": null,
            "padding": null,
            "right": null,
            "top": null,
            "visibility": null,
            "width": null
          }
        },
        "5b31e142586b4a64a562697f22300330": {
          "model_module": "@jupyter-widgets/base",
          "model_name": "LayoutModel",
          "model_module_version": "1.2.0",
          "state": {
            "_model_module": "@jupyter-widgets/base",
            "_model_module_version": "1.2.0",
            "_model_name": "LayoutModel",
            "_view_count": null,
            "_view_module": "@jupyter-widgets/base",
            "_view_module_version": "1.2.0",
            "_view_name": "LayoutView",
            "align_content": null,
            "align_items": null,
            "align_self": null,
            "border": null,
            "bottom": null,
            "display": null,
            "flex": null,
            "flex_flow": null,
            "grid_area": null,
            "grid_auto_columns": null,
            "grid_auto_flow": null,
            "grid_auto_rows": null,
            "grid_column": null,
            "grid_gap": null,
            "grid_row": null,
            "grid_template_areas": null,
            "grid_template_columns": null,
            "grid_template_rows": null,
            "height": null,
            "justify_content": null,
            "justify_items": null,
            "left": null,
            "margin": null,
            "max_height": null,
            "max_width": null,
            "min_height": null,
            "min_width": null,
            "object_fit": null,
            "object_position": null,
            "order": null,
            "overflow": null,
            "overflow_x": null,
            "overflow_y": null,
            "padding": null,
            "right": null,
            "top": null,
            "visibility": null,
            "width": null
          }
        },
        "fe1ed47705e2476188d44774ac4adaba": {
          "model_module": "@jupyter-widgets/controls",
          "model_name": "DescriptionStyleModel",
          "model_module_version": "1.5.0",
          "state": {
            "_model_module": "@jupyter-widgets/controls",
            "_model_module_version": "1.5.0",
            "_model_name": "DescriptionStyleModel",
            "_view_count": null,
            "_view_module": "@jupyter-widgets/base",
            "_view_module_version": "1.2.0",
            "_view_name": "StyleView",
            "description_width": ""
          }
        },
        "c241379d02674678a7e5c4a4c184b808": {
          "model_module": "@jupyter-widgets/base",
          "model_name": "LayoutModel",
          "model_module_version": "1.2.0",
          "state": {
            "_model_module": "@jupyter-widgets/base",
            "_model_module_version": "1.2.0",
            "_model_name": "LayoutModel",
            "_view_count": null,
            "_view_module": "@jupyter-widgets/base",
            "_view_module_version": "1.2.0",
            "_view_name": "LayoutView",
            "align_content": null,
            "align_items": null,
            "align_self": null,
            "border": null,
            "bottom": null,
            "display": null,
            "flex": null,
            "flex_flow": null,
            "grid_area": null,
            "grid_auto_columns": null,
            "grid_auto_flow": null,
            "grid_auto_rows": null,
            "grid_column": null,
            "grid_gap": null,
            "grid_row": null,
            "grid_template_areas": null,
            "grid_template_columns": null,
            "grid_template_rows": null,
            "height": null,
            "justify_content": null,
            "justify_items": null,
            "left": null,
            "margin": null,
            "max_height": null,
            "max_width": null,
            "min_height": null,
            "min_width": null,
            "object_fit": null,
            "object_position": null,
            "order": null,
            "overflow": null,
            "overflow_x": null,
            "overflow_y": null,
            "padding": null,
            "right": null,
            "top": null,
            "visibility": null,
            "width": null
          }
        },
        "24fc8147c7204c10944998d7d9f6e647": {
          "model_module": "@jupyter-widgets/controls",
          "model_name": "ProgressStyleModel",
          "model_module_version": "1.5.0",
          "state": {
            "_model_module": "@jupyter-widgets/controls",
            "_model_module_version": "1.5.0",
            "_model_name": "ProgressStyleModel",
            "_view_count": null,
            "_view_module": "@jupyter-widgets/base",
            "_view_module_version": "1.2.0",
            "_view_name": "StyleView",
            "bar_color": null,
            "description_width": ""
          }
        },
        "08f24baa64574f1184055ff9806c0a51": {
          "model_module": "@jupyter-widgets/base",
          "model_name": "LayoutModel",
          "model_module_version": "1.2.0",
          "state": {
            "_model_module": "@jupyter-widgets/base",
            "_model_module_version": "1.2.0",
            "_model_name": "LayoutModel",
            "_view_count": null,
            "_view_module": "@jupyter-widgets/base",
            "_view_module_version": "1.2.0",
            "_view_name": "LayoutView",
            "align_content": null,
            "align_items": null,
            "align_self": null,
            "border": null,
            "bottom": null,
            "display": null,
            "flex": null,
            "flex_flow": null,
            "grid_area": null,
            "grid_auto_columns": null,
            "grid_auto_flow": null,
            "grid_auto_rows": null,
            "grid_column": null,
            "grid_gap": null,
            "grid_row": null,
            "grid_template_areas": null,
            "grid_template_columns": null,
            "grid_template_rows": null,
            "height": null,
            "justify_content": null,
            "justify_items": null,
            "left": null,
            "margin": null,
            "max_height": null,
            "max_width": null,
            "min_height": null,
            "min_width": null,
            "object_fit": null,
            "object_position": null,
            "order": null,
            "overflow": null,
            "overflow_x": null,
            "overflow_y": null,
            "padding": null,
            "right": null,
            "top": null,
            "visibility": null,
            "width": null
          }
        },
        "b892b11e6060425b9957603a463d37db": {
          "model_module": "@jupyter-widgets/controls",
          "model_name": "DescriptionStyleModel",
          "model_module_version": "1.5.0",
          "state": {
            "_model_module": "@jupyter-widgets/controls",
            "_model_module_version": "1.5.0",
            "_model_name": "DescriptionStyleModel",
            "_view_count": null,
            "_view_module": "@jupyter-widgets/base",
            "_view_module_version": "1.2.0",
            "_view_name": "StyleView",
            "description_width": ""
          }
        },
        "b4f9799cdf224671a6cf99a2f8b6ea6f": {
          "model_module": "@jupyter-widgets/controls",
          "model_name": "HBoxModel",
          "model_module_version": "1.5.0",
          "state": {
            "_dom_classes": [],
            "_model_module": "@jupyter-widgets/controls",
            "_model_module_version": "1.5.0",
            "_model_name": "HBoxModel",
            "_view_count": null,
            "_view_module": "@jupyter-widgets/controls",
            "_view_module_version": "1.5.0",
            "_view_name": "HBoxView",
            "box_style": "",
            "children": [
              "IPY_MODEL_0dd386ff161342f295e541d641d773cc",
              "IPY_MODEL_a4053738a9f24576954963f95043088c",
              "IPY_MODEL_84ce9516d27a4c22b56b992e36d8a9b2"
            ],
            "layout": "IPY_MODEL_cc336b3a8de84633b1c1fd833504a623"
          }
        },
        "0dd386ff161342f295e541d641d773cc": {
          "model_module": "@jupyter-widgets/controls",
          "model_name": "HTMLModel",
          "model_module_version": "1.5.0",
          "state": {
            "_dom_classes": [],
            "_model_module": "@jupyter-widgets/controls",
            "_model_module_version": "1.5.0",
            "_model_name": "HTMLModel",
            "_view_count": null,
            "_view_module": "@jupyter-widgets/controls",
            "_view_module_version": "1.5.0",
            "_view_name": "HTMLView",
            "description": "",
            "description_tooltip": null,
            "layout": "IPY_MODEL_62d39d9945ae41c49ecfb0f5fdc79d57",
            "placeholder": "​",
            "style": "IPY_MODEL_9f974c8777ca4a068388d7c23bc3a2b2",
            "value": "#1:  94%"
          }
        },
        "a4053738a9f24576954963f95043088c": {
          "model_module": "@jupyter-widgets/controls",
          "model_name": "FloatProgressModel",
          "model_module_version": "1.5.0",
          "state": {
            "_dom_classes": [],
            "_model_module": "@jupyter-widgets/controls",
            "_model_module_version": "1.5.0",
            "_model_name": "FloatProgressModel",
            "_view_count": null,
            "_view_module": "@jupyter-widgets/controls",
            "_view_module_version": "1.5.0",
            "_view_name": "ProgressView",
            "bar_style": "danger",
            "description": "",
            "description_tooltip": null,
            "layout": "IPY_MODEL_4855c436d2a0483995bcea951b2e638f",
            "max": 17,
            "min": 0,
            "orientation": "horizontal",
            "style": "IPY_MODEL_1f899ecc8ea44a3ebe2dd394342116c4",
            "value": 16
          }
        },
        "84ce9516d27a4c22b56b992e36d8a9b2": {
          "model_module": "@jupyter-widgets/controls",
          "model_name": "HTMLModel",
          "model_module_version": "1.5.0",
          "state": {
            "_dom_classes": [],
            "_model_module": "@jupyter-widgets/controls",
            "_model_module_version": "1.5.0",
            "_model_name": "HTMLModel",
            "_view_count": null,
            "_view_module": "@jupyter-widgets/controls",
            "_view_module_version": "1.5.0",
            "_view_name": "HTMLView",
            "description": "",
            "description_tooltip": null,
            "layout": "IPY_MODEL_da491dca8abe4671b5b66321db1d9ca3",
            "placeholder": "​",
            "style": "IPY_MODEL_5d2e944285c54a3d908fd7aff6c6801b",
            "value": " 16/17 [00:17&lt;00:00,  1.04ba/s]"
          }
        },
        "cc336b3a8de84633b1c1fd833504a623": {
          "model_module": "@jupyter-widgets/base",
          "model_name": "LayoutModel",
          "model_module_version": "1.2.0",
          "state": {
            "_model_module": "@jupyter-widgets/base",
            "_model_module_version": "1.2.0",
            "_model_name": "LayoutModel",
            "_view_count": null,
            "_view_module": "@jupyter-widgets/base",
            "_view_module_version": "1.2.0",
            "_view_name": "LayoutView",
            "align_content": null,
            "align_items": null,
            "align_self": null,
            "border": null,
            "bottom": null,
            "display": null,
            "flex": null,
            "flex_flow": null,
            "grid_area": null,
            "grid_auto_columns": null,
            "grid_auto_flow": null,
            "grid_auto_rows": null,
            "grid_column": null,
            "grid_gap": null,
            "grid_row": null,
            "grid_template_areas": null,
            "grid_template_columns": null,
            "grid_template_rows": null,
            "height": null,
            "justify_content": null,
            "justify_items": null,
            "left": null,
            "margin": null,
            "max_height": null,
            "max_width": null,
            "min_height": null,
            "min_width": null,
            "object_fit": null,
            "object_position": null,
            "order": null,
            "overflow": null,
            "overflow_x": null,
            "overflow_y": null,
            "padding": null,
            "right": null,
            "top": null,
            "visibility": null,
            "width": null
          }
        },
        "62d39d9945ae41c49ecfb0f5fdc79d57": {
          "model_module": "@jupyter-widgets/base",
          "model_name": "LayoutModel",
          "model_module_version": "1.2.0",
          "state": {
            "_model_module": "@jupyter-widgets/base",
            "_model_module_version": "1.2.0",
            "_model_name": "LayoutModel",
            "_view_count": null,
            "_view_module": "@jupyter-widgets/base",
            "_view_module_version": "1.2.0",
            "_view_name": "LayoutView",
            "align_content": null,
            "align_items": null,
            "align_self": null,
            "border": null,
            "bottom": null,
            "display": null,
            "flex": null,
            "flex_flow": null,
            "grid_area": null,
            "grid_auto_columns": null,
            "grid_auto_flow": null,
            "grid_auto_rows": null,
            "grid_column": null,
            "grid_gap": null,
            "grid_row": null,
            "grid_template_areas": null,
            "grid_template_columns": null,
            "grid_template_rows": null,
            "height": null,
            "justify_content": null,
            "justify_items": null,
            "left": null,
            "margin": null,
            "max_height": null,
            "max_width": null,
            "min_height": null,
            "min_width": null,
            "object_fit": null,
            "object_position": null,
            "order": null,
            "overflow": null,
            "overflow_x": null,
            "overflow_y": null,
            "padding": null,
            "right": null,
            "top": null,
            "visibility": null,
            "width": null
          }
        },
        "9f974c8777ca4a068388d7c23bc3a2b2": {
          "model_module": "@jupyter-widgets/controls",
          "model_name": "DescriptionStyleModel",
          "model_module_version": "1.5.0",
          "state": {
            "_model_module": "@jupyter-widgets/controls",
            "_model_module_version": "1.5.0",
            "_model_name": "DescriptionStyleModel",
            "_view_count": null,
            "_view_module": "@jupyter-widgets/base",
            "_view_module_version": "1.2.0",
            "_view_name": "StyleView",
            "description_width": ""
          }
        },
        "4855c436d2a0483995bcea951b2e638f": {
          "model_module": "@jupyter-widgets/base",
          "model_name": "LayoutModel",
          "model_module_version": "1.2.0",
          "state": {
            "_model_module": "@jupyter-widgets/base",
            "_model_module_version": "1.2.0",
            "_model_name": "LayoutModel",
            "_view_count": null,
            "_view_module": "@jupyter-widgets/base",
            "_view_module_version": "1.2.0",
            "_view_name": "LayoutView",
            "align_content": null,
            "align_items": null,
            "align_self": null,
            "border": null,
            "bottom": null,
            "display": null,
            "flex": null,
            "flex_flow": null,
            "grid_area": null,
            "grid_auto_columns": null,
            "grid_auto_flow": null,
            "grid_auto_rows": null,
            "grid_column": null,
            "grid_gap": null,
            "grid_row": null,
            "grid_template_areas": null,
            "grid_template_columns": null,
            "grid_template_rows": null,
            "height": null,
            "justify_content": null,
            "justify_items": null,
            "left": null,
            "margin": null,
            "max_height": null,
            "max_width": null,
            "min_height": null,
            "min_width": null,
            "object_fit": null,
            "object_position": null,
            "order": null,
            "overflow": null,
            "overflow_x": null,
            "overflow_y": null,
            "padding": null,
            "right": null,
            "top": null,
            "visibility": null,
            "width": null
          }
        },
        "1f899ecc8ea44a3ebe2dd394342116c4": {
          "model_module": "@jupyter-widgets/controls",
          "model_name": "ProgressStyleModel",
          "model_module_version": "1.5.0",
          "state": {
            "_model_module": "@jupyter-widgets/controls",
            "_model_module_version": "1.5.0",
            "_model_name": "ProgressStyleModel",
            "_view_count": null,
            "_view_module": "@jupyter-widgets/base",
            "_view_module_version": "1.2.0",
            "_view_name": "StyleView",
            "bar_color": null,
            "description_width": ""
          }
        },
        "da491dca8abe4671b5b66321db1d9ca3": {
          "model_module": "@jupyter-widgets/base",
          "model_name": "LayoutModel",
          "model_module_version": "1.2.0",
          "state": {
            "_model_module": "@jupyter-widgets/base",
            "_model_module_version": "1.2.0",
            "_model_name": "LayoutModel",
            "_view_count": null,
            "_view_module": "@jupyter-widgets/base",
            "_view_module_version": "1.2.0",
            "_view_name": "LayoutView",
            "align_content": null,
            "align_items": null,
            "align_self": null,
            "border": null,
            "bottom": null,
            "display": null,
            "flex": null,
            "flex_flow": null,
            "grid_area": null,
            "grid_auto_columns": null,
            "grid_auto_flow": null,
            "grid_auto_rows": null,
            "grid_column": null,
            "grid_gap": null,
            "grid_row": null,
            "grid_template_areas": null,
            "grid_template_columns": null,
            "grid_template_rows": null,
            "height": null,
            "justify_content": null,
            "justify_items": null,
            "left": null,
            "margin": null,
            "max_height": null,
            "max_width": null,
            "min_height": null,
            "min_width": null,
            "object_fit": null,
            "object_position": null,
            "order": null,
            "overflow": null,
            "overflow_x": null,
            "overflow_y": null,
            "padding": null,
            "right": null,
            "top": null,
            "visibility": null,
            "width": null
          }
        },
        "5d2e944285c54a3d908fd7aff6c6801b": {
          "model_module": "@jupyter-widgets/controls",
          "model_name": "DescriptionStyleModel",
          "model_module_version": "1.5.0",
          "state": {
            "_model_module": "@jupyter-widgets/controls",
            "_model_module_version": "1.5.0",
            "_model_name": "DescriptionStyleModel",
            "_view_count": null,
            "_view_module": "@jupyter-widgets/base",
            "_view_module_version": "1.2.0",
            "_view_name": "StyleView",
            "description_width": ""
          }
        },
        "6b3eb6cfbf3c4a67b1896db68bebd831": {
          "model_module": "@jupyter-widgets/controls",
          "model_name": "HBoxModel",
          "model_module_version": "1.5.0",
          "state": {
            "_dom_classes": [],
            "_model_module": "@jupyter-widgets/controls",
            "_model_module_version": "1.5.0",
            "_model_name": "HBoxModel",
            "_view_count": null,
            "_view_module": "@jupyter-widgets/controls",
            "_view_module_version": "1.5.0",
            "_view_name": "HBoxView",
            "box_style": "",
            "children": [
              "IPY_MODEL_7142aff72c0b405689dfeeabfc931406",
              "IPY_MODEL_fbd4bf549ed94a91a0abe864001a723b",
              "IPY_MODEL_b9d7b573521e49f0903f1640202605f5"
            ],
            "layout": "IPY_MODEL_7adff1283b7649e7beb04cf97f88e2a5"
          }
        },
        "7142aff72c0b405689dfeeabfc931406": {
          "model_module": "@jupyter-widgets/controls",
          "model_name": "HTMLModel",
          "model_module_version": "1.5.0",
          "state": {
            "_dom_classes": [],
            "_model_module": "@jupyter-widgets/controls",
            "_model_module_version": "1.5.0",
            "_model_name": "HTMLModel",
            "_view_count": null,
            "_view_module": "@jupyter-widgets/controls",
            "_view_module_version": "1.5.0",
            "_view_name": "HTMLView",
            "description": "",
            "description_tooltip": null,
            "layout": "IPY_MODEL_ddcdb52401a54a3c8b4556945bf281c6",
            "placeholder": "​",
            "style": "IPY_MODEL_d9b351c5381e43e8b5c7699cdfb22a43",
            "value": "#3:  94%"
          }
        },
        "fbd4bf549ed94a91a0abe864001a723b": {
          "model_module": "@jupyter-widgets/controls",
          "model_name": "FloatProgressModel",
          "model_module_version": "1.5.0",
          "state": {
            "_dom_classes": [],
            "_model_module": "@jupyter-widgets/controls",
            "_model_module_version": "1.5.0",
            "_model_name": "FloatProgressModel",
            "_view_count": null,
            "_view_module": "@jupyter-widgets/controls",
            "_view_module_version": "1.5.0",
            "_view_name": "ProgressView",
            "bar_style": "danger",
            "description": "",
            "description_tooltip": null,
            "layout": "IPY_MODEL_4261e823be194307a773cce4472644d7",
            "max": 17,
            "min": 0,
            "orientation": "horizontal",
            "style": "IPY_MODEL_91a6392b785047459181e23e10c84c46",
            "value": 16
          }
        },
        "b9d7b573521e49f0903f1640202605f5": {
          "model_module": "@jupyter-widgets/controls",
          "model_name": "HTMLModel",
          "model_module_version": "1.5.0",
          "state": {
            "_dom_classes": [],
            "_model_module": "@jupyter-widgets/controls",
            "_model_module_version": "1.5.0",
            "_model_name": "HTMLModel",
            "_view_count": null,
            "_view_module": "@jupyter-widgets/controls",
            "_view_module_version": "1.5.0",
            "_view_name": "HTMLView",
            "description": "",
            "description_tooltip": null,
            "layout": "IPY_MODEL_e911f16ad51d4159ab672bfd30d4f572",
            "placeholder": "​",
            "style": "IPY_MODEL_7a6246da189d47e29311e3e32240e29d",
            "value": " 16/17 [00:17&lt;00:01,  1.07s/ba]"
          }
        },
        "7adff1283b7649e7beb04cf97f88e2a5": {
          "model_module": "@jupyter-widgets/base",
          "model_name": "LayoutModel",
          "model_module_version": "1.2.0",
          "state": {
            "_model_module": "@jupyter-widgets/base",
            "_model_module_version": "1.2.0",
            "_model_name": "LayoutModel",
            "_view_count": null,
            "_view_module": "@jupyter-widgets/base",
            "_view_module_version": "1.2.0",
            "_view_name": "LayoutView",
            "align_content": null,
            "align_items": null,
            "align_self": null,
            "border": null,
            "bottom": null,
            "display": null,
            "flex": null,
            "flex_flow": null,
            "grid_area": null,
            "grid_auto_columns": null,
            "grid_auto_flow": null,
            "grid_auto_rows": null,
            "grid_column": null,
            "grid_gap": null,
            "grid_row": null,
            "grid_template_areas": null,
            "grid_template_columns": null,
            "grid_template_rows": null,
            "height": null,
            "justify_content": null,
            "justify_items": null,
            "left": null,
            "margin": null,
            "max_height": null,
            "max_width": null,
            "min_height": null,
            "min_width": null,
            "object_fit": null,
            "object_position": null,
            "order": null,
            "overflow": null,
            "overflow_x": null,
            "overflow_y": null,
            "padding": null,
            "right": null,
            "top": null,
            "visibility": null,
            "width": null
          }
        },
        "ddcdb52401a54a3c8b4556945bf281c6": {
          "model_module": "@jupyter-widgets/base",
          "model_name": "LayoutModel",
          "model_module_version": "1.2.0",
          "state": {
            "_model_module": "@jupyter-widgets/base",
            "_model_module_version": "1.2.0",
            "_model_name": "LayoutModel",
            "_view_count": null,
            "_view_module": "@jupyter-widgets/base",
            "_view_module_version": "1.2.0",
            "_view_name": "LayoutView",
            "align_content": null,
            "align_items": null,
            "align_self": null,
            "border": null,
            "bottom": null,
            "display": null,
            "flex": null,
            "flex_flow": null,
            "grid_area": null,
            "grid_auto_columns": null,
            "grid_auto_flow": null,
            "grid_auto_rows": null,
            "grid_column": null,
            "grid_gap": null,
            "grid_row": null,
            "grid_template_areas": null,
            "grid_template_columns": null,
            "grid_template_rows": null,
            "height": null,
            "justify_content": null,
            "justify_items": null,
            "left": null,
            "margin": null,
            "max_height": null,
            "max_width": null,
            "min_height": null,
            "min_width": null,
            "object_fit": null,
            "object_position": null,
            "order": null,
            "overflow": null,
            "overflow_x": null,
            "overflow_y": null,
            "padding": null,
            "right": null,
            "top": null,
            "visibility": null,
            "width": null
          }
        },
        "d9b351c5381e43e8b5c7699cdfb22a43": {
          "model_module": "@jupyter-widgets/controls",
          "model_name": "DescriptionStyleModel",
          "model_module_version": "1.5.0",
          "state": {
            "_model_module": "@jupyter-widgets/controls",
            "_model_module_version": "1.5.0",
            "_model_name": "DescriptionStyleModel",
            "_view_count": null,
            "_view_module": "@jupyter-widgets/base",
            "_view_module_version": "1.2.0",
            "_view_name": "StyleView",
            "description_width": ""
          }
        },
        "4261e823be194307a773cce4472644d7": {
          "model_module": "@jupyter-widgets/base",
          "model_name": "LayoutModel",
          "model_module_version": "1.2.0",
          "state": {
            "_model_module": "@jupyter-widgets/base",
            "_model_module_version": "1.2.0",
            "_model_name": "LayoutModel",
            "_view_count": null,
            "_view_module": "@jupyter-widgets/base",
            "_view_module_version": "1.2.0",
            "_view_name": "LayoutView",
            "align_content": null,
            "align_items": null,
            "align_self": null,
            "border": null,
            "bottom": null,
            "display": null,
            "flex": null,
            "flex_flow": null,
            "grid_area": null,
            "grid_auto_columns": null,
            "grid_auto_flow": null,
            "grid_auto_rows": null,
            "grid_column": null,
            "grid_gap": null,
            "grid_row": null,
            "grid_template_areas": null,
            "grid_template_columns": null,
            "grid_template_rows": null,
            "height": null,
            "justify_content": null,
            "justify_items": null,
            "left": null,
            "margin": null,
            "max_height": null,
            "max_width": null,
            "min_height": null,
            "min_width": null,
            "object_fit": null,
            "object_position": null,
            "order": null,
            "overflow": null,
            "overflow_x": null,
            "overflow_y": null,
            "padding": null,
            "right": null,
            "top": null,
            "visibility": null,
            "width": null
          }
        },
        "91a6392b785047459181e23e10c84c46": {
          "model_module": "@jupyter-widgets/controls",
          "model_name": "ProgressStyleModel",
          "model_module_version": "1.5.0",
          "state": {
            "_model_module": "@jupyter-widgets/controls",
            "_model_module_version": "1.5.0",
            "_model_name": "ProgressStyleModel",
            "_view_count": null,
            "_view_module": "@jupyter-widgets/base",
            "_view_module_version": "1.2.0",
            "_view_name": "StyleView",
            "bar_color": null,
            "description_width": ""
          }
        },
        "e911f16ad51d4159ab672bfd30d4f572": {
          "model_module": "@jupyter-widgets/base",
          "model_name": "LayoutModel",
          "model_module_version": "1.2.0",
          "state": {
            "_model_module": "@jupyter-widgets/base",
            "_model_module_version": "1.2.0",
            "_model_name": "LayoutModel",
            "_view_count": null,
            "_view_module": "@jupyter-widgets/base",
            "_view_module_version": "1.2.0",
            "_view_name": "LayoutView",
            "align_content": null,
            "align_items": null,
            "align_self": null,
            "border": null,
            "bottom": null,
            "display": null,
            "flex": null,
            "flex_flow": null,
            "grid_area": null,
            "grid_auto_columns": null,
            "grid_auto_flow": null,
            "grid_auto_rows": null,
            "grid_column": null,
            "grid_gap": null,
            "grid_row": null,
            "grid_template_areas": null,
            "grid_template_columns": null,
            "grid_template_rows": null,
            "height": null,
            "justify_content": null,
            "justify_items": null,
            "left": null,
            "margin": null,
            "max_height": null,
            "max_width": null,
            "min_height": null,
            "min_width": null,
            "object_fit": null,
            "object_position": null,
            "order": null,
            "overflow": null,
            "overflow_x": null,
            "overflow_y": null,
            "padding": null,
            "right": null,
            "top": null,
            "visibility": null,
            "width": null
          }
        },
        "7a6246da189d47e29311e3e32240e29d": {
          "model_module": "@jupyter-widgets/controls",
          "model_name": "DescriptionStyleModel",
          "model_module_version": "1.5.0",
          "state": {
            "_model_module": "@jupyter-widgets/controls",
            "_model_module_version": "1.5.0",
            "_model_name": "DescriptionStyleModel",
            "_view_count": null,
            "_view_module": "@jupyter-widgets/base",
            "_view_module_version": "1.2.0",
            "_view_name": "StyleView",
            "description_width": ""
          }
        },
        "3288010de77c4f0ea25bc613194eceda": {
          "model_module": "@jupyter-widgets/controls",
          "model_name": "HBoxModel",
          "model_module_version": "1.5.0",
          "state": {
            "_dom_classes": [],
            "_model_module": "@jupyter-widgets/controls",
            "_model_module_version": "1.5.0",
            "_model_name": "HBoxModel",
            "_view_count": null,
            "_view_module": "@jupyter-widgets/controls",
            "_view_module_version": "1.5.0",
            "_view_name": "HBoxView",
            "box_style": "",
            "children": [
              "IPY_MODEL_25b1db0e37864ed4a3c444d5f214aa65",
              "IPY_MODEL_948c9ddc3c3e4fd0a47a6cf384f428de",
              "IPY_MODEL_466c15bd7e7f4396abec63d03a0a3294"
            ],
            "layout": "IPY_MODEL_5a47a7ec1c5740ba925f328dd3af89c8"
          }
        },
        "25b1db0e37864ed4a3c444d5f214aa65": {
          "model_module": "@jupyter-widgets/controls",
          "model_name": "HTMLModel",
          "model_module_version": "1.5.0",
          "state": {
            "_dom_classes": [],
            "_model_module": "@jupyter-widgets/controls",
            "_model_module_version": "1.5.0",
            "_model_name": "HTMLModel",
            "_view_count": null,
            "_view_module": "@jupyter-widgets/controls",
            "_view_module_version": "1.5.0",
            "_view_name": "HTMLView",
            "description": "",
            "description_tooltip": null,
            "layout": "IPY_MODEL_c49a1345ab6f4922904f01186adf5131",
            "placeholder": "​",
            "style": "IPY_MODEL_0ccb032381ad451dba9f5ea1386635f3",
            "value": "Downloading builder script: "
          }
        },
        "948c9ddc3c3e4fd0a47a6cf384f428de": {
          "model_module": "@jupyter-widgets/controls",
          "model_name": "FloatProgressModel",
          "model_module_version": "1.5.0",
          "state": {
            "_dom_classes": [],
            "_model_module": "@jupyter-widgets/controls",
            "_model_module_version": "1.5.0",
            "_model_name": "FloatProgressModel",
            "_view_count": null,
            "_view_module": "@jupyter-widgets/controls",
            "_view_module_version": "1.5.0",
            "_view_name": "ProgressView",
            "bar_style": "success",
            "description": "",
            "description_tooltip": null,
            "layout": "IPY_MODEL_147f5c374a9749d7b2d7331461b27cea",
            "max": 1901,
            "min": 0,
            "orientation": "horizontal",
            "style": "IPY_MODEL_29421e6368964cec886d942b54924c38",
            "value": 1901
          }
        },
        "466c15bd7e7f4396abec63d03a0a3294": {
          "model_module": "@jupyter-widgets/controls",
          "model_name": "HTMLModel",
          "model_module_version": "1.5.0",
          "state": {
            "_dom_classes": [],
            "_model_module": "@jupyter-widgets/controls",
            "_model_module_version": "1.5.0",
            "_model_name": "HTMLModel",
            "_view_count": null,
            "_view_module": "@jupyter-widgets/controls",
            "_view_module_version": "1.5.0",
            "_view_name": "HTMLView",
            "description": "",
            "description_tooltip": null,
            "layout": "IPY_MODEL_01f6eb9d171044c7b1c4f1b0fd3e8897",
            "placeholder": "​",
            "style": "IPY_MODEL_c564801f360c4a3183434be67adb6930",
            "value": " 4.48k/? [00:00&lt;00:00, 121kB/s]"
          }
        },
        "5a47a7ec1c5740ba925f328dd3af89c8": {
          "model_module": "@jupyter-widgets/base",
          "model_name": "LayoutModel",
          "model_module_version": "1.2.0",
          "state": {
            "_model_module": "@jupyter-widgets/base",
            "_model_module_version": "1.2.0",
            "_model_name": "LayoutModel",
            "_view_count": null,
            "_view_module": "@jupyter-widgets/base",
            "_view_module_version": "1.2.0",
            "_view_name": "LayoutView",
            "align_content": null,
            "align_items": null,
            "align_self": null,
            "border": null,
            "bottom": null,
            "display": null,
            "flex": null,
            "flex_flow": null,
            "grid_area": null,
            "grid_auto_columns": null,
            "grid_auto_flow": null,
            "grid_auto_rows": null,
            "grid_column": null,
            "grid_gap": null,
            "grid_row": null,
            "grid_template_areas": null,
            "grid_template_columns": null,
            "grid_template_rows": null,
            "height": null,
            "justify_content": null,
            "justify_items": null,
            "left": null,
            "margin": null,
            "max_height": null,
            "max_width": null,
            "min_height": null,
            "min_width": null,
            "object_fit": null,
            "object_position": null,
            "order": null,
            "overflow": null,
            "overflow_x": null,
            "overflow_y": null,
            "padding": null,
            "right": null,
            "top": null,
            "visibility": null,
            "width": null
          }
        },
        "c49a1345ab6f4922904f01186adf5131": {
          "model_module": "@jupyter-widgets/base",
          "model_name": "LayoutModel",
          "model_module_version": "1.2.0",
          "state": {
            "_model_module": "@jupyter-widgets/base",
            "_model_module_version": "1.2.0",
            "_model_name": "LayoutModel",
            "_view_count": null,
            "_view_module": "@jupyter-widgets/base",
            "_view_module_version": "1.2.0",
            "_view_name": "LayoutView",
            "align_content": null,
            "align_items": null,
            "align_self": null,
            "border": null,
            "bottom": null,
            "display": null,
            "flex": null,
            "flex_flow": null,
            "grid_area": null,
            "grid_auto_columns": null,
            "grid_auto_flow": null,
            "grid_auto_rows": null,
            "grid_column": null,
            "grid_gap": null,
            "grid_row": null,
            "grid_template_areas": null,
            "grid_template_columns": null,
            "grid_template_rows": null,
            "height": null,
            "justify_content": null,
            "justify_items": null,
            "left": null,
            "margin": null,
            "max_height": null,
            "max_width": null,
            "min_height": null,
            "min_width": null,
            "object_fit": null,
            "object_position": null,
            "order": null,
            "overflow": null,
            "overflow_x": null,
            "overflow_y": null,
            "padding": null,
            "right": null,
            "top": null,
            "visibility": null,
            "width": null
          }
        },
        "0ccb032381ad451dba9f5ea1386635f3": {
          "model_module": "@jupyter-widgets/controls",
          "model_name": "DescriptionStyleModel",
          "model_module_version": "1.5.0",
          "state": {
            "_model_module": "@jupyter-widgets/controls",
            "_model_module_version": "1.5.0",
            "_model_name": "DescriptionStyleModel",
            "_view_count": null,
            "_view_module": "@jupyter-widgets/base",
            "_view_module_version": "1.2.0",
            "_view_name": "StyleView",
            "description_width": ""
          }
        },
        "147f5c374a9749d7b2d7331461b27cea": {
          "model_module": "@jupyter-widgets/base",
          "model_name": "LayoutModel",
          "model_module_version": "1.2.0",
          "state": {
            "_model_module": "@jupyter-widgets/base",
            "_model_module_version": "1.2.0",
            "_model_name": "LayoutModel",
            "_view_count": null,
            "_view_module": "@jupyter-widgets/base",
            "_view_module_version": "1.2.0",
            "_view_name": "LayoutView",
            "align_content": null,
            "align_items": null,
            "align_self": null,
            "border": null,
            "bottom": null,
            "display": null,
            "flex": null,
            "flex_flow": null,
            "grid_area": null,
            "grid_auto_columns": null,
            "grid_auto_flow": null,
            "grid_auto_rows": null,
            "grid_column": null,
            "grid_gap": null,
            "grid_row": null,
            "grid_template_areas": null,
            "grid_template_columns": null,
            "grid_template_rows": null,
            "height": null,
            "justify_content": null,
            "justify_items": null,
            "left": null,
            "margin": null,
            "max_height": null,
            "max_width": null,
            "min_height": null,
            "min_width": null,
            "object_fit": null,
            "object_position": null,
            "order": null,
            "overflow": null,
            "overflow_x": null,
            "overflow_y": null,
            "padding": null,
            "right": null,
            "top": null,
            "visibility": null,
            "width": null
          }
        },
        "29421e6368964cec886d942b54924c38": {
          "model_module": "@jupyter-widgets/controls",
          "model_name": "ProgressStyleModel",
          "model_module_version": "1.5.0",
          "state": {
            "_model_module": "@jupyter-widgets/controls",
            "_model_module_version": "1.5.0",
            "_model_name": "ProgressStyleModel",
            "_view_count": null,
            "_view_module": "@jupyter-widgets/base",
            "_view_module_version": "1.2.0",
            "_view_name": "StyleView",
            "bar_color": null,
            "description_width": ""
          }
        },
        "01f6eb9d171044c7b1c4f1b0fd3e8897": {
          "model_module": "@jupyter-widgets/base",
          "model_name": "LayoutModel",
          "model_module_version": "1.2.0",
          "state": {
            "_model_module": "@jupyter-widgets/base",
            "_model_module_version": "1.2.0",
            "_model_name": "LayoutModel",
            "_view_count": null,
            "_view_module": "@jupyter-widgets/base",
            "_view_module_version": "1.2.0",
            "_view_name": "LayoutView",
            "align_content": null,
            "align_items": null,
            "align_self": null,
            "border": null,
            "bottom": null,
            "display": null,
            "flex": null,
            "flex_flow": null,
            "grid_area": null,
            "grid_auto_columns": null,
            "grid_auto_flow": null,
            "grid_auto_rows": null,
            "grid_column": null,
            "grid_gap": null,
            "grid_row": null,
            "grid_template_areas": null,
            "grid_template_columns": null,
            "grid_template_rows": null,
            "height": null,
            "justify_content": null,
            "justify_items": null,
            "left": null,
            "margin": null,
            "max_height": null,
            "max_width": null,
            "min_height": null,
            "min_width": null,
            "object_fit": null,
            "object_position": null,
            "order": null,
            "overflow": null,
            "overflow_x": null,
            "overflow_y": null,
            "padding": null,
            "right": null,
            "top": null,
            "visibility": null,
            "width": null
          }
        },
        "c564801f360c4a3183434be67adb6930": {
          "model_module": "@jupyter-widgets/controls",
          "model_name": "DescriptionStyleModel",
          "model_module_version": "1.5.0",
          "state": {
            "_model_module": "@jupyter-widgets/controls",
            "_model_module_version": "1.5.0",
            "_model_name": "DescriptionStyleModel",
            "_view_count": null,
            "_view_module": "@jupyter-widgets/base",
            "_view_module_version": "1.2.0",
            "_view_name": "StyleView",
            "description_width": ""
          }
        },
        "926f7dac2e8f4fa7898b15e1f5cf35cb": {
          "model_module": "@jupyter-widgets/controls",
          "model_name": "HBoxModel",
          "model_module_version": "1.5.0",
          "state": {
            "_dom_classes": [],
            "_model_module": "@jupyter-widgets/controls",
            "_model_module_version": "1.5.0",
            "_model_name": "HBoxModel",
            "_view_count": null,
            "_view_module": "@jupyter-widgets/controls",
            "_view_module_version": "1.5.0",
            "_view_name": "HBoxView",
            "box_style": "",
            "children": [
              "IPY_MODEL_d3f8b04d49e74a0ba08b4395f0905a94",
              "IPY_MODEL_fec14861293a443ba61cc9e72308394a",
              "IPY_MODEL_b5706ea83597448997c0dc279e6b366b"
            ],
            "layout": "IPY_MODEL_0023ebab429e4213b9f974de47caa94f"
          }
        },
        "d3f8b04d49e74a0ba08b4395f0905a94": {
          "model_module": "@jupyter-widgets/controls",
          "model_name": "HTMLModel",
          "model_module_version": "1.5.0",
          "state": {
            "_dom_classes": [],
            "_model_module": "@jupyter-widgets/controls",
            "_model_module_version": "1.5.0",
            "_model_name": "HTMLModel",
            "_view_count": null,
            "_view_module": "@jupyter-widgets/controls",
            "_view_module_version": "1.5.0",
            "_view_name": "HTMLView",
            "description": "",
            "description_tooltip": null,
            "layout": "IPY_MODEL_0f1c3b41114743809f7fd366e92beecc",
            "placeholder": "​",
            "style": "IPY_MODEL_4de6130a2ebc48da91d6a99524249866",
            "value": "Downloading builder script: "
          }
        },
        "fec14861293a443ba61cc9e72308394a": {
          "model_module": "@jupyter-widgets/controls",
          "model_name": "FloatProgressModel",
          "model_module_version": "1.5.0",
          "state": {
            "_dom_classes": [],
            "_model_module": "@jupyter-widgets/controls",
            "_model_module_version": "1.5.0",
            "_model_name": "FloatProgressModel",
            "_view_count": null,
            "_view_module": "@jupyter-widgets/controls",
            "_view_module_version": "1.5.0",
            "_view_name": "ProgressView",
            "bar_style": "success",
            "description": "",
            "description_tooltip": null,
            "layout": "IPY_MODEL_2f0c0d20faa74ad8889ab6a5af65057f",
            "max": 2160,
            "min": 0,
            "orientation": "horizontal",
            "style": "IPY_MODEL_7612437890a44ca495bb4af5517fb65d",
            "value": 2160
          }
        },
        "b5706ea83597448997c0dc279e6b366b": {
          "model_module": "@jupyter-widgets/controls",
          "model_name": "HTMLModel",
          "model_module_version": "1.5.0",
          "state": {
            "_dom_classes": [],
            "_model_module": "@jupyter-widgets/controls",
            "_model_module_version": "1.5.0",
            "_model_name": "HTMLModel",
            "_view_count": null,
            "_view_module": "@jupyter-widgets/controls",
            "_view_module_version": "1.5.0",
            "_view_name": "HTMLView",
            "description": "",
            "description_tooltip": null,
            "layout": "IPY_MODEL_32ae97072c014971abdfd488ffadb069",
            "placeholder": "​",
            "style": "IPY_MODEL_e197b0a1242340c9860c1290e6a03e63",
            "value": " 5.59k/? [00:00&lt;00:00, 162kB/s]"
          }
        },
        "0023ebab429e4213b9f974de47caa94f": {
          "model_module": "@jupyter-widgets/base",
          "model_name": "LayoutModel",
          "model_module_version": "1.2.0",
          "state": {
            "_model_module": "@jupyter-widgets/base",
            "_model_module_version": "1.2.0",
            "_model_name": "LayoutModel",
            "_view_count": null,
            "_view_module": "@jupyter-widgets/base",
            "_view_module_version": "1.2.0",
            "_view_name": "LayoutView",
            "align_content": null,
            "align_items": null,
            "align_self": null,
            "border": null,
            "bottom": null,
            "display": null,
            "flex": null,
            "flex_flow": null,
            "grid_area": null,
            "grid_auto_columns": null,
            "grid_auto_flow": null,
            "grid_auto_rows": null,
            "grid_column": null,
            "grid_gap": null,
            "grid_row": null,
            "grid_template_areas": null,
            "grid_template_columns": null,
            "grid_template_rows": null,
            "height": null,
            "justify_content": null,
            "justify_items": null,
            "left": null,
            "margin": null,
            "max_height": null,
            "max_width": null,
            "min_height": null,
            "min_width": null,
            "object_fit": null,
            "object_position": null,
            "order": null,
            "overflow": null,
            "overflow_x": null,
            "overflow_y": null,
            "padding": null,
            "right": null,
            "top": null,
            "visibility": null,
            "width": null
          }
        },
        "0f1c3b41114743809f7fd366e92beecc": {
          "model_module": "@jupyter-widgets/base",
          "model_name": "LayoutModel",
          "model_module_version": "1.2.0",
          "state": {
            "_model_module": "@jupyter-widgets/base",
            "_model_module_version": "1.2.0",
            "_model_name": "LayoutModel",
            "_view_count": null,
            "_view_module": "@jupyter-widgets/base",
            "_view_module_version": "1.2.0",
            "_view_name": "LayoutView",
            "align_content": null,
            "align_items": null,
            "align_self": null,
            "border": null,
            "bottom": null,
            "display": null,
            "flex": null,
            "flex_flow": null,
            "grid_area": null,
            "grid_auto_columns": null,
            "grid_auto_flow": null,
            "grid_auto_rows": null,
            "grid_column": null,
            "grid_gap": null,
            "grid_row": null,
            "grid_template_areas": null,
            "grid_template_columns": null,
            "grid_template_rows": null,
            "height": null,
            "justify_content": null,
            "justify_items": null,
            "left": null,
            "margin": null,
            "max_height": null,
            "max_width": null,
            "min_height": null,
            "min_width": null,
            "object_fit": null,
            "object_position": null,
            "order": null,
            "overflow": null,
            "overflow_x": null,
            "overflow_y": null,
            "padding": null,
            "right": null,
            "top": null,
            "visibility": null,
            "width": null
          }
        },
        "4de6130a2ebc48da91d6a99524249866": {
          "model_module": "@jupyter-widgets/controls",
          "model_name": "DescriptionStyleModel",
          "model_module_version": "1.5.0",
          "state": {
            "_model_module": "@jupyter-widgets/controls",
            "_model_module_version": "1.5.0",
            "_model_name": "DescriptionStyleModel",
            "_view_count": null,
            "_view_module": "@jupyter-widgets/base",
            "_view_module_version": "1.2.0",
            "_view_name": "StyleView",
            "description_width": ""
          }
        },
        "2f0c0d20faa74ad8889ab6a5af65057f": {
          "model_module": "@jupyter-widgets/base",
          "model_name": "LayoutModel",
          "model_module_version": "1.2.0",
          "state": {
            "_model_module": "@jupyter-widgets/base",
            "_model_module_version": "1.2.0",
            "_model_name": "LayoutModel",
            "_view_count": null,
            "_view_module": "@jupyter-widgets/base",
            "_view_module_version": "1.2.0",
            "_view_name": "LayoutView",
            "align_content": null,
            "align_items": null,
            "align_self": null,
            "border": null,
            "bottom": null,
            "display": null,
            "flex": null,
            "flex_flow": null,
            "grid_area": null,
            "grid_auto_columns": null,
            "grid_auto_flow": null,
            "grid_auto_rows": null,
            "grid_column": null,
            "grid_gap": null,
            "grid_row": null,
            "grid_template_areas": null,
            "grid_template_columns": null,
            "grid_template_rows": null,
            "height": null,
            "justify_content": null,
            "justify_items": null,
            "left": null,
            "margin": null,
            "max_height": null,
            "max_width": null,
            "min_height": null,
            "min_width": null,
            "object_fit": null,
            "object_position": null,
            "order": null,
            "overflow": null,
            "overflow_x": null,
            "overflow_y": null,
            "padding": null,
            "right": null,
            "top": null,
            "visibility": null,
            "width": null
          }
        },
        "7612437890a44ca495bb4af5517fb65d": {
          "model_module": "@jupyter-widgets/controls",
          "model_name": "ProgressStyleModel",
          "model_module_version": "1.5.0",
          "state": {
            "_model_module": "@jupyter-widgets/controls",
            "_model_module_version": "1.5.0",
            "_model_name": "ProgressStyleModel",
            "_view_count": null,
            "_view_module": "@jupyter-widgets/base",
            "_view_module_version": "1.2.0",
            "_view_name": "StyleView",
            "bar_color": null,
            "description_width": ""
          }
        },
        "32ae97072c014971abdfd488ffadb069": {
          "model_module": "@jupyter-widgets/base",
          "model_name": "LayoutModel",
          "model_module_version": "1.2.0",
          "state": {
            "_model_module": "@jupyter-widgets/base",
            "_model_module_version": "1.2.0",
            "_model_name": "LayoutModel",
            "_view_count": null,
            "_view_module": "@jupyter-widgets/base",
            "_view_module_version": "1.2.0",
            "_view_name": "LayoutView",
            "align_content": null,
            "align_items": null,
            "align_self": null,
            "border": null,
            "bottom": null,
            "display": null,
            "flex": null,
            "flex_flow": null,
            "grid_area": null,
            "grid_auto_columns": null,
            "grid_auto_flow": null,
            "grid_auto_rows": null,
            "grid_column": null,
            "grid_gap": null,
            "grid_row": null,
            "grid_template_areas": null,
            "grid_template_columns": null,
            "grid_template_rows": null,
            "height": null,
            "justify_content": null,
            "justify_items": null,
            "left": null,
            "margin": null,
            "max_height": null,
            "max_width": null,
            "min_height": null,
            "min_width": null,
            "object_fit": null,
            "object_position": null,
            "order": null,
            "overflow": null,
            "overflow_x": null,
            "overflow_y": null,
            "padding": null,
            "right": null,
            "top": null,
            "visibility": null,
            "width": null
          }
        },
        "e197b0a1242340c9860c1290e6a03e63": {
          "model_module": "@jupyter-widgets/controls",
          "model_name": "DescriptionStyleModel",
          "model_module_version": "1.5.0",
          "state": {
            "_model_module": "@jupyter-widgets/controls",
            "_model_module_version": "1.5.0",
            "_model_name": "DescriptionStyleModel",
            "_view_count": null,
            "_view_module": "@jupyter-widgets/base",
            "_view_module_version": "1.2.0",
            "_view_name": "StyleView",
            "description_width": ""
          }
        },
        "1e3ab0ec49474606b2f8e6dfb2cda128": {
          "model_module": "@jupyter-widgets/controls",
          "model_name": "HBoxModel",
          "model_module_version": "1.5.0",
          "state": {
            "_dom_classes": [],
            "_model_module": "@jupyter-widgets/controls",
            "_model_module_version": "1.5.0",
            "_model_name": "HBoxModel",
            "_view_count": null,
            "_view_module": "@jupyter-widgets/controls",
            "_view_module_version": "1.5.0",
            "_view_name": "HBoxView",
            "box_style": "",
            "children": [
              "IPY_MODEL_aea55afd74f940589a413d6fa0482e10",
              "IPY_MODEL_f93eeb37f3534363899864f10bd0dd2f",
              "IPY_MODEL_dd4acff408044667aae3ac08e2decf5c"
            ],
            "layout": "IPY_MODEL_da96a1d3a0574b33b8146e00e6442cba"
          }
        },
        "aea55afd74f940589a413d6fa0482e10": {
          "model_module": "@jupyter-widgets/controls",
          "model_name": "HTMLModel",
          "model_module_version": "1.5.0",
          "state": {
            "_dom_classes": [],
            "_model_module": "@jupyter-widgets/controls",
            "_model_module_version": "1.5.0",
            "_model_name": "HTMLModel",
            "_view_count": null,
            "_view_module": "@jupyter-widgets/controls",
            "_view_module_version": "1.5.0",
            "_view_name": "HTMLView",
            "description": "",
            "description_tooltip": null,
            "layout": "IPY_MODEL_d2d774fbcea640db81aef507af089942",
            "placeholder": "​",
            "style": "IPY_MODEL_3e88d5af70b346ec9d09a24520ca9607",
            "value": "Downloading: 100%"
          }
        },
        "f93eeb37f3534363899864f10bd0dd2f": {
          "model_module": "@jupyter-widgets/controls",
          "model_name": "FloatProgressModel",
          "model_module_version": "1.5.0",
          "state": {
            "_dom_classes": [],
            "_model_module": "@jupyter-widgets/controls",
            "_model_module_version": "1.5.0",
            "_model_name": "FloatProgressModel",
            "_view_count": null,
            "_view_module": "@jupyter-widgets/controls",
            "_view_module_version": "1.5.0",
            "_view_name": "ProgressView",
            "bar_style": "success",
            "description": "",
            "description_tooltip": null,
            "layout": "IPY_MODEL_30f1c49e67d042f09fd726d8aadf42db",
            "max": 1768,
            "min": 0,
            "orientation": "horizontal",
            "style": "IPY_MODEL_3ae6b46b240e479999fad328df472772",
            "value": 1768
          }
        },
        "dd4acff408044667aae3ac08e2decf5c": {
          "model_module": "@jupyter-widgets/controls",
          "model_name": "HTMLModel",
          "model_module_version": "1.5.0",
          "state": {
            "_dom_classes": [],
            "_model_module": "@jupyter-widgets/controls",
            "_model_module_version": "1.5.0",
            "_model_name": "HTMLModel",
            "_view_count": null,
            "_view_module": "@jupyter-widgets/controls",
            "_view_module_version": "1.5.0",
            "_view_name": "HTMLView",
            "description": "",
            "description_tooltip": null,
            "layout": "IPY_MODEL_2a683b4e4e554a609c63d59a08d09f5a",
            "placeholder": "​",
            "style": "IPY_MODEL_a9c7c165653145a3a1b1b78b87e9d485",
            "value": " 1.77k/1.77k [00:00&lt;00:00, 29.3kB/s]"
          }
        },
        "da96a1d3a0574b33b8146e00e6442cba": {
          "model_module": "@jupyter-widgets/base",
          "model_name": "LayoutModel",
          "model_module_version": "1.2.0",
          "state": {
            "_model_module": "@jupyter-widgets/base",
            "_model_module_version": "1.2.0",
            "_model_name": "LayoutModel",
            "_view_count": null,
            "_view_module": "@jupyter-widgets/base",
            "_view_module_version": "1.2.0",
            "_view_name": "LayoutView",
            "align_content": null,
            "align_items": null,
            "align_self": null,
            "border": null,
            "bottom": null,
            "display": null,
            "flex": null,
            "flex_flow": null,
            "grid_area": null,
            "grid_auto_columns": null,
            "grid_auto_flow": null,
            "grid_auto_rows": null,
            "grid_column": null,
            "grid_gap": null,
            "grid_row": null,
            "grid_template_areas": null,
            "grid_template_columns": null,
            "grid_template_rows": null,
            "height": null,
            "justify_content": null,
            "justify_items": null,
            "left": null,
            "margin": null,
            "max_height": null,
            "max_width": null,
            "min_height": null,
            "min_width": null,
            "object_fit": null,
            "object_position": null,
            "order": null,
            "overflow": null,
            "overflow_x": null,
            "overflow_y": null,
            "padding": null,
            "right": null,
            "top": null,
            "visibility": null,
            "width": null
          }
        },
        "d2d774fbcea640db81aef507af089942": {
          "model_module": "@jupyter-widgets/base",
          "model_name": "LayoutModel",
          "model_module_version": "1.2.0",
          "state": {
            "_model_module": "@jupyter-widgets/base",
            "_model_module_version": "1.2.0",
            "_model_name": "LayoutModel",
            "_view_count": null,
            "_view_module": "@jupyter-widgets/base",
            "_view_module_version": "1.2.0",
            "_view_name": "LayoutView",
            "align_content": null,
            "align_items": null,
            "align_self": null,
            "border": null,
            "bottom": null,
            "display": null,
            "flex": null,
            "flex_flow": null,
            "grid_area": null,
            "grid_auto_columns": null,
            "grid_auto_flow": null,
            "grid_auto_rows": null,
            "grid_column": null,
            "grid_gap": null,
            "grid_row": null,
            "grid_template_areas": null,
            "grid_template_columns": null,
            "grid_template_rows": null,
            "height": null,
            "justify_content": null,
            "justify_items": null,
            "left": null,
            "margin": null,
            "max_height": null,
            "max_width": null,
            "min_height": null,
            "min_width": null,
            "object_fit": null,
            "object_position": null,
            "order": null,
            "overflow": null,
            "overflow_x": null,
            "overflow_y": null,
            "padding": null,
            "right": null,
            "top": null,
            "visibility": null,
            "width": null
          }
        },
        "3e88d5af70b346ec9d09a24520ca9607": {
          "model_module": "@jupyter-widgets/controls",
          "model_name": "DescriptionStyleModel",
          "model_module_version": "1.5.0",
          "state": {
            "_model_module": "@jupyter-widgets/controls",
            "_model_module_version": "1.5.0",
            "_model_name": "DescriptionStyleModel",
            "_view_count": null,
            "_view_module": "@jupyter-widgets/base",
            "_view_module_version": "1.2.0",
            "_view_name": "StyleView",
            "description_width": ""
          }
        },
        "30f1c49e67d042f09fd726d8aadf42db": {
          "model_module": "@jupyter-widgets/base",
          "model_name": "LayoutModel",
          "model_module_version": "1.2.0",
          "state": {
            "_model_module": "@jupyter-widgets/base",
            "_model_module_version": "1.2.0",
            "_model_name": "LayoutModel",
            "_view_count": null,
            "_view_module": "@jupyter-widgets/base",
            "_view_module_version": "1.2.0",
            "_view_name": "LayoutView",
            "align_content": null,
            "align_items": null,
            "align_self": null,
            "border": null,
            "bottom": null,
            "display": null,
            "flex": null,
            "flex_flow": null,
            "grid_area": null,
            "grid_auto_columns": null,
            "grid_auto_flow": null,
            "grid_auto_rows": null,
            "grid_column": null,
            "grid_gap": null,
            "grid_row": null,
            "grid_template_areas": null,
            "grid_template_columns": null,
            "grid_template_rows": null,
            "height": null,
            "justify_content": null,
            "justify_items": null,
            "left": null,
            "margin": null,
            "max_height": null,
            "max_width": null,
            "min_height": null,
            "min_width": null,
            "object_fit": null,
            "object_position": null,
            "order": null,
            "overflow": null,
            "overflow_x": null,
            "overflow_y": null,
            "padding": null,
            "right": null,
            "top": null,
            "visibility": null,
            "width": null
          }
        },
        "3ae6b46b240e479999fad328df472772": {
          "model_module": "@jupyter-widgets/controls",
          "model_name": "ProgressStyleModel",
          "model_module_version": "1.5.0",
          "state": {
            "_model_module": "@jupyter-widgets/controls",
            "_model_module_version": "1.5.0",
            "_model_name": "ProgressStyleModel",
            "_view_count": null,
            "_view_module": "@jupyter-widgets/base",
            "_view_module_version": "1.2.0",
            "_view_name": "StyleView",
            "bar_color": null,
            "description_width": ""
          }
        },
        "2a683b4e4e554a609c63d59a08d09f5a": {
          "model_module": "@jupyter-widgets/base",
          "model_name": "LayoutModel",
          "model_module_version": "1.2.0",
          "state": {
            "_model_module": "@jupyter-widgets/base",
            "_model_module_version": "1.2.0",
            "_model_name": "LayoutModel",
            "_view_count": null,
            "_view_module": "@jupyter-widgets/base",
            "_view_module_version": "1.2.0",
            "_view_name": "LayoutView",
            "align_content": null,
            "align_items": null,
            "align_self": null,
            "border": null,
            "bottom": null,
            "display": null,
            "flex": null,
            "flex_flow": null,
            "grid_area": null,
            "grid_auto_columns": null,
            "grid_auto_flow": null,
            "grid_auto_rows": null,
            "grid_column": null,
            "grid_gap": null,
            "grid_row": null,
            "grid_template_areas": null,
            "grid_template_columns": null,
            "grid_template_rows": null,
            "height": null,
            "justify_content": null,
            "justify_items": null,
            "left": null,
            "margin": null,
            "max_height": null,
            "max_width": null,
            "min_height": null,
            "min_width": null,
            "object_fit": null,
            "object_position": null,
            "order": null,
            "overflow": null,
            "overflow_x": null,
            "overflow_y": null,
            "padding": null,
            "right": null,
            "top": null,
            "visibility": null,
            "width": null
          }
        },
        "a9c7c165653145a3a1b1b78b87e9d485": {
          "model_module": "@jupyter-widgets/controls",
          "model_name": "DescriptionStyleModel",
          "model_module_version": "1.5.0",
          "state": {
            "_model_module": "@jupyter-widgets/controls",
            "_model_module_version": "1.5.0",
            "_model_name": "DescriptionStyleModel",
            "_view_count": null,
            "_view_module": "@jupyter-widgets/base",
            "_view_module_version": "1.2.0",
            "_view_name": "StyleView",
            "description_width": ""
          }
        },
        "6605f25244594320b6e1eadce0a8933d": {
          "model_module": "@jupyter-widgets/controls",
          "model_name": "HBoxModel",
          "model_module_version": "1.5.0",
          "state": {
            "_dom_classes": [],
            "_model_module": "@jupyter-widgets/controls",
            "_model_module_version": "1.5.0",
            "_model_name": "HBoxModel",
            "_view_count": null,
            "_view_module": "@jupyter-widgets/controls",
            "_view_module_version": "1.5.0",
            "_view_name": "HBoxView",
            "box_style": "",
            "children": [
              "IPY_MODEL_c6e3ee1b1aa743a3b874cb5f0565f60e",
              "IPY_MODEL_97d18b7c9aa04045a8334fc6fc5f68c2",
              "IPY_MODEL_3be62f9be5e74231b4f5b23d2fbbfaa6"
            ],
            "layout": "IPY_MODEL_1f3d728969ee419999386020d1015fb6"
          }
        },
        "c6e3ee1b1aa743a3b874cb5f0565f60e": {
          "model_module": "@jupyter-widgets/controls",
          "model_name": "HTMLModel",
          "model_module_version": "1.5.0",
          "state": {
            "_dom_classes": [],
            "_model_module": "@jupyter-widgets/controls",
            "_model_module_version": "1.5.0",
            "_model_name": "HTMLModel",
            "_view_count": null,
            "_view_module": "@jupyter-widgets/controls",
            "_view_module_version": "1.5.0",
            "_view_name": "HTMLView",
            "description": "",
            "description_tooltip": null,
            "layout": "IPY_MODEL_93b5328486cc46e7ad7c600ac27b3cac",
            "placeholder": "​",
            "style": "IPY_MODEL_b33c386766e5450abfed2bdf18c1c97d",
            "value": "Downloading: 100%"
          }
        },
        "97d18b7c9aa04045a8334fc6fc5f68c2": {
          "model_module": "@jupyter-widgets/controls",
          "model_name": "FloatProgressModel",
          "model_module_version": "1.5.0",
          "state": {
            "_dom_classes": [],
            "_model_module": "@jupyter-widgets/controls",
            "_model_module_version": "1.5.0",
            "_model_name": "FloatProgressModel",
            "_view_count": null,
            "_view_module": "@jupyter-widgets/controls",
            "_view_module_version": "1.5.0",
            "_view_name": "ProgressView",
            "bar_style": "success",
            "description": "",
            "description_tooltip": null,
            "layout": "IPY_MODEL_a5cb60c227b6440ebb1fe99553f2e4ef",
            "max": 1269737156,
            "min": 0,
            "orientation": "horizontal",
            "style": "IPY_MODEL_06d98593f2db41f083f2589d81158198",
            "value": 1269737156
          }
        },
        "3be62f9be5e74231b4f5b23d2fbbfaa6": {
          "model_module": "@jupyter-widgets/controls",
          "model_name": "HTMLModel",
          "model_module_version": "1.5.0",
          "state": {
            "_dom_classes": [],
            "_model_module": "@jupyter-widgets/controls",
            "_model_module_version": "1.5.0",
            "_model_name": "HTMLModel",
            "_view_count": null,
            "_view_module": "@jupyter-widgets/controls",
            "_view_module_version": "1.5.0",
            "_view_name": "HTMLView",
            "description": "",
            "description_tooltip": null,
            "layout": "IPY_MODEL_a86ff13ea60e4035b2603a5f9e8e4868",
            "placeholder": "​",
            "style": "IPY_MODEL_406ed2f5b5f7452693952d5eaba381e8",
            "value": " 1.27G/1.27G [00:34&lt;00:00, 53.5MB/s]"
          }
        },
        "1f3d728969ee419999386020d1015fb6": {
          "model_module": "@jupyter-widgets/base",
          "model_name": "LayoutModel",
          "model_module_version": "1.2.0",
          "state": {
            "_model_module": "@jupyter-widgets/base",
            "_model_module_version": "1.2.0",
            "_model_name": "LayoutModel",
            "_view_count": null,
            "_view_module": "@jupyter-widgets/base",
            "_view_module_version": "1.2.0",
            "_view_name": "LayoutView",
            "align_content": null,
            "align_items": null,
            "align_self": null,
            "border": null,
            "bottom": null,
            "display": null,
            "flex": null,
            "flex_flow": null,
            "grid_area": null,
            "grid_auto_columns": null,
            "grid_auto_flow": null,
            "grid_auto_rows": null,
            "grid_column": null,
            "grid_gap": null,
            "grid_row": null,
            "grid_template_areas": null,
            "grid_template_columns": null,
            "grid_template_rows": null,
            "height": null,
            "justify_content": null,
            "justify_items": null,
            "left": null,
            "margin": null,
            "max_height": null,
            "max_width": null,
            "min_height": null,
            "min_width": null,
            "object_fit": null,
            "object_position": null,
            "order": null,
            "overflow": null,
            "overflow_x": null,
            "overflow_y": null,
            "padding": null,
            "right": null,
            "top": null,
            "visibility": null,
            "width": null
          }
        },
        "93b5328486cc46e7ad7c600ac27b3cac": {
          "model_module": "@jupyter-widgets/base",
          "model_name": "LayoutModel",
          "model_module_version": "1.2.0",
          "state": {
            "_model_module": "@jupyter-widgets/base",
            "_model_module_version": "1.2.0",
            "_model_name": "LayoutModel",
            "_view_count": null,
            "_view_module": "@jupyter-widgets/base",
            "_view_module_version": "1.2.0",
            "_view_name": "LayoutView",
            "align_content": null,
            "align_items": null,
            "align_self": null,
            "border": null,
            "bottom": null,
            "display": null,
            "flex": null,
            "flex_flow": null,
            "grid_area": null,
            "grid_auto_columns": null,
            "grid_auto_flow": null,
            "grid_auto_rows": null,
            "grid_column": null,
            "grid_gap": null,
            "grid_row": null,
            "grid_template_areas": null,
            "grid_template_columns": null,
            "grid_template_rows": null,
            "height": null,
            "justify_content": null,
            "justify_items": null,
            "left": null,
            "margin": null,
            "max_height": null,
            "max_width": null,
            "min_height": null,
            "min_width": null,
            "object_fit": null,
            "object_position": null,
            "order": null,
            "overflow": null,
            "overflow_x": null,
            "overflow_y": null,
            "padding": null,
            "right": null,
            "top": null,
            "visibility": null,
            "width": null
          }
        },
        "b33c386766e5450abfed2bdf18c1c97d": {
          "model_module": "@jupyter-widgets/controls",
          "model_name": "DescriptionStyleModel",
          "model_module_version": "1.5.0",
          "state": {
            "_model_module": "@jupyter-widgets/controls",
            "_model_module_version": "1.5.0",
            "_model_name": "DescriptionStyleModel",
            "_view_count": null,
            "_view_module": "@jupyter-widgets/base",
            "_view_module_version": "1.2.0",
            "_view_name": "StyleView",
            "description_width": ""
          }
        },
        "a5cb60c227b6440ebb1fe99553f2e4ef": {
          "model_module": "@jupyter-widgets/base",
          "model_name": "LayoutModel",
          "model_module_version": "1.2.0",
          "state": {
            "_model_module": "@jupyter-widgets/base",
            "_model_module_version": "1.2.0",
            "_model_name": "LayoutModel",
            "_view_count": null,
            "_view_module": "@jupyter-widgets/base",
            "_view_module_version": "1.2.0",
            "_view_name": "LayoutView",
            "align_content": null,
            "align_items": null,
            "align_self": null,
            "border": null,
            "bottom": null,
            "display": null,
            "flex": null,
            "flex_flow": null,
            "grid_area": null,
            "grid_auto_columns": null,
            "grid_auto_flow": null,
            "grid_auto_rows": null,
            "grid_column": null,
            "grid_gap": null,
            "grid_row": null,
            "grid_template_areas": null,
            "grid_template_columns": null,
            "grid_template_rows": null,
            "height": null,
            "justify_content": null,
            "justify_items": null,
            "left": null,
            "margin": null,
            "max_height": null,
            "max_width": null,
            "min_height": null,
            "min_width": null,
            "object_fit": null,
            "object_position": null,
            "order": null,
            "overflow": null,
            "overflow_x": null,
            "overflow_y": null,
            "padding": null,
            "right": null,
            "top": null,
            "visibility": null,
            "width": null
          }
        },
        "06d98593f2db41f083f2589d81158198": {
          "model_module": "@jupyter-widgets/controls",
          "model_name": "ProgressStyleModel",
          "model_module_version": "1.5.0",
          "state": {
            "_model_module": "@jupyter-widgets/controls",
            "_model_module_version": "1.5.0",
            "_model_name": "ProgressStyleModel",
            "_view_count": null,
            "_view_module": "@jupyter-widgets/base",
            "_view_module_version": "1.2.0",
            "_view_name": "StyleView",
            "bar_color": null,
            "description_width": ""
          }
        },
        "a86ff13ea60e4035b2603a5f9e8e4868": {
          "model_module": "@jupyter-widgets/base",
          "model_name": "LayoutModel",
          "model_module_version": "1.2.0",
          "state": {
            "_model_module": "@jupyter-widgets/base",
            "_model_module_version": "1.2.0",
            "_model_name": "LayoutModel",
            "_view_count": null,
            "_view_module": "@jupyter-widgets/base",
            "_view_module_version": "1.2.0",
            "_view_name": "LayoutView",
            "align_content": null,
            "align_items": null,
            "align_self": null,
            "border": null,
            "bottom": null,
            "display": null,
            "flex": null,
            "flex_flow": null,
            "grid_area": null,
            "grid_auto_columns": null,
            "grid_auto_flow": null,
            "grid_auto_rows": null,
            "grid_column": null,
            "grid_gap": null,
            "grid_row": null,
            "grid_template_areas": null,
            "grid_template_columns": null,
            "grid_template_rows": null,
            "height": null,
            "justify_content": null,
            "justify_items": null,
            "left": null,
            "margin": null,
            "max_height": null,
            "max_width": null,
            "min_height": null,
            "min_width": null,
            "object_fit": null,
            "object_position": null,
            "order": null,
            "overflow": null,
            "overflow_x": null,
            "overflow_y": null,
            "padding": null,
            "right": null,
            "top": null,
            "visibility": null,
            "width": null
          }
        },
        "406ed2f5b5f7452693952d5eaba381e8": {
          "model_module": "@jupyter-widgets/controls",
          "model_name": "DescriptionStyleModel",
          "model_module_version": "1.5.0",
          "state": {
            "_model_module": "@jupyter-widgets/controls",
            "_model_module_version": "1.5.0",
            "_model_name": "DescriptionStyleModel",
            "_view_count": null,
            "_view_module": "@jupyter-widgets/base",
            "_view_module_version": "1.2.0",
            "_view_name": "StyleView",
            "description_width": ""
          }
        },
        "1804941f19ad4b6ba6e7f632ab0901dd": {
          "model_module": "@jupyter-widgets/controls",
          "model_name": "HBoxModel",
          "model_module_version": "1.5.0",
          "state": {
            "_dom_classes": [],
            "_model_module": "@jupyter-widgets/controls",
            "_model_module_version": "1.5.0",
            "_model_name": "HBoxModel",
            "_view_count": null,
            "_view_module": "@jupyter-widgets/controls",
            "_view_module_version": "1.5.0",
            "_view_name": "HBoxView",
            "box_style": "",
            "children": [
              "IPY_MODEL_2e9c7e6f38e04f9fbbe73b4befc2db4c",
              "IPY_MODEL_397dbd6b24404d30bb78cdc06e347e76",
              "IPY_MODEL_003581e4051648548879936c9939f460"
            ],
            "layout": "IPY_MODEL_c002a8b63aba4f5dbb406cbdce060660"
          }
        },
        "2e9c7e6f38e04f9fbbe73b4befc2db4c": {
          "model_module": "@jupyter-widgets/controls",
          "model_name": "HTMLModel",
          "model_module_version": "1.5.0",
          "state": {
            "_dom_classes": [],
            "_model_module": "@jupyter-widgets/controls",
            "_model_module_version": "1.5.0",
            "_model_name": "HTMLModel",
            "_view_count": null,
            "_view_module": "@jupyter-widgets/controls",
            "_view_module_version": "1.5.0",
            "_view_name": "HTMLView",
            "description": "",
            "description_tooltip": null,
            "layout": "IPY_MODEL_dafd13a19a1643e5b9c38bd80a5c079d",
            "placeholder": "​",
            "style": "IPY_MODEL_6c0afb3e2e90410f99f23e426ee5257c",
            "value": "Downloading data files: 100%"
          }
        },
        "397dbd6b24404d30bb78cdc06e347e76": {
          "model_module": "@jupyter-widgets/controls",
          "model_name": "FloatProgressModel",
          "model_module_version": "1.5.0",
          "state": {
            "_dom_classes": [],
            "_model_module": "@jupyter-widgets/controls",
            "_model_module_version": "1.5.0",
            "_model_name": "FloatProgressModel",
            "_view_count": null,
            "_view_module": "@jupyter-widgets/controls",
            "_view_module_version": "1.5.0",
            "_view_name": "ProgressView",
            "bar_style": "success",
            "description": "",
            "description_tooltip": null,
            "layout": "IPY_MODEL_33fd79e6239e40a38b664f8497027628",
            "max": 3,
            "min": 0,
            "orientation": "horizontal",
            "style": "IPY_MODEL_8a4d2c71f00a4490bb03a3c93baaab58",
            "value": 3
          }
        },
        "003581e4051648548879936c9939f460": {
          "model_module": "@jupyter-widgets/controls",
          "model_name": "HTMLModel",
          "model_module_version": "1.5.0",
          "state": {
            "_dom_classes": [],
            "_model_module": "@jupyter-widgets/controls",
            "_model_module_version": "1.5.0",
            "_model_name": "HTMLModel",
            "_view_count": null,
            "_view_module": "@jupyter-widgets/controls",
            "_view_module_version": "1.5.0",
            "_view_name": "HTMLView",
            "description": "",
            "description_tooltip": null,
            "layout": "IPY_MODEL_da5daa8611c749e4ac40141a9de59a80",
            "placeholder": "​",
            "style": "IPY_MODEL_e7031294971b47bf8d1aef29848ca9f1",
            "value": " 3/3 [00:00&lt;00:00, 41.83it/s]"
          }
        },
        "c002a8b63aba4f5dbb406cbdce060660": {
          "model_module": "@jupyter-widgets/base",
          "model_name": "LayoutModel",
          "model_module_version": "1.2.0",
          "state": {
            "_model_module": "@jupyter-widgets/base",
            "_model_module_version": "1.2.0",
            "_model_name": "LayoutModel",
            "_view_count": null,
            "_view_module": "@jupyter-widgets/base",
            "_view_module_version": "1.2.0",
            "_view_name": "LayoutView",
            "align_content": null,
            "align_items": null,
            "align_self": null,
            "border": null,
            "bottom": null,
            "display": null,
            "flex": null,
            "flex_flow": null,
            "grid_area": null,
            "grid_auto_columns": null,
            "grid_auto_flow": null,
            "grid_auto_rows": null,
            "grid_column": null,
            "grid_gap": null,
            "grid_row": null,
            "grid_template_areas": null,
            "grid_template_columns": null,
            "grid_template_rows": null,
            "height": null,
            "justify_content": null,
            "justify_items": null,
            "left": null,
            "margin": null,
            "max_height": null,
            "max_width": null,
            "min_height": null,
            "min_width": null,
            "object_fit": null,
            "object_position": null,
            "order": null,
            "overflow": null,
            "overflow_x": null,
            "overflow_y": null,
            "padding": null,
            "right": null,
            "top": null,
            "visibility": null,
            "width": null
          }
        },
        "dafd13a19a1643e5b9c38bd80a5c079d": {
          "model_module": "@jupyter-widgets/base",
          "model_name": "LayoutModel",
          "model_module_version": "1.2.0",
          "state": {
            "_model_module": "@jupyter-widgets/base",
            "_model_module_version": "1.2.0",
            "_model_name": "LayoutModel",
            "_view_count": null,
            "_view_module": "@jupyter-widgets/base",
            "_view_module_version": "1.2.0",
            "_view_name": "LayoutView",
            "align_content": null,
            "align_items": null,
            "align_self": null,
            "border": null,
            "bottom": null,
            "display": null,
            "flex": null,
            "flex_flow": null,
            "grid_area": null,
            "grid_auto_columns": null,
            "grid_auto_flow": null,
            "grid_auto_rows": null,
            "grid_column": null,
            "grid_gap": null,
            "grid_row": null,
            "grid_template_areas": null,
            "grid_template_columns": null,
            "grid_template_rows": null,
            "height": null,
            "justify_content": null,
            "justify_items": null,
            "left": null,
            "margin": null,
            "max_height": null,
            "max_width": null,
            "min_height": null,
            "min_width": null,
            "object_fit": null,
            "object_position": null,
            "order": null,
            "overflow": null,
            "overflow_x": null,
            "overflow_y": null,
            "padding": null,
            "right": null,
            "top": null,
            "visibility": null,
            "width": null
          }
        },
        "6c0afb3e2e90410f99f23e426ee5257c": {
          "model_module": "@jupyter-widgets/controls",
          "model_name": "DescriptionStyleModel",
          "model_module_version": "1.5.0",
          "state": {
            "_model_module": "@jupyter-widgets/controls",
            "_model_module_version": "1.5.0",
            "_model_name": "DescriptionStyleModel",
            "_view_count": null,
            "_view_module": "@jupyter-widgets/base",
            "_view_module_version": "1.2.0",
            "_view_name": "StyleView",
            "description_width": ""
          }
        },
        "33fd79e6239e40a38b664f8497027628": {
          "model_module": "@jupyter-widgets/base",
          "model_name": "LayoutModel",
          "model_module_version": "1.2.0",
          "state": {
            "_model_module": "@jupyter-widgets/base",
            "_model_module_version": "1.2.0",
            "_model_name": "LayoutModel",
            "_view_count": null,
            "_view_module": "@jupyter-widgets/base",
            "_view_module_version": "1.2.0",
            "_view_name": "LayoutView",
            "align_content": null,
            "align_items": null,
            "align_self": null,
            "border": null,
            "bottom": null,
            "display": null,
            "flex": null,
            "flex_flow": null,
            "grid_area": null,
            "grid_auto_columns": null,
            "grid_auto_flow": null,
            "grid_auto_rows": null,
            "grid_column": null,
            "grid_gap": null,
            "grid_row": null,
            "grid_template_areas": null,
            "grid_template_columns": null,
            "grid_template_rows": null,
            "height": null,
            "justify_content": null,
            "justify_items": null,
            "left": null,
            "margin": null,
            "max_height": null,
            "max_width": null,
            "min_height": null,
            "min_width": null,
            "object_fit": null,
            "object_position": null,
            "order": null,
            "overflow": null,
            "overflow_x": null,
            "overflow_y": null,
            "padding": null,
            "right": null,
            "top": null,
            "visibility": null,
            "width": null
          }
        },
        "8a4d2c71f00a4490bb03a3c93baaab58": {
          "model_module": "@jupyter-widgets/controls",
          "model_name": "ProgressStyleModel",
          "model_module_version": "1.5.0",
          "state": {
            "_model_module": "@jupyter-widgets/controls",
            "_model_module_version": "1.5.0",
            "_model_name": "ProgressStyleModel",
            "_view_count": null,
            "_view_module": "@jupyter-widgets/base",
            "_view_module_version": "1.2.0",
            "_view_name": "StyleView",
            "bar_color": null,
            "description_width": ""
          }
        },
        "da5daa8611c749e4ac40141a9de59a80": {
          "model_module": "@jupyter-widgets/base",
          "model_name": "LayoutModel",
          "model_module_version": "1.2.0",
          "state": {
            "_model_module": "@jupyter-widgets/base",
            "_model_module_version": "1.2.0",
            "_model_name": "LayoutModel",
            "_view_count": null,
            "_view_module": "@jupyter-widgets/base",
            "_view_module_version": "1.2.0",
            "_view_name": "LayoutView",
            "align_content": null,
            "align_items": null,
            "align_self": null,
            "border": null,
            "bottom": null,
            "display": null,
            "flex": null,
            "flex_flow": null,
            "grid_area": null,
            "grid_auto_columns": null,
            "grid_auto_flow": null,
            "grid_auto_rows": null,
            "grid_column": null,
            "grid_gap": null,
            "grid_row": null,
            "grid_template_areas": null,
            "grid_template_columns": null,
            "grid_template_rows": null,
            "height": null,
            "justify_content": null,
            "justify_items": null,
            "left": null,
            "margin": null,
            "max_height": null,
            "max_width": null,
            "min_height": null,
            "min_width": null,
            "object_fit": null,
            "object_position": null,
            "order": null,
            "overflow": null,
            "overflow_x": null,
            "overflow_y": null,
            "padding": null,
            "right": null,
            "top": null,
            "visibility": null,
            "width": null
          }
        },
        "e7031294971b47bf8d1aef29848ca9f1": {
          "model_module": "@jupyter-widgets/controls",
          "model_name": "DescriptionStyleModel",
          "model_module_version": "1.5.0",
          "state": {
            "_model_module": "@jupyter-widgets/controls",
            "_model_module_version": "1.5.0",
            "_model_name": "DescriptionStyleModel",
            "_view_count": null,
            "_view_module": "@jupyter-widgets/base",
            "_view_module_version": "1.2.0",
            "_view_name": "StyleView",
            "description_width": ""
          }
        },
        "546e90df51cb424c8c2383d2de7c1a19": {
          "model_module": "@jupyter-widgets/controls",
          "model_name": "HBoxModel",
          "model_module_version": "1.5.0",
          "state": {
            "_dom_classes": [],
            "_model_module": "@jupyter-widgets/controls",
            "_model_module_version": "1.5.0",
            "_model_name": "HBoxModel",
            "_view_count": null,
            "_view_module": "@jupyter-widgets/controls",
            "_view_module_version": "1.5.0",
            "_view_name": "HBoxView",
            "box_style": "",
            "children": [
              "IPY_MODEL_41ff250ae2b249f4b8f102ebaa6b1978",
              "IPY_MODEL_62180120ee88408d8f2ac7e09d12ffd8",
              "IPY_MODEL_239b3f73c9b140bf92e3c5d460abd739"
            ],
            "layout": "IPY_MODEL_89fc8543887b4bbc90a9eac37c381d7c"
          }
        },
        "41ff250ae2b249f4b8f102ebaa6b1978": {
          "model_module": "@jupyter-widgets/controls",
          "model_name": "HTMLModel",
          "model_module_version": "1.5.0",
          "state": {
            "_dom_classes": [],
            "_model_module": "@jupyter-widgets/controls",
            "_model_module_version": "1.5.0",
            "_model_name": "HTMLModel",
            "_view_count": null,
            "_view_module": "@jupyter-widgets/controls",
            "_view_module_version": "1.5.0",
            "_view_name": "HTMLView",
            "description": "",
            "description_tooltip": null,
            "layout": "IPY_MODEL_e1b588fecc0c46f386391fd8923b88d6",
            "placeholder": "​",
            "style": "IPY_MODEL_fe18d847ca734c1c85c69e4a242186a4",
            "value": "Extracting data files: 100%"
          }
        },
        "62180120ee88408d8f2ac7e09d12ffd8": {
          "model_module": "@jupyter-widgets/controls",
          "model_name": "FloatProgressModel",
          "model_module_version": "1.5.0",
          "state": {
            "_dom_classes": [],
            "_model_module": "@jupyter-widgets/controls",
            "_model_module_version": "1.5.0",
            "_model_name": "FloatProgressModel",
            "_view_count": null,
            "_view_module": "@jupyter-widgets/controls",
            "_view_module_version": "1.5.0",
            "_view_name": "ProgressView",
            "bar_style": "success",
            "description": "",
            "description_tooltip": null,
            "layout": "IPY_MODEL_8a24027158a94031b687fbd5877a734f",
            "max": 3,
            "min": 0,
            "orientation": "horizontal",
            "style": "IPY_MODEL_ba4c185bb4a84b049831e640054c32e3",
            "value": 3
          }
        },
        "239b3f73c9b140bf92e3c5d460abd739": {
          "model_module": "@jupyter-widgets/controls",
          "model_name": "HTMLModel",
          "model_module_version": "1.5.0",
          "state": {
            "_dom_classes": [],
            "_model_module": "@jupyter-widgets/controls",
            "_model_module_version": "1.5.0",
            "_model_name": "HTMLModel",
            "_view_count": null,
            "_view_module": "@jupyter-widgets/controls",
            "_view_module_version": "1.5.0",
            "_view_name": "HTMLView",
            "description": "",
            "description_tooltip": null,
            "layout": "IPY_MODEL_668f062a5ca44479a6c7489ba7c80f6f",
            "placeholder": "​",
            "style": "IPY_MODEL_4a2d52adb3114b22b0c0800b2eb98e1c",
            "value": " 3/3 [00:00&lt;00:00, 35.24it/s]"
          }
        },
        "89fc8543887b4bbc90a9eac37c381d7c": {
          "model_module": "@jupyter-widgets/base",
          "model_name": "LayoutModel",
          "model_module_version": "1.2.0",
          "state": {
            "_model_module": "@jupyter-widgets/base",
            "_model_module_version": "1.2.0",
            "_model_name": "LayoutModel",
            "_view_count": null,
            "_view_module": "@jupyter-widgets/base",
            "_view_module_version": "1.2.0",
            "_view_name": "LayoutView",
            "align_content": null,
            "align_items": null,
            "align_self": null,
            "border": null,
            "bottom": null,
            "display": null,
            "flex": null,
            "flex_flow": null,
            "grid_area": null,
            "grid_auto_columns": null,
            "grid_auto_flow": null,
            "grid_auto_rows": null,
            "grid_column": null,
            "grid_gap": null,
            "grid_row": null,
            "grid_template_areas": null,
            "grid_template_columns": null,
            "grid_template_rows": null,
            "height": null,
            "justify_content": null,
            "justify_items": null,
            "left": null,
            "margin": null,
            "max_height": null,
            "max_width": null,
            "min_height": null,
            "min_width": null,
            "object_fit": null,
            "object_position": null,
            "order": null,
            "overflow": null,
            "overflow_x": null,
            "overflow_y": null,
            "padding": null,
            "right": null,
            "top": null,
            "visibility": null,
            "width": null
          }
        },
        "e1b588fecc0c46f386391fd8923b88d6": {
          "model_module": "@jupyter-widgets/base",
          "model_name": "LayoutModel",
          "model_module_version": "1.2.0",
          "state": {
            "_model_module": "@jupyter-widgets/base",
            "_model_module_version": "1.2.0",
            "_model_name": "LayoutModel",
            "_view_count": null,
            "_view_module": "@jupyter-widgets/base",
            "_view_module_version": "1.2.0",
            "_view_name": "LayoutView",
            "align_content": null,
            "align_items": null,
            "align_self": null,
            "border": null,
            "bottom": null,
            "display": null,
            "flex": null,
            "flex_flow": null,
            "grid_area": null,
            "grid_auto_columns": null,
            "grid_auto_flow": null,
            "grid_auto_rows": null,
            "grid_column": null,
            "grid_gap": null,
            "grid_row": null,
            "grid_template_areas": null,
            "grid_template_columns": null,
            "grid_template_rows": null,
            "height": null,
            "justify_content": null,
            "justify_items": null,
            "left": null,
            "margin": null,
            "max_height": null,
            "max_width": null,
            "min_height": null,
            "min_width": null,
            "object_fit": null,
            "object_position": null,
            "order": null,
            "overflow": null,
            "overflow_x": null,
            "overflow_y": null,
            "padding": null,
            "right": null,
            "top": null,
            "visibility": null,
            "width": null
          }
        },
        "fe18d847ca734c1c85c69e4a242186a4": {
          "model_module": "@jupyter-widgets/controls",
          "model_name": "DescriptionStyleModel",
          "model_module_version": "1.5.0",
          "state": {
            "_model_module": "@jupyter-widgets/controls",
            "_model_module_version": "1.5.0",
            "_model_name": "DescriptionStyleModel",
            "_view_count": null,
            "_view_module": "@jupyter-widgets/base",
            "_view_module_version": "1.2.0",
            "_view_name": "StyleView",
            "description_width": ""
          }
        },
        "8a24027158a94031b687fbd5877a734f": {
          "model_module": "@jupyter-widgets/base",
          "model_name": "LayoutModel",
          "model_module_version": "1.2.0",
          "state": {
            "_model_module": "@jupyter-widgets/base",
            "_model_module_version": "1.2.0",
            "_model_name": "LayoutModel",
            "_view_count": null,
            "_view_module": "@jupyter-widgets/base",
            "_view_module_version": "1.2.0",
            "_view_name": "LayoutView",
            "align_content": null,
            "align_items": null,
            "align_self": null,
            "border": null,
            "bottom": null,
            "display": null,
            "flex": null,
            "flex_flow": null,
            "grid_area": null,
            "grid_auto_columns": null,
            "grid_auto_flow": null,
            "grid_auto_rows": null,
            "grid_column": null,
            "grid_gap": null,
            "grid_row": null,
            "grid_template_areas": null,
            "grid_template_columns": null,
            "grid_template_rows": null,
            "height": null,
            "justify_content": null,
            "justify_items": null,
            "left": null,
            "margin": null,
            "max_height": null,
            "max_width": null,
            "min_height": null,
            "min_width": null,
            "object_fit": null,
            "object_position": null,
            "order": null,
            "overflow": null,
            "overflow_x": null,
            "overflow_y": null,
            "padding": null,
            "right": null,
            "top": null,
            "visibility": null,
            "width": null
          }
        },
        "ba4c185bb4a84b049831e640054c32e3": {
          "model_module": "@jupyter-widgets/controls",
          "model_name": "ProgressStyleModel",
          "model_module_version": "1.5.0",
          "state": {
            "_model_module": "@jupyter-widgets/controls",
            "_model_module_version": "1.5.0",
            "_model_name": "ProgressStyleModel",
            "_view_count": null,
            "_view_module": "@jupyter-widgets/base",
            "_view_module_version": "1.2.0",
            "_view_name": "StyleView",
            "bar_color": null,
            "description_width": ""
          }
        },
        "668f062a5ca44479a6c7489ba7c80f6f": {
          "model_module": "@jupyter-widgets/base",
          "model_name": "LayoutModel",
          "model_module_version": "1.2.0",
          "state": {
            "_model_module": "@jupyter-widgets/base",
            "_model_module_version": "1.2.0",
            "_model_name": "LayoutModel",
            "_view_count": null,
            "_view_module": "@jupyter-widgets/base",
            "_view_module_version": "1.2.0",
            "_view_name": "LayoutView",
            "align_content": null,
            "align_items": null,
            "align_self": null,
            "border": null,
            "bottom": null,
            "display": null,
            "flex": null,
            "flex_flow": null,
            "grid_area": null,
            "grid_auto_columns": null,
            "grid_auto_flow": null,
            "grid_auto_rows": null,
            "grid_column": null,
            "grid_gap": null,
            "grid_row": null,
            "grid_template_areas": null,
            "grid_template_columns": null,
            "grid_template_rows": null,
            "height": null,
            "justify_content": null,
            "justify_items": null,
            "left": null,
            "margin": null,
            "max_height": null,
            "max_width": null,
            "min_height": null,
            "min_width": null,
            "object_fit": null,
            "object_position": null,
            "order": null,
            "overflow": null,
            "overflow_x": null,
            "overflow_y": null,
            "padding": null,
            "right": null,
            "top": null,
            "visibility": null,
            "width": null
          }
        },
        "4a2d52adb3114b22b0c0800b2eb98e1c": {
          "model_module": "@jupyter-widgets/controls",
          "model_name": "DescriptionStyleModel",
          "model_module_version": "1.5.0",
          "state": {
            "_model_module": "@jupyter-widgets/controls",
            "_model_module_version": "1.5.0",
            "_model_name": "DescriptionStyleModel",
            "_view_count": null,
            "_view_module": "@jupyter-widgets/base",
            "_view_module_version": "1.2.0",
            "_view_name": "StyleView",
            "description_width": ""
          }
        },
        "2f844a942eb04b758a22660366055fee": {
          "model_module": "@jupyter-widgets/controls",
          "model_name": "HBoxModel",
          "model_module_version": "1.5.0",
          "state": {
            "_dom_classes": [],
            "_model_module": "@jupyter-widgets/controls",
            "_model_module_version": "1.5.0",
            "_model_name": "HBoxModel",
            "_view_count": null,
            "_view_module": "@jupyter-widgets/controls",
            "_view_module_version": "1.5.0",
            "_view_name": "HBoxView",
            "box_style": "",
            "children": [
              "IPY_MODEL_121387ceb66b48b2822b0108e7c5f3e9",
              "IPY_MODEL_9d3cd1f6f1a14b98a6407dbf3731ea0b",
              "IPY_MODEL_d8a416d7a5554c229651580011a32645"
            ],
            "layout": "IPY_MODEL_1c3240b8d8474c5887249928196e0adb"
          }
        },
        "121387ceb66b48b2822b0108e7c5f3e9": {
          "model_module": "@jupyter-widgets/controls",
          "model_name": "HTMLModel",
          "model_module_version": "1.5.0",
          "state": {
            "_dom_classes": [],
            "_model_module": "@jupyter-widgets/controls",
            "_model_module_version": "1.5.0",
            "_model_name": "HTMLModel",
            "_view_count": null,
            "_view_module": "@jupyter-widgets/controls",
            "_view_module_version": "1.5.0",
            "_view_name": "HTMLView",
            "description": "",
            "description_tooltip": null,
            "layout": "IPY_MODEL_e91ce2239c9c4b41b73cfc7934ff6173",
            "placeholder": "​",
            "style": "IPY_MODEL_1fd4ff86f2e241b1b6e54d75727a9a65",
            "value": ""
          }
        },
        "9d3cd1f6f1a14b98a6407dbf3731ea0b": {
          "model_module": "@jupyter-widgets/controls",
          "model_name": "FloatProgressModel",
          "model_module_version": "1.5.0",
          "state": {
            "_dom_classes": [],
            "_model_module": "@jupyter-widgets/controls",
            "_model_module_version": "1.5.0",
            "_model_name": "FloatProgressModel",
            "_view_count": null,
            "_view_module": "@jupyter-widgets/controls",
            "_view_module_version": "1.5.0",
            "_view_name": "ProgressView",
            "bar_style": "info",
            "description": "",
            "description_tooltip": null,
            "layout": "IPY_MODEL_504e377a354a4db29566dc30b88792c7",
            "max": 1,
            "min": 0,
            "orientation": "horizontal",
            "style": "IPY_MODEL_3769ca085d8449c7981964a068ca4843",
            "value": 1
          }
        },
        "d8a416d7a5554c229651580011a32645": {
          "model_module": "@jupyter-widgets/controls",
          "model_name": "HTMLModel",
          "model_module_version": "1.5.0",
          "state": {
            "_dom_classes": [],
            "_model_module": "@jupyter-widgets/controls",
            "_model_module_version": "1.5.0",
            "_model_name": "HTMLModel",
            "_view_count": null,
            "_view_module": "@jupyter-widgets/controls",
            "_view_module_version": "1.5.0",
            "_view_name": "HTMLView",
            "description": "",
            "description_tooltip": null,
            "layout": "IPY_MODEL_d38b4a49c7bb408eb7f88a1cbf0bd604",
            "placeholder": "​",
            "style": "IPY_MODEL_308c4feaecf246148d75b65711f0f48e",
            "value": " 1/? [00:00&lt;00:00,  6.49 tables/s]"
          }
        },
        "1c3240b8d8474c5887249928196e0adb": {
          "model_module": "@jupyter-widgets/base",
          "model_name": "LayoutModel",
          "model_module_version": "1.2.0",
          "state": {
            "_model_module": "@jupyter-widgets/base",
            "_model_module_version": "1.2.0",
            "_model_name": "LayoutModel",
            "_view_count": null,
            "_view_module": "@jupyter-widgets/base",
            "_view_module_version": "1.2.0",
            "_view_name": "LayoutView",
            "align_content": null,
            "align_items": null,
            "align_self": null,
            "border": null,
            "bottom": null,
            "display": null,
            "flex": null,
            "flex_flow": null,
            "grid_area": null,
            "grid_auto_columns": null,
            "grid_auto_flow": null,
            "grid_auto_rows": null,
            "grid_column": null,
            "grid_gap": null,
            "grid_row": null,
            "grid_template_areas": null,
            "grid_template_columns": null,
            "grid_template_rows": null,
            "height": null,
            "justify_content": null,
            "justify_items": null,
            "left": null,
            "margin": null,
            "max_height": null,
            "max_width": null,
            "min_height": null,
            "min_width": null,
            "object_fit": null,
            "object_position": null,
            "order": null,
            "overflow": null,
            "overflow_x": null,
            "overflow_y": null,
            "padding": null,
            "right": null,
            "top": null,
            "visibility": "hidden",
            "width": null
          }
        },
        "e91ce2239c9c4b41b73cfc7934ff6173": {
          "model_module": "@jupyter-widgets/base",
          "model_name": "LayoutModel",
          "model_module_version": "1.2.0",
          "state": {
            "_model_module": "@jupyter-widgets/base",
            "_model_module_version": "1.2.0",
            "_model_name": "LayoutModel",
            "_view_count": null,
            "_view_module": "@jupyter-widgets/base",
            "_view_module_version": "1.2.0",
            "_view_name": "LayoutView",
            "align_content": null,
            "align_items": null,
            "align_self": null,
            "border": null,
            "bottom": null,
            "display": null,
            "flex": null,
            "flex_flow": null,
            "grid_area": null,
            "grid_auto_columns": null,
            "grid_auto_flow": null,
            "grid_auto_rows": null,
            "grid_column": null,
            "grid_gap": null,
            "grid_row": null,
            "grid_template_areas": null,
            "grid_template_columns": null,
            "grid_template_rows": null,
            "height": null,
            "justify_content": null,
            "justify_items": null,
            "left": null,
            "margin": null,
            "max_height": null,
            "max_width": null,
            "min_height": null,
            "min_width": null,
            "object_fit": null,
            "object_position": null,
            "order": null,
            "overflow": null,
            "overflow_x": null,
            "overflow_y": null,
            "padding": null,
            "right": null,
            "top": null,
            "visibility": null,
            "width": null
          }
        },
        "1fd4ff86f2e241b1b6e54d75727a9a65": {
          "model_module": "@jupyter-widgets/controls",
          "model_name": "DescriptionStyleModel",
          "model_module_version": "1.5.0",
          "state": {
            "_model_module": "@jupyter-widgets/controls",
            "_model_module_version": "1.5.0",
            "_model_name": "DescriptionStyleModel",
            "_view_count": null,
            "_view_module": "@jupyter-widgets/base",
            "_view_module_version": "1.2.0",
            "_view_name": "StyleView",
            "description_width": ""
          }
        },
        "504e377a354a4db29566dc30b88792c7": {
          "model_module": "@jupyter-widgets/base",
          "model_name": "LayoutModel",
          "model_module_version": "1.2.0",
          "state": {
            "_model_module": "@jupyter-widgets/base",
            "_model_module_version": "1.2.0",
            "_model_name": "LayoutModel",
            "_view_count": null,
            "_view_module": "@jupyter-widgets/base",
            "_view_module_version": "1.2.0",
            "_view_name": "LayoutView",
            "align_content": null,
            "align_items": null,
            "align_self": null,
            "border": null,
            "bottom": null,
            "display": null,
            "flex": null,
            "flex_flow": null,
            "grid_area": null,
            "grid_auto_columns": null,
            "grid_auto_flow": null,
            "grid_auto_rows": null,
            "grid_column": null,
            "grid_gap": null,
            "grid_row": null,
            "grid_template_areas": null,
            "grid_template_columns": null,
            "grid_template_rows": null,
            "height": null,
            "justify_content": null,
            "justify_items": null,
            "left": null,
            "margin": null,
            "max_height": null,
            "max_width": null,
            "min_height": null,
            "min_width": null,
            "object_fit": null,
            "object_position": null,
            "order": null,
            "overflow": null,
            "overflow_x": null,
            "overflow_y": null,
            "padding": null,
            "right": null,
            "top": null,
            "visibility": null,
            "width": "20px"
          }
        },
        "3769ca085d8449c7981964a068ca4843": {
          "model_module": "@jupyter-widgets/controls",
          "model_name": "ProgressStyleModel",
          "model_module_version": "1.5.0",
          "state": {
            "_model_module": "@jupyter-widgets/controls",
            "_model_module_version": "1.5.0",
            "_model_name": "ProgressStyleModel",
            "_view_count": null,
            "_view_module": "@jupyter-widgets/base",
            "_view_module_version": "1.2.0",
            "_view_name": "StyleView",
            "bar_color": null,
            "description_width": ""
          }
        },
        "d38b4a49c7bb408eb7f88a1cbf0bd604": {
          "model_module": "@jupyter-widgets/base",
          "model_name": "LayoutModel",
          "model_module_version": "1.2.0",
          "state": {
            "_model_module": "@jupyter-widgets/base",
            "_model_module_version": "1.2.0",
            "_model_name": "LayoutModel",
            "_view_count": null,
            "_view_module": "@jupyter-widgets/base",
            "_view_module_version": "1.2.0",
            "_view_name": "LayoutView",
            "align_content": null,
            "align_items": null,
            "align_self": null,
            "border": null,
            "bottom": null,
            "display": null,
            "flex": null,
            "flex_flow": null,
            "grid_area": null,
            "grid_auto_columns": null,
            "grid_auto_flow": null,
            "grid_auto_rows": null,
            "grid_column": null,
            "grid_gap": null,
            "grid_row": null,
            "grid_template_areas": null,
            "grid_template_columns": null,
            "grid_template_rows": null,
            "height": null,
            "justify_content": null,
            "justify_items": null,
            "left": null,
            "margin": null,
            "max_height": null,
            "max_width": null,
            "min_height": null,
            "min_width": null,
            "object_fit": null,
            "object_position": null,
            "order": null,
            "overflow": null,
            "overflow_x": null,
            "overflow_y": null,
            "padding": null,
            "right": null,
            "top": null,
            "visibility": null,
            "width": null
          }
        },
        "308c4feaecf246148d75b65711f0f48e": {
          "model_module": "@jupyter-widgets/controls",
          "model_name": "DescriptionStyleModel",
          "model_module_version": "1.5.0",
          "state": {
            "_model_module": "@jupyter-widgets/controls",
            "_model_module_version": "1.5.0",
            "_model_name": "DescriptionStyleModel",
            "_view_count": null,
            "_view_module": "@jupyter-widgets/base",
            "_view_module_version": "1.2.0",
            "_view_name": "StyleView",
            "description_width": ""
          }
        },
        "50041fd7b9234acdbbc1cca468e14269": {
          "model_module": "@jupyter-widgets/controls",
          "model_name": "HBoxModel",
          "model_module_version": "1.5.0",
          "state": {
            "_dom_classes": [],
            "_model_module": "@jupyter-widgets/controls",
            "_model_module_version": "1.5.0",
            "_model_name": "HBoxModel",
            "_view_count": null,
            "_view_module": "@jupyter-widgets/controls",
            "_view_module_version": "1.5.0",
            "_view_name": "HBoxView",
            "box_style": "",
            "children": [
              "IPY_MODEL_b78604c04ecf498ea0de430615271c2d",
              "IPY_MODEL_ebea07039ed9401e8df58c70d23a3b42",
              "IPY_MODEL_e28d30b5ce444e09973a58ebd90aa8cc"
            ],
            "layout": "IPY_MODEL_ed79ec80d82d469fb2c5befbe731ede3"
          }
        },
        "b78604c04ecf498ea0de430615271c2d": {
          "model_module": "@jupyter-widgets/controls",
          "model_name": "HTMLModel",
          "model_module_version": "1.5.0",
          "state": {
            "_dom_classes": [],
            "_model_module": "@jupyter-widgets/controls",
            "_model_module_version": "1.5.0",
            "_model_name": "HTMLModel",
            "_view_count": null,
            "_view_module": "@jupyter-widgets/controls",
            "_view_module_version": "1.5.0",
            "_view_name": "HTMLView",
            "description": "",
            "description_tooltip": null,
            "layout": "IPY_MODEL_c424ede7090e4be1889387c3bec1b4c5",
            "placeholder": "​",
            "style": "IPY_MODEL_8ddf729d7e214e3390889a1ee17954af",
            "value": ""
          }
        },
        "ebea07039ed9401e8df58c70d23a3b42": {
          "model_module": "@jupyter-widgets/controls",
          "model_name": "FloatProgressModel",
          "model_module_version": "1.5.0",
          "state": {
            "_dom_classes": [],
            "_model_module": "@jupyter-widgets/controls",
            "_model_module_version": "1.5.0",
            "_model_name": "FloatProgressModel",
            "_view_count": null,
            "_view_module": "@jupyter-widgets/controls",
            "_view_module_version": "1.5.0",
            "_view_name": "ProgressView",
            "bar_style": "info",
            "description": "",
            "description_tooltip": null,
            "layout": "IPY_MODEL_694449ecdbfc4ad99fa80b820eaeafbc",
            "max": 1,
            "min": 0,
            "orientation": "horizontal",
            "style": "IPY_MODEL_2f184ce26bf04352a115b0e7fdb1f1ba",
            "value": 1
          }
        },
        "e28d30b5ce444e09973a58ebd90aa8cc": {
          "model_module": "@jupyter-widgets/controls",
          "model_name": "HTMLModel",
          "model_module_version": "1.5.0",
          "state": {
            "_dom_classes": [],
            "_model_module": "@jupyter-widgets/controls",
            "_model_module_version": "1.5.0",
            "_model_name": "HTMLModel",
            "_view_count": null,
            "_view_module": "@jupyter-widgets/controls",
            "_view_module_version": "1.5.0",
            "_view_name": "HTMLView",
            "description": "",
            "description_tooltip": null,
            "layout": "IPY_MODEL_6537579feda8487194f1466ff738117f",
            "placeholder": "​",
            "style": "IPY_MODEL_cd8bee704caa45698e6ac848e7f9efdb",
            "value": " 0/? [00:00&lt;?, ? tables/s]"
          }
        },
        "ed79ec80d82d469fb2c5befbe731ede3": {
          "model_module": "@jupyter-widgets/base",
          "model_name": "LayoutModel",
          "model_module_version": "1.2.0",
          "state": {
            "_model_module": "@jupyter-widgets/base",
            "_model_module_version": "1.2.0",
            "_model_name": "LayoutModel",
            "_view_count": null,
            "_view_module": "@jupyter-widgets/base",
            "_view_module_version": "1.2.0",
            "_view_name": "LayoutView",
            "align_content": null,
            "align_items": null,
            "align_self": null,
            "border": null,
            "bottom": null,
            "display": null,
            "flex": null,
            "flex_flow": null,
            "grid_area": null,
            "grid_auto_columns": null,
            "grid_auto_flow": null,
            "grid_auto_rows": null,
            "grid_column": null,
            "grid_gap": null,
            "grid_row": null,
            "grid_template_areas": null,
            "grid_template_columns": null,
            "grid_template_rows": null,
            "height": null,
            "justify_content": null,
            "justify_items": null,
            "left": null,
            "margin": null,
            "max_height": null,
            "max_width": null,
            "min_height": null,
            "min_width": null,
            "object_fit": null,
            "object_position": null,
            "order": null,
            "overflow": null,
            "overflow_x": null,
            "overflow_y": null,
            "padding": null,
            "right": null,
            "top": null,
            "visibility": "hidden",
            "width": null
          }
        },
        "c424ede7090e4be1889387c3bec1b4c5": {
          "model_module": "@jupyter-widgets/base",
          "model_name": "LayoutModel",
          "model_module_version": "1.2.0",
          "state": {
            "_model_module": "@jupyter-widgets/base",
            "_model_module_version": "1.2.0",
            "_model_name": "LayoutModel",
            "_view_count": null,
            "_view_module": "@jupyter-widgets/base",
            "_view_module_version": "1.2.0",
            "_view_name": "LayoutView",
            "align_content": null,
            "align_items": null,
            "align_self": null,
            "border": null,
            "bottom": null,
            "display": null,
            "flex": null,
            "flex_flow": null,
            "grid_area": null,
            "grid_auto_columns": null,
            "grid_auto_flow": null,
            "grid_auto_rows": null,
            "grid_column": null,
            "grid_gap": null,
            "grid_row": null,
            "grid_template_areas": null,
            "grid_template_columns": null,
            "grid_template_rows": null,
            "height": null,
            "justify_content": null,
            "justify_items": null,
            "left": null,
            "margin": null,
            "max_height": null,
            "max_width": null,
            "min_height": null,
            "min_width": null,
            "object_fit": null,
            "object_position": null,
            "order": null,
            "overflow": null,
            "overflow_x": null,
            "overflow_y": null,
            "padding": null,
            "right": null,
            "top": null,
            "visibility": null,
            "width": null
          }
        },
        "8ddf729d7e214e3390889a1ee17954af": {
          "model_module": "@jupyter-widgets/controls",
          "model_name": "DescriptionStyleModel",
          "model_module_version": "1.5.0",
          "state": {
            "_model_module": "@jupyter-widgets/controls",
            "_model_module_version": "1.5.0",
            "_model_name": "DescriptionStyleModel",
            "_view_count": null,
            "_view_module": "@jupyter-widgets/base",
            "_view_module_version": "1.2.0",
            "_view_name": "StyleView",
            "description_width": ""
          }
        },
        "694449ecdbfc4ad99fa80b820eaeafbc": {
          "model_module": "@jupyter-widgets/base",
          "model_name": "LayoutModel",
          "model_module_version": "1.2.0",
          "state": {
            "_model_module": "@jupyter-widgets/base",
            "_model_module_version": "1.2.0",
            "_model_name": "LayoutModel",
            "_view_count": null,
            "_view_module": "@jupyter-widgets/base",
            "_view_module_version": "1.2.0",
            "_view_name": "LayoutView",
            "align_content": null,
            "align_items": null,
            "align_self": null,
            "border": null,
            "bottom": null,
            "display": null,
            "flex": null,
            "flex_flow": null,
            "grid_area": null,
            "grid_auto_columns": null,
            "grid_auto_flow": null,
            "grid_auto_rows": null,
            "grid_column": null,
            "grid_gap": null,
            "grid_row": null,
            "grid_template_areas": null,
            "grid_template_columns": null,
            "grid_template_rows": null,
            "height": null,
            "justify_content": null,
            "justify_items": null,
            "left": null,
            "margin": null,
            "max_height": null,
            "max_width": null,
            "min_height": null,
            "min_width": null,
            "object_fit": null,
            "object_position": null,
            "order": null,
            "overflow": null,
            "overflow_x": null,
            "overflow_y": null,
            "padding": null,
            "right": null,
            "top": null,
            "visibility": null,
            "width": "20px"
          }
        },
        "2f184ce26bf04352a115b0e7fdb1f1ba": {
          "model_module": "@jupyter-widgets/controls",
          "model_name": "ProgressStyleModel",
          "model_module_version": "1.5.0",
          "state": {
            "_model_module": "@jupyter-widgets/controls",
            "_model_module_version": "1.5.0",
            "_model_name": "ProgressStyleModel",
            "_view_count": null,
            "_view_module": "@jupyter-widgets/base",
            "_view_module_version": "1.2.0",
            "_view_name": "StyleView",
            "bar_color": null,
            "description_width": ""
          }
        },
        "6537579feda8487194f1466ff738117f": {
          "model_module": "@jupyter-widgets/base",
          "model_name": "LayoutModel",
          "model_module_version": "1.2.0",
          "state": {
            "_model_module": "@jupyter-widgets/base",
            "_model_module_version": "1.2.0",
            "_model_name": "LayoutModel",
            "_view_count": null,
            "_view_module": "@jupyter-widgets/base",
            "_view_module_version": "1.2.0",
            "_view_name": "LayoutView",
            "align_content": null,
            "align_items": null,
            "align_self": null,
            "border": null,
            "bottom": null,
            "display": null,
            "flex": null,
            "flex_flow": null,
            "grid_area": null,
            "grid_auto_columns": null,
            "grid_auto_flow": null,
            "grid_auto_rows": null,
            "grid_column": null,
            "grid_gap": null,
            "grid_row": null,
            "grid_template_areas": null,
            "grid_template_columns": null,
            "grid_template_rows": null,
            "height": null,
            "justify_content": null,
            "justify_items": null,
            "left": null,
            "margin": null,
            "max_height": null,
            "max_width": null,
            "min_height": null,
            "min_width": null,
            "object_fit": null,
            "object_position": null,
            "order": null,
            "overflow": null,
            "overflow_x": null,
            "overflow_y": null,
            "padding": null,
            "right": null,
            "top": null,
            "visibility": null,
            "width": null
          }
        },
        "cd8bee704caa45698e6ac848e7f9efdb": {
          "model_module": "@jupyter-widgets/controls",
          "model_name": "DescriptionStyleModel",
          "model_module_version": "1.5.0",
          "state": {
            "_model_module": "@jupyter-widgets/controls",
            "_model_module_version": "1.5.0",
            "_model_name": "DescriptionStyleModel",
            "_view_count": null,
            "_view_module": "@jupyter-widgets/base",
            "_view_module_version": "1.2.0",
            "_view_name": "StyleView",
            "description_width": ""
          }
        },
        "e56a3a58b0784e8daf2ee1c18fe3c88d": {
          "model_module": "@jupyter-widgets/controls",
          "model_name": "HBoxModel",
          "model_module_version": "1.5.0",
          "state": {
            "_dom_classes": [],
            "_model_module": "@jupyter-widgets/controls",
            "_model_module_version": "1.5.0",
            "_model_name": "HBoxModel",
            "_view_count": null,
            "_view_module": "@jupyter-widgets/controls",
            "_view_module_version": "1.5.0",
            "_view_name": "HBoxView",
            "box_style": "",
            "children": [
              "IPY_MODEL_cd8284ebef3a47818c96613f4d531495",
              "IPY_MODEL_21abccf6322d48719dde852506e3fa78",
              "IPY_MODEL_2ec9b21de0404edfb6cfde8f10dc8fe5"
            ],
            "layout": "IPY_MODEL_6b2c462133dd41d8a35f26b52e8f5842"
          }
        },
        "cd8284ebef3a47818c96613f4d531495": {
          "model_module": "@jupyter-widgets/controls",
          "model_name": "HTMLModel",
          "model_module_version": "1.5.0",
          "state": {
            "_dom_classes": [],
            "_model_module": "@jupyter-widgets/controls",
            "_model_module_version": "1.5.0",
            "_model_name": "HTMLModel",
            "_view_count": null,
            "_view_module": "@jupyter-widgets/controls",
            "_view_module_version": "1.5.0",
            "_view_name": "HTMLView",
            "description": "",
            "description_tooltip": null,
            "layout": "IPY_MODEL_66aa762b034f4d70833341cfcda15129",
            "placeholder": "​",
            "style": "IPY_MODEL_cbcd60e73bc14acdaa3ccbaeec080828",
            "value": ""
          }
        },
        "21abccf6322d48719dde852506e3fa78": {
          "model_module": "@jupyter-widgets/controls",
          "model_name": "FloatProgressModel",
          "model_module_version": "1.5.0",
          "state": {
            "_dom_classes": [],
            "_model_module": "@jupyter-widgets/controls",
            "_model_module_version": "1.5.0",
            "_model_name": "FloatProgressModel",
            "_view_count": null,
            "_view_module": "@jupyter-widgets/controls",
            "_view_module_version": "1.5.0",
            "_view_name": "ProgressView",
            "bar_style": "info",
            "description": "",
            "description_tooltip": null,
            "layout": "IPY_MODEL_d63e3a1780c842938278194a5bfd3a73",
            "max": 1,
            "min": 0,
            "orientation": "horizontal",
            "style": "IPY_MODEL_7db39cf9b448498d885eaf173dba7796",
            "value": 1
          }
        },
        "2ec9b21de0404edfb6cfde8f10dc8fe5": {
          "model_module": "@jupyter-widgets/controls",
          "model_name": "HTMLModel",
          "model_module_version": "1.5.0",
          "state": {
            "_dom_classes": [],
            "_model_module": "@jupyter-widgets/controls",
            "_model_module_version": "1.5.0",
            "_model_name": "HTMLModel",
            "_view_count": null,
            "_view_module": "@jupyter-widgets/controls",
            "_view_module_version": "1.5.0",
            "_view_name": "HTMLView",
            "description": "",
            "description_tooltip": null,
            "layout": "IPY_MODEL_d12c10319cba46b3bf5b40bcfdae6fca",
            "placeholder": "​",
            "style": "IPY_MODEL_a4c18ea673024d9d8c0d9bf361e1850e",
            "value": " 0/? [00:00&lt;?, ? tables/s]"
          }
        },
        "6b2c462133dd41d8a35f26b52e8f5842": {
          "model_module": "@jupyter-widgets/base",
          "model_name": "LayoutModel",
          "model_module_version": "1.2.0",
          "state": {
            "_model_module": "@jupyter-widgets/base",
            "_model_module_version": "1.2.0",
            "_model_name": "LayoutModel",
            "_view_count": null,
            "_view_module": "@jupyter-widgets/base",
            "_view_module_version": "1.2.0",
            "_view_name": "LayoutView",
            "align_content": null,
            "align_items": null,
            "align_self": null,
            "border": null,
            "bottom": null,
            "display": null,
            "flex": null,
            "flex_flow": null,
            "grid_area": null,
            "grid_auto_columns": null,
            "grid_auto_flow": null,
            "grid_auto_rows": null,
            "grid_column": null,
            "grid_gap": null,
            "grid_row": null,
            "grid_template_areas": null,
            "grid_template_columns": null,
            "grid_template_rows": null,
            "height": null,
            "justify_content": null,
            "justify_items": null,
            "left": null,
            "margin": null,
            "max_height": null,
            "max_width": null,
            "min_height": null,
            "min_width": null,
            "object_fit": null,
            "object_position": null,
            "order": null,
            "overflow": null,
            "overflow_x": null,
            "overflow_y": null,
            "padding": null,
            "right": null,
            "top": null,
            "visibility": "hidden",
            "width": null
          }
        },
        "66aa762b034f4d70833341cfcda15129": {
          "model_module": "@jupyter-widgets/base",
          "model_name": "LayoutModel",
          "model_module_version": "1.2.0",
          "state": {
            "_model_module": "@jupyter-widgets/base",
            "_model_module_version": "1.2.0",
            "_model_name": "LayoutModel",
            "_view_count": null,
            "_view_module": "@jupyter-widgets/base",
            "_view_module_version": "1.2.0",
            "_view_name": "LayoutView",
            "align_content": null,
            "align_items": null,
            "align_self": null,
            "border": null,
            "bottom": null,
            "display": null,
            "flex": null,
            "flex_flow": null,
            "grid_area": null,
            "grid_auto_columns": null,
            "grid_auto_flow": null,
            "grid_auto_rows": null,
            "grid_column": null,
            "grid_gap": null,
            "grid_row": null,
            "grid_template_areas": null,
            "grid_template_columns": null,
            "grid_template_rows": null,
            "height": null,
            "justify_content": null,
            "justify_items": null,
            "left": null,
            "margin": null,
            "max_height": null,
            "max_width": null,
            "min_height": null,
            "min_width": null,
            "object_fit": null,
            "object_position": null,
            "order": null,
            "overflow": null,
            "overflow_x": null,
            "overflow_y": null,
            "padding": null,
            "right": null,
            "top": null,
            "visibility": null,
            "width": null
          }
        },
        "cbcd60e73bc14acdaa3ccbaeec080828": {
          "model_module": "@jupyter-widgets/controls",
          "model_name": "DescriptionStyleModel",
          "model_module_version": "1.5.0",
          "state": {
            "_model_module": "@jupyter-widgets/controls",
            "_model_module_version": "1.5.0",
            "_model_name": "DescriptionStyleModel",
            "_view_count": null,
            "_view_module": "@jupyter-widgets/base",
            "_view_module_version": "1.2.0",
            "_view_name": "StyleView",
            "description_width": ""
          }
        },
        "d63e3a1780c842938278194a5bfd3a73": {
          "model_module": "@jupyter-widgets/base",
          "model_name": "LayoutModel",
          "model_module_version": "1.2.0",
          "state": {
            "_model_module": "@jupyter-widgets/base",
            "_model_module_version": "1.2.0",
            "_model_name": "LayoutModel",
            "_view_count": null,
            "_view_module": "@jupyter-widgets/base",
            "_view_module_version": "1.2.0",
            "_view_name": "LayoutView",
            "align_content": null,
            "align_items": null,
            "align_self": null,
            "border": null,
            "bottom": null,
            "display": null,
            "flex": null,
            "flex_flow": null,
            "grid_area": null,
            "grid_auto_columns": null,
            "grid_auto_flow": null,
            "grid_auto_rows": null,
            "grid_column": null,
            "grid_gap": null,
            "grid_row": null,
            "grid_template_areas": null,
            "grid_template_columns": null,
            "grid_template_rows": null,
            "height": null,
            "justify_content": null,
            "justify_items": null,
            "left": null,
            "margin": null,
            "max_height": null,
            "max_width": null,
            "min_height": null,
            "min_width": null,
            "object_fit": null,
            "object_position": null,
            "order": null,
            "overflow": null,
            "overflow_x": null,
            "overflow_y": null,
            "padding": null,
            "right": null,
            "top": null,
            "visibility": null,
            "width": "20px"
          }
        },
        "7db39cf9b448498d885eaf173dba7796": {
          "model_module": "@jupyter-widgets/controls",
          "model_name": "ProgressStyleModel",
          "model_module_version": "1.5.0",
          "state": {
            "_model_module": "@jupyter-widgets/controls",
            "_model_module_version": "1.5.0",
            "_model_name": "ProgressStyleModel",
            "_view_count": null,
            "_view_module": "@jupyter-widgets/base",
            "_view_module_version": "1.2.0",
            "_view_name": "StyleView",
            "bar_color": null,
            "description_width": ""
          }
        },
        "d12c10319cba46b3bf5b40bcfdae6fca": {
          "model_module": "@jupyter-widgets/base",
          "model_name": "LayoutModel",
          "model_module_version": "1.2.0",
          "state": {
            "_model_module": "@jupyter-widgets/base",
            "_model_module_version": "1.2.0",
            "_model_name": "LayoutModel",
            "_view_count": null,
            "_view_module": "@jupyter-widgets/base",
            "_view_module_version": "1.2.0",
            "_view_name": "LayoutView",
            "align_content": null,
            "align_items": null,
            "align_self": null,
            "border": null,
            "bottom": null,
            "display": null,
            "flex": null,
            "flex_flow": null,
            "grid_area": null,
            "grid_auto_columns": null,
            "grid_auto_flow": null,
            "grid_auto_rows": null,
            "grid_column": null,
            "grid_gap": null,
            "grid_row": null,
            "grid_template_areas": null,
            "grid_template_columns": null,
            "grid_template_rows": null,
            "height": null,
            "justify_content": null,
            "justify_items": null,
            "left": null,
            "margin": null,
            "max_height": null,
            "max_width": null,
            "min_height": null,
            "min_width": null,
            "object_fit": null,
            "object_position": null,
            "order": null,
            "overflow": null,
            "overflow_x": null,
            "overflow_y": null,
            "padding": null,
            "right": null,
            "top": null,
            "visibility": null,
            "width": null
          }
        },
        "a4c18ea673024d9d8c0d9bf361e1850e": {
          "model_module": "@jupyter-widgets/controls",
          "model_name": "DescriptionStyleModel",
          "model_module_version": "1.5.0",
          "state": {
            "_model_module": "@jupyter-widgets/controls",
            "_model_module_version": "1.5.0",
            "_model_name": "DescriptionStyleModel",
            "_view_count": null,
            "_view_module": "@jupyter-widgets/base",
            "_view_module_version": "1.2.0",
            "_view_name": "StyleView",
            "description_width": ""
          }
        },
        "b5828554283149b5bfa3fa2cd21c2936": {
          "model_module": "@jupyter-widgets/controls",
          "model_name": "HBoxModel",
          "model_module_version": "1.5.0",
          "state": {
            "_dom_classes": [],
            "_model_module": "@jupyter-widgets/controls",
            "_model_module_version": "1.5.0",
            "_model_name": "HBoxModel",
            "_view_count": null,
            "_view_module": "@jupyter-widgets/controls",
            "_view_module_version": "1.5.0",
            "_view_name": "HBoxView",
            "box_style": "",
            "children": [
              "IPY_MODEL_c1681d40f13c4fae8fbf0b34f884fa02",
              "IPY_MODEL_45a7d987c5cc433884a5d2019034f503",
              "IPY_MODEL_08f5e3f1fbb54af3bba0a4a441748aa2"
            ],
            "layout": "IPY_MODEL_5230e0f0dc0649f5a7fc69ed3ea415c2"
          }
        },
        "c1681d40f13c4fae8fbf0b34f884fa02": {
          "model_module": "@jupyter-widgets/controls",
          "model_name": "HTMLModel",
          "model_module_version": "1.5.0",
          "state": {
            "_dom_classes": [],
            "_model_module": "@jupyter-widgets/controls",
            "_model_module_version": "1.5.0",
            "_model_name": "HTMLModel",
            "_view_count": null,
            "_view_module": "@jupyter-widgets/controls",
            "_view_module_version": "1.5.0",
            "_view_name": "HTMLView",
            "description": "",
            "description_tooltip": null,
            "layout": "IPY_MODEL_51e26c29d97d4a8baea174dddd9f4a63",
            "placeholder": "​",
            "style": "IPY_MODEL_0ed7264bf6df4dcab93e851ff549aa38",
            "value": "100%"
          }
        },
        "45a7d987c5cc433884a5d2019034f503": {
          "model_module": "@jupyter-widgets/controls",
          "model_name": "FloatProgressModel",
          "model_module_version": "1.5.0",
          "state": {
            "_dom_classes": [],
            "_model_module": "@jupyter-widgets/controls",
            "_model_module_version": "1.5.0",
            "_model_name": "FloatProgressModel",
            "_view_count": null,
            "_view_module": "@jupyter-widgets/controls",
            "_view_module_version": "1.5.0",
            "_view_name": "ProgressView",
            "bar_style": "success",
            "description": "",
            "description_tooltip": null,
            "layout": "IPY_MODEL_eb5012d4aa7242e5b43e755fc6d1486d",
            "max": 10655,
            "min": 0,
            "orientation": "horizontal",
            "style": "IPY_MODEL_67d73fa7c5ee4c05895ea7eeb767a548",
            "value": 10655
          }
        },
        "08f5e3f1fbb54af3bba0a4a441748aa2": {
          "model_module": "@jupyter-widgets/controls",
          "model_name": "HTMLModel",
          "model_module_version": "1.5.0",
          "state": {
            "_dom_classes": [],
            "_model_module": "@jupyter-widgets/controls",
            "_model_module_version": "1.5.0",
            "_model_name": "HTMLModel",
            "_view_count": null,
            "_view_module": "@jupyter-widgets/controls",
            "_view_module_version": "1.5.0",
            "_view_name": "HTMLView",
            "description": "",
            "description_tooltip": null,
            "layout": "IPY_MODEL_a041de2d51b444128858915c5991eec9",
            "placeholder": "​",
            "style": "IPY_MODEL_b31673855e154d49b7eb535b0cf65413",
            "value": " 10655/10655 [00:00&lt;00:00, 11058.14ex/s]"
          }
        },
        "5230e0f0dc0649f5a7fc69ed3ea415c2": {
          "model_module": "@jupyter-widgets/base",
          "model_name": "LayoutModel",
          "model_module_version": "1.2.0",
          "state": {
            "_model_module": "@jupyter-widgets/base",
            "_model_module_version": "1.2.0",
            "_model_name": "LayoutModel",
            "_view_count": null,
            "_view_module": "@jupyter-widgets/base",
            "_view_module_version": "1.2.0",
            "_view_name": "LayoutView",
            "align_content": null,
            "align_items": null,
            "align_self": null,
            "border": null,
            "bottom": null,
            "display": null,
            "flex": null,
            "flex_flow": null,
            "grid_area": null,
            "grid_auto_columns": null,
            "grid_auto_flow": null,
            "grid_auto_rows": null,
            "grid_column": null,
            "grid_gap": null,
            "grid_row": null,
            "grid_template_areas": null,
            "grid_template_columns": null,
            "grid_template_rows": null,
            "height": null,
            "justify_content": null,
            "justify_items": null,
            "left": null,
            "margin": null,
            "max_height": null,
            "max_width": null,
            "min_height": null,
            "min_width": null,
            "object_fit": null,
            "object_position": null,
            "order": null,
            "overflow": null,
            "overflow_x": null,
            "overflow_y": null,
            "padding": null,
            "right": null,
            "top": null,
            "visibility": null,
            "width": null
          }
        },
        "51e26c29d97d4a8baea174dddd9f4a63": {
          "model_module": "@jupyter-widgets/base",
          "model_name": "LayoutModel",
          "model_module_version": "1.2.0",
          "state": {
            "_model_module": "@jupyter-widgets/base",
            "_model_module_version": "1.2.0",
            "_model_name": "LayoutModel",
            "_view_count": null,
            "_view_module": "@jupyter-widgets/base",
            "_view_module_version": "1.2.0",
            "_view_name": "LayoutView",
            "align_content": null,
            "align_items": null,
            "align_self": null,
            "border": null,
            "bottom": null,
            "display": null,
            "flex": null,
            "flex_flow": null,
            "grid_area": null,
            "grid_auto_columns": null,
            "grid_auto_flow": null,
            "grid_auto_rows": null,
            "grid_column": null,
            "grid_gap": null,
            "grid_row": null,
            "grid_template_areas": null,
            "grid_template_columns": null,
            "grid_template_rows": null,
            "height": null,
            "justify_content": null,
            "justify_items": null,
            "left": null,
            "margin": null,
            "max_height": null,
            "max_width": null,
            "min_height": null,
            "min_width": null,
            "object_fit": null,
            "object_position": null,
            "order": null,
            "overflow": null,
            "overflow_x": null,
            "overflow_y": null,
            "padding": null,
            "right": null,
            "top": null,
            "visibility": null,
            "width": null
          }
        },
        "0ed7264bf6df4dcab93e851ff549aa38": {
          "model_module": "@jupyter-widgets/controls",
          "model_name": "DescriptionStyleModel",
          "model_module_version": "1.5.0",
          "state": {
            "_model_module": "@jupyter-widgets/controls",
            "_model_module_version": "1.5.0",
            "_model_name": "DescriptionStyleModel",
            "_view_count": null,
            "_view_module": "@jupyter-widgets/base",
            "_view_module_version": "1.2.0",
            "_view_name": "StyleView",
            "description_width": ""
          }
        },
        "eb5012d4aa7242e5b43e755fc6d1486d": {
          "model_module": "@jupyter-widgets/base",
          "model_name": "LayoutModel",
          "model_module_version": "1.2.0",
          "state": {
            "_model_module": "@jupyter-widgets/base",
            "_model_module_version": "1.2.0",
            "_model_name": "LayoutModel",
            "_view_count": null,
            "_view_module": "@jupyter-widgets/base",
            "_view_module_version": "1.2.0",
            "_view_name": "LayoutView",
            "align_content": null,
            "align_items": null,
            "align_self": null,
            "border": null,
            "bottom": null,
            "display": null,
            "flex": null,
            "flex_flow": null,
            "grid_area": null,
            "grid_auto_columns": null,
            "grid_auto_flow": null,
            "grid_auto_rows": null,
            "grid_column": null,
            "grid_gap": null,
            "grid_row": null,
            "grid_template_areas": null,
            "grid_template_columns": null,
            "grid_template_rows": null,
            "height": null,
            "justify_content": null,
            "justify_items": null,
            "left": null,
            "margin": null,
            "max_height": null,
            "max_width": null,
            "min_height": null,
            "min_width": null,
            "object_fit": null,
            "object_position": null,
            "order": null,
            "overflow": null,
            "overflow_x": null,
            "overflow_y": null,
            "padding": null,
            "right": null,
            "top": null,
            "visibility": null,
            "width": null
          }
        },
        "67d73fa7c5ee4c05895ea7eeb767a548": {
          "model_module": "@jupyter-widgets/controls",
          "model_name": "ProgressStyleModel",
          "model_module_version": "1.5.0",
          "state": {
            "_model_module": "@jupyter-widgets/controls",
            "_model_module_version": "1.5.0",
            "_model_name": "ProgressStyleModel",
            "_view_count": null,
            "_view_module": "@jupyter-widgets/base",
            "_view_module_version": "1.2.0",
            "_view_name": "StyleView",
            "bar_color": null,
            "description_width": ""
          }
        },
        "a041de2d51b444128858915c5991eec9": {
          "model_module": "@jupyter-widgets/base",
          "model_name": "LayoutModel",
          "model_module_version": "1.2.0",
          "state": {
            "_model_module": "@jupyter-widgets/base",
            "_model_module_version": "1.2.0",
            "_model_name": "LayoutModel",
            "_view_count": null,
            "_view_module": "@jupyter-widgets/base",
            "_view_module_version": "1.2.0",
            "_view_name": "LayoutView",
            "align_content": null,
            "align_items": null,
            "align_self": null,
            "border": null,
            "bottom": null,
            "display": null,
            "flex": null,
            "flex_flow": null,
            "grid_area": null,
            "grid_auto_columns": null,
            "grid_auto_flow": null,
            "grid_auto_rows": null,
            "grid_column": null,
            "grid_gap": null,
            "grid_row": null,
            "grid_template_areas": null,
            "grid_template_columns": null,
            "grid_template_rows": null,
            "height": null,
            "justify_content": null,
            "justify_items": null,
            "left": null,
            "margin": null,
            "max_height": null,
            "max_width": null,
            "min_height": null,
            "min_width": null,
            "object_fit": null,
            "object_position": null,
            "order": null,
            "overflow": null,
            "overflow_x": null,
            "overflow_y": null,
            "padding": null,
            "right": null,
            "top": null,
            "visibility": null,
            "width": null
          }
        },
        "b31673855e154d49b7eb535b0cf65413": {
          "model_module": "@jupyter-widgets/controls",
          "model_name": "DescriptionStyleModel",
          "model_module_version": "1.5.0",
          "state": {
            "_model_module": "@jupyter-widgets/controls",
            "_model_module_version": "1.5.0",
            "_model_name": "DescriptionStyleModel",
            "_view_count": null,
            "_view_module": "@jupyter-widgets/base",
            "_view_module_version": "1.2.0",
            "_view_name": "StyleView",
            "description_width": ""
          }
        },
        "090437d8cdde493086001685c2eb0b7e": {
          "model_module": "@jupyter-widgets/controls",
          "model_name": "HBoxModel",
          "model_module_version": "1.5.0",
          "state": {
            "_dom_classes": [],
            "_model_module": "@jupyter-widgets/controls",
            "_model_module_version": "1.5.0",
            "_model_name": "HBoxModel",
            "_view_count": null,
            "_view_module": "@jupyter-widgets/controls",
            "_view_module_version": "1.5.0",
            "_view_name": "HBoxView",
            "box_style": "",
            "children": [
              "IPY_MODEL_02c7f03fd0e3492dbbfb8a9382df5a8e",
              "IPY_MODEL_24e5867ce63641cbb191cece714b1b6b",
              "IPY_MODEL_7979805931964e7fa215b5f1153c4675"
            ],
            "layout": "IPY_MODEL_e49a6687952d4d3e8eae0441195135de"
          }
        },
        "02c7f03fd0e3492dbbfb8a9382df5a8e": {
          "model_module": "@jupyter-widgets/controls",
          "model_name": "HTMLModel",
          "model_module_version": "1.5.0",
          "state": {
            "_dom_classes": [],
            "_model_module": "@jupyter-widgets/controls",
            "_model_module_version": "1.5.0",
            "_model_name": "HTMLModel",
            "_view_count": null,
            "_view_module": "@jupyter-widgets/controls",
            "_view_module_version": "1.5.0",
            "_view_name": "HTMLView",
            "description": "",
            "description_tooltip": null,
            "layout": "IPY_MODEL_2af42d9d595c4c7dab4ef9b322174b90",
            "placeholder": "​",
            "style": "IPY_MODEL_aee6fe8bcb3645fdb739b254d8861438",
            "value": "100%"
          }
        },
        "24e5867ce63641cbb191cece714b1b6b": {
          "model_module": "@jupyter-widgets/controls",
          "model_name": "FloatProgressModel",
          "model_module_version": "1.5.0",
          "state": {
            "_dom_classes": [],
            "_model_module": "@jupyter-widgets/controls",
            "_model_module_version": "1.5.0",
            "_model_name": "FloatProgressModel",
            "_view_count": null,
            "_view_module": "@jupyter-widgets/controls",
            "_view_module_version": "1.5.0",
            "_view_name": "ProgressView",
            "bar_style": "success",
            "description": "",
            "description_tooltip": null,
            "layout": "IPY_MODEL_91ee1ef2138c4d529bde2e19363eba8f",
            "max": 4567,
            "min": 0,
            "orientation": "horizontal",
            "style": "IPY_MODEL_7437cc501a564c85b279e99d85f4dec8",
            "value": 4567
          }
        },
        "7979805931964e7fa215b5f1153c4675": {
          "model_module": "@jupyter-widgets/controls",
          "model_name": "HTMLModel",
          "model_module_version": "1.5.0",
          "state": {
            "_dom_classes": [],
            "_model_module": "@jupyter-widgets/controls",
            "_model_module_version": "1.5.0",
            "_model_name": "HTMLModel",
            "_view_count": null,
            "_view_module": "@jupyter-widgets/controls",
            "_view_module_version": "1.5.0",
            "_view_name": "HTMLView",
            "description": "",
            "description_tooltip": null,
            "layout": "IPY_MODEL_77e7baebbfd8440fbd016cf01e549bbc",
            "placeholder": "​",
            "style": "IPY_MODEL_563882cd90d54973841f55ae8f136065",
            "value": " 4567/4567 [00:00&lt;00:00, 10896.31ex/s]"
          }
        },
        "e49a6687952d4d3e8eae0441195135de": {
          "model_module": "@jupyter-widgets/base",
          "model_name": "LayoutModel",
          "model_module_version": "1.2.0",
          "state": {
            "_model_module": "@jupyter-widgets/base",
            "_model_module_version": "1.2.0",
            "_model_name": "LayoutModel",
            "_view_count": null,
            "_view_module": "@jupyter-widgets/base",
            "_view_module_version": "1.2.0",
            "_view_name": "LayoutView",
            "align_content": null,
            "align_items": null,
            "align_self": null,
            "border": null,
            "bottom": null,
            "display": null,
            "flex": null,
            "flex_flow": null,
            "grid_area": null,
            "grid_auto_columns": null,
            "grid_auto_flow": null,
            "grid_auto_rows": null,
            "grid_column": null,
            "grid_gap": null,
            "grid_row": null,
            "grid_template_areas": null,
            "grid_template_columns": null,
            "grid_template_rows": null,
            "height": null,
            "justify_content": null,
            "justify_items": null,
            "left": null,
            "margin": null,
            "max_height": null,
            "max_width": null,
            "min_height": null,
            "min_width": null,
            "object_fit": null,
            "object_position": null,
            "order": null,
            "overflow": null,
            "overflow_x": null,
            "overflow_y": null,
            "padding": null,
            "right": null,
            "top": null,
            "visibility": null,
            "width": null
          }
        },
        "2af42d9d595c4c7dab4ef9b322174b90": {
          "model_module": "@jupyter-widgets/base",
          "model_name": "LayoutModel",
          "model_module_version": "1.2.0",
          "state": {
            "_model_module": "@jupyter-widgets/base",
            "_model_module_version": "1.2.0",
            "_model_name": "LayoutModel",
            "_view_count": null,
            "_view_module": "@jupyter-widgets/base",
            "_view_module_version": "1.2.0",
            "_view_name": "LayoutView",
            "align_content": null,
            "align_items": null,
            "align_self": null,
            "border": null,
            "bottom": null,
            "display": null,
            "flex": null,
            "flex_flow": null,
            "grid_area": null,
            "grid_auto_columns": null,
            "grid_auto_flow": null,
            "grid_auto_rows": null,
            "grid_column": null,
            "grid_gap": null,
            "grid_row": null,
            "grid_template_areas": null,
            "grid_template_columns": null,
            "grid_template_rows": null,
            "height": null,
            "justify_content": null,
            "justify_items": null,
            "left": null,
            "margin": null,
            "max_height": null,
            "max_width": null,
            "min_height": null,
            "min_width": null,
            "object_fit": null,
            "object_position": null,
            "order": null,
            "overflow": null,
            "overflow_x": null,
            "overflow_y": null,
            "padding": null,
            "right": null,
            "top": null,
            "visibility": null,
            "width": null
          }
        },
        "aee6fe8bcb3645fdb739b254d8861438": {
          "model_module": "@jupyter-widgets/controls",
          "model_name": "DescriptionStyleModel",
          "model_module_version": "1.5.0",
          "state": {
            "_model_module": "@jupyter-widgets/controls",
            "_model_module_version": "1.5.0",
            "_model_name": "DescriptionStyleModel",
            "_view_count": null,
            "_view_module": "@jupyter-widgets/base",
            "_view_module_version": "1.2.0",
            "_view_name": "StyleView",
            "description_width": ""
          }
        },
        "91ee1ef2138c4d529bde2e19363eba8f": {
          "model_module": "@jupyter-widgets/base",
          "model_name": "LayoutModel",
          "model_module_version": "1.2.0",
          "state": {
            "_model_module": "@jupyter-widgets/base",
            "_model_module_version": "1.2.0",
            "_model_name": "LayoutModel",
            "_view_count": null,
            "_view_module": "@jupyter-widgets/base",
            "_view_module_version": "1.2.0",
            "_view_name": "LayoutView",
            "align_content": null,
            "align_items": null,
            "align_self": null,
            "border": null,
            "bottom": null,
            "display": null,
            "flex": null,
            "flex_flow": null,
            "grid_area": null,
            "grid_auto_columns": null,
            "grid_auto_flow": null,
            "grid_auto_rows": null,
            "grid_column": null,
            "grid_gap": null,
            "grid_row": null,
            "grid_template_areas": null,
            "grid_template_columns": null,
            "grid_template_rows": null,
            "height": null,
            "justify_content": null,
            "justify_items": null,
            "left": null,
            "margin": null,
            "max_height": null,
            "max_width": null,
            "min_height": null,
            "min_width": null,
            "object_fit": null,
            "object_position": null,
            "order": null,
            "overflow": null,
            "overflow_x": null,
            "overflow_y": null,
            "padding": null,
            "right": null,
            "top": null,
            "visibility": null,
            "width": null
          }
        },
        "7437cc501a564c85b279e99d85f4dec8": {
          "model_module": "@jupyter-widgets/controls",
          "model_name": "ProgressStyleModel",
          "model_module_version": "1.5.0",
          "state": {
            "_model_module": "@jupyter-widgets/controls",
            "_model_module_version": "1.5.0",
            "_model_name": "ProgressStyleModel",
            "_view_count": null,
            "_view_module": "@jupyter-widgets/base",
            "_view_module_version": "1.2.0",
            "_view_name": "StyleView",
            "bar_color": null,
            "description_width": ""
          }
        },
        "77e7baebbfd8440fbd016cf01e549bbc": {
          "model_module": "@jupyter-widgets/base",
          "model_name": "LayoutModel",
          "model_module_version": "1.2.0",
          "state": {
            "_model_module": "@jupyter-widgets/base",
            "_model_module_version": "1.2.0",
            "_model_name": "LayoutModel",
            "_view_count": null,
            "_view_module": "@jupyter-widgets/base",
            "_view_module_version": "1.2.0",
            "_view_name": "LayoutView",
            "align_content": null,
            "align_items": null,
            "align_self": null,
            "border": null,
            "bottom": null,
            "display": null,
            "flex": null,
            "flex_flow": null,
            "grid_area": null,
            "grid_auto_columns": null,
            "grid_auto_flow": null,
            "grid_auto_rows": null,
            "grid_column": null,
            "grid_gap": null,
            "grid_row": null,
            "grid_template_areas": null,
            "grid_template_columns": null,
            "grid_template_rows": null,
            "height": null,
            "justify_content": null,
            "justify_items": null,
            "left": null,
            "margin": null,
            "max_height": null,
            "max_width": null,
            "min_height": null,
            "min_width": null,
            "object_fit": null,
            "object_position": null,
            "order": null,
            "overflow": null,
            "overflow_x": null,
            "overflow_y": null,
            "padding": null,
            "right": null,
            "top": null,
            "visibility": null,
            "width": null
          }
        },
        "563882cd90d54973841f55ae8f136065": {
          "model_module": "@jupyter-widgets/controls",
          "model_name": "DescriptionStyleModel",
          "model_module_version": "1.5.0",
          "state": {
            "_model_module": "@jupyter-widgets/controls",
            "_model_module_version": "1.5.0",
            "_model_name": "DescriptionStyleModel",
            "_view_count": null,
            "_view_module": "@jupyter-widgets/base",
            "_view_module_version": "1.2.0",
            "_view_name": "StyleView",
            "description_width": ""
          }
        }
      }
    },
    "colab": {
      "provenance": [],
      "collapsed_sections": []
    }
  },
  "nbformat": 4,
  "nbformat_minor": 5
}